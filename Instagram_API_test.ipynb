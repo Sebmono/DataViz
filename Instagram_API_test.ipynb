{
 "cells": [
  {
   "cell_type": "markdown",
   "metadata": {},
   "source": [
    "https://github.com/LevPasha/Instagram-API-python"
   ]
  },
  {
   "cell_type": "code",
   "execution_count": 26,
   "metadata": {},
   "outputs": [],
   "source": [
    "import pandas as pd\n",
    "from IPython.display import Image, display"
   ]
  },
  {
   "cell_type": "code",
   "execution_count": 8,
   "metadata": {},
   "outputs": [
    {
     "name": "stdout",
     "output_type": "stream",
     "text": [
      "Request return 405 error!\n",
      "{'message': '', 'status': 'fail'}\n",
      "Request return 404 error!\n",
      "Login success!\n",
      "\n"
     ]
    },
    {
     "data": {
      "text/plain": [
       "True"
      ]
     },
     "execution_count": 8,
     "metadata": {},
     "output_type": "execute_result"
    }
   ],
   "source": [
    "from InstagramAPI import InstagramAPI\n",
    "username = 'skiseabass'\n",
    "api = InstagramAPI(username, 'mechagram1')\n",
    "api.login()"
   ]
  },
  {
   "cell_type": "code",
   "execution_count": 9,
   "metadata": {},
   "outputs": [
    {
     "data": {
      "text/plain": [
       "{'user': {'pk': 8170669825,\n",
       "  'username': 'skiseabass',\n",
       "  'full_name': 'Sebastian Mankowski',\n",
       "  'is_private': True,\n",
       "  'profile_pic_url': 'https://scontent-lga3-1.cdninstagram.com/v/t51.2885-19/s150x150/61406165_2046781938764329_6161547837889839104_n.jpg?_nc_ht=scontent-lga3-1.cdninstagram.com&_nc_ohc=ynkJ_m33810AX9iBWZO&oh=06425a1e92a026f0207743bfc02fde60&oe=5EA07093',\n",
       "  'profile_pic_id': '2062015871106225289_8170669825',\n",
       "  'is_verified': False,\n",
       "  'has_anonymous_profile_picture': False,\n",
       "  'biography': '',\n",
       "  'external_url': '',\n",
       "  'reel_auto_archive': 'on',\n",
       "  'hd_profile_pic_versions': [{'width': 320,\n",
       "    'height': 320,\n",
       "    'url': 'https://scontent-lga3-1.cdninstagram.com/v/t51.2885-19/s320x320/61406165_2046781938764329_6161547837889839104_n.jpg?_nc_ht=scontent-lga3-1.cdninstagram.com&_nc_ohc=ynkJ_m33810AX9iBWZO&oh=34db04992a934c56a7b967d3a0e011cd&oe=5EA41D15'}],\n",
       "  'hd_profile_pic_url_info': {'url': 'https://scontent-lga3-1.cdninstagram.com/v/t51.2885-19/61406165_2046781938764329_6161547837889839104_n.jpg?_nc_ht=scontent-lga3-1.cdninstagram.com&_nc_ohc=ynkJ_m33810AX9iBWZO&oh=c538261f5304bf68b0dbbdc49aeba0b8&oe=5EA29315',\n",
       "   'width': 421,\n",
       "   'height': 421},\n",
       "  'show_conversion_edit_entry': True,\n",
       "  'allowed_commenter_type': 'any',\n",
       "  'phone_number': '',\n",
       "  'gender': 3,\n",
       "  'email': 'sebastianmankowski@gmail.com',\n",
       "  'can_link_entities_in_bio': False,\n",
       "  'trusted_username': 'skiseabass',\n",
       "  'trust_days': 14},\n",
       " 'status': 'ok'}"
      ]
     },
     "execution_count": 9,
     "metadata": {},
     "output_type": "execute_result"
    }
   ],
   "source": [
    "api.getProfileData()\n",
    "result = api.LastJson\n",
    "result"
   ]
  },
  {
   "cell_type": "code",
   "execution_count": 3,
   "metadata": {},
   "outputs": [
    {
     "name": "stdout",
     "output_type": "stream",
     "text": [
      "ok\n",
      "Sebastian Mankowski\n"
     ]
    }
   ],
   "source": [
    "print(result['status'])\n",
    "print(result['user']['full_name'])"
   ]
  },
  {
   "cell_type": "code",
   "execution_count": 12,
   "metadata": {},
   "outputs": [
    {
     "data": {
      "text/plain": [
       "[{'media_id': '2267613743431174529_8170669825',\n",
       "  'pk': 183587813,\n",
       "  'username': 'michaeltlewis'},\n",
       " {'media_id': '2267613743431174529_8170669825',\n",
       "  'pk': 3487861,\n",
       "  'username': 'ambrlynx_'},\n",
       " {'media_id': '2267613743431174529_8170669825',\n",
       "  'pk': 146205609,\n",
       "  'username': 'an_r_w'},\n",
       " {'media_id': '2267613743431174529_8170669825',\n",
       "  'pk': 29837289,\n",
       "  'username': 'astafivgas'},\n",
       " {'media_id': '2267613743431174529_8170669825',\n",
       "  'pk': 25391690,\n",
       "  'username': 'harpernatasha'},\n",
       " {'media_id': '2267613743431174529_8170669825',\n",
       "  'pk': 2537921121,\n",
       "  'username': 'scooter824x3'},\n",
       " {'media_id': '2267613743431174529_8170669825',\n",
       "  'pk': 33553222,\n",
       "  'username': 'khunterbyrd'},\n",
       " {'media_id': '2267613743431174529_8170669825',\n",
       "  'pk': 1718421255,\n",
       "  'username': 'rdelgado2013'},\n",
       " {'media_id': '2267613743431174529_8170669825',\n",
       "  'pk': 2427600,\n",
       "  'username': 'joynatalie333'},\n",
       " {'media_id': '2267613743431174529_8170669825',\n",
       "  'pk': 26155110,\n",
       "  'username': 'laurahaak'},\n",
       " {'media_id': '2267613743431174529_8170669825',\n",
       "  'pk': 4940401556,\n",
       "  'username': 'parkersplayground'},\n",
       " {'media_id': '2267613743431174529_8170669825',\n",
       "  'pk': 42366635,\n",
       "  'username': 'mattkoerber'},\n",
       " {'media_id': '2267613743431174529_8170669825',\n",
       "  'pk': 8170669825,\n",
       "  'username': 'skiseabass'}]"
      ]
     },
     "execution_count": 12,
     "metadata": {},
     "output_type": "execute_result"
    }
   ],
   "source": [
    "users_list = []\n",
    "\n",
    "def get_likes_list(username):\n",
    "    api.login()\n",
    "    api.searchUsername(username)\n",
    "    result_user = api.LastJson\n",
    "    username_id = result_user['user']['pk'] #Get user ID\n",
    "    user_posts = api.getUserFeed(username_id) #Get user feed\n",
    "    result_feed = api.LastJson\n",
    "    media_id = result_feed['items'][0]['id'] #Get most recent post\n",
    "    api.getMediaLikers(media_id) #Get users who liked the most recent post\n",
    "    users = api.LastJson['users']\n",
    "    for user in users: #Add users to the list\n",
    "        users_list.append({'media_id':media_id, 'pk':user['pk'], 'username':user['username']})\n",
    "        \n",
    "get_likes_list('skiseabass')\n",
    "users_list"
   ]
  },
  {
   "cell_type": "code",
   "execution_count": 36,
   "metadata": {},
   "outputs": [],
   "source": [
    "def get_profile_details(username):\n",
    "    api.login()\n",
    "    api.searchUsername(username)\n",
    "    result_user = api.LastJson\n",
    "    username = result_user['user']['username'] #Get username\n",
    "    full_name = result_user['user']['full_name'] #Get full name\n",
    "    profile_pic_url = result_user['user']['profile_pic_url'] + '/media' #Get profile pic url\n",
    "    follower_count = result_user['user']['follower_count']\n",
    "    following_count = result_user['user']['following_count']\n",
    "    media_count = result_user['user']['media_count']\n",
    "    df_profile = pd.DataFrame({\n",
    "        'username':username,\n",
    "        'full name': full_name,\n",
    "        'profile picture URL':profile_pic_url,\n",
    "        'follower count':follower_count,\n",
    "        'following count':following_count,\n",
    "        'media count': media_count,\n",
    "    }, index=[0])\n",
    "    print(profile_pic_url)\n",
    "    print(df_profile)"
   ]
  },
  {
   "cell_type": "code",
   "execution_count": 37,
   "metadata": {},
   "outputs": [
    {
     "name": "stdout",
     "output_type": "stream",
     "text": [
      "https://scontent-lga3-1.cdninstagram.com/v/t51.2885-19/s150x150/61406165_2046781938764329_6161547837889839104_n.jpg?_nc_ht=scontent-lga3-1.cdninstagram.com&_nc_ohc=ynkJ_m33810AX9iBWZO&oh=06425a1e92a026f0207743bfc02fde60&oe=5EA07093/media\n",
      "     username            full name  \\\n",
      "0  skiseabass  Sebastian Mankowski   \n",
      "\n",
      "                                 profile picture URL  follower count  \\\n",
      "0  https://scontent-lga3-1.cdninstagram.com/v/t51...              68   \n",
      "\n",
      "   following count  media count  \n",
      "0              110           68  \n"
     ]
    }
   ],
   "source": [
    "get_profile_details('skiseabass')"
   ]
  }
 ],
 "metadata": {
  "kernelspec": {
   "display_name": "Python 3",
   "language": "python",
   "name": "python3"
  },
  "language_info": {
   "codemirror_mode": {
    "name": "ipython",
    "version": 3
   },
   "file_extension": ".py",
   "mimetype": "text/x-python",
   "name": "python",
   "nbconvert_exporter": "python",
   "pygments_lexer": "ipython3",
   "version": "3.7.4"
  }
 },
 "nbformat": 4,
 "nbformat_minor": 4
}
