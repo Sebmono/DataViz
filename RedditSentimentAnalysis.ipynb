{
 "cells": [
  {
   "cell_type": "code",
   "execution_count": 54,
   "metadata": {},
   "outputs": [],
   "source": [
    "import requests\n",
    "import pandas as pd\n",
    "import plotly.express as px\n",
    "import textblob as tb"
   ]
  },
  {
   "cell_type": "code",
   "execution_count": 55,
   "metadata": {},
   "outputs": [],
   "source": [
    "def get_reddit_data(data_type, **kwargs):\n",
    "    #data_type can be 'comment' or 'submission'\n",
    "    base_url = f'https://api.pushshift.io/reddit/search/{data_type}/'\n",
    "    payload = kwargs\n",
    "    request = requests.get(base_url, params = payload)\n",
    "    \n",
    "    return request.json()"
   ]
  },
  {
   "cell_type": "code",
   "execution_count": 56,
   "metadata": {},
   "outputs": [],
   "source": [
    "def make_clickable(val):\n",
    "    return '<a href=\"{}\">Link</a>'.format(val, val)"
   ]
  },
  {
   "cell_type": "markdown",
   "metadata": {},
   "source": [
    "Global vars"
   ]
  },
  {
   "cell_type": "code",
   "execution_count": 83,
   "metadata": {},
   "outputs": [],
   "source": [
    "COMMENT_COLOR         = 'blueviolet'\n",
    "TERM_OF_INTEREST      = 'python'\n",
    "SUBREDDIT_OF_INTEREST = 'python'\n",
    "TIMEFRAME             = '2d'"
   ]
  },
  {
   "cell_type": "markdown",
   "metadata": {},
   "source": [
    "Example query of the reddit api function"
   ]
  },
  {
   "cell_type": "code",
   "execution_count": 84,
   "metadata": {},
   "outputs": [],
   "source": [
    "data = get_reddit_data(data_type = 'comment',\n",
    "                          q = TERM_OF_INTEREST,\n",
    "                          after = TIMEFRAME,\n",
    "                          size = 1000,\n",
    "                          aggs = 'subreddit')"
   ]
  },
  {
   "cell_type": "code",
   "execution_count": 85,
   "metadata": {},
   "outputs": [],
   "source": [
    "data_agg = data.get('aggs').get('subreddit')\n",
    "df = pd.DataFrame.from_records(data_agg)[0:10]"
   ]
  },
  {
   "cell_type": "code",
   "execution_count": 86,
   "metadata": {},
   "outputs": [
    {
     "data": {
      "application/vnd.plotly.v1+json": {
       "config": {
        "plotlyServerURL": "https://plotly.com"
       },
       "data": [
        {
         "alignmentgroup": "True",
         "hoverlabel": {
          "namelength": 0
         },
         "hovertemplate": "Subreddit=%{x}<br># of comments=%{y}",
         "legendgroup": "",
         "marker": {
          "color": "blueviolet"
         },
         "name": "",
         "offsetgroup": "",
         "orientation": "v",
         "showlegend": false,
         "textposition": "auto",
         "type": "bar",
         "x": [
          "learnpython",
          "ProgrammerHumor",
          "Python",
          "learnprogramming",
          "AskReddit",
          "datascience",
          "EliteDangerous",
          "cscareerquestions",
          "EliteMiners",
          "dataisbeautiful"
         ],
         "xaxis": "x",
         "y": [
          304,
          214,
          194,
          166,
          80,
          54,
          44,
          35,
          30,
          29
         ],
         "yaxis": "y"
        }
       ],
       "layout": {
        "autosize": true,
        "barmode": "relative",
        "legend": {
         "tracegroupgap": 0
        },
        "template": {
         "data": {
          "bar": [
           {
            "error_x": {
             "color": "#2a3f5f"
            },
            "error_y": {
             "color": "#2a3f5f"
            },
            "marker": {
             "line": {
              "color": "#E5ECF6",
              "width": 0.5
             }
            },
            "type": "bar"
           }
          ],
          "barpolar": [
           {
            "marker": {
             "line": {
              "color": "#E5ECF6",
              "width": 0.5
             }
            },
            "type": "barpolar"
           }
          ],
          "carpet": [
           {
            "aaxis": {
             "endlinecolor": "#2a3f5f",
             "gridcolor": "white",
             "linecolor": "white",
             "minorgridcolor": "white",
             "startlinecolor": "#2a3f5f"
            },
            "baxis": {
             "endlinecolor": "#2a3f5f",
             "gridcolor": "white",
             "linecolor": "white",
             "minorgridcolor": "white",
             "startlinecolor": "#2a3f5f"
            },
            "type": "carpet"
           }
          ],
          "choropleth": [
           {
            "colorbar": {
             "outlinewidth": 0,
             "ticks": ""
            },
            "type": "choropleth"
           }
          ],
          "contour": [
           {
            "colorbar": {
             "outlinewidth": 0,
             "ticks": ""
            },
            "colorscale": [
             [
              0,
              "#0d0887"
             ],
             [
              0.1111111111111111,
              "#46039f"
             ],
             [
              0.2222222222222222,
              "#7201a8"
             ],
             [
              0.3333333333333333,
              "#9c179e"
             ],
             [
              0.4444444444444444,
              "#bd3786"
             ],
             [
              0.5555555555555556,
              "#d8576b"
             ],
             [
              0.6666666666666666,
              "#ed7953"
             ],
             [
              0.7777777777777778,
              "#fb9f3a"
             ],
             [
              0.8888888888888888,
              "#fdca26"
             ],
             [
              1,
              "#f0f921"
             ]
            ],
            "type": "contour"
           }
          ],
          "contourcarpet": [
           {
            "colorbar": {
             "outlinewidth": 0,
             "ticks": ""
            },
            "type": "contourcarpet"
           }
          ],
          "heatmap": [
           {
            "colorbar": {
             "outlinewidth": 0,
             "ticks": ""
            },
            "colorscale": [
             [
              0,
              "#0d0887"
             ],
             [
              0.1111111111111111,
              "#46039f"
             ],
             [
              0.2222222222222222,
              "#7201a8"
             ],
             [
              0.3333333333333333,
              "#9c179e"
             ],
             [
              0.4444444444444444,
              "#bd3786"
             ],
             [
              0.5555555555555556,
              "#d8576b"
             ],
             [
              0.6666666666666666,
              "#ed7953"
             ],
             [
              0.7777777777777778,
              "#fb9f3a"
             ],
             [
              0.8888888888888888,
              "#fdca26"
             ],
             [
              1,
              "#f0f921"
             ]
            ],
            "type": "heatmap"
           }
          ],
          "heatmapgl": [
           {
            "colorbar": {
             "outlinewidth": 0,
             "ticks": ""
            },
            "colorscale": [
             [
              0,
              "#0d0887"
             ],
             [
              0.1111111111111111,
              "#46039f"
             ],
             [
              0.2222222222222222,
              "#7201a8"
             ],
             [
              0.3333333333333333,
              "#9c179e"
             ],
             [
              0.4444444444444444,
              "#bd3786"
             ],
             [
              0.5555555555555556,
              "#d8576b"
             ],
             [
              0.6666666666666666,
              "#ed7953"
             ],
             [
              0.7777777777777778,
              "#fb9f3a"
             ],
             [
              0.8888888888888888,
              "#fdca26"
             ],
             [
              1,
              "#f0f921"
             ]
            ],
            "type": "heatmapgl"
           }
          ],
          "histogram": [
           {
            "marker": {
             "colorbar": {
              "outlinewidth": 0,
              "ticks": ""
             }
            },
            "type": "histogram"
           }
          ],
          "histogram2d": [
           {
            "colorbar": {
             "outlinewidth": 0,
             "ticks": ""
            },
            "colorscale": [
             [
              0,
              "#0d0887"
             ],
             [
              0.1111111111111111,
              "#46039f"
             ],
             [
              0.2222222222222222,
              "#7201a8"
             ],
             [
              0.3333333333333333,
              "#9c179e"
             ],
             [
              0.4444444444444444,
              "#bd3786"
             ],
             [
              0.5555555555555556,
              "#d8576b"
             ],
             [
              0.6666666666666666,
              "#ed7953"
             ],
             [
              0.7777777777777778,
              "#fb9f3a"
             ],
             [
              0.8888888888888888,
              "#fdca26"
             ],
             [
              1,
              "#f0f921"
             ]
            ],
            "type": "histogram2d"
           }
          ],
          "histogram2dcontour": [
           {
            "colorbar": {
             "outlinewidth": 0,
             "ticks": ""
            },
            "colorscale": [
             [
              0,
              "#0d0887"
             ],
             [
              0.1111111111111111,
              "#46039f"
             ],
             [
              0.2222222222222222,
              "#7201a8"
             ],
             [
              0.3333333333333333,
              "#9c179e"
             ],
             [
              0.4444444444444444,
              "#bd3786"
             ],
             [
              0.5555555555555556,
              "#d8576b"
             ],
             [
              0.6666666666666666,
              "#ed7953"
             ],
             [
              0.7777777777777778,
              "#fb9f3a"
             ],
             [
              0.8888888888888888,
              "#fdca26"
             ],
             [
              1,
              "#f0f921"
             ]
            ],
            "type": "histogram2dcontour"
           }
          ],
          "mesh3d": [
           {
            "colorbar": {
             "outlinewidth": 0,
             "ticks": ""
            },
            "type": "mesh3d"
           }
          ],
          "parcoords": [
           {
            "line": {
             "colorbar": {
              "outlinewidth": 0,
              "ticks": ""
             }
            },
            "type": "parcoords"
           }
          ],
          "pie": [
           {
            "automargin": true,
            "type": "pie"
           }
          ],
          "scatter": [
           {
            "marker": {
             "colorbar": {
              "outlinewidth": 0,
              "ticks": ""
             }
            },
            "type": "scatter"
           }
          ],
          "scatter3d": [
           {
            "line": {
             "colorbar": {
              "outlinewidth": 0,
              "ticks": ""
             }
            },
            "marker": {
             "colorbar": {
              "outlinewidth": 0,
              "ticks": ""
             }
            },
            "type": "scatter3d"
           }
          ],
          "scattercarpet": [
           {
            "marker": {
             "colorbar": {
              "outlinewidth": 0,
              "ticks": ""
             }
            },
            "type": "scattercarpet"
           }
          ],
          "scattergeo": [
           {
            "marker": {
             "colorbar": {
              "outlinewidth": 0,
              "ticks": ""
             }
            },
            "type": "scattergeo"
           }
          ],
          "scattergl": [
           {
            "marker": {
             "colorbar": {
              "outlinewidth": 0,
              "ticks": ""
             }
            },
            "type": "scattergl"
           }
          ],
          "scattermapbox": [
           {
            "marker": {
             "colorbar": {
              "outlinewidth": 0,
              "ticks": ""
             }
            },
            "type": "scattermapbox"
           }
          ],
          "scatterpolar": [
           {
            "marker": {
             "colorbar": {
              "outlinewidth": 0,
              "ticks": ""
             }
            },
            "type": "scatterpolar"
           }
          ],
          "scatterpolargl": [
           {
            "marker": {
             "colorbar": {
              "outlinewidth": 0,
              "ticks": ""
             }
            },
            "type": "scatterpolargl"
           }
          ],
          "scatterternary": [
           {
            "marker": {
             "colorbar": {
              "outlinewidth": 0,
              "ticks": ""
             }
            },
            "type": "scatterternary"
           }
          ],
          "surface": [
           {
            "colorbar": {
             "outlinewidth": 0,
             "ticks": ""
            },
            "colorscale": [
             [
              0,
              "#0d0887"
             ],
             [
              0.1111111111111111,
              "#46039f"
             ],
             [
              0.2222222222222222,
              "#7201a8"
             ],
             [
              0.3333333333333333,
              "#9c179e"
             ],
             [
              0.4444444444444444,
              "#bd3786"
             ],
             [
              0.5555555555555556,
              "#d8576b"
             ],
             [
              0.6666666666666666,
              "#ed7953"
             ],
             [
              0.7777777777777778,
              "#fb9f3a"
             ],
             [
              0.8888888888888888,
              "#fdca26"
             ],
             [
              1,
              "#f0f921"
             ]
            ],
            "type": "surface"
           }
          ],
          "table": [
           {
            "cells": {
             "fill": {
              "color": "#EBF0F8"
             },
             "line": {
              "color": "white"
             }
            },
            "header": {
             "fill": {
              "color": "#C8D4E3"
             },
             "line": {
              "color": "white"
             }
            },
            "type": "table"
           }
          ]
         },
         "layout": {
          "annotationdefaults": {
           "arrowcolor": "#2a3f5f",
           "arrowhead": 0,
           "arrowwidth": 1
          },
          "coloraxis": {
           "colorbar": {
            "outlinewidth": 0,
            "ticks": ""
           }
          },
          "colorscale": {
           "diverging": [
            [
             0,
             "#8e0152"
            ],
            [
             0.1,
             "#c51b7d"
            ],
            [
             0.2,
             "#de77ae"
            ],
            [
             0.3,
             "#f1b6da"
            ],
            [
             0.4,
             "#fde0ef"
            ],
            [
             0.5,
             "#f7f7f7"
            ],
            [
             0.6,
             "#e6f5d0"
            ],
            [
             0.7,
             "#b8e186"
            ],
            [
             0.8,
             "#7fbc41"
            ],
            [
             0.9,
             "#4d9221"
            ],
            [
             1,
             "#276419"
            ]
           ],
           "sequential": [
            [
             0,
             "#0d0887"
            ],
            [
             0.1111111111111111,
             "#46039f"
            ],
            [
             0.2222222222222222,
             "#7201a8"
            ],
            [
             0.3333333333333333,
             "#9c179e"
            ],
            [
             0.4444444444444444,
             "#bd3786"
            ],
            [
             0.5555555555555556,
             "#d8576b"
            ],
            [
             0.6666666666666666,
             "#ed7953"
            ],
            [
             0.7777777777777778,
             "#fb9f3a"
            ],
            [
             0.8888888888888888,
             "#fdca26"
            ],
            [
             1,
             "#f0f921"
            ]
           ],
           "sequentialminus": [
            [
             0,
             "#0d0887"
            ],
            [
             0.1111111111111111,
             "#46039f"
            ],
            [
             0.2222222222222222,
             "#7201a8"
            ],
            [
             0.3333333333333333,
             "#9c179e"
            ],
            [
             0.4444444444444444,
             "#bd3786"
            ],
            [
             0.5555555555555556,
             "#d8576b"
            ],
            [
             0.6666666666666666,
             "#ed7953"
            ],
            [
             0.7777777777777778,
             "#fb9f3a"
            ],
            [
             0.8888888888888888,
             "#fdca26"
            ],
            [
             1,
             "#f0f921"
            ]
           ]
          },
          "colorway": [
           "#636efa",
           "#EF553B",
           "#00cc96",
           "#ab63fa",
           "#FFA15A",
           "#19d3f3",
           "#FF6692",
           "#B6E880",
           "#FF97FF",
           "#FECB52"
          ],
          "font": {
           "color": "#2a3f5f"
          },
          "geo": {
           "bgcolor": "white",
           "lakecolor": "white",
           "landcolor": "#E5ECF6",
           "showlakes": true,
           "showland": true,
           "subunitcolor": "white"
          },
          "hoverlabel": {
           "align": "left"
          },
          "hovermode": "closest",
          "mapbox": {
           "style": "light"
          },
          "paper_bgcolor": "white",
          "plot_bgcolor": "#E5ECF6",
          "polar": {
           "angularaxis": {
            "gridcolor": "white",
            "linecolor": "white",
            "ticks": ""
           },
           "bgcolor": "#E5ECF6",
           "radialaxis": {
            "gridcolor": "white",
            "linecolor": "white",
            "ticks": ""
           }
          },
          "scene": {
           "xaxis": {
            "backgroundcolor": "#E5ECF6",
            "gridcolor": "white",
            "gridwidth": 2,
            "linecolor": "white",
            "showbackground": true,
            "ticks": "",
            "zerolinecolor": "white"
           },
           "yaxis": {
            "backgroundcolor": "#E5ECF6",
            "gridcolor": "white",
            "gridwidth": 2,
            "linecolor": "white",
            "showbackground": true,
            "ticks": "",
            "zerolinecolor": "white"
           },
           "zaxis": {
            "backgroundcolor": "#E5ECF6",
            "gridcolor": "white",
            "gridwidth": 2,
            "linecolor": "white",
            "showbackground": true,
            "ticks": "",
            "zerolinecolor": "white"
           }
          },
          "shapedefaults": {
           "line": {
            "color": "#2a3f5f"
           }
          },
          "ternary": {
           "aaxis": {
            "gridcolor": "white",
            "linecolor": "white",
            "ticks": ""
           },
           "baxis": {
            "gridcolor": "white",
            "linecolor": "white",
            "ticks": ""
           },
           "bgcolor": "#E5ECF6",
           "caxis": {
            "gridcolor": "white",
            "linecolor": "white",
            "ticks": ""
           }
          },
          "title": {
           "x": 0.05
          },
          "xaxis": {
           "automargin": true,
           "gridcolor": "white",
           "linecolor": "white",
           "ticks": "",
           "title": {
            "standoff": 15
           },
           "zerolinecolor": "white",
           "zerolinewidth": 2
          },
          "yaxis": {
           "automargin": true,
           "gridcolor": "white",
           "linecolor": "white",
           "ticks": "",
           "title": {
            "standoff": 15
           },
           "zerolinecolor": "white",
           "zerolinewidth": 2
          }
         }
        },
        "title": {
         "text": "Subreddits with most comments containing python (past 2d)"
        },
        "xaxis": {
         "anchor": "y",
         "autorange": true,
         "domain": [
          0,
          1
         ],
         "range": [
          -0.5,
          9.5
         ],
         "title": {
          "text": "Subreddit"
         },
         "type": "category"
        },
        "yaxis": {
         "anchor": "x",
         "autorange": true,
         "domain": [
          0,
          1
         ],
         "range": [
          0,
          320
         ],
         "title": {
          "text": "# of comments"
         },
         "type": "linear"
        }
       }
      },
      "image/png": "[encoded data removed]",
      "text/html": [
       "<div>\n",
       "        \n",
       "        \n",
       "            <div id=\"9c46c8fa-b4f6-48ae-9b5d-2bb97084ef0e\" class=\"plotly-graph-div\" style=\"height:525px; width:100%;\"></div>\n",
       "            <script type=\"text/javascript\">\n",
       "                require([\"plotly\"], function(Plotly) {\n",
       "                    window.PLOTLYENV=window.PLOTLYENV || {};\n",
       "                    \n",
       "                if (document.getElementById(\"9c46c8fa-b4f6-48ae-9b5d-2bb97084ef0e\")) {\n",
       "                    Plotly.newPlot(\n",
       "                        '9c46c8fa-b4f6-48ae-9b5d-2bb97084ef0e',\n",
       "                        [{\"alignmentgroup\": \"True\", \"hoverlabel\": {\"namelength\": 0}, \"hovertemplate\": \"Subreddit=%{x}<br># of comments=%{y}\", \"legendgroup\": \"\", \"marker\": {\"color\": \"blueviolet\"}, \"name\": \"\", \"offsetgroup\": \"\", \"orientation\": \"v\", \"showlegend\": false, \"textposition\": \"auto\", \"type\": \"bar\", \"x\": [\"learnpython\", \"ProgrammerHumor\", \"Python\", \"learnprogramming\", \"AskReddit\", \"datascience\", \"EliteDangerous\", \"cscareerquestions\", \"EliteMiners\", \"dataisbeautiful\"], \"xaxis\": \"x\", \"y\": [304, 214, 194, 166, 80, 54, 44, 35, 30, 29], \"yaxis\": \"y\"}],\n",
       "                        {\"barmode\": \"relative\", \"legend\": {\"tracegroupgap\": 0}, \"template\": {\"data\": {\"bar\": [{\"error_x\": {\"color\": \"#2a3f5f\"}, \"error_y\": {\"color\": \"#2a3f5f\"}, \"marker\": {\"line\": {\"color\": \"#E5ECF6\", \"width\": 0.5}}, \"type\": \"bar\"}], \"barpolar\": [{\"marker\": {\"line\": {\"color\": \"#E5ECF6\", \"width\": 0.5}}, \"type\": \"barpolar\"}], \"carpet\": [{\"aaxis\": {\"endlinecolor\": \"#2a3f5f\", \"gridcolor\": \"white\", \"linecolor\": \"white\", \"minorgridcolor\": \"white\", \"startlinecolor\": \"#2a3f5f\"}, \"baxis\": {\"endlinecolor\": \"#2a3f5f\", \"gridcolor\": \"white\", \"linecolor\": \"white\", \"minorgridcolor\": \"white\", \"startlinecolor\": \"#2a3f5f\"}, \"type\": \"carpet\"}], \"choropleth\": [{\"colorbar\": {\"outlinewidth\": 0, \"ticks\": \"\"}, \"type\": \"choropleth\"}], \"contour\": [{\"colorbar\": {\"outlinewidth\": 0, \"ticks\": \"\"}, \"colorscale\": [[0.0, \"#0d0887\"], [0.1111111111111111, \"#46039f\"], [0.2222222222222222, \"#7201a8\"], [0.3333333333333333, \"#9c179e\"], [0.4444444444444444, \"#bd3786\"], [0.5555555555555556, \"#d8576b\"], [0.6666666666666666, \"#ed7953\"], [0.7777777777777778, \"#fb9f3a\"], [0.8888888888888888, \"#fdca26\"], [1.0, \"#f0f921\"]], \"type\": \"contour\"}], \"contourcarpet\": [{\"colorbar\": {\"outlinewidth\": 0, \"ticks\": \"\"}, \"type\": \"contourcarpet\"}], \"heatmap\": [{\"colorbar\": {\"outlinewidth\": 0, \"ticks\": \"\"}, \"colorscale\": [[0.0, \"#0d0887\"], [0.1111111111111111, \"#46039f\"], [0.2222222222222222, \"#7201a8\"], [0.3333333333333333, \"#9c179e\"], [0.4444444444444444, \"#bd3786\"], [0.5555555555555556, \"#d8576b\"], [0.6666666666666666, \"#ed7953\"], [0.7777777777777778, \"#fb9f3a\"], [0.8888888888888888, \"#fdca26\"], [1.0, \"#f0f921\"]], \"type\": \"heatmap\"}], \"heatmapgl\": [{\"colorbar\": {\"outlinewidth\": 0, \"ticks\": \"\"}, \"colorscale\": [[0.0, \"#0d0887\"], [0.1111111111111111, \"#46039f\"], [0.2222222222222222, \"#7201a8\"], [0.3333333333333333, \"#9c179e\"], [0.4444444444444444, \"#bd3786\"], [0.5555555555555556, \"#d8576b\"], [0.6666666666666666, \"#ed7953\"], [0.7777777777777778, \"#fb9f3a\"], [0.8888888888888888, \"#fdca26\"], [1.0, \"#f0f921\"]], \"type\": \"heatmapgl\"}], \"histogram\": [{\"marker\": {\"colorbar\": {\"outlinewidth\": 0, \"ticks\": \"\"}}, \"type\": \"histogram\"}], \"histogram2d\": [{\"colorbar\": {\"outlinewidth\": 0, \"ticks\": \"\"}, \"colorscale\": [[0.0, \"#0d0887\"], [0.1111111111111111, \"#46039f\"], [0.2222222222222222, \"#7201a8\"], [0.3333333333333333, \"#9c179e\"], [0.4444444444444444, \"#bd3786\"], [0.5555555555555556, \"#d8576b\"], [0.6666666666666666, \"#ed7953\"], [0.7777777777777778, \"#fb9f3a\"], [0.8888888888888888, \"#fdca26\"], [1.0, \"#f0f921\"]], \"type\": \"histogram2d\"}], \"histogram2dcontour\": [{\"colorbar\": {\"outlinewidth\": 0, \"ticks\": \"\"}, \"colorscale\": [[0.0, \"#0d0887\"], [0.1111111111111111, \"#46039f\"], [0.2222222222222222, \"#7201a8\"], [0.3333333333333333, \"#9c179e\"], [0.4444444444444444, \"#bd3786\"], [0.5555555555555556, \"#d8576b\"], [0.6666666666666666, \"#ed7953\"], [0.7777777777777778, \"#fb9f3a\"], [0.8888888888888888, \"#fdca26\"], [1.0, \"#f0f921\"]], \"type\": \"histogram2dcontour\"}], \"mesh3d\": [{\"colorbar\": {\"outlinewidth\": 0, \"ticks\": \"\"}, \"type\": \"mesh3d\"}], \"parcoords\": [{\"line\": {\"colorbar\": {\"outlinewidth\": 0, \"ticks\": \"\"}}, \"type\": \"parcoords\"}], \"pie\": [{\"automargin\": true, \"type\": \"pie\"}], \"scatter\": [{\"marker\": {\"colorbar\": {\"outlinewidth\": 0, \"ticks\": \"\"}}, \"type\": \"scatter\"}], \"scatter3d\": [{\"line\": {\"colorbar\": {\"outlinewidth\": 0, \"ticks\": \"\"}}, \"marker\": {\"colorbar\": {\"outlinewidth\": 0, \"ticks\": \"\"}}, \"type\": \"scatter3d\"}], \"scattercarpet\": [{\"marker\": {\"colorbar\": {\"outlinewidth\": 0, \"ticks\": \"\"}}, \"type\": \"scattercarpet\"}], \"scattergeo\": [{\"marker\": {\"colorbar\": {\"outlinewidth\": 0, \"ticks\": \"\"}}, \"type\": \"scattergeo\"}], \"scattergl\": [{\"marker\": {\"colorbar\": {\"outlinewidth\": 0, \"ticks\": \"\"}}, \"type\": \"scattergl\"}], \"scattermapbox\": [{\"marker\": {\"colorbar\": {\"outlinewidth\": 0, \"ticks\": \"\"}}, \"type\": \"scattermapbox\"}], \"scatterpolar\": [{\"marker\": {\"colorbar\": {\"outlinewidth\": 0, \"ticks\": \"\"}}, \"type\": \"scatterpolar\"}], \"scatterpolargl\": [{\"marker\": {\"colorbar\": {\"outlinewidth\": 0, \"ticks\": \"\"}}, \"type\": \"scatterpolargl\"}], \"scatterternary\": [{\"marker\": {\"colorbar\": {\"outlinewidth\": 0, \"ticks\": \"\"}}, \"type\": \"scatterternary\"}], \"surface\": [{\"colorbar\": {\"outlinewidth\": 0, \"ticks\": \"\"}, \"colorscale\": [[0.0, \"#0d0887\"], [0.1111111111111111, \"#46039f\"], [0.2222222222222222, \"#7201a8\"], [0.3333333333333333, \"#9c179e\"], [0.4444444444444444, \"#bd3786\"], [0.5555555555555556, \"#d8576b\"], [0.6666666666666666, \"#ed7953\"], [0.7777777777777778, \"#fb9f3a\"], [0.8888888888888888, \"#fdca26\"], [1.0, \"#f0f921\"]], \"type\": \"surface\"}], \"table\": [{\"cells\": {\"fill\": {\"color\": \"#EBF0F8\"}, \"line\": {\"color\": \"white\"}}, \"header\": {\"fill\": {\"color\": \"#C8D4E3\"}, \"line\": {\"color\": \"white\"}}, \"type\": \"table\"}]}, \"layout\": {\"annotationdefaults\": {\"arrowcolor\": \"#2a3f5f\", \"arrowhead\": 0, \"arrowwidth\": 1}, \"coloraxis\": {\"colorbar\": {\"outlinewidth\": 0, \"ticks\": \"\"}}, \"colorscale\": {\"diverging\": [[0, \"#8e0152\"], [0.1, \"#c51b7d\"], [0.2, \"#de77ae\"], [0.3, \"#f1b6da\"], [0.4, \"#fde0ef\"], [0.5, \"#f7f7f7\"], [0.6, \"#e6f5d0\"], [0.7, \"#b8e186\"], [0.8, \"#7fbc41\"], [0.9, \"#4d9221\"], [1, \"#276419\"]], \"sequential\": [[0.0, \"#0d0887\"], [0.1111111111111111, \"#46039f\"], [0.2222222222222222, \"#7201a8\"], [0.3333333333333333, \"#9c179e\"], [0.4444444444444444, \"#bd3786\"], [0.5555555555555556, \"#d8576b\"], [0.6666666666666666, \"#ed7953\"], [0.7777777777777778, \"#fb9f3a\"], [0.8888888888888888, \"#fdca26\"], [1.0, \"#f0f921\"]], \"sequentialminus\": [[0.0, \"#0d0887\"], [0.1111111111111111, \"#46039f\"], [0.2222222222222222, \"#7201a8\"], [0.3333333333333333, \"#9c179e\"], [0.4444444444444444, \"#bd3786\"], [0.5555555555555556, \"#d8576b\"], [0.6666666666666666, \"#ed7953\"], [0.7777777777777778, \"#fb9f3a\"], [0.8888888888888888, \"#fdca26\"], [1.0, \"#f0f921\"]]}, \"colorway\": [\"#636efa\", \"#EF553B\", \"#00cc96\", \"#ab63fa\", \"#FFA15A\", \"#19d3f3\", \"#FF6692\", \"#B6E880\", \"#FF97FF\", \"#FECB52\"], \"font\": {\"color\": \"#2a3f5f\"}, \"geo\": {\"bgcolor\": \"white\", \"lakecolor\": \"white\", \"landcolor\": \"#E5ECF6\", \"showlakes\": true, \"showland\": true, \"subunitcolor\": \"white\"}, \"hoverlabel\": {\"align\": \"left\"}, \"hovermode\": \"closest\", \"mapbox\": {\"style\": \"light\"}, \"paper_bgcolor\": \"white\", \"plot_bgcolor\": \"#E5ECF6\", \"polar\": {\"angularaxis\": {\"gridcolor\": \"white\", \"linecolor\": \"white\", \"ticks\": \"\"}, \"bgcolor\": \"#E5ECF6\", \"radialaxis\": {\"gridcolor\": \"white\", \"linecolor\": \"white\", \"ticks\": \"\"}}, \"scene\": {\"xaxis\": {\"backgroundcolor\": \"#E5ECF6\", \"gridcolor\": \"white\", \"gridwidth\": 2, \"linecolor\": \"white\", \"showbackground\": true, \"ticks\": \"\", \"zerolinecolor\": \"white\"}, \"yaxis\": {\"backgroundcolor\": \"#E5ECF6\", \"gridcolor\": \"white\", \"gridwidth\": 2, \"linecolor\": \"white\", \"showbackground\": true, \"ticks\": \"\", \"zerolinecolor\": \"white\"}, \"zaxis\": {\"backgroundcolor\": \"#E5ECF6\", \"gridcolor\": \"white\", \"gridwidth\": 2, \"linecolor\": \"white\", \"showbackground\": true, \"ticks\": \"\", \"zerolinecolor\": \"white\"}}, \"shapedefaults\": {\"line\": {\"color\": \"#2a3f5f\"}}, \"ternary\": {\"aaxis\": {\"gridcolor\": \"white\", \"linecolor\": \"white\", \"ticks\": \"\"}, \"baxis\": {\"gridcolor\": \"white\", \"linecolor\": \"white\", \"ticks\": \"\"}, \"bgcolor\": \"#E5ECF6\", \"caxis\": {\"gridcolor\": \"white\", \"linecolor\": \"white\", \"ticks\": \"\"}}, \"title\": {\"x\": 0.05}, \"xaxis\": {\"automargin\": true, \"gridcolor\": \"white\", \"linecolor\": \"white\", \"ticks\": \"\", \"title\": {\"standoff\": 15}, \"zerolinecolor\": \"white\", \"zerolinewidth\": 2}, \"yaxis\": {\"automargin\": true, \"gridcolor\": \"white\", \"linecolor\": \"white\", \"ticks\": \"\", \"title\": {\"standoff\": 15}, \"zerolinecolor\": \"white\", \"zerolinewidth\": 2}}}, \"title\": {\"text\": \"Subreddits with most comments containing python (past 2d)\"}, \"xaxis\": {\"anchor\": \"y\", \"domain\": [0.0, 1.0], \"title\": {\"text\": \"Subreddit\"}}, \"yaxis\": {\"anchor\": \"x\", \"domain\": [0.0, 1.0], \"title\": {\"text\": \"# of comments\"}}},\n",
       "                        {\"responsive\": true}\n",
       "                    ).then(function(){\n",
       "                            \n",
       "var gd = document.getElementById('9c46c8fa-b4f6-48ae-9b5d-2bb97084ef0e');\n",
       "var x = new MutationObserver(function (mutations, observer) {{\n",
       "        var display = window.getComputedStyle(gd).display;\n",
       "        if (!display || display === 'none') {{\n",
       "            console.log([gd, 'removed!']);\n",
       "            Plotly.purge(gd);\n",
       "            observer.disconnect();\n",
       "        }}\n",
       "}});\n",
       "\n",
       "// Listen for the removal of the full notebook cells\n",
       "var notebookContainer = gd.closest('#notebook-container');\n",
       "if (notebookContainer) {{\n",
       "    x.observe(notebookContainer, {childList: true});\n",
       "}}\n",
       "\n",
       "// Listen for the clearing of the current output cell\n",
       "var outputEl = gd.closest('.output');\n",
       "if (outputEl) {{\n",
       "    x.observe(outputEl, {childList: true});\n",
       "}}\n",
       "\n",
       "                        })\n",
       "                };\n",
       "                });\n",
       "            </script>\n",
       "        </div>"
      ]
     },
     "metadata": {},
     "output_type": "display_data"
    }
   ],
   "source": [
    "px.bar(df, x = 'key', y = 'doc_count', title = f'Subreddits with most comments containing {TERM_OF_INTEREST} (past {TIMEFRAME})',\n",
    "      labels = {'doc_count': '# of comments', 'key': 'Subreddit'},\n",
    "      color_discrete_sequence = [COMMENT_COLOR])"
   ]
  },
  {
   "cell_type": "markdown",
   "metadata": {},
   "source": [
    "Sample query to find most upvoted comments including python"
   ]
  },
  {
   "cell_type": "code",
   "execution_count": 87,
   "metadata": {},
   "outputs": [],
   "source": [
    "data2 = get_reddit_data(data_type = 'comment',\n",
    "                          q = TERM_OF_INTEREST,\n",
    "                          after = TIMEFRAME,\n",
    "                          size = 10,\n",
    "                          sort_type = 'score',\n",
    "                       sort = 'desc').get('data')"
   ]
  },
  {
   "cell_type": "code",
   "execution_count": 88,
   "metadata": {},
   "outputs": [
    {
     "data": {
      "text/html": [
       "<style  type=\"text/css\" >\n",
       "</style><table id=\"T_169c1588_7f36_11ea_981c_6c626d44126a\" ><thead>    <tr>        <th class=\"blank level0\" ></th>        <th class=\"col_heading level0 col0\" >author</th>        <th class=\"col_heading level0 col1\" >subreddit</th>        <th class=\"col_heading level0 col2\" >score</th>        <th class=\"col_heading level0 col3\" >body</th>        <th class=\"col_heading level0 col4\" >permalink</th>    </tr></thead><tbody>\n",
       "                <tr>\n",
       "                        <th id=\"T_169c1588_7f36_11ea_981c_6c626d44126alevel0_row0\" class=\"row_heading level0 row0\" >0</th>\n",
       "                        <td id=\"T_169c1588_7f36_11ea_981c_6c626d44126arow0_col0\" class=\"data row0 col0\" >Battlemage88</td>\n",
       "                        <td id=\"T_169c1588_7f36_11ea_981c_6c626d44126arow0_col1\" class=\"data row0 col1\" >videos</td>\n",
       "                        <td id=\"T_169c1588_7f36_11ea_981c_6c626d44126arow0_col2\" class=\"data row0 col2\" >437</td>\n",
       "                        <td id=\"T_169c1588_7f36_11ea_981c_6c626d44126arow0_col3\" class=\"data row0 col3\" >Like a Monty Python Sketch in real life....</td>\n",
       "                        <td id=\"T_169c1588_7f36_11ea_981c_6c626d44126arow0_col4\" class=\"data row0 col4\" ><a href=\"https://reddit.com/r/videos/comments/g0o8id/kid_gets_smacked_next_to_queen_elizabeth/fnaprow/\">Link</a></td>\n",
       "            </tr>\n",
       "            <tr>\n",
       "                        <th id=\"T_169c1588_7f36_11ea_981c_6c626d44126alevel0_row1\" class=\"row_heading level0 row1\" >1</th>\n",
       "                        <td id=\"T_169c1588_7f36_11ea_981c_6c626d44126arow1_col0\" class=\"data row1 col0\" >NMe84</td>\n",
       "                        <td id=\"T_169c1588_7f36_11ea_981c_6c626d44126arow1_col1\" class=\"data row1 col1\" >ProgrammerHumor</td>\n",
       "                        <td id=\"T_169c1588_7f36_11ea_981c_6c626d44126arow1_col2\" class=\"data row1 col2\" >333</td>\n",
       "                        <td id=\"T_169c1588_7f36_11ea_981c_6c626d44126arow1_col3\" class=\"data row1 col3\" >I'm not sure Python has much right to speak here with the v2 vs v3 mess they created and support....</td>\n",
       "                        <td id=\"T_169c1588_7f36_11ea_981c_6c626d44126arow1_col4\" class=\"data row1 col4\" ><a href=\"https://reddit.com/r/ProgrammerHumor/comments/g1f0qi/wash_it_off/fnfoi97/\">Link</a></td>\n",
       "            </tr>\n",
       "            <tr>\n",
       "                        <th id=\"T_169c1588_7f36_11ea_981c_6c626d44126alevel0_row2\" class=\"row_heading level0 row2\" >2</th>\n",
       "                        <td id=\"T_169c1588_7f36_11ea_981c_6c626d44126arow2_col0\" class=\"data row2 col0\" >weluckyfew</td>\n",
       "                        <td id=\"T_169c1588_7f36_11ea_981c_6c626d44126arow2_col1\" class=\"data row2 col1\" >todayilearned</td>\n",
       "                        <td id=\"T_169c1588_7f36_11ea_981c_6c626d44126arow2_col2\" class=\"data row2 col2\" >329</td>\n",
       "                        <td id=\"T_169c1588_7f36_11ea_981c_6c626d44126arow2_col3\" class=\"data row2 col3\" >Important to note he was a lot more than just a Monty Python member - he has directed 14 movies, and his 80s 'trilogy' (Time Bandits, Brazil, and Adventures of Baron Munchausen) are considered some of the best fantasy/sci fi films ever made....</td>\n",
       "                        <td id=\"T_169c1588_7f36_11ea_981c_6c626d44126arow2_col4\" class=\"data row2 col4\" ><a href=\"https://reddit.com/r/todayilearned/comments/g1ba2w/til_that_jk_rowling_originally_wanted_monty/fnes4xe/\">Link</a></td>\n",
       "            </tr>\n",
       "            <tr>\n",
       "                        <th id=\"T_169c1588_7f36_11ea_981c_6c626d44126alevel0_row3\" class=\"row_heading level0 row3\" >3</th>\n",
       "                        <td id=\"T_169c1588_7f36_11ea_981c_6c626d44126arow3_col0\" class=\"data row3 col0\" >plentity</td>\n",
       "                        <td id=\"T_169c1588_7f36_11ea_981c_6c626d44126arow3_col1\" class=\"data row3 col1\" >Coronavirus</td>\n",
       "                        <td id=\"T_169c1588_7f36_11ea_981c_6c626d44126arow3_col2\" class=\"data row3 col2\" >288</td>\n",
       "                        <td id=\"T_169c1588_7f36_11ea_981c_6c626d44126arow3_col3\" class=\"data row3 col3\" >Also 27 here. \n",
       "\n",
       "Completed a degree that was a “semi-safe bet” and had provided cool, stable and decently paid jobs to boomers and gen-xers. \n",
       "2008 hit hard and I never found a job in my field, not even internships or unpaid opportunities. \n",
       "I speak 5 languages, I can do text analysis in R and Python and I am a childcare assistant. My “way out” of job insecurity is getting another degree in early chi...</td>\n",
       "                        <td id=\"T_169c1588_7f36_11ea_981c_6c626d44126arow3_col4\" class=\"data row3 col4\" ><a href=\"https://reddit.com/r/Coronavirus/comments/g0ki01/millennials_dont_stand_a_chance_theyre_facing_a/fnazr7t/\">Link</a></td>\n",
       "            </tr>\n",
       "            <tr>\n",
       "                        <th id=\"T_169c1588_7f36_11ea_981c_6c626d44126alevel0_row4\" class=\"row_heading level0 row4\" >4</th>\n",
       "                        <td id=\"T_169c1588_7f36_11ea_981c_6c626d44126arow4_col0\" class=\"data row4 col0\" >sdoc86</td>\n",
       "                        <td id=\"T_169c1588_7f36_11ea_981c_6c626d44126arow4_col1\" class=\"data row4 col1\" >ProgrammerHumor</td>\n",
       "                        <td id=\"T_169c1588_7f36_11ea_981c_6c626d44126arow4_col2\" class=\"data row4 col2\" >211</td>\n",
       "                        <td id=\"T_169c1588_7f36_11ea_981c_6c626d44126arow4_col3\" class=\"data row4 col3\" >I use both daily. For very different things. Personally I could never use python for anything other than little data science and ML projects. I don’t trust myself enough. But I’m sure good python programmers could build successful large projects. I’m just not there yet....</td>\n",
       "                        <td id=\"T_169c1588_7f36_11ea_981c_6c626d44126arow4_col4\" class=\"data row4 col4\" ><a href=\"https://reddit.com/r/ProgrammerHumor/comments/g1f0qi/wash_it_off/fnfntqw/\">Link</a></td>\n",
       "            </tr>\n",
       "            <tr>\n",
       "                        <th id=\"T_169c1588_7f36_11ea_981c_6c626d44126alevel0_row5\" class=\"row_heading level0 row5\" >5</th>\n",
       "                        <td id=\"T_169c1588_7f36_11ea_981c_6c626d44126arow5_col0\" class=\"data row5 col0\" >shiva_codes</td>\n",
       "                        <td id=\"T_169c1588_7f36_11ea_981c_6c626d44126arow5_col1\" class=\"data row5 col1\" >learnprogramming</td>\n",
       "                        <td id=\"T_169c1588_7f36_11ea_981c_6c626d44126arow5_col2\" class=\"data row5 col2\" >178</td>\n",
       "                        <td id=\"T_169c1588_7f36_11ea_981c_6c626d44126arow5_col3\" class=\"data row5 col3\" >That's totally me .I made this mistake i got stuck in this tutorial loop.Once you learnt something FFS you apply it and learn it.\n",
       "\n",
       "Writing fibonacci series code and running it and seeing output on terminal made me sick.\n",
       "I learnt python moved on .Binged watched a web tutorial i did code along.\n",
       "\n",
       "But after that without building a thing i moved on to ML.\n",
       "\n",
       "I realized that I've gotten intl a loop.\n",
       "Then ...</td>\n",
       "                        <td id=\"T_169c1588_7f36_11ea_981c_6c626d44126arow5_col4\" class=\"data row5 col4\" ><a href=\"https://reddit.com/r/learnprogramming/comments/g19d92/the_learning_loop_is_dangerous/fnefqe4/\">Link</a></td>\n",
       "            </tr>\n",
       "            <tr>\n",
       "                        <th id=\"T_169c1588_7f36_11ea_981c_6c626d44126alevel0_row6\" class=\"row_heading level0 row6\" >6</th>\n",
       "                        <td id=\"T_169c1588_7f36_11ea_981c_6c626d44126arow6_col0\" class=\"data row6 col0\" >weelenny</td>\n",
       "                        <td id=\"T_169c1588_7f36_11ea_981c_6c626d44126arow6_col1\" class=\"data row6 col1\" >gifsthatkeepongiving</td>\n",
       "                        <td id=\"T_169c1588_7f36_11ea_981c_6c626d44126arow6_col2\" class=\"data row6 col2\" >132</td>\n",
       "                        <td id=\"T_169c1588_7f36_11ea_981c_6c626d44126arow6_col3\" class=\"data row6 col3\" >It’s like a Monty Python sketch....</td>\n",
       "                        <td id=\"T_169c1588_7f36_11ea_981c_6c626d44126arow6_col4\" class=\"data row6 col4\" ><a href=\"https://reddit.com/r/gifsthatkeepongiving/comments/g1a6vr/taken_off_the_pitch_by_stretchers/fnetw52/\">Link</a></td>\n",
       "            </tr>\n",
       "            <tr>\n",
       "                        <th id=\"T_169c1588_7f36_11ea_981c_6c626d44126alevel0_row7\" class=\"row_heading level0 row7\" >7</th>\n",
       "                        <td id=\"T_169c1588_7f36_11ea_981c_6c626d44126arow7_col0\" class=\"data row7 col0\" >801_chan</td>\n",
       "                        <td id=\"T_169c1588_7f36_11ea_981c_6c626d44126arow7_col1\" class=\"data row7 col1\" >HistoryMemes</td>\n",
       "                        <td id=\"T_169c1588_7f36_11ea_981c_6c626d44126arow7_col2\" class=\"data row7 col2\" >114</td>\n",
       "                        <td id=\"T_169c1588_7f36_11ea_981c_6c626d44126arow7_col3\" class=\"data row7 col3\" >They may not believe it because the rest of the world makes fun of them, but a lot of America finds Australian dialects sexy. Of all the things I learned in linguistics undergrad, the idea that other countries shit on Australia was bewildering.\n",
       "\n",
       "Steve Irwin glistening with sweat, all bare biceps and a python wrapped around his shoulders, I mean *hot damn*....</td>\n",
       "                        <td id=\"T_169c1588_7f36_11ea_981c_6c626d44126arow7_col4\" class=\"data row7 col4\" ><a href=\"https://reddit.com/r/HistoryMemes/comments/g0pv7l/australia_and_the_united_states_relationship_ever/fnboh11/\">Link</a></td>\n",
       "            </tr>\n",
       "            <tr>\n",
       "                        <th id=\"T_169c1588_7f36_11ea_981c_6c626d44126alevel0_row8\" class=\"row_heading level0 row8\" >8</th>\n",
       "                        <td id=\"T_169c1588_7f36_11ea_981c_6c626d44126arow8_col0\" class=\"data row8 col0\" >Aurecon</td>\n",
       "                        <td id=\"T_169c1588_7f36_11ea_981c_6c626d44126arow8_col1\" class=\"data row8 col1\" >ProgrammerHumor</td>\n",
       "                        <td id=\"T_169c1588_7f36_11ea_981c_6c626d44126arow8_col2\" class=\"data row8 col2\" >111</td>\n",
       "                        <td id=\"T_169c1588_7f36_11ea_981c_6c626d44126arow8_col3\" class=\"data row8 col3\" >I’m too deep in Python now to get out. Even with many successful fairly large projects you always wonder whether there’s a better way ......</td>\n",
       "                        <td id=\"T_169c1588_7f36_11ea_981c_6c626d44126arow8_col4\" class=\"data row8 col4\" ><a href=\"https://reddit.com/r/ProgrammerHumor/comments/g1f0qi/wash_it_off/fnfsyqf/\">Link</a></td>\n",
       "            </tr>\n",
       "            <tr>\n",
       "                        <th id=\"T_169c1588_7f36_11ea_981c_6c626d44126alevel0_row9\" class=\"row_heading level0 row9\" >9</th>\n",
       "                        <td id=\"T_169c1588_7f36_11ea_981c_6c626d44126arow9_col0\" class=\"data row9 col0\" >ganja_and_code</td>\n",
       "                        <td id=\"T_169c1588_7f36_11ea_981c_6c626d44126arow9_col1\" class=\"data row9 col1\" >ProgrammerHumor</td>\n",
       "                        <td id=\"T_169c1588_7f36_11ea_981c_6c626d44126arow9_col2\" class=\"data row9 col2\" >108</td>\n",
       "                        <td id=\"T_169c1588_7f36_11ea_981c_6c626d44126arow9_col3\" class=\"data row9 col3\" >*Python is love, Java is life...</td>\n",
       "                        <td id=\"T_169c1588_7f36_11ea_981c_6c626d44126arow9_col4\" class=\"data row9 col4\" ><a href=\"https://reddit.com/r/ProgrammerHumor/comments/g1f0qi/wash_it_off/fnfkzut/\">Link</a></td>\n",
       "            </tr>\n",
       "    </tbody></table>"
      ],
      "text/plain": [
       "<pandas.io.formats.style.Styler at 0x1ad5e0b26c8>"
      ]
     },
     "execution_count": 88,
     "metadata": {},
     "output_type": "execute_result"
    }
   ],
   "source": [
    "df2 = pd.DataFrame.from_records(data2)[['author', 'subreddit', 'score', 'body', 'permalink']]\n",
    "df2['body'] = df2['body'].str[0:400] + '...'\n",
    "df2['permalink'] = 'https://reddit.com' + df2['permalink'].astype(str)\n",
    "df2.style.format({'permalink': make_clickable})"
   ]
  },
  {
   "cell_type": "markdown",
   "metadata": {},
   "source": [
    "Sample query to grab comment text for sentiment analysis"
   ]
  },
  {
   "cell_type": "code",
   "execution_count": 89,
   "metadata": {},
   "outputs": [],
   "source": [
    "data3 = get_reddit_data(data_type = 'comment',\n",
    "                          subreddit = SUBREDDIT_OF_INTEREST,\n",
    "                          after = TIMEFRAME,\n",
    "                          size = 1000,\n",
    "                          sort_type = 'score',\n",
    "                       sort = 'desc').get('data')"
   ]
  },
  {
   "cell_type": "code",
   "execution_count": 90,
   "metadata": {},
   "outputs": [],
   "source": [
    "columns_important = ['author', 'body', 'created_utc', 'score', 'permalink']\n",
    "df3 = pd.DataFrame.from_records(data3)[columns_important]"
   ]
  },
  {
   "cell_type": "code",
   "execution_count": 91,
   "metadata": {},
   "outputs": [],
   "source": [
    "#create polarity column\n",
    "df3['sentiment_polarity'] = df3.apply(lambda row: tb.TextBlob(row['body']).sentiment.polarity, axis = 1)"
   ]
  },
  {
   "cell_type": "code",
   "execution_count": 92,
   "metadata": {},
   "outputs": [],
   "source": [
    "#create subjectivity column\n",
    "df3['sentiment_subjectivity'] = df3.apply(lambda row: tb.TextBlob(row['body']).sentiment.subjectivity, axis = 1)"
   ]
  },
  {
   "cell_type": "code",
   "execution_count": 93,
   "metadata": {},
   "outputs": [],
   "source": [
    "#create sentiment flag\n",
    "df3['sentiment'] = df3.apply(lambda row: 'positive' if row['sentiment_polarity'] >=0 else 'negative', axis = 1)"
   ]
  },
  {
   "cell_type": "code",
   "execution_count": 94,
   "metadata": {},
   "outputs": [],
   "source": [
    "#create text preview column\n",
    "df3['preview'] = df3['body'].str[0:50]\n",
    "#transform utc to datetime\n",
    "df3['date'] = pd.to_datetime(df3['created_utc'], unit = 's')"
   ]
  },
  {
   "cell_type": "code",
   "execution_count": 96,
   "metadata": {},
   "outputs": [],
   "source": [
    "#set min score to zero, so negative downvoted comments don't break size\n",
    "df3['score'] = df3['score'].clip(0, 1000)"
   ]
  },
  {
   "cell_type": "code",
   "execution_count": 97,
   "metadata": {},
   "outputs": [
    {
     "data": {
      "application/vnd.plotly.v1+json": {
       "config": {
        "plotlyServerURL": "https://plotly.com"
       },
       "data": [
        {
         "customdata": [
          [
           "AltezaHumilde",
           "/r/Python/comments/g10v5z/i_made_a_python_script_to_download_subtitles_for/fnd1kci/",
           "Amazing job, if you rename the subtitle in the end"
          ],
          [
           "Ro0t-set",
           "/r/Python/comments/g1conv/i_made_a_randomized_binary_tree_python_tkinter/fnf5za9/",
           "to give it a true tree shape"
          ],
          [
           "brma9262",
           "/r/Python/comments/g1conv/i_made_a_randomized_binary_tree_python_tkinter/fnf574p/",
           "Why it the tree upside-down?"
          ],
          [
           "sameera__madushan_",
           "/r/Python/comments/g10v5z/i_made_a_python_script_to_download_subtitles_for/fncv0dm/",
           "GitHub -  [https://github.com/sameera-madushan/Sub"
          ],
          [
           "strghst",
           "/r/Python/comments/g10v5z/i_made_a_python_script_to_download_subtitles_for/fndcg7f/",
           "Found a small thing in your code. When scrapping t"
          ],
          [
           "Teract",
           "/r/Python/comments/g0mmbt/i_made_a_web_app_to_convert_baking_recipes_from/fnapud5/",
           "Nice! Heads up on dry ingredient conversions; the "
          ],
          [
           "MeltedCheeseFantasy",
           "/r/Python/comments/g0mmbt/i_made_a_web_app_to_convert_baking_recipes_from/fnc4e6h/",
           "hello! chemical engineer/python enthusiast here.\n\n"
          ],
          [
           "panzerex",
           "/r/Python/comments/g10v5z/i_made_a_python_script_to_download_subtitles_for/fndj4my/",
           "Or using pathlib:\n\n    from pathlib import Path\n  "
          ],
          [
           "Leusdat",
           "/r/Python/comments/g1conv/i_made_a_randomized_binary_tree_python_tkinter/fnf1u83/",
           "Thank you for sharing. Looks nice except 'red = Co"
          ],
          [
           "maikcatrinque",
           "/r/Python/comments/g10v5z/i_made_a_python_script_to_download_subtitles_for/fndgz3l/",
           "A pythonic approach to this problem:\n\n```\nbase, ex"
          ],
          [
           "dePliko",
           "/r/Python/comments/g10v5z/i_made_a_python_script_to_download_subtitles_for/fnd1svv/",
           "Wow nice. You could make it automatically sync to "
          ],
          [
           "v3ritas1989",
           "/r/Python/comments/g10v5z/i_made_a_python_script_to_download_subtitles_for/fnd6hhz/",
           "that bird on your desktop background looks as if t"
          ],
          [
           "Fuchsiaff",
           "/r/Python/comments/g1conv/i_made_a_randomized_binary_tree_python_tkinter/fngave0/",
           "I love this response"
          ],
          [
           "magestooge",
           "/r/Python/comments/g10v5z/i_made_a_python_script_to_download_subtitles_for/fncxo49/",
           "It's nice, I tried it and it worked for a movie."
          ],
          [
           "thehaikuza",
           "/r/Python/comments/g0mmbt/i_made_a_web_app_to_convert_baking_recipes_from/fnb6jut/",
           "Thanks for the feedback. Yes, the conversion datab"
          ],
          [
           "rebmakesmusic",
           "/r/Python/comments/g10v5z/i_made_a_python_script_to_download_subtitles_for/fnd49tl/",
           "Ooo, that could be interesting! Could search for t"
          ],
          [
           "Mr95tyz",
           "/r/Python/comments/g10v5z/i_made_a_python_script_to_download_subtitles_for/fnd0m89/",
           "yeah but first watch the movie."
          ],
          [
           "Benedict_Cucumber_",
           "/r/Python/comments/g0mmbt/i_made_a_web_app_to_convert_baking_recipes_from/fnc0wg9/",
           "You are not the hero earth deserve but the hero ea"
          ],
          [
           "StarlordHarshKO",
           "/r/Python/comments/g10v5z/i_made_a_python_script_to_download_subtitles_for/fncz830/",
           "Is it possible to learn this power?"
          ],
          [
           "Ro0t-set",
           "/r/Python/comments/g1conv/i_made_a_randomized_binary_tree_python_tkinter/fnf21y2/",
           "AHAHAHAHHAHA, I wrote it late at night..."
          ],
          [
           "programmingfriend",
           "/r/Python/comments/g1dxfn/stop_naming_your_python_modules_utils/fnf2eek/",
           "I am definitely responsible for these offenses"
          ],
          [
           "dePliko",
           "/r/Python/comments/g10v5z/i_made_a_python_script_to_download_subtitles_for/fnd1uha/",
           "it searches SubDB"
          ],
          [
           "Ro0t-set",
           "/r/Python/comments/g1conv/i_made_a_randomized_binary_tree_python_tkinter/fnf183m/",
           "Of course! It is not an elegant code and I apologi"
          ],
          [
           "mutatedllama",
           "/r/Python/comments/g1p4ce/visualising_dijkstra_vs_dfs_vs_a_pathfinding/fngvmju/",
           "If I'm understanding what you mean, this is essent"
          ],
          [
           "SwapDhar",
           "/r/Python/comments/g10v5z/i_made_a_python_script_to_download_subtitles_for/fnd4a16/",
           "[Here](https://a-static.besthdwallpaper.com/mei-zh"
          ],
          [
           "dartharva",
           "/r/Python/comments/g10v5z/i_made_a_python_script_to_download_subtitles_for/fnd48qj/",
           "You keep making great stuff man, they're both simp"
          ],
          [
           "cymrow",
           "/r/Python/comments/g10v5z/i_made_a_python_script_to_download_subtitles_for/fndrph6/",
           "I'm a little late to the party here, but someone s"
          ],
          [
           "hamoliciousRUS",
           "/r/Python/comments/g1i24z/my_first_scraper/fnfqp6x/",
           "my first scraper was to check if my ex posted anyt"
          ],
          [
           "alexgolec",
           "/r/Python/comments/g1fhk9/i_wrote_an_api_wrapper_for_td_ameritrades_finance/fnf9hn9/",
           "My aim is to help people use computers to lose mon"
          ],
          [
           "DoiF",
           "/r/Python/comments/g10v5z/i_made_a_python_script_to_download_subtitles_for/fnd8obe/",
           "Seems like you are *that* guy."
          ],
          [
           "PizzaHolder",
           "/r/Python/comments/g10v5z/i_made_a_python_script_to_download_subtitles_for/fndcvay/",
           "The offset can be adjusted with VLC tho"
          ],
          [
           "slayer_of_idiots",
           "/r/Python/comments/g1conv/i_made_a_randomized_binary_tree_python_tkinter/fng32rj/",
           "It starts with a single line, and then creates 13 "
          ],
          [
           "iGalaxy_",
           "/r/Python/comments/g10v5z/i_made_a_python_script_to_download_subtitles_for/fnehrwp/",
           "As a Native Indian I couldn't care less"
          ],
          [
           "athermop",
           "/r/Python/comments/g1b23g/is_oop_still_needed/fnehg9k/",
           "Insightful insight coming in: OOP is useful where "
          ],
          [
           "yeetboy",
           "/r/Python/comments/g10v5z/i_made_a_python_script_to_download_subtitles_for/fnd579x/",
           "I’m surprised the drag and drop was even necessary"
          ],
          [
           "petdance",
           "/r/Python/comments/g1dxfn/stop_naming_your_python_modules_utils/fnf3hiw/",
           "See also: Variables named `data`."
          ],
          [
           "Leusdat",
           "/r/Python/comments/g1conv/i_made_a_randomized_binary_tree_python_tkinter/fnf03pv/",
           "Would u care to share the source? I'd love to take"
          ],
          [
           "jiejenn",
           "/r/Python/comments/g12xlh/i_see_there_are_veterans_on_this_sub/fnd5t6d/",
           "First, wrong sub. Second, no one is gonna do your "
          ],
          [
           "maikcatrinque",
           "/r/Python/comments/g10v5z/i_made_a_python_script_to_download_subtitles_for/fndlulv/",
           "I agree with you. \n\nIt is very hypocritical to app"
          ],
          [
           "MarsupialMole",
           "/r/Python/comments/g1dxfn/stop_naming_your_python_modules_utils/fnfpofg/",
           "Strongly disagree. The namespace that utils is con"
          ],
          [
           "sameera__madushan_",
           "/r/Python/comments/g10v5z/i_made_a_python_script_to_download_subtitles_for/fncxv7l/",
           "thanks"
          ],
          [
           "thrallsius",
           "/r/Python/comments/g1jz58/if_anyone_can_make_a_script_for_this_i_will_pay/fngbn1g/",
           "smells like homework"
          ],
          [
           "AztecComputer",
           "/r/Python/comments/g1conv/i_made_a_randomized_binary_tree_python_tkinter/fng9r2n/",
           "I'm thinking randomized as in the angles aren't ev"
          ],
          [
           "sameera__madushan_",
           "/r/Python/comments/g10v5z/i_made_a_python_script_to_download_subtitles_for/fndqz8o/",
           "Thanks for all your suggestions...."
          ],
          [
           "11218",
           "/r/Python/comments/g1dxfn/stop_naming_your_python_modules_utils/fnfm2fm/",
           "    the_data = data\n    del data"
          ],
          [
           "_mfStarBoy",
           "/r/Python/comments/g1conv/i_made_a_randomized_binary_tree_python_tkinter/fng68nb/",
           "Why it is called 'randomized' binary tree?\nPS: I'm"
          ],
          [
           "AltezaHumilde",
           "/r/Python/comments/g10v5z/i_made_a_python_script_to_download_subtitles_for/fnegn8g/",
           "erm.. why are you replying to my comment... expres"
          ],
          [
           "thehaikuza",
           "/r/Python/comments/g0mmbt/i_made_a_web_app_to_convert_baking_recipes_from/fnaf6op/",
           "Backend in Flask, frontend using HTML/CSS/Javascri"
          ],
          [
           "AnonIowa",
           "/r/Python/comments/g10v5z/i_made_a_python_script_to_download_subtitles_for/fnddxep/",
           "Only works on Windows, because you've used `ctypes"
          ],
          [
           "Helpful-Astronomer",
           "/r/Python/comments/g0mmbt/i_made_a_web_app_to_convert_baking_recipes_from/fnc6vau/",
           "Yes"
          ],
          [
           "Leusdat",
           "/r/Python/comments/g1adit/i_made_my_first_game_in_python_thanks_uriles0829/fnf26ga/",
           "Now slap a ai to it:) https://youtu.be/tjQIO1rqTBE"
          ],
          [
           "turtle_with_dentures",
           "/r/Python/comments/g1dxfn/stop_naming_your_python_modules_utils/fng9dea/",
           "Exactly this.  It's completely ignored that the `u"
          ],
          [
           "K900_",
           "/r/Python/comments/g1b6n5/should_i_buy_raspberry/fneiep7/",
           "In that case it's definitely a good choice."
          ],
          [
           "stevenjd",
           "/r/Python/comments/g1lq2b/python_programming_is_drowning_in_red_tape_my/fngeo0u/",
           "The irony that the code for a code beautifier is a"
          ],
          [
           "IMJoeTheBro",
           "/r/Python/comments/g10v5z/i_made_a_python_script_to_download_subtitles_for/fnd5ia6/",
           "Does it work for TV shows?"
          ],
          [
           "K900_",
           "/r/Python/comments/g113ug/im_new_to_python_and_wanted_to_install_pillow/fncwayp/",
           "1. /r/learnpython \n2. You need to be running those"
          ],
          [
           "WesolyKubeczek",
           "/r/Python/comments/g1lq2b/python_programming_is_drowning_in_red_tape_my/fngpkwk/",
           "One problem that I have with blog posts like this "
          ],
          [
           "CAPSLOCKFTW_hs",
           "/r/Python/comments/g1conv/i_made_a_randomized_binary_tree_python_tkinter/fngrp7t/",
           "&gt; Can I ask, is it good practice to use `from x"
          ],
          [
           "EarthGoddessDude",
           "/r/Python/comments/g0mmbt/i_made_a_web_app_to_convert_baking_recipes_from/fnc55zl/",
           "Is Heroku free? If I wanted to play around with we"
          ],
          [
           "neither_both",
           "/r/Python/comments/g10v5z/i_made_a_python_script_to_download_subtitles_for/fndii7r/",
           "Indigenous people aren't a costume, though. They'r"
          ],
          [
           "johnpope44",
           "/r/Python/comments/g10v5z/i_made_a_python_script_to_download_subtitles_for/fnd2vvo/",
           "Great script!\nBy the way, do you happen to know so"
          ],
          [
           "mutatedllama",
           "/r/Python/comments/g1conv/i_made_a_randomized_binary_tree_python_tkinter/fngiw3l/",
           "I loved the speed code! That is so cool.\n\nCan I as"
          ],
          [
           "KimmiG1",
           "/r/Python/comments/g10v5z/i_made_a_python_script_to_download_subtitles_for/fnds1d6/",
           "Nice.\n\nHave you tryed bazarr?"
          ],
          [
           "AngriestSCV",
           "/r/Python/comments/g0mmbt/i_made_a_web_app_to_convert_baking_recipes_from/fncj7z7/",
           "Don't forget to factor in the humidity. The densit"
          ],
          [
           "zb_running",
           "/r/Python/comments/g1fhk9/i_wrote_an_api_wrapper_for_td_ameritrades_finance/fnfbfe1/",
           "I see you frequent r/wallstreetbets as well. A per"
          ],
          [
           "thrallsius",
           "/r/Python/comments/g1jz58/if_anyone_can_make_a_script_for_this_i_will_pay/fngmchb/",
           "nothing, you'll have to do it yourself"
          ],
          [
           "Tweak_Imp",
           "/r/Python/comments/g1lq2b/python_programming_is_drowning_in_red_tape_my/fngqw68/",
           "This guy is just crying about black not accepting "
          ],
          [
           "Mark-SuckoBerg",
           "/r/Python/comments/g1apao/when_should_i_start_learning_machine_learning/fnef498/",
           "Now. Check out google’s machine learning course or"
          ],
          [
           "woutSo",
           "/r/Python/comments/g10v5z/i_made_a_python_script_to_download_subtitles_for/fndubw2/",
           "More specifically, he uses the hash (that was real"
          ],
          [
           "sameera__madushan_",
           "/r/Python/comments/g10v5z/i_made_a_python_script_to_download_subtitles_for/fndhpau/",
           "Make a Pull request... Thanks."
          ],
          [
           "anarchyisthekey",
           "/r/Python/comments/g10v5z/i_made_a_python_script_to_download_subtitles_for/fndj9g7/",
           "Fps of the movie also makes a huge difference, tim"
          ],
          [
           "Umlautica",
           "/r/Python/comments/g1dxfn/stop_naming_your_python_modules_utils/fng191m/",
           "I've found a good trade-off is to create a utils s"
          ],
          [
           "Huntersolomon",
           "/r/Python/comments/g0ny0j/created_a_simple_web_app_to_learn_django/fnanmdl/",
           "I am trying to learn the Django framework and the "
          ],
          [
           "Senacharim",
           "/r/Python/comments/g12rdq/i_made_a_simple_programme_that_enables_you_to/fnd689u/",
           "Fun fact, that function is already built into the "
          ],
          [
           "Mark-SuckoBerg",
           "/r/Python/comments/g1apao/when_should_i_start_learning_machine_learning/fneitsa/",
           "Couldn’t have said it better myself! It’s great th"
          ],
          [
           "joelwitherspoon",
           "/r/Python/comments/g1b23g/is_oop_still_needed/fneh5db/",
           "[citation needed] what blog did you read?"
          ],
          [
           "NitroXSC",
           "/r/Python/comments/g1conv/i_made_a_randomized_binary_tree_python_tkinter/fnf18qz/",
           "This is a perfect fit for /r/generative"
          ],
          [
           "idd24x7",
           "/r/Python/comments/g0ur21/change_a_link_once_selenium_web_scraper_is_done/fnbvvw0/",
           "What is the source of your links? If you have a li"
          ],
          [
           "thehaikuza",
           "/r/Python/comments/g0mmbt/i_made_a_web_app_to_convert_baking_recipes_from/fnbfyss/",
           "Ah, can't believe I missed this. For some reason I"
          ],
          [
           "barnfart",
           "/r/Python/comments/g10v5z/i_made_a_python_script_to_download_subtitles_for/fnd9665/",
           "Seems like it, as long as the db has support for t"
          ],
          [
           "maxbridgland",
           "/r/Python/comments/g17b2n/i_made_command_line_tool_written_in_python_to/fndtjok/",
           "As of Firefox 57 (the Quantum Update), Mozilla has"
          ],
          [
           "spydakat",
           "/r/Python/comments/g1fhk9/i_wrote_an_api_wrapper_for_td_ameritrades_finance/fnf9dkw/",
           "Time for some FDs 👀?"
          ],
          [
           "K900_",
           "/r/Python/comments/g113ug/im_new_to_python_and_wanted_to_install_pillow/fncwt3m/",
           "It's not \"Python\", it's a text editor called Subli"
          ],
          [
           "rednafi",
           "/r/Python/comments/g0kqss/no_really_pythons_pathlib_is_great_dipping_toes/fnaeie6/",
           "Yeah. But most of the backlashes it gets are due t"
          ],
          [
           "nathanjell",
           "/r/Python/comments/g0ur7l/make_money_selling_your_apis_feedback_needed_beta/fnc6hea/",
           "Your terms also include a provision to, when conne"
          ],
          [
           "9bard",
           "/r/Python/comments/g13g8f/i_made_a_guess_game_to_guess_any_number_from_1_to/fnd8bni/",
           "First you don't need to use empty print to get new"
          ],
          [
           "rcfox",
           "/r/Python/comments/g17cqd/interesting_script_that_drops_items_by_their/fnduw1w/",
           "    import random\n    import collections\n    \n    "
          ],
          [
           "Cryostasys",
           "/r/Python/comments/g0zhz4/dating_life_beside_a_busy_job_as_a_developer/fnco1gh/",
           "Looks like the bot is getting a overzealous with i"
          ],
          [
           "K900_",
           "/r/Python/comments/g1b6n5/should_i_buy_raspberry/fnehz46/",
           "It's a fine choice for a server, but keep in mind "
          ],
          [
           "pythonHelperBot",
           "/r/Python/comments/g1jz58/if_anyone_can_make_a_script_for_this_i_will_pay/fng7psz/",
           "Hello! I'm a bot!\n\nIt looks to me like your post m"
          ],
          [
           "Ro0t-set",
           "/r/Python/comments/g1conv/i_made_a_randomized_binary_tree_python_tkinter/fngjq3z/",
           "you're right, you should always specify the functi"
          ],
          [
           "kneulb4zud",
           "/r/Python/comments/g10v5z/i_made_a_python_script_to_download_subtitles_for/fndmpim/",
           "Get Media Player Classic, open the video, press D,"
          ],
          [
           "K900_",
           "/r/Python/comments/g1b23g/is_oop_still_needed/fnehlby/",
           "There are definitely projects where OOP is a good "
          ],
          [
           "tjburton",
           "/r/Python/comments/g10v5z/i_made_a_python_script_to_download_subtitles_for/fnd1hfh/",
           "Wow nice. How does it get the subtitle information"
          ],
          [
           "IronRyan2807",
           "/r/Python/comments/g10v5z/i_made_a_python_script_to_download_subtitles_for/fnd9lpn/",
           "jesus christ"
          ],
          [
           "sameera__madushan_",
           "/r/Python/comments/g10v5z/i_made_a_python_script_to_download_subtitles_for/fndh3is/",
           "😂"
          ],
          [
           "OctagonClock",
           "/r/Python/comments/g1lq2b/python_programming_is_drowning_in_red_tape_my/fngvyha/",
           "&gt; As I adventured in this petty task, it’s wort"
          ],
          [
           "zacharypamela",
           "/r/Python/comments/g0mmbt/i_made_a_web_app_to_convert_baking_recipes_from/fnav3uz/",
           "This is pretty cool. I'm working on a recipes web "
          ],
          [
           "Ak7ghost",
           "/r/Python/comments/g10v5z/i_made_a_python_script_to_download_subtitles_for/fndbig0/",
           "Found a higher quality version [here](http://wallp"
          ],
          [
           "neither_both",
           "/r/Python/comments/g10v5z/i_made_a_python_script_to_download_subtitles_for/fndlbne/",
           "Ty for being that guy. I try to assume that people"
          ],
          [
           "sameera__madushan_",
           "/r/Python/comments/g10v5z/i_made_a_python_script_to_download_subtitles_for/fndq9v4/",
           "thanks for the suggestions...."
          ],
          [
           "The_loudsoda",
           "/r/Python/comments/g10v5z/i_made_a_python_script_to_download_subtitles_for/fneas1d/",
           "I scrolled down just to find this comment."
          ],
          [
           "TouchingTheVodka",
           "/r/Python/comments/g1dbxs/help_im_new_and_no_matter_the_input_the_output_is/fnevh6l/",
           "    answer = input('A, B, C, D?')\n    if answer =="
          ],
          [
           "TheMathelm",
           "/r/Python/comments/g0mmbt/i_made_a_web_app_to_convert_baking_recipes_from/fncvm1c/",
           "Hey you know what? let's use a standardized unit f"
          ],
          [
           "thrallsius",
           "/r/Python/comments/g1jz58/if_anyone_can_make_a_script_for_this_i_will_pay/fnggth3/",
           "help yourself, you only post in gaming subreddits"
          ],
          [
           "K900_",
           "/r/Python/comments/g0pegm/looking_for_good_resources/fnavygf/",
           "/r/learnpython/wiki"
          ],
          [
           "pythonHelperBot",
           "/r/Python/comments/g0pegm/looking_for_good_resources/fnaw66x/",
           "Hello! I'm a bot!\n\nI see someone has already sugge"
          ],
          [
           "nathanjell",
           "/r/Python/comments/g0ur7l/make_money_selling_your_apis_feedback_needed_beta/fnc5ox9/",
           "Personally you wouldn't catch me using it. Your te"
          ],
          [
           "ptekspy",
           "/r/Python/comments/g13g8f/i_made_a_guess_game_to_guess_any_number_from_1_to/fnd8kub/",
           "Like people at a while loop probs best\n\n    attemp"
          ],
          [
           "sameera__madushan_",
           "/r/Python/comments/g10v5z/i_made_a_python_script_to_download_subtitles_for/fndfvno/",
           "Make a pull request.... Thanks."
          ],
          [
           "vsujeesh",
           "/r/Python/comments/g10v5z/i_made_a_python_script_to_download_subtitles_for/fndjkmy/",
           "For opensubtitles, now you need to login to be abl"
          ],
          [
           "sameera__madushan_",
           "/r/Python/comments/g10v5z/i_made_a_python_script_to_download_subtitles_for/fndhjmk/",
           "If the subtitle file available in SUbDB database i"
          ],
          [
           "will_work_for_twerk",
           "/r/Python/comments/g10v5z/i_made_a_python_script_to_download_subtitles_for/fndo1cf/",
           "Uh homie by your logic I can post some pretty fuck"
          ],
          [
           "fdemmer",
           "/r/Python/comments/g1cftx/python_formatters_to_eg_align_code/fnf18lx/",
           "sorry, i don't know any editor doing that. it is a"
          ],
          [
           "Ro0t-set",
           "/r/Python/comments/g1conv/i_made_a_randomized_binary_tree_python_tkinter/fnf1tt7/",
           "Great, thank you for your suggestion"
          ],
          [
           "KsqueaKJ",
           "/r/Python/comments/g10v5z/i_made_a_python_script_to_download_subtitles_for/fnf6kpy/",
           "So white people have no culture?"
          ],
          [
           "DarkCeptor44",
           "/r/Python/comments/g10v5z/i_made_a_python_script_to_download_subtitles_for/fnfbeo8/",
           "It is the buggiest thing and it never really helpe"
          ],
          [
           "athermop",
           "/r/Python/comments/g1apao/when_should_i_start_learning_machine_learning/fnehop8/",
           "Yes, the answer is always now.\n\nI would caution th"
          ],
          [
           "AltezaHumilde",
           "/r/Python/comments/g10v5z/i_made_a_python_script_to_download_subtitles_for/fnekweb/",
           "Don't bug the OP, the background pic is really coo"
          ],
          [
           "SimpleScribbler",
           "/r/Python/comments/g0pl67/pandas_with_array_of_col_names_in_a_desired/fnb01d1/",
           "Off the top of my head, I'd create an empty datafr"
          ],
          [
           "dePliko",
           "/r/Python/comments/g10v5z/i_made_a_python_script_to_download_subtitles_for/fndq529/",
           "yes, that's why it's so hard also voice recognitio"
          ],
          [
           "sameera__madushan_",
           "/r/Python/comments/g10v5z/i_made_a_python_script_to_download_subtitles_for/fndr0rc/",
           "Thanks"
          ],
          [
           "Gayoka",
           "/r/Python/comments/g1conv/i_made_a_randomized_binary_tree_python_tkinter/fnga3du/",
           "This looks so very similar to those tree puzzles i"
          ],
          [
           "br3w0r",
           "/r/Python/comments/g1mxy4/what_are_the_best_books_to_learn_how_to_use_django/fngjv7u/",
           "https://docs.djangoproject.com/en/3.0/intro/"
          ],
          [
           "pythonHelperBot",
           "/r/Python/comments/g1pn2c/i_cant_understand_how_it_works/fngwmxv/",
           "Hello! I'm a bot!\n\nIt looks to me like your post m"
          ],
          [
           "imperialdub",
           "/r/Python/comments/g10v5z/i_made_a_python_script_to_download_subtitles_for/fnd9xem/",
           "A:10\nV:10\n\nThanks YIFI!"
          ],
          [
           "idrinkwatertoo",
           "/r/Python/comments/g10v5z/i_made_a_python_script_to_download_subtitles_for/fndh289/",
           "Nice! I've been thinking about making something li"
          ],
          [
           "chicken__soup",
           "/r/Python/comments/g15e8f/how_do_you_run_a_python_app_all_the_time/fndi8qa/",
           "https://www.pythonanywhere.com/ is a hosting servi"
          ],
          [
           "StarlordHarshKO",
           "/r/Python/comments/g10v5z/i_made_a_python_script_to_download_subtitles_for/fndi5aw/",
           "I know python but only basic, how to go advance"
          ],
          [
           "FidoTheDisingenuous",
           "/r/Python/comments/g10v5z/i_made_a_python_script_to_download_subtitles_for/fnebymi/",
           "You are missing the point. It's not about legalism"
          ],
          [
           "juanda2",
           "/r/Python/comments/g10v5z/i_made_a_python_script_to_download_subtitles_for/fnejzgf/",
           "even if the name doesn't match there is a setting "
          ],
          [
           "Senator_Sanders",
           "/r/Python/comments/g0qobg/i_made_a_python_program_which_models_the/fnbopc9/",
           "Cool work. Thanks for sharing :)"
          ],
          [
           "tunisia3507",
           "/r/Python/comments/g0kqss/no_really_pythons_pathlib_is_great_dipping_toes/fnbpsoq/",
           "&gt; However, if you are working with python 3.5 o"
          ],
          [
           "WhoWhyWhatWhenWhere",
           "/r/Python/comments/g167bf/whats_everyone_working_on_this_week/fnel9am/",
           "I just finished up a trailer for an escape the roo"
          ],
          [
           "Nvr_Dbt",
           "/r/Python/comments/g1conv/i_made_a_randomized_binary_tree_python_tkinter/fnf6b5j/",
           "Wow nice"
          ],
          [
           "i_like_trains_a_lot1",
           "/r/Python/comments/g1dxfn/stop_naming_your_python_modules_utils/fnggqlc/",
           "Within the scope of a few lines or a block of code"
          ],
          [
           "nolandeluca",
           "/r/Python/comments/g1oi1o/ip_address_locater/fngrpbe/",
           "This scares me 🤔🤔🤔 I feel like I'll get infected c"
          ],
          [
           "BimphyRedixler",
           "/r/Python/comments/g0fz1e/generating_a_random_maze_using_prims_algorithm/fnbvgf1/",
           "Yeah, in every maze I have seen, dark = wall"
          ],
          [
           "Natetronn",
           "/r/Python/comments/g0mmbt/i_made_a_web_app_to_convert_baking_recipes_from/fnbsaen/",
           "Just a suggestion: might be nice to have a toggle "
          ],
          [
           "nathanjell",
           "/r/Python/comments/g0ur7l/make_money_selling_your_apis_feedback_needed_beta/fnc51up/",
           "You might want to finish filling out that one blan"
          ],
          [
           "Lazy_Victor",
           "/r/Python/comments/g0mmbt/i_made_a_web_app_to_convert_baking_recipes_from/fnaf6m7/",
           "Nice app, did you have a link to try it?"
          ],
          [
           "vantech887",
           "/r/Python/comments/g13g8f/i_made_a_guess_game_to_guess_any_number_from_1_to/fndk9bx/",
           "Thanks my mind was so lost when I was coding thus"
          ],
          [
           "joeyturner123",
           "/r/Python/comments/g10v5z/i_made_a_python_script_to_download_subtitles_for/fnd8dy9/",
           "Not from a Jedi."
          ],
          [
           "Dr4g3r45",
           "/r/Python/comments/g10v5z/i_made_a_python_script_to_download_subtitles_for/fne62xx/",
           "I really need to do more with Python, it seems lim"
          ],
          [
           "sameera__madushan_",
           "/r/Python/comments/g10v5z/i_made_a_python_script_to_download_subtitles_for/fndhnpb/",
           "Do self studies and never give up....."
          ],
          [
           "nielwimo",
           "/r/Python/comments/g167bf/whats_everyone_working_on_this_week/fnewnkk/",
           "I am working on a lstm model in deep learning with"
          ],
          [
           "genericlemon24",
           "/r/Python/comments/g167bf/whats_everyone_working_on_this_week/fnf73mr/",
           "Very good, this will pay off in spades later on!\n\n"
          ],
          [
           "stevenjd",
           "/r/Python/comments/g1dxfn/stop_naming_your_python_modules_utils/fngetpp/",
           "If your variable represents generic data, what els"
          ],
          [
           "jimmythenewsmith",
           "/r/Python/comments/g0mmbt/i_made_a_web_app_to_convert_baking_recipes_from/fnb7b0t/",
           "I did something similar for my first ever django a"
          ],
          [
           "justONEfreeUSERNAME",
           "/r/Python/comments/g0zfpl/hi_im_50_years_old_never_had_no_interest_in/fncno5r/",
           "Good Luck"
          ],
          [
           "johnpope44",
           "/r/Python/comments/g10v5z/i_made_a_python_script_to_download_subtitles_for/fnd4cts/",
           "Thank you, kind dude!"
          ],
          [
           "CwzZ",
           "/r/Python/comments/g10v5z/i_made_a_python_script_to_download_subtitles_for/fne3wgx/",
           "stared, nice stuff"
          ],
          [
           "BestNameEverCR",
           "/r/Python/comments/g1962q/i_need_help_for_a_script_that_types_good_morning/fne5wv6/",
           "I mean you could just go to class.....\n\nAlso I’m n"
          ],
          [
           "sameera__madushan_",
           "/r/Python/comments/g10v5z/i_made_a_python_script_to_download_subtitles_for/fndqdug/",
           "do some individual projects... learn by trying"
          ],
          [
           "sameera__madushan_",
           "/r/Python/comments/g10v5z/i_made_a_python_script_to_download_subtitles_for/fndr06m/",
           "Thanks"
          ],
          [
           "sameera__madushan_",
           "/r/Python/comments/g10v5z/i_made_a_python_script_to_download_subtitles_for/fndt2bd/",
           "yes, Make a Pull Request.."
          ],
          [
           "spicypixel",
           "/r/Python/comments/g17o6h/why_the_error_pls_answer/fndvzia/",
           "The int is too large to convert to float."
          ],
          [
           "sameera__madushan_",
           "/r/Python/comments/g10v5z/i_made_a_python_script_to_download_subtitles_for/fndhkvd/",
           "Thanks ❤"
          ],
          [
           "AndydeCleyre",
           "/r/Python/comments/g0kqss/no_really_pythons_pathlib_is_great_dipping_toes/fnbm3ab/",
           "I really dislike the enforced symlink resolution w"
          ],
          [
           "zacharypamela",
           "/r/Python/comments/g0mmbt/i_made_a_web_app_to_convert_baking_recipes_from/fnbqgun/",
           "Then you can also add other measurements (pints, g"
          ],
          [
           "thehaikuza",
           "/r/Python/comments/g0mmbt/i_made_a_web_app_to_convert_baking_recipes_from/fnahp3k/",
           "Thanks! Yep, you can try it here: [recipe-converte"
          ],
          [
           "kigurai",
           "/r/Python/comments/g1dxfn/stop_naming_your_python_modules_utils/fngjs0e/",
           "I use `data` as a variable all the time. It is not"
          ],
          [
           "pythonHelperBot",
           "/r/Python/comments/g0mmte/help_getting_stared_with_python/fnaf1xh/",
           "Hello! I'm a bot!\n\nIt looks to me like your post m"
          ],
          [
           "DavidTheNewKid",
           "/r/Python/comments/g009l2/made_a_python_program_to_automatically_generate/fnafd74/",
           "The code for this project is definitely really, re"
          ],
          [
           "Syncopaint",
           "/r/Python/comments/g0fz1e/generating_a_random_maze_using_prims_algorithm/fnaw2kx/",
           "Oh excellent"
          ],
          [
           "livrem",
           "/r/Python/comments/g0fz1e/generating_a_random_maze_using_prims_algorithm/fnb3o65/",
           "Do you use random weights on all connections (bord"
          ],
          [
           "james_pic",
           "/r/Python/comments/g0io6y/multiprocessing_the_mean_of_a_subset_of_rows/fnbvz1p/",
           "OK. If you're committed to using multiprocessing, "
          ],
          [
           "PythyMcPyface",
           "/r/Python/comments/g0qobg/i_made_a_python_program_which_models_the/fnb76pi/",
           "Here's the repo: [https://github.com/pythymcpyface"
          ],
          [
           "pythonHelperBot",
           "/r/Python/comments/g0s4yu/class_implementation_of_caseswitch_need_a_default/fnbdsdd/",
           "Hello! I'm a bot!\n\nIt looks to me like your post m"
          ],
          [
           "T567U18",
           "/r/Python/comments/g0xo8y/tictactoe_game/fncjvbc/",
           "Well done, keep it up"
          ],
          [
           "CreativeLion2000",
           "/r/Python/comments/g0mmbt/i_made_a_web_app_to_convert_baking_recipes_from/fnck6r1/",
           "i would think powdered sugar is packed in more den"
          ],
          [
           "Betsy-DeVos",
           "/r/Python/comments/g0fz1e/generating_a_random_maze_using_prims_algorithm/fnchtgm/",
           "So it's interesting to see it generated but I thin"
          ],
          [
           "useTheButtySystem",
           "/r/Python/comments/g10v5z/i_made_a_python_script_to_download_subtitles_for/fnd7ls2/",
           "Looks nice. Just last night I needed something lik"
          ],
          [
           "koushpy",
           "/r/Python/comments/g12rdq/i_made_a_simple_programme_that_enables_you_to/fnd5jkx/",
           "&gt;comments\n\nLMAO"
          ],
          [
           "ScheissPW",
           "/r/Python/comments/g0xo8y/tictactoe_game/fnd5d89/",
           "As a fellow noob this looks amazing!"
          ],
          [
           "gla_ddos",
           "/r/Python/comments/g10v5z/i_made_a_python_script_to_download_subtitles_for/fnd57sc/",
           "Nice program! Got a question tho, could you get su"
          ],
          [
           "Fanshiboi",
           "/r/Python/comments/g10v5z/i_made_a_python_script_to_download_subtitles_for/fnd9974/",
           "It's a fucking desktop background, it's made to lo"
          ],
          [
           "Mrsaintj",
           "/r/Python/comments/g10v5z/i_made_a_python_script_to_download_subtitles_for/fndc7hm/",
           "Nice work. Very useful"
          ],
          [
           "nanometers",
           "/r/Python/comments/g13g8f/i_made_a_guess_game_to_guess_any_number_from_1_to/fndcp2y/",
           "actually you can consider making your function ret"
          ],
          [
           "pythonHelperBot",
           "/r/Python/comments/g14063/phone_book/fndb2fg/",
           "Hello! I'm a bot!\n\nIt looks to me like your post m"
          ],
          [
           "Grums",
           "/r/Python/comments/g0mmbt/i_made_a_web_app_to_convert_baking_recipes_from/fncolpt/",
           "Nice! I was thinking about an app like this a litt"
          ],
          [
           "worthy_sloth",
           "/r/Python/comments/g15e8f/how_do_you_run_a_python_app_all_the_time/fndnxq7/",
           "That is PERFECT. Exactly what I wanted!\n\nQuestions"
          ],
          [
           "pythonHelperBot",
           "/r/Python/comments/g1f1vf/api_for_getting_local_restaurants/fnf7vt9/",
           "Hello! I'm a bot!\n\nIt looks to me like your post m"
          ],
          [
           "iamlocal",
           "/r/Python/comments/g1et92/library_how_often_do_you_wait_for_timeconsuming/fnf9na7/",
           "Cool project, man!\n\nIt is certainly a matter of ta"
          ],
          [
           "b10011",
           "/r/Python/comments/g1et92/library_how_often_do_you_wait_for_timeconsuming/fnfdp4q/",
           "Personally, I have never felt the need for caching"
          ],
          [
           "thegodzilla25",
           "/r/Python/comments/g14p79/i_made_a_tiny_script_for_ristodayfridaythe13th_so/fnfef7b/",
           "The sacred texts!"
          ],
          [
           "rcfox",
           "/r/Python/comments/g17cqd/interesting_script_that_drops_items_by_their/fndywb1/",
           "No problem. Half the battle is just figuring out w"
          ],
          [
           "willm",
           "/r/Python/comments/g17o6h/why_the_error_pls_answer/fndz3nq/",
           "Your `q` value becomes a float when you divide on "
          ],
          [
           "dePliko",
           "/r/Python/comments/g10v5z/i_made_a_python_script_to_download_subtitles_for/fne0am0/",
           "yes, perhaps I didn't make it clear voice recognit"
          ],
          [
           "FakeitTillYou_Makeit",
           "/r/Python/comments/g10v5z/i_made_a_python_script_to_download_subtitles_for/fne2u3j/",
           "Thanks, will try to adapt this to auto download en"
          ],
          [
           "james_pic",
           "/r/Python/comments/g1b23g/is_oop_still_needed/fnekltm/",
           "The canonical example is https://github.com/Enterp"
          ],
          [
           "rcfox",
           "/r/Python/comments/g17cqd/interesting_script_that_drops_items_by_their/fne8sgw/",
           "OP's original code used cumulative weights. `cum_w"
          ],
          [
           "geonyoro",
           "/r/Python/comments/g10v5z/i_made_a_python_script_to_download_subtitles_for/fnerf3f/",
           "Big vote for providing source my good man."
          ],
          [
           "pythonHelperBot",
           "/r/Python/comments/g1csk3/why_anaconda_tries_to_write_to_another_environment/fnerxav/",
           "Hello! I'm a bot!\n\nIt looks to me like your post m"
          ],
          [
           "mt19937",
           "/r/Python/comments/g10v5z/i_made_a_python_script_to_download_subtitles_for/fng0oji/",
           "For working with SRT files this is awesome: https:"
          ],
          [
           "Thrasherop",
           "/r/Python/comments/g1f1vf/api_for_getting_local_restaurants/fng0l5l/",
           "I've gotten Yelp Fusion to work and this is everyt"
          ],
          [
           "1zzie",
           "/r/Python/comments/g1fvec/instacart_deliverypickup_availability_check_using/fnfz5s0/",
           "On the other hand.... https://www.vice.com/en_us/a"
          ],
          [
           "MrMarvell0us",
           "/r/Python/comments/g10v5z/i_made_a_python_script_to_download_subtitles_for/fng4vo9/",
           "Adoh nice work bn! (. ❛ ᴗ ❛.)"
          ],
          [
           "je66b",
           "/r/Python/comments/g0mmbt/i_made_a_web_app_to_convert_baking_recipes_from/fnbr97i/",
           "I've been looking at something like this as part o"
          ],
          [
           "tjburton",
           "/r/Python/comments/g10v5z/i_made_a_python_script_to_download_subtitles_for/fnd1ve9/",
           "Thanks!"
          ],
          [
           "PeridexisErrant",
           "/r/Python/comments/g0qaa5/mypy_static_type_checker_vs_aheadoftime_bytecode/fnblvmf/",
           "Mypy is a linter, whose repo includes an experimen"
          ],
          [
           "james_pic",
           "/r/Python/comments/g0io6y/multiprocessing_the_mean_of_a_subset_of_rows/fnax190/",
           "Just putting it out there, but have you tried not "
          ],
          [
           "pythonHelperBot",
           "/r/Python/comments/g1apao/when_should_i_start_learning_machine_learning/fneey83/",
           "Hello! I'm a bot!\n\nIt looks to me like your post m"
          ],
          [
           "pythonHelperBot",
           "/r/Python/comments/g1l3uk/help_with_safely_uninstalling_python_27_to_get_37/fng9mr8/",
           "Hello! I'm a bot!\n\nIt looks to me like your post m"
          ],
          [
           "fuloqulous",
           "/r/Python/comments/g1lmhk/help_pls_from_a_fellow_coder/fngcgez/",
           "Depends on your OS but yeah download python and ru"
          ],
          [
           "PM_ME_SECRET_DATA",
           "/r/Python/comments/g168jg/i_made_a_procedural_world_generator/fngk0c1/",
           "Thanks for your comments. They are very motivating"
          ],
          [
           "itiztv",
           "/r/Python/comments/g1conv/i_made_a_randomized_binary_tree_python_tkinter/fngrgbf/",
           "Reminds me of all the fractals and generative crap"
          ],
          [
           "mutatedllama",
           "/r/Python/comments/g1conv/i_made_a_randomized_binary_tree_python_tkinter/fngu778/",
           "Great answer. Thanks for this, it explains it well"
          ],
          [
           "aaronr_90",
           "/r/Python/comments/g1conv/i_made_a_randomized_binary_tree_python_tkinter/fngyteh/",
           "Yea, it’s not a Root"
          ],
          [
           "danielroseman",
           "/r/Python/comments/g1onw8/i_keep_trying_to_get_pip_to_work_and_it_always/fngvbxk/",
           "But just as clearly, your reply to MaxQuant shows "
          ],
          [
           "K900_",
           "/r/Python/comments/g12ghb/new_to_the_thread_as_well_as_to_programming/fnd3gdp/",
           "/r/learnpython/wiki"
          ],
          [
           "Sat1n",
           "/r/Python/comments/g12rdq/i_made_a_simple_programme_that_enables_you_to/fnd4k0q/",
           "this makes me want to throw a flashbang into a roo"
          ],
          [
           "simonononon",
           "/r/Python/comments/g12rdq/i_made_a_simple_programme_that_enables_you_to/fnd4gve/",
           "epic gamer move 😎"
          ],
          [
           "gevezex",
           "/r/Python/comments/g10v5z/i_made_a_python_script_to_download_subtitles_for/fnd81rv/",
           "Or you could install the vlc extension VLSub."
          ],
          [
           "0nowhytho",
           "/r/Python/comments/g13k0q/not_eating/fnd86bd/",
           "Have you tried turning it off and on again?"
          ],
          [
           "dermotmcg",
           "/r/Python/comments/g10v5z/i_made_a_python_script_to_download_subtitles_for/fnd8zar/",
           "Was wondering how you'd get subtitles reliably. Us"
          ],
          [
           "janky_british_gamer",
           "/r/Python/comments/dmkx8a/just_finished_programming_and_building_my_own/fndbzrz/",
           "No problem good luck with it, I've tried to lay it"
          ],
          [
           "BooparinoBR",
           "/r/Python/comments/g10v5z/i_made_a_python_script_to_download_subtitles_for/fndl8j9/",
           "Watch James Powell talks :)"
          ],
          [
           "sameera__madushan_",
           "/r/Python/comments/g10v5z/i_made_a_python_script_to_download_subtitles_for/fndiafn/",
           "At first i used tkinter to open the file dialog bo"
          ],
          [
           "vantech887",
           "/r/Python/comments/g13g8f/i_made_a_guess_game_to_guess_any_number_from_1_to/fndk5bg/",
           "Thank you"
          ],
          [
           "davehodg",
           "/r/Python/comments/g0uevj/coronavirus_ventilator_runs_on_raspberry_pi/fndmg4q/",
           "No. It runs a *ix distro and as such runs whatever"
          ],
          [
           "pythonHelperBot",
           "/r/Python/comments/g0q88v/printing_back_a_line_in_python/fnb4jdv/",
           "Hello! I'm a bot!\n\nIt looks to me like your post m"
          ],
          [
           "moonrunn3r",
           "/r/Python/comments/g0iln8/this_very_simple_one_made_my_day_today_after/fnb69hj/",
           "Changing i inside a loop, where i is the loop vari"
          ],
          [
           "hulleyrob",
           "/r/Python/comments/g0qpj9/finding_out_if_a_list_has_duplicates/fnb5jcr/",
           "It’s gonna be quicker to do the calculation as you"
          ],
          [
           "hulleyrob",
           "/r/Python/comments/g0qpj9/finding_out_if_a_list_has_duplicates/fnb58c9/",
           "Misleading title but you could ha e a variable for"
          ],
          [
           "efmccurdy",
           "/r/Python/comments/g0q88v/printing_back_a_line_in_python/fnbc21y/",
           "    &gt;&gt;&gt; _ = os.system(\"lscpu|grep 'Model "
          ],
          [
           "willm",
           "/r/Python/comments/g0qaa5/mypy_static_type_checker_vs_aheadoftime_bytecode/fnbba4b/",
           "Mypy and similar tools have a greater understandin"
          ],
          [
           "DEEP_STATE_DESTROYER",
           "/r/Python/comments/g0p3js/im_3_hours_into_a_udemy_python_course_and_feel/fnayda5/",
           "You shouldnt keep going if you dont understand eve"
          ],
          [
           "pythonHelperBot",
           "/r/Python/comments/g0rooh/implement_caseswitch_with_class_but_want_a/fnbdui1/",
           "Hello! I'm a bot!\n\nIt looks to me like your post m"
          ],
          [
           "Kbreit",
           "/r/Python/comments/g0mmbt/i_made_a_web_app_to_convert_baking_recipes_from/fncc889/",
           "Not only types of salt but brands of salt varies. "
          ],
          [
           "shubbbbbby",
           "/r/Python/comments/g0ur21/change_a_link_once_selenium_web_scraper_is_done/fnch5gg/",
           "Thanks I got it working!"
          ],
          [
           "T567U18",
           "/r/Python/comments/g0l7l4/car_database_in_python/fnckk0k/",
           "Don't apologize about your English people use emoj"
          ],
          [
           "je66b",
           "/r/Python/comments/g0mmbt/i_made_a_web_app_to_convert_baking_recipes_from/fne2fut/",
           "I see thanks, Didn't feel like navigating the code"
          ],
          [
           "xen0blade",
           "/r/Python/comments/g10v5z/i_made_a_python_script_to_download_subtitles_for/fne4hzy/",
           "Somehow, you've answered your own question."
          ],
          [
           "K900_",
           "/r/Python/comments/g1b23g/is_oop_still_needed/fneibqq/",
           "https://www.youtube.com/watch?v=o9pEzgHorH0"
          ],
          [
           "Kat9_123",
           "/r/Python/comments/g12rdq/i_made_a_simple_programme_that_enables_you_to/fnejoeb/",
           "I know. This was made as a learning project not an"
          ],
          [
           "xXramzS",
           "/r/Python/comments/g0fz1e/generating_a_random_maze_using_prims_algorithm/fnazdx0/",
           "nice"
          ],
          [
           "Bobby246810",
           "/r/Python/comments/g0q1il/using_regex_to_extract_data_after_a_specific_word/fnb0mub/",
           "Something along the lines of “Order:(\\w+)$”. It mi"
          ],
          [
           "petdance",
           "/r/Python/comments/g0g728/how_to_make_python_script_proprietary/fnb2qtg/",
           "The idea of \"proprietary\" is not related to the id"
          ],
          [
           "willm",
           "/r/Python/comments/g0qaa5/mypy_static_type_checker_vs_aheadoftime_bytecode/fnbh3jd/",
           "Yes, the interpreter will completely ignore all an"
          ],
          [
           "PeridexisErrant",
           "/r/Python/comments/g0qaa5/mypy_static_type_checker_vs_aheadoftime_bytecode/fnbkvuh/",
           "You're thinking of https://github.com/mypyc/mypyc,"
          ],
          [
           "CutleryDrawer",
           "/r/Python/comments/g0fz1e/generating_a_random_maze_using_prims_algorithm/fnahohu/",
           "Would be awesome to see this with the A* algorithm"
          ],
          [
           "robbies40",
           "/r/Python/comments/g0fz1e/generating_a_random_maze_using_prims_algorithm/fnbovwl/",
           "Nice"
          ],
          [
           "pythonHelperBot",
           "/r/Python/comments/g0vjg8/writing_basic_config_file_code/fnbzhc4/",
           "Hello! I'm a bot!\n\nIt looks to me like your post m"
          ],
          [
           "b10011",
           "/r/Python/comments/g10v5z/i_made_a_python_script_to_download_subtitles_for/fnev92f/",
           "Out of interest, how does it compare to [https://g"
          ],
          [
           "gNomad88",
           "/r/Python/comments/g1conv/i_made_a_randomized_binary_tree_python_tkinter/fnfqhqi/",
           "Good job I was looking for one of those"
          ],
          [
           "EchoZer0",
           "/r/Python/comments/g167bf/whats_everyone_working_on_this_week/fnfshne/",
           "I just started learning. No coding experience or c"
          ],
          [
           "astigos1",
           "/r/Python/comments/g1f1vf/api_for_getting_local_restaurants/fnf6plh/",
           "Yelp or Foursquare API. I've used foursquare befor"
          ],
          [
           "The_Correct_Doctor",
           "/r/Python/comments/g1conv/i_made_a_randomized_binary_tree_python_tkinter/fng78sz/",
           "clean"
          ],
          [
           "kitsune",
           "/r/Python/comments/fyqpt6/multiple_pytest_maintainers_leaving_pytest/fnghk80/",
           "This most solid advice, toxic people love individu"
          ],
          [
           "Ro0t-set",
           "/r/Python/comments/g1conv/i_made_a_randomized_binary_tree_python_tkinter/fngifad/",
           "exactly!"
          ],
          [
           "LobbyDizzle",
           "/r/Python/comments/g1conv/i_made_a_randomized_binary_tree_python_tkinter/fngj81k/",
           "Got it, nice"
          ],
          [
           "mutatedllama",
           "/r/Python/comments/g167bf/whats_everyone_working_on_this_week/fngujmv/",
           "Totally realistic. I had an idea to do something s"
          ],
          [
           "Tintenpisser",
           "/r/Python/comments/g1pc33/learn_ultimate_python3_gui_course_with_tkinterqt/fngv6zl/",
           "Udemy advertisement? Rly?"
          ],
          [
           "TouchingTheVodka",
           "/r/Python/comments/g1pn2c/i_cant_understand_how_it_works/fngxkux/",
           "Which bit don't you understand?\n\nThis code looks a"
          ],
          [
           "tnetrop",
           "/r/Python/comments/g1oans/securely_deploying_python_code_onpremise/fngw55x/",
           "I believe there are ways to convert Python code to"
          ],
          [
           "Syncopaint",
           "/r/Python/comments/g0fz1e/generating_a_random_maze_using_prims_algorithm/fnargh4/",
           "Can you combine this with djikstra’s algorithm"
          ],
          [
           "ThePresidentsButler",
           "/r/Python/comments/g0fz1e/generating_a_random_maze_using_prims_algorithm/fnavv4e/",
           " Beautiful, incredible"
          ],
          [
           "mutatedllama",
           "/r/Python/comments/g0fz1e/generating_a_random_maze_using_prims_algorithm/fnaw08w/",
           "The maze gets solved with Dijkstra's algorithm!"
          ],
          [
           "thehaikuza",
           "/r/Python/comments/g0mmbt/i_made_a_web_app_to_convert_baking_recipes_from/fnbauvg/",
           "Thanks! I used [Spectre.css](https://picturepan2.g"
          ],
          [
           "bladeoflight16",
           "/r/Python/comments/g0kqss/no_really_pythons_pathlib_is_great_dipping_toes/fnbgmw3/",
           "That `ExitStack` thing is bad as general advice. I"
          ],
          [
           "bladeoflight16",
           "/r/Python/comments/g0kqss/no_really_pythons_pathlib_is_great_dipping_toes/fnbuha5/",
           "&gt; The main advantage is not using strings for d"
          ],
          [
           "BDMac1997",
           "/r/Python/comments/g0fz1e/generating_a_random_maze_using_prims_algorithm/fnbywdg/",
           "Longest DnD dungeon crawl ever"
          ],
          [
           "pythonHelperBot",
           "/r/Python/comments/g0ur7l/make_money_selling_your_apis_feedback_needed_beta/fnc7qq1/",
           "Hello! I'm a bot!\n\nIt looks like you posted this i"
          ],
          [
           "mutatedllama",
           "/r/Python/comments/g0fz1e/generating_a_random_maze_using_prims_algorithm/fnb5xga/",
           "Code is here: https://github.com/ChrisKneller/pyga"
          ],
          [
           "cbarrick",
           "/r/Python/comments/g05323/ai_learns_to_play_flappy_bird/fnaedhk/",
           "Nope. Genetic algorithms are a general purpose opt"
          ],
          [
           "iamlocal",
           "/r/Python/comments/fwgtu6/i_made_a_commandline_tool_to_find_similar/fndnf8e/",
           "Cool! Thanks for sharing"
          ],
          [
           "ChrisBez87",
           "/r/Python/comments/g1adit/i_made_my_first_game_in_python_thanks_uriles0829/fnedf1p/",
           "I saw u/Riles0829 post his first game he made and "
          ],
          [
           "shinitakunai",
           "/r/Python/comments/g10v5z/i_made_a_python_script_to_download_subtitles_for/fndpeqn/",
           "SMPlayer"
          ],
          [
           "pythonHelperBot",
           "/r/Python/comments/g1b6n5/should_i_buy_raspberry/fnejc3w/",
           "Hello! I'm a bot!\n\nIt looks to me like your post m"
          ],
          [
           "scrooge_oleh",
           "/r/Python/comments/g1b6n5/should_i_buy_raspberry/fneidn0/",
           "I'm just learn Django now, so all projects are for"
          ],
          [
           "--0mn1-Qr330005--",
           "/r/Python/comments/g10v5z/i_made_a_python_script_to_download_subtitles_for/fndvo9x/",
           "Impressive, very useful script!"
          ],
          [
           "sameera__madushan_",
           "/r/Python/comments/g10v5z/i_made_a_python_script_to_download_subtitles_for/fndtmsj/",
           "Great project... Thanks"
          ],
          [
           "AltezaHumilde",
           "/r/Python/comments/g10v5z/i_made_a_python_script_to_download_subtitles_for/fnekz9m/",
           "Didn't know that..."
          ],
          [
           "snipperthefrog",
           "/r/Python/comments/g0xo8y/tictactoe_game/fncf2tj/",
           "this is great, awesome job bro!"
          ],
          [
           "neozhaoliang",
           "/r/Python/comments/g11hl1/lots_of_gif_animations_made_with_pure_python_use/fncye7j/",
           "List of animations:\n\n1. conway's game of life\n2. h"
          ],
          [
           "barth_",
           "/r/Python/comments/g0mmbt/i_made_a_web_app_to_convert_baking_recipes_from/fnd1n5p/",
           "This is really awesome. My GF always bakes based o"
          ],
          [
           "mutatedllama",
           "/r/Python/comments/g0fz1e/generating_a_random_maze_using_prims_algorithm/fncz5gu/",
           "Yep of course. It calculates in under a second tha"
          ],
          [
           "miaomiaomiao",
           "/r/Python/comments/fyqpt6/multiple_pytest_maintainers_leaving_pytest/fnczzm1/",
           "https://mail.python.org/pipermail/pytest-dev/2020-"
          ],
          [
           "livrem",
           "/r/Python/comments/g0fz1e/generating_a_random_maze_using_prims_algorithm/fncl6yl/",
           "You probably did nothing wrong, but the common way"
          ],
          [
           "xXramzS",
           "/r/Python/comments/g10v5z/i_made_a_python_script_to_download_subtitles_for/fnd4yvr/",
           "nice"
          ],
          [
           "ptekspy",
           "/r/Python/comments/g13k0q/not_eating/fnd8asl/",
           "You could put it in a for loop. Iterate over the d"
          ],
          [
           "chicken__soup",
           "/r/Python/comments/g15e8f/how_do_you_run_a_python_app_all_the_time/fne39m6/",
           "i'll do anything for a worthy sloth"
          ],
          [
           "tunitg6",
           "/r/Python/comments/g10v5z/i_made_a_python_script_to_download_subtitles_for/fndhxtr/",
           "This looks great!\n\nFYI, you spelled language wrong"
          ],
          [
           "sameera__madushan_",
           "/r/Python/comments/g10v5z/i_made_a_python_script_to_download_subtitles_for/fndgssb/",
           "Script uses the SubDB API"
          ],
          [
           "anemikk",
           "/r/Python/comments/g121pt/my_new_project_taskboard_tasks_boards_notes_and/fndieqd/",
           "Boards list items that consist of snippets, tasks "
          ],
          [
           "Soolsily",
           "/r/Python/comments/g1dbhk/best_dash_file_management_setup_focused_on_fast/fnevjrf/",
           "Live Covid-19 Dashboard: [https://covid-dash-udemy"
          ],
          [
           "genericlemon24",
           "/r/Python/comments/g167bf/whats_everyone_working_on_this_week/fnf1of2/",
           "I'm preparing my [feed reader library](https://git"
          ],
          [
           "McSinyx",
           "/r/Python/comments/fx42wf/we_made_a_3d_audio_library_with_efx_and_codecs/fnfspcz/",
           "Thanks for trying it out!  My guess would be you'r"
          ],
          [
           "PM_ME_SECRET_DATA",
           "/r/Python/comments/g168jg/i_made_a_procedural_world_generator/fnfu0ps/",
           "Potentially. I just created it as a world builder "
          ],
          [
           "xxenon11",
           "/r/Python/comments/g1dxfn/stop_naming_your_python_modules_utils/fngcvyi/",
           "Guilty as charged, your honour"
          ],
          [
           "chazzeromus",
           "/r/Python/comments/g1conv/i_made_a_randomized_binary_tree_python_tkinter/fngb1ql/",
           "this tree needs to be balanced!! :o"
          ],
          [
           "fameshpatel",
           "/r/Python/comments/g1conv/i_made_a_randomized_binary_tree_python_tkinter/fnge9bs/",
           "I like that perfect loop"
          ],
          [
           "i_like_trains_a_lot1",
           "/r/Python/comments/g1dxfn/stop_naming_your_python_modules_utils/fngh5f3/",
           "I look behind at old projects and whenever I see t"
          ],
          [
           "Sagittarius-Astar",
           "/r/Python/comments/g1conv/i_made_a_randomized_binary_tree_python_tkinter/fngin3z/",
           "I love this art, it give me inspiration, thanks! :"
          ],
          [
           "Ro0t-set",
           "/r/Python/comments/g1conv/i_made_a_randomized_binary_tree_python_tkinter/fngixc2/",
           "&gt;yes, it is generated from right to left, but, "
          ],
          [
           "WesolyKubeczek",
           "/r/Python/comments/g1mbgj/python_programming_is_drowning_in_red_tape_my/fngnbwk/",
           "It's not written for noobs. There's a rant about s"
          ],
          [
           "dePliko",
           "/r/Python/comments/g10v5z/i_made_a_python_script_to_download_subtitles_for/fng9ml1/",
           "Yeah, SubSync is quite good for most subtitle file"
          ],
          [
           "TouchingTheVodka",
           "/r/Python/comments/g1o4b0/how_could_i_mimic_kotlins_decorator_feature/fngppiv/",
           "Python supports duck-typing by using dunder method"
          ],
          [
           "TheRealRealRadu",
           "/r/Python/comments/g1o4b0/how_could_i_mimic_kotlins_decorator_feature/fngsyb7/",
           "How about a mixin? Python supports multiple inheri"
          ],
          [
           "eduplus0606",
           "/r/Python/comments/g1mkwv/python_youtube_channel/fngtovj/",
           "Does it cover the basics in python??"
          ],
          [
           "beremeth",
           "/r/Python/comments/g1p4ce/visualising_dijkstra_vs_dfs_vs_a_pathfinding/fngurzr/",
           "How many cycles each algo used to get to resolve t"
          ],
          [
           "tdammers",
           "/r/Python/comments/g1ns0l/how_effectively_can_one_learn_python_from_a/fngwmpy/",
           "Between a textbook, a locally installed toolchain,"
          ],
          [
           "dugindeep",
           "/r/Python/comments/g0qnsv/anyone_else_wants_assignment_expressions_reverted/fnb4ayv/",
           "Nobody insists you on using it. It is a preference"
          ],
          [
           "pythonHelperBot",
           "/r/Python/comments/g0qpj9/finding_out_if_a_list_has_duplicates/fnb4keg/",
           "Hello! I'm a bot!\n\nIt looks to me like your post m"
          ],
          [
           "bladeoflight16",
           "/r/Python/comments/g0kqss/no_really_pythons_pathlib_is_great_dipping_toes/fnbvzbk/",
           "The Django ticket you mention says this:\n\n&gt; App"
          ],
          [
           "EvilLemonzzz",
           "/r/Python/comments/g06vbu/a_flat_water_color_like_effect_on_any_picture/fnbb3x9/",
           "haha yeah Nord theme for the terminal, spacegray t"
          ],
          [
           "Marorin",
           "/r/Python/comments/g0fz1e/generating_a_random_maze_using_prims_algorithm/fnbi0p4/",
           "This looks great, how long did it take to brew thi"
          ],
          [
           "PointSpreadFunction",
           "/r/Python/comments/g0onvr/update_some_of_you_asked_me_to_make_a_video_of/fnc55p0/",
           "Thanks. But it isn't a home setup. It is a univers"
          ],
          [
           "pythonHelperBot",
           "/r/Python/comments/g0nvrs/think_like_a_computer_scientist_help/fnamv4q/",
           "Hello! I'm a bot!\n\nIt looks to me like your post m"
          ],
          [
           "Strojac",
           "/r/Python/comments/g0fz1e/generating_a_random_maze_using_prims_algorithm/fnaz5ke/",
           "I’m inspired!"
          ],
          [
           "robin-gvx",
           "/r/Python/comments/g0gdq2/how_can_a_python_script_verify_itself_with_a/fnaxqxf/",
           "It is impossible, because at the end of the day, n"
          ],
          [
           "mutatedllama",
           "/r/Python/comments/g0fz1e/generating_a_random_maze_using_prims_algorithm/fncoyh0/",
           "Nice idea. Alternatively I could perhaps start the"
          ],
          [
           "abazi",
           "/r/Python/comments/g10v5z/i_made_a_python_script_to_download_subtitles_for/fnd77wq/",
           "Very useful. Thank you!"
          ],
          [
           "Tureni",
           "/r/Python/comments/g0l7l4/car_database_in_python/fnd63s0/",
           "Det ser sq godt ud min ven :-)"
          ],
          [
           "nuquichoco",
           "/r/Python/comments/g10v5z/i_made_a_python_script_to_download_subtitles_for/fndbsva/",
           "Niceee!, do you accept contributions. I just had a"
          ],
          [
           "Fanshiboi",
           "/r/Python/comments/g10v5z/i_made_a_python_script_to_download_subtitles_for/fnda3f3/",
           "You are missing the point. If we go with what you "
          ],
          [
           "Stragemque",
           "/r/Python/comments/g10v5z/i_made_a_python_script_to_download_subtitles_for/fndgw12/",
           "If you add a .bat file which runs the script into "
          ],
          [
           "sameera__madushan_",
           "/r/Python/comments/g10v5z/i_made_a_python_script_to_download_subtitles_for/fndgz4v/",
           "Thanks ❤"
          ],
          [
           "sameera__madushan_",
           "/r/Python/comments/g10v5z/i_made_a_python_script_to_download_subtitles_for/fne6jxm/",
           "I just merged a pull request that adds Linux suppo"
          ],
          [
           "snow__",
           "/r/Python/comments/g10v5z/i_made_a_python_script_to_download_subtitles_for/fndi9aq/",
           "If someone stumble upon this, but this someone is "
          ],
          [
           "ptekspy",
           "/r/Python/comments/g13g8f/i_made_a_guess_game_to_guess_any_number_from_1_to/fndk916/",
           "No worries man some people like to just give base "
          ],
          [
           "vantech887",
           "/r/Python/comments/g13g8f/i_made_a_guess_game_to_guess_any_number_from_1_to/fndl2ts/",
           "Right, thanks"
          ],
          [
           "kaira95",
           "/r/Python/comments/g12rdq/i_made_a_simple_programme_that_enables_you_to/fndmypn/",
           "Shift+win+S"
          ],
          [
           "TotesMessenger",
           "/r/Python/comments/g10v5z/i_made_a_python_script_to_download_subtitles_for/fndpawy/",
           "I'm a bot, *bleep*, *bloop*. Someone has linked to"
          ],
          [
           "sameera__madushan_",
           "/r/Python/comments/g10v5z/i_made_a_python_script_to_download_subtitles_for/fndtq9j/",
           "Nope.. but thank you for mentioning it. I'll defin"
          ],
          [
           "atom036",
           "/r/Python/comments/g16t0s/hello_i_am_new_to_pythoncould_you_guys_guve_me/fndqzr4/",
           "Read the documentation (python.org) and do coding "
          ],
          [
           "ElimGarak007",
           "/r/Python/comments/g16t0s/hello_i_am_new_to_pythoncould_you_guys_guve_me/fndqnud/",
           "There is no way to become really good at Python or"
          ],
          [
           "pythonHelperBot",
           "/r/Python/comments/g17o6h/why_the_error_pls_answer/fndw2zf/",
           "Hello! I'm a bot!\n\nIt looks to me like your post m"
          ],
          [
           "darkfish-tech",
           "/r/Python/comments/g17ivd/does_anyone_have_any_tips_on_where_can_i_learn_to/fndv1cg/",
           "r/learnpython"
          ],
          [
           "TJ-MD",
           "/r/Python/comments/g15e8f/how_do_you_run_a_python_app_all_the_time/fndvtoy/",
           "Shameless plug for our platform [https://wayscript"
          ],
          [
           "thugforlife",
           "/r/Python/comments/g17cqd/interesting_script_that_drops_items_by_their/fndvxb6/",
           "&gt;import random  \nimport collections  \ndrops = r"
          ],
          [
           "heyitsnotmeok",
           "/r/Python/comments/g17o6h/why_the_error_pls_answer/fndxzqg/",
           "I am not an expert but isn't your while loop an in"
          ],
          [
           "sameera__madushan_",
           "/r/Python/comments/g10v5z/i_made_a_python_script_to_download_subtitles_for/fneiufd/",
           " check [this](https://github.com/sameera-madushan/"
          ],
          [
           "pythonHelperBot",
           "/r/Python/comments/g1b98c/how_to_install_python_and_set_it_up_with_visual/fneil0r/",
           "Hello! I'm a bot!\n\nIt looks to me like your post m"
          ],
          [
           "quantumwoooo",
           "/r/Python/comments/g10v5z/i_made_a_python_script_to_download_subtitles_for/fnejq22/",
           "Nononoooo, thankyouu"
          ],
          [
           "iamlocal",
           "/r/Python/comments/g1dxfn/stop_naming_your_python_modules_utils/fnf6auw/",
           "sometimes utils is a convenient name and after all"
          ],
          [
           "spydakat",
           "/r/Python/comments/g1fhk9/i_wrote_an_api_wrapper_for_td_ameritrades_finance/fnf9pnu/",
           "Ah a good man, I'll definitely check this out"
          ],
          [
           "Legorooj",
           "/r/Python/comments/g1b6n5/should_i_buy_raspberry/fnfnr2v/",
           "I'd say use the raspberry pi or a VM for learning,"
          ],
          [
           "loop0001",
           "/r/Python/comments/g17ygx/python_bootcamp_2020_build_15_working/fnfrjq1/",
           "Thanks!"
          ],
          [
           "tpycat",
           "/r/Python/comments/g1conv/i_made_a_randomized_binary_tree_python_tkinter/fnfrrkm/",
           "Noice"
          ],
          [
           "3rdIxel",
           "/r/Python/comments/g0mmbt/i_made_a_web_app_to_convert_baking_recipes_from/fnc7iqk/",
           "Very cool!"
          ],
          [
           "quantumwoooo",
           "/r/Python/comments/g10v5z/i_made_a_python_script_to_download_subtitles_for/fnd0ftr/",
           "That's amazing"
          ],
          [
           "nspectre",
           "/r/Python/comments/g0onvr/update_some_of_you_asked_me_to_make_a_video_of/fncckp1/",
           "That is *very* awesome [\\m/&gt;.&lt;\\m/](https://i"
          ],
          [
           "Lazy_Victor",
           "/r/Python/comments/g0mmbt/i_made_a_web_app_to_convert_baking_recipes_from/fnahskm/",
           "Nice, thanks!"
          ],
          [
           "Umlautica",
           "/r/Python/comments/g167bf/whats_everyone_working_on_this_week/fnfy6lr/",
           "I received a Google foo.bar invitation which is a "
          ],
          [
           "TheRevTastic",
           "/r/Python/comments/g167bf/whats_everyone_working_on_this_week/fnfvf79/",
           "I’m around 30 hours into the Zero to Mastery pytho"
          ],
          [
           "Harith_alsafi",
           "/r/Python/comments/g1conv/i_made_a_randomized_binary_tree_python_tkinter/fnfyk17/",
           "I don’t quite understand how is this happening “ma"
          ],
          [
           "be_nicer_to_yourself",
           "/r/Python/comments/g1ip1o/is_python_hard_for_most_people/fnfup79/",
           "Keep at it and don't worry too much about if it's "
          ],
          [
           "qazwsx2148",
           "/r/Python/comments/g1conv/i_made_a_randomized_binary_tree_python_tkinter/fng3e5m/",
           "Beautiful"
          ],
          [
           "LobbyDizzle",
           "/r/Python/comments/g1conv/i_made_a_randomized_binary_tree_python_tkinter/fngg7db/",
           "Doesn’t seem random but more so procedurally gener"
          ],
          [
           "thrallsius",
           "/r/Python/comments/g1l3uk/help_with_safely_uninstalling_python_27_to_get_37/fngbgic/",
           "&gt; I don't remember how it got there, so I was c"
          ],
          [
           "piepepie",
           "/r/Python/comments/g1lmhk/help_pls_from_a_fellow_coder/fngcou1/",
           "Go to [download](https://www.pythin.org/downloads/"
          ],
          [
           "xxcooldude24xx",
           "/r/Python/comments/g1i24z/my_first_scraper/fngk97s/",
           "i see you have your priorities straight lol"
          ],
          [
           "pythonHelperBot",
           "/r/Python/comments/g1mxy4/what_are_the_best_books_to_learn_how_to_use_django/fngo5vk/",
           "Hello! I'm a bot!\n\nIt looks to me like your post m"
          ],
          [
           "Lintydint",
           "/r/Python/comments/g167bf/whats_everyone_working_on_this_week/fngrezh/",
           "Search up ‘ceaser cipher’, understand it, and try "
          ],
          [
           "dr-khalid",
           "/r/Python/comments/g1nuy0/request_is_there_any_python_tool_to_download_a/fngsch7/",
           "Well I’m honest, i will not sell anything which is"
          ],
          [
           "elpigo",
           "/r/Python/comments/g05323/ai_learns_to_play_flappy_bird/fnak876/",
           "Cool thanks for the clarification. It’s been a lon"
          ],
          [
           "pythonHelperBot",
           "/r/Python/comments/g0o3hn/python_scraping_question/fnaoeg5/",
           "Hello! I'm a bot!\n\nIt looks to me like your post m"
          ],
          [
           "AutoModerator",
           "/r/Python/comments/g0qnga/edhesive/fnb3uaa/",
           "Your submission has been automatically removed.\n\nY"
          ],
          [
           "[deleted]",
           "/r/Python/comments/g05323/ai_learns_to_play_flappy_bird/fnb4hz4/",
           "[deleted]"
          ],
          [
           "Braian94lp",
           "/r/Python/comments/g05323/ai_learns_to_play_flappy_bird/fnb4jwn/",
           "How long did it take you to make this code?"
          ],
          [
           "bykof",
           "/r/Python/comments/g0qobg/i_made_a_python_program_which_models_the/fnb4tyx/",
           "Can you share the Code? A link?"
          ],
          [
           "nemom",
           "/r/Python/comments/g0qpj9/finding_out_if_a_list_has_duplicates/fnb61vt/",
           "`if coinFlips[-6:] == ['H','H','H','H','H','H'] or"
          ],
          [
           "silent_guy1",
           "/r/Python/comments/fz5r9j/python_cheat_sheet/fnb441n/",
           "+1 for Python Notes for Professional. A very handy"
          ],
          [
           "argsb",
           "/r/Python/comments/fzwbcx/i_made_a_face_recognition_program/fnbu97d/",
           "oh I see. Thank you! That makes sense. I do someti"
          ],
          [
           "frostming",
           "/r/Python/comments/g0bb6j/pdm_a_pep_582_package_manager_for_the_future/fnbzwdy/",
           "It is not aiming at being a universal solution, if"
          ],
          [
           "idd24x7",
           "/r/Python/comments/g0q1il/using_regex_to_extract_data_after_a_specific_word/fnbx4ki/",
           "I think the solution provided by Bobby should work"
          ],
          [
           "mutatedllama",
           "/r/Python/comments/g0fz1e/generating_a_random_maze_using_prims_algorithm/fnbcs2z/",
           "I completely agree. I'll be trying dfs out tomorro"
          ],
          [
           "EvilLemonzzz",
           "/r/Python/comments/g06vbu/a_flat_water_color_like_effect_on_any_picture/fnbcbbm/",
           "actually, (as a sort of naive solution/start point"
          ],
          [
           "ffemt161",
           "/r/Python/comments/g0wfqq/is_it_possible_to_use_python_to_generate_filled/fnc55ey/",
           "Why would you want to do this? If you have word an"
          ],
          [
           "p1nkp3ngu1n",
           "/r/Python/comments/g0wfqq/is_it_possible_to_use_python_to_generate_filled/fnc6oyd/",
           "data entry related work. it doesnt have to be pyth"
          ],
          [
           "Wh00ster",
           "/r/Python/comments/g0vjg8/writing_basic_config_file_code/fnc4jvm/",
           "look at the difference between `read` and `read_fi"
          ],
          [
           "AutoModerator",
           "/r/Python/comments/g0wyyi/trying_to_download_latest_version_of_python_help/fnc89es/",
           "Your submission has been automatically removed.\n\nY"
          ],
          [
           "pythonHelperBot",
           "/r/Python/comments/g0y6q2/python_code_help/fncg6ez/",
           "Hello! I'm a bot!\n\nIt looks to me like your post m"
          ],
          [
           "Tom8to_Citizen",
           "/r/Python/comments/g10v5z/i_made_a_python_script_to_download_subtitles_for/fnd5lam/",
           "What about those times when you dl a sub and it's "
          ],
          [
           "faithade",
           "/r/Python/comments/g0xo8y/tictactoe_game/fnd62ll/",
           "Thanks! I really appreciate."
          ],
          [
           "TofuCannon",
           "/r/Python/comments/g0oe5a/how_to_run_function_through_a_list/fndbnbq/",
           "Dicts allow accessing values of keys via [].\n\nYou "
          ],
          [
           "sm4",
           "/r/Python/comments/g10v5z/i_made_a_python_script_to_download_subtitles_for/fnde1qv/",
           "iirc it's bundled with VLC install nowadays?"
          ],
          [
           "a-babak",
           "/r/Python/comments/g0lndd/i_made_a_file_arranger_any_suggestions_github/fncn5uh/",
           "any(file_extension_splitted.lower() == a for a in "
          ],
          [
           "sameera__madushan_",
           "/r/Python/comments/g10v5z/i_made_a_python_script_to_download_subtitles_for/fndgzd9/",
           "Thanks ❤"
          ],
          [
           "anemikk",
           "/r/Python/comments/g121pt/my_new_project_taskboard_tasks_boards_notes_and/fndhnhg/",
           "Yes generally, i keep open Taskboard in one tab an"
          ],
          [
           "rockchalk1995",
           "/r/Python/comments/g0lndd/i_made_a_file_arranger_any_suggestions_github/fncp9xo/",
           "What text editor are you using?"
          ],
          [
           "Arth_K",
           "/r/Python/comments/g0zx5p/everyone_was_making_a_file_manager_so_i_made_i_too/fncq2k0/",
           "Sorry for the typo"
          ],
          [
           "K900_",
           "/r/Python/comments/g161el/help_simple_test_function/fndm2ge/",
           "1. /r/learnpython \n2. `print something` is Python "
          ],
          [
           "chicken__soup",
           "/r/Python/comments/g15e8f/how_do_you_run_a_python_app_all_the_time/fndokmq/",
           "yeah this was the free tier. They warn however tha"
          ],
          [
           "pythonHelperBot",
           "/r/Python/comments/g17o5i/countdown_with_input_break_helpadvice/fndw27m/",
           "Hello! I'm a bot!\n\nIt looks to me like your post m"
          ],
          [
           "mutatedllama",
           "/r/Python/comments/g0fz1e/generating_a_random_maze_using_prims_algorithm/fndt95w/",
           "I used pygame. I would recommend checking it out!"
          ],
          [
           "[deleted]",
           "/r/Python/comments/g177ev/interesting_little_script_that_drops_items_by/fnduklx/",
           "[deleted]"
          ],
          [
           "woutSo",
           "/r/Python/comments/g0mmbt/i_made_a_web_app_to_convert_baking_recipes_from/fndw7nd/",
           "He has a map for the variations of teaspoon and th"
          ],
          [
           "cyrus01337",
           "/r/Python/comments/g167bf/whats_everyone_working_on_this_week/fndtglm/",
           "I'm working on a game with similar concepts to tha"
          ],
          [
           "pythonHelperBot",
           "/r/Python/comments/g1d6eq/module_error/fnew2x7/",
           "Hello! I'm a bot!\n\nIt looks to me like your post m"
          ],
          [
           "pythonHelperBot",
           "/r/Python/comments/g1dgsb/pycharm_module_error/fnew8sk/",
           "Hello! I'm a bot!\n\nIt looks to me like your post m"
          ],
          [
           "tacoshellzz",
           "/r/Python/comments/g1dgsb/pycharm_module_error/fnewoxh/",
           "Have you installed the package? You might be using"
          ],
          [
           "pythonHelperBot",
           "/r/Python/comments/g1b23g/is_oop_still_needed/fnew4cd/",
           "Hello! I'm a bot!\n\nIt looks to me like your post m"
          ],
          [
           "pythonHelperBot",
           "/r/Python/comments/g1d90f/how_to_use_local_modules_in_pyenv/fnex295/",
           "Hello! I'm a bot!\n\nIt looks like you posted this i"
          ],
          [
           "AAAVR",
           "/r/Python/comments/g1cftx/python_formatters_to_eg_align_code/fnf1d3f/",
           "Thanks I noticed that (and e.g. pylint complains a"
          ],
          [
           "Raj_CSH",
           "/r/Python/comments/g10v5z/i_made_a_python_script_to_download_subtitles_for/fney3c8/",
           "How????"
          ],
          [
           "Dogeek",
           "/r/Python/comments/g10v5z/i_made_a_python_script_to_download_subtitles_for/fnf0kn1/",
           "Once you have the data you need from the file dial"
          ],
          [
           "deadtreesquirrels",
           "/r/Python/comments/g0s4yu/class_implementation_of_caseswitch_need_a_default/fnf1f4c/",
           "Sorry, let me clarify. My class looks like this\n  "
          ],
          [
           "bibek687",
           "/r/Python/comments/g10v5z/i_made_a_python_script_to_download_subtitles_for/fnf719m/",
           "Where were you when I was still watching movies on"
          ],
          [
           "LunarLorkhan",
           "/r/Python/comments/g10v5z/i_made_a_python_script_to_download_subtitles_for/fnf809a/",
           "You’re mentally ill. Seek help."
          ],
          [
           "TrainingShift3",
           "/r/Python/comments/g10v5z/i_made_a_python_script_to_download_subtitles_for/fnfcuqs/",
           "well done!"
          ],
          [
           "AltezaHumilde",
           "/r/Python/comments/g10v5z/i_made_a_python_script_to_download_subtitles_for/fnfe58f/",
           "So if I enjoy a good picture of a fine lady, dress"
          ],
          [
           "PeridexisErrant",
           "/r/Python/comments/g0gga6/view_python_download_stats_by_project_version/fnfgjy4/",
           "Raw data is mostly because I want to correct for t"
          ],
          [
           "may314",
           "/r/Python/comments/g1dxfn/stop_naming_your_python_modules_utils/fnfh37k/",
           "Or `helpers`, `misc`, `tools`..."
          ],
          [
           "pythonHelperBot",
           "/r/Python/comments/g14t14/batching_in_google_classroom_api/fne0x28/",
           "Hello! I'm a bot!\n\nIt looks to me like your post m"
          ],
          [
           "550r",
           "/r/Python/comments/g167bf/whats_everyone_working_on_this_week/fne1qmz/",
           "Been working on an extremely simple game that I ho"
          ],
          [
           "[deleted]",
           "/r/Python/comments/g1b23g/is_oop_still_needed/fnehtbg/",
           "[deleted]"
          ],
          [
           "RenSoAbrupt",
           "/r/Python/comments/g167bf/whats_everyone_working_on_this_week/fneirj9/",
           "Starting over with the basics in Python. I used to"
          ],
          [
           "pythonHelperBot",
           "/r/Python/comments/g12911/strava_api/fnd3ums/",
           "Hello! I'm a bot!\n\nIt looks to me like your post m"
          ],
          [
           "pythonHelperBot",
           "/r/Python/comments/g12lj2/free_resource_to_learn_data_analysis_in_python/fnd41uw/",
           "Hello! I'm a bot!\n\nIt looks to me like your post m"
          ],
          [
           "_lagadeno_",
           "/r/Python/comments/g16t0s/hello_i_am_new_to_pythoncould_you_guys_guve_me/fndrpr1/",
           "LOL!"
          ],
          [
           "blah001blah",
           "/r/Python/comments/g1962q/i_need_help_for_a_script_that_types_good_morning/fnece7f/",
           "Type where ?"
          ],
          [
           "sameera__madushan_",
           "/r/Python/comments/g10v5z/i_made_a_python_script_to_download_subtitles_for/fne5735/",
           "Thanks ♥"
          ],
          [
           "worthy_sloth",
           "/r/Python/comments/g15e8f/how_do_you_run_a_python_app_all_the_time/fne5igx/",
           "Ill look into it !!"
          ],
          [
           "shisui1729",
           "/r/Python/comments/g10v5z/i_made_a_python_script_to_download_subtitles_for/fne931u/",
           "First time I have seen using import statements in "
          ],
          [
           "Riles0829",
           "/r/Python/comments/g1adit/i_made_my_first_game_in_python_thanks_uriles0829/fnep77k/",
           "Nice job! It looks great!"
          ],
          [
           "anselal",
           "/r/Python/comments/g10v5z/i_made_a_python_script_to_download_subtitles_for/fneplfl/",
           "How did you apply a dark theme to explorer?"
          ],
          [
           "wynand1004",
           "/r/Python/comments/g1072z/how_to_use_turtle_and_pygame/fnerj8q/",
           "Let me repeat: You need to share the code. Otherwi"
          ],
          [
           "Wesman504",
           "/r/Python/comments/g1072z/how_to_use_turtle_and_pygame/fnercz3/",
           "That does work, but it's just when I was trying to"
          ],
          [
           "FidoTheDisingenuous",
           "/r/Python/comments/g10v5z/i_made_a_python_script_to_download_subtitles_for/fnfojno/",
           "I never said I was offended snowflake. And your st"
          ],
          [
           "monsto",
           "/r/Python/comments/g10v5z/i_made_a_python_script_to_download_subtitles_for/fnfnlty/",
           "But not with stuff like Plex."
          ],
          [
           "Andrew_the_giant",
           "/r/Python/comments/g1fhk9/i_wrote_an_api_wrapper_for_td_ameritrades_finance/fnft4az/",
           "This is the way"
          ],
          [
           "BurningOrangeHeaven",
           "/r/Python/comments/g10v5z/i_made_a_python_script_to_download_subtitles_for/fng0dh2/",
           "This video just reminded me of how slow my craptop"
          ],
          [
           "IllegalAlcoholic",
           "/r/Python/comments/g10v5z/i_made_a_python_script_to_download_subtitles_for/fnfzsds/",
           "I checked your GitHub, you have a lot of interesti"
          ],
          [
           "M-W-R",
           "/r/Python/comments/g167bf/whats_everyone_working_on_this_week/fng0a82/",
           "So I'm working on a script that will download my c"
          ],
          [
           "sameera__madushan_",
           "/r/Python/comments/g10v5z/i_made_a_python_script_to_download_subtitles_for/fng5s01/",
           "Thank you machan ♥"
          ],
          [
           "IWantOreo",
           "/r/Python/comments/g0fz1e/generating_a_random_maze_using_prims_algorithm/fncxt1i/",
           "You can probably increase generation speed by not "
          ],
          [
           "metaperl",
           "/r/Python/comments/g0qbcc/is_there_a_replacement_for_anvil_works/fncyach/",
           "livecode has an open source option."
          ],
          [
           "cerealtomilkratio",
           "/r/Python/comments/g0mmbt/i_made_a_web_app_to_convert_baking_recipes_from/fncxyfr/",
           "This is great! Clean UI, too. If I may suggest, th"
          ],
          [
           "AutoModerator",
           "/r/Python/comments/g10yah/python_youtube_channel/fncvfy3/",
           "Your submission has been automatically removed.\n\nY"
          ],
          [
           "pythonHelperBot",
           "/r/Python/comments/g10q1v/drf_upload_file_save_filename_as_uuid/fncwksf/",
           "Hello! I'm a bot!\n\nIt looks to me like your post m"
          ],
          [
           "pythonHelperBot",
           "/r/Python/comments/g113ug/im_new_to_python_and_wanted_to_install_pillow/fncwe0s/",
           "Hello! I'm a bot!\n\nI see someone has already sugge"
          ],
          [
           "[deleted]",
           "/r/Python/comments/g12911/strava_api/fnd2bka/",
           "[deleted]"
          ],
          [
           "wholl0p",
           "/r/Python/comments/g0mmbt/i_made_a_web_app_to_convert_baking_recipes_from/fnd2d9c/",
           "So an idiotic murrican to normal converter?"
          ],
          [
           "willm",
           "/r/Python/comments/g0qaa5/mypy_static_type_checker_vs_aheadoftime_bytecode/fnczb8i/",
           "Last time I looked in to mypyc it was not quite re"
          ],
          [
           "pythonHelperBot",
           "/r/Python/comments/g12hbx/help_with_coursework/fnd33mx/",
           "Hello! I'm a bot!\n\nIt looks to me like your post m"
          ],
          [
           "stef13013",
           "/r/Python/comments/g082tt/why_i_chose_python_after_almost_15_years/fnd38ra/",
           "Very interesting...\n\nThe main problem with Java is"
          ],
          [
           "mattiavenditti",
           "/r/Python/comments/fzzshs/i_made_a_chatbot_for_instagram_made_to_suggest/fnblqjo/",
           "Your ranking criterion is pretty solid to get star"
          ],
          [
           "rednafi",
           "/r/Python/comments/g0kqss/no_really_pythons_pathlib_is_great_dipping_toes/fnbls70/",
           "You got that part right, it doesn't reduce the amo"
          ],
          [
           "AAAVR",
           "/r/Python/comments/g0qaa5/mypy_static_type_checker_vs_aheadoftime_bytecode/fnblrlm/",
           "Thanks - Just wondering, how would you reconcile w"
          ],
          [
           "AAAVR",
           "/r/Python/comments/g0qaa5/mypy_static_type_checker_vs_aheadoftime_bytecode/fnbm0ti/",
           "Indeed - Thanks!"
          ],
          [
           "pythonHelperBot",
           "/r/Python/comments/g0pl67/pandas_with_array_of_col_names_in_a_desired/fnayqoz/",
           "Hello! I'm a bot!\n\nIt looks to me like your post m"
          ],
          [
           "Peksio",
           "/r/Python/comments/g0os2k/virtual_env_for_pushing_app_to_heroku_and_venv/fnb02zp/",
           "Hello dear bot!\n\nI think that you may be right. Bu"
          ],
          [
           "sameera__madushan_",
           "/r/Python/comments/g10v5z/i_made_a_python_script_to_download_subtitles_for/fndqill/",
           "Thanks ❤"
          ],
          [
           "theharamberapiast",
           "/r/Python/comments/fna798/because_of_quarantine_and_online_clases_i_made/fngc8x7/",
           "How do u make python do things like that. I use re"
          ],
          [
           "pythonHelperBot",
           "/r/Python/comments/g1lh1i/can_someone_help_me_spot_this_runtime_error/fngbjt1/",
           "Hello! I'm a bot!\n\nIt looks to me like your post m"
          ],
          [
           "elfoosay",
           "/r/Python/comments/fu8h57/a_beginner_here_why_dont_i_get_the_suggestions/fng9sum/",
           "Interpreter setup correctly? File preferences inte"
          ],
          [
           "MeekZeek",
           "/r/Python/comments/g14p79/i_made_a_tiny_script_for_ristodayfridaythe13th_so/fngas03/",
           " u/GangControl"
          ],
          [
           "speedysocks30",
           "/r/Python/comments/g10v5z/i_made_a_python_script_to_download_subtitles_for/fngcuif/",
           "Nice. I'll be checking this out."
          ],
          [
           "[deleted]",
           "/r/Python/comments/g1lzot/python_tuples_python_tutorial_for_beginners/fngeylu/",
           "[removed]"
          ],
          [
           "anarchyisthekey",
           "/r/Python/comments/g10v5z/i_made_a_python_script_to_download_subtitles_for/fngjg1v/",
           "Ah, yes now it makes sense."
          ],
          [
           "kigurai",
           "/r/Python/comments/g0kqss/no_really_pythons_pathlib_is_great_dipping_toes/fngj8sg/",
           "I think there are several objective good things:\n\n"
          ],
          [
           "cochorol",
           "/r/Python/comments/g10v5z/i_made_a_python_script_to_download_subtitles_for/fngllyq/",
           "Can you find Chinese subs with it? By any chance ?"
          ],
          [
           "AutoModerator",
           "/r/Python/comments/g1oenp/my_first_game_in_python_any_thoughts_took_me_very/fngqri0/",
           "Your submission has been automatically removed.\n\nY"
          ],
          [
           "saytannblazes",
           "/r/Python/comments/g10v5z/i_made_a_python_script_to_download_subtitles_for/fngpqxm/",
           "They did not ask you to spew your anti cultural ap"
          ],
          [
           "ballagarba",
           "/r/Python/comments/g1dxfn/stop_naming_your_python_modules_utils/fngqku3/",
           "What value does `utils/` bring in your example ver"
          ],
          [
           "TouchingTheVodka",
           "/r/Python/comments/g1onw8/i_keep_trying_to_get_pip_to_work_and_it_always/fngrzsz/",
           "Is your Python running inside an Anaconda environm"
          ],
          [
           "pythonHelperBot",
           "/r/Python/comments/g1onw8/i_keep_trying_to_get_pip_to_work_and_it_always/fngs34l/",
           "Hello! I'm a bot!\n\nIt looks to me like your post m"
          ],
          [
           "justingolden21",
           "/r/Python/comments/g1onw8/i_keep_trying_to_get_pip_to_work_and_it_always/fngselq/",
           "That makes sense. I tried that months ago on a dif"
          ],
          [
           "ChrisBez87",
           "/r/Python/comments/g1adit/i_made_my_first_game_in_python_thanks_uriles0829/fngyuqq/",
           "Sure I will add a comment with a link, sorry I hav"
          ],
          [
           "jyper",
           "/r/Python/comments/g1dxfn/stop_naming_your_python_modules_utils/fngvsbu/",
           "Local variables named data seem fine"
          ],
          [
           "ChrisBez87",
           "/r/Python/comments/g1adit/i_made_my_first_game_in_python_thanks_uriles0829/fngyrl8/",
           "Thank you"
          ],
          [
           "ChrisBez87",
           "/r/Python/comments/g1adit/i_made_my_first_game_in_python_thanks_uriles0829/fngyrbx/",
           "Amazing"
          ],
          [
           "ChrisBez87",
           "/r/Python/comments/g1adit/i_made_my_first_game_in_python_thanks_uriles0829/fngyqj6/",
           "Thank you!"
          ],
          [
           "TouchingTheVodka",
           "/r/Python/comments/g1pn2c/i_cant_understand_how_it_works/fngy45i/",
           "`range(x, y)` will produce a list of numbers betwe"
          ],
          [
           "DreamIce",
           "/r/Python/comments/g0fz1e/generating_a_random_maze_using_prims_algorithm/fncuv1p/",
           "what did you use to make the grid?"
          ],
          [
           "pythonHelperBot",
           "/r/Python/comments/g10kyu/a_web_app_that_counts_the_number_of_days_until/fnctrle/",
           "Hello! I'm a bot!\n\nIt looks to me like your post m"
          ],
          [
           "pythonHelperBot",
           "/r/Python/comments/g1161p/drf_file_upload_uuid_as_filename/fncwl2m/",
           "Hello! I'm a bot!\n\nIt looks to me like your post m"
          ],
          [
           "medicali",
           "/r/Python/comments/g0onvr/update_some_of_you_asked_me_to_make_a_video_of/fnc4tiw/",
           "Didn’t see your first post so I gotta go back to g"
          ],
          [
           "MyPythonDontWantNone",
           "/r/Python/comments/g0fz1e/generating_a_random_maze_using_prims_algorithm/fnc7e7k/",
           "No loops at all. Terrible for Inception."
          ],
          [
           "weshall8",
           "/r/Python/comments/fjqoxv/laid_off_for_8_weeks_anyone_else_starting_their/fnd1frv/",
           "I started today. Done with variables, strings and "
          ],
          [
           "nice-scores",
           "/r/Python/comments/g0fz1e/generating_a_random_maze_using_prims_algorithm/fnd37il/",
           "𝓷𝓲𝓬𝓮 ☜(ﾟヮﾟ☜)\n#Nice Leaderboard\n**1.** `u/RepliesNi"
          ],
          [
           "coll_ryan",
           "/r/Python/comments/g0mmbt/i_made_a_web_app_to_convert_baking_recipes_from/fnd40i5/",
           "Nice! My girlfriend is always finding recipes for "
          ],
          [
           "bloedlink",
           "/r/Python/comments/g12911/strava_api/fnd5xuo/",
           "I verified this, and there is nothing wrong in thi"
          ],
          [
           "coll_ryan",
           "/r/Python/comments/g0mmbt/i_made_a_web_app_to_convert_baking_recipes_from/fnd4lt0/",
           "Another thing - converting \"tsp\" into grams is not"
          ],
          [
           "way22",
           "/r/Python/comments/g12hbx/help_with_coursework/fnd7y2c/",
           "This is definitely the wrong Sub for this since it"
          ],
          [
           "xXramzS",
           "/r/Python/comments/g12xlh/i_see_there_are_veterans_on_this_sub/fnd7pin/",
           "kk let's delete it"
          ],
          [
           "Mr-Jabba",
           "/r/Python/comments/g10v5z/i_made_a_python_script_to_download_subtitles_for/fnd9hni/",
           "I'm a new programmer, but this looks amazing!! Can"
          ],
          [
           "ptekspy",
           "/r/Python/comments/g13k0q/not_eating/fnd8qna/",
           "On a serious note,, a quick Google brought up this"
          ],
          [
           "Entr00py134",
           "/r/Python/comments/g121pt/my_new_project_taskboard_tasks_boards_notes_and/fnd91xy/",
           "Sweet. So do you typically have one terminal just "
          ],
          [
           "GiantElectron",
           "/r/Python/comments/g0qbcc/is_there_a_replacement_for_anvil_works/fnd16td/",
           "Probably dash, but honestly, while all these servi"
          ],
          [
           "lollipas",
           "/r/Python/comments/fr5561/beginners_guide_how_to_start_programming_in_python/fnd0zdg/",
           "done pong, now make tetris"
          ],
          [
           "AutoModerator",
           "/r/Python/comments/g14xzm/looping_through_multiple_regression_and_how_to/fndfcwb/",
           "Your submission has been automatically removed.\n\nY"
          ],
          [
           "sameera__madushan_",
           "/r/Python/comments/g10v5z/i_made_a_python_script_to_download_subtitles_for/fndh0j6/",
           "Thanks ❤"
          ],
          [
           "BastetFae",
           "/r/Python/comments/g10v5z/i_made_a_python_script_to_download_subtitles_for/fndetsk/",
           "Looks good. I like how you used c types. Something"
          ],
          [
           "DaBeast07",
           "/r/Python/comments/g0fz1e/generating_a_random_maze_using_prims_algorithm/fnde3m1/",
           "That's so cool! I'm kind of new to python, what mo"
          ],
          [
           "sameera__madushan_",
           "/r/Python/comments/g10v5z/i_made_a_python_script_to_download_subtitles_for/fndgyc9/",
           "&gt;available language types for a specific subtit"
          ],
          [
           "anubhavgoel7",
           "/r/Python/comments/fr2ke4/is_anyone_is_interested_in_educativeio_courses/fndfqua/",
           "I am also interested"
          ],
          [
           "sameera__madushan_",
           "/r/Python/comments/g10v5z/i_made_a_python_script_to_download_subtitles_for/fndgrls/",
           "available language types for a specific subtitle i"
          ],
          [
           "Entr00py134",
           "/r/Python/comments/g121pt/my_new_project_taskboard_tasks_boards_notes_and/fndin9z/",
           "Awesome. Sub tasks would be neat as well, but that"
          ],
          [
           "worthy_sloth",
           "/r/Python/comments/g15e8f/how_do_you_run_a_python_app_all_the_time/fndilv0/",
           "I did give this a try yesterday. Couldn't understa"
          ],
          [
           "drpepper",
           "/r/Python/comments/g10v5z/i_made_a_python_script_to_download_subtitles_for/fndiv5n/",
           "imagine being offended by a wall paper"
          ],
          [
           "pythonHelperBot",
           "/r/Python/comments/g15e8f/how_do_you_run_a_python_app_all_the_time/fndjvbl/",
           "Hello! I'm a bot!\n\nIt looks to me like your post m"
          ],
          [
           "worthy_sloth",
           "/r/Python/comments/g15e8f/how_do_you_run_a_python_app_all_the_time/fndjl4l/",
           "Im down with the paid tier, if it allows me to run"
          ],
          [
           "chicken__soup",
           "/r/Python/comments/g15e8f/how_do_you_run_a_python_app_all_the_time/fndkppc/",
           "&gt; Running it from their console is about the sa"
          ],
          [
           "benchly",
           "/r/Python/comments/g167bf/whats_everyone_working_on_this_week/fndo2m6/",
           "Learning the basics after an unfortunately long de"
          ],
          [
           "vmsda",
           "/r/Python/comments/g167bf/whats_everyone_working_on_this_week/fndn1el/",
           "Being a beginner, I am going through the Language "
          ],
          [
           "Rhyniel",
           "/r/Python/comments/g16dji/would_i_be_able_to_write_a_program_that_could/fndr6dv/",
           "Have you considered multi tabs?"
          ],
          [
           "K900_",
           "/r/Python/comments/g16t0s/hello_i_am_new_to_pythoncould_you_guys_guve_me/fndqlti/",
           "/r/learnpython"
          ],
          [
           "william_whithersonly",
           "/r/Python/comments/g168jg/i_made_a_procedural_world_generator/fndso24/",
           "I kinda like the name The Kingdom of 12. \n\n\"Why ye"
          ],
          [
           "areyanjineylu",
           "/r/Python/comments/g10v5z/i_made_a_python_script_to_download_subtitles_for/fnduhxz/",
           "Hey! How long did it take you to do this?"
          ],
          [
           "pythonHelperBot",
           "/r/Python/comments/g17ivd/does_anyone_have_any_tips_on_where_can_i_learn_to/fndv8qa/",
           "Hello! I'm a bot!\n\nI see someone has already sugge"
          ],
          [
           "m4nolito",
           "/r/Python/comments/g10v5z/i_made_a_python_script_to_download_subtitles_for/fndwoz5/",
           "I was wondering the same. Ty."
          ],
          [
           "TJ-MD",
           "/r/Python/comments/g0zts2/coding_demo_for_the_tom_scott_this_video_has/fndx2g2/",
           "Great demo and tutorial. I just sent you a PM."
          ],
          [
           "DoiF",
           "/r/Python/comments/g10v5z/i_made_a_python_script_to_download_subtitles_for/fndy8y8/",
           "I wasn't judging. I see what you are saying and in"
          ],
          [
           "[deleted]",
           "/r/Python/comments/g0qnsv/anyone_else_wants_assignment_expressions_reverted/fnb52w4/",
           "[removed]"
          ],
          [
           "yukatukapt",
           "/r/Python/comments/g0mmbt/i_made_a_web_app_to_convert_baking_recipes_from/fnb9r3e/",
           "OwO ... this is very interesting, I liked the idea"
          ],
          [
           "pythonHelperBot",
           "/r/Python/comments/g0os2k/virtual_env_for_pushing_app_to_heroku_and_venv/fnavaj5/",
           "Hello! I'm a bot!\n\nIt looks to me like your post m"
          ],
          [
           "kellyjonbrazil",
           "/r/Python/comments/g0ngkm/csvchk_utility_to_vertically_view_records_in/fnaxz4b/",
           "Very cool. Jc can convert CSV into JSON, which is "
          ],
          [
           "mutatedllama",
           "/r/Python/comments/g0fz1e/generating_a_random_maze_using_prims_algorithm/fnaz19z/",
           "Ah yes sorry I believe you're right!"
          ],
          [
           "topecas",
           "/r/Python/comments/fygn3n/i_made_a_script_that_organizes_a_folder/fncgcyo/",
           "Thank you! I’ma check it out"
          ],
          [
           "abstract__art",
           "/r/Python/comments/fwl5wy/whats_everyone_working_on_this_week/fncjzk9/",
           "Is there anyway to make a script that somehow trac"
          ],
          [
           "Im3Rhythmus3bleiben",
           "/r/Python/comments/g0hsnu/omg_you_guys_i_just_gained_comprehension_of_how/fncptv7/",
           "Oh wicked, this is so much more intuitive than Pan"
          ],
          [
           "mutatedllama",
           "/r/Python/comments/g0fz1e/generating_a_random_maze_using_prims_algorithm/fncoumr/",
           "Thanks, I can definitely see the difference. It's "
          ],
          [
           "arctdav",
           "/r/Python/comments/g15n5r/help_with_search_algorithm/fne46gp/",
           "I don’t know much about search engine library, but"
          ],
          [
           "sameera__madushan_",
           "/r/Python/comments/g10v5z/i_made_a_python_script_to_download_subtitles_for/fne57so/",
           "No"
          ],
          [
           "Thomas1122",
           "/r/Python/comments/g17cqd/interesting_script_that_drops_items_by_their/fne7e2d/",
           "Shouldn't it be `weights` instead of `cum_weights`"
          ],
          [
           "frank20a",
           "/r/Python/comments/g0onvr/update_some_of_you_asked_me_to_make_a_video_of/fne6kxr/",
           "THIS IS AMAZING! I really wanted to do something s"
          ],
          [
           "AutoModerator",
           "/r/Python/comments/g1a1z2/programming_help/fnean8y/",
           "Your submission has been automatically removed.\n\nY"
          ],
          [
           "sameera__madushan_",
           "/r/Python/comments/g10v5z/i_made_a_python_script_to_download_subtitles_for/fnebjjq/",
           "thanks"
          ],
          [
           "bahermursi",
           "/r/Python/comments/g1b23g/is_oop_still_needed/fnehty6/",
           "That’s a great way of seeing it. I would like to k"
          ],
          [
           "AutoModerator",
           "/r/Python/comments/g1a7sx/analysing_insider_trading_with_edgar_data/fnebopg/",
           "Your submission has been automatically removed.\n\nY"
          ],
          [
           "nice-scores",
           "/r/Python/comments/g10v5z/i_made_a_python_script_to_download_subtitles_for/fnedqtc/",
           "𝓷𝓲𝓬𝓮 ☜(ﾟヮﾟ☜)\n#Nice Leaderboard\n**1.** `u/RepliesNi"
          ],
          [
           "gbdavidx",
           "/r/Python/comments/g10v5z/i_made_a_python_script_to_download_subtitles_for/fnefmnj/",
           "cool, but honestly I don't like subtitles"
          ],
          [
           "lknapp117",
           "/r/Python/comments/g167bf/whats_everyone_working_on_this_week/fneey0l/",
           "Starting as a beginner with Treehouse. Just finish"
          ],
          [
           "pythonHelperBot",
           "/r/Python/comments/g0qbcc/is_there_a_replacement_for_anvil_works/fnb1zxr/",
           "Hello! I'm a bot!\n\nIt looks to me like your post m"
          ],
          [
           "GoldsteinQ",
           "/r/Python/comments/g0g728/how_to_make_python_script_proprietary/fnbkdk8/",
           "If your program can see key, anyone can"
          ],
          [
           "ALanEFE",
           "/r/Python/comments/g00cpz/python_selenium_help/fnbiocl/",
           "The path in webdriver.chrome() should point to the"
          ],
          [
           "AAAVR",
           "/r/Python/comments/g0qaa5/mypy_static_type_checker_vs_aheadoftime_bytecode/fnbg16p/",
           "Thanks, so if that's the case, even in a situation"
          ],
          [
           "clovr94",
           "/r/Python/comments/g0bu62/4chan_thread_collecting/fnaemy4/",
           "You can use the 4chan api (https://github.com/4cha"
          ],
          [
           "PeridexisErrant",
           "/r/Python/comments/g0hsnu/omg_you_guys_i_just_gained_comprehension_of_how/fnbl97i/",
           "Check out Xarray! Natively multidimensional, and c"
          ],
          [
           "Senator_Sanders",
           "/r/Python/comments/fz8cub/a_simple_windows_ratbackdoor_keylogger_written/fnbperu/",
           "Very nice I’ll definitely look into the code later"
          ],
          [
           "pythonHelperBot",
           "/r/Python/comments/g0oe5a/how_to_run_function_through_a_list/fnbp94c/",
           "Hello! I'm a bot!\n\nIt looks to me like your post m"
          ],
          [
           "dontpanic4242",
           "/r/Python/comments/fzwbcx/i_made_a_face_recognition_program/fnbrmpb/",
           "In addition to the other points, I think a fair nu"
          ],
          [
           "m3lonh0de",
           "/r/Python/comments/g1962q/i_need_help_for_a_script_that_types_good_morning/fnem4d3/",
           "sleep schedule is upside down, and i intend to kee"
          ],
          [
           "LinuxRootUser",
           "/r/Python/comments/g1b6n5/should_i_buy_raspberry/fnfe8aj/",
           "Correct.  A VPS would do your job."
          ],
          [
           "DarkCeptor44",
           "/r/Python/comments/g10v5z/i_made_a_python_script_to_download_subtitles_for/fnfcg4c/",
           "There's the Subsync repository that does that, the"
          ],
          [
           "bladeoflight16",
           "/r/Python/comments/g0kqss/no_really_pythons_pathlib_is_great_dipping_toes/fnfd3hh/",
           "&gt; I'd argue that collecting path-related functi"
          ],
          [
           "dapper_drake",
           "/r/Python/comments/g10v5z/i_made_a_python_script_to_download_subtitles_for/fnff62w/",
           "Oh, too bad. That's a no for me."
          ],
          [
           "notmebutmesoz",
           "/r/Python/comments/g1adit/i_made_my_first_game_in_python_thanks_uriles0829/fneoqra/",
           "Python has infinite possibilities, you can potenti"
          ],
          [
           "geonyoro",
           "/r/Python/comments/g10v5z/i_made_a_python_script_to_download_subtitles_for/fnerk6t/",
           "Rapartition?"
          ],
          [
           "Wesman504",
           "/r/Python/comments/g1072z/how_to_use_turtle_and_pygame/fnerf4w/",
           "What does \"wn.mainloop()\" do exactly?"
          ],
          [
           "Pegaz7",
           "/r/Python/comments/fyvt4l/i_made_a_script_to_automatically_log_into_my_zoom/fnerjhj/",
           "Bro. Just happen new think with zoom, and sned thi"
          ],
          [
           "Slinkusmalinkus",
           "/r/Python/comments/g10v5z/i_made_a_python_script_to_download_subtitles_for/fnffs02/",
           "I agree that it could be construed as disrespectfu"
          ],
          [
           "AutoModerator",
           "/r/Python/comments/g1gmas/cotação_de_moedas_em_python/fnfgk3x/",
           "Your submission has been automatically removed.\n\nY"
          ],
          [
           "pythonHelperBot",
           "/r/Python/comments/g1dau4/project_ideas_and_help/fnevf9b/",
           "Hello! I'm a bot!\n\nIt looks to me like your post m"
          ],
          [
           "itamarst",
           "/r/Python/comments/g0mkqy/from_chunking_to_parallelism_faster_pandas_with/fneu2s9/",
           "If speed/memory use are an issue, I'd definitely g"
          ],
          [
           "MoonPadUSer",
           "/r/Python/comments/g1dau4/project_ideas_and_help/fnew6o6/",
           "Huffman Encoder/Decoder. I had quite a lot of fun "
          ],
          [
           "Keterz",
           "/r/Python/comments/g0g728/how_to_make_python_script_proprietary/fngy932/",
           "Compiled C/C++ code takes disassembling skills rat"
          ],
          [
           "ChrisBez87",
           "/r/Python/comments/g1adit/i_made_my_first_game_in_python_thanks_uriles0829/fngyv9c/",
           "Will add a comment! :)"
          ],
          [
           "ChrisBez87",
           "/r/Python/comments/g1adit/i_made_my_first_game_in_python_thanks_uriles0829/fngyxfg/",
           "Great I would love to give it a go when you done?\n"
          ],
          [
           "ChrisBez87",
           "/r/Python/comments/g1adit/i_made_my_first_game_in_python_thanks_uriles0829/fngyxt1/",
           "[https://github.com/FlawlessCalamity/Snake-Python]"
          ],
          [
           "pythonHelperBot",
           "/r/Python/comments/g1db11/remove_delete_column_in_google_sheet_gspread/fneyaq6/",
           "Hello! I'm a bot!\n\nIt looks to me like your post m"
          ],
          [
           "Wesman504",
           "/r/Python/comments/g1072z/how_to_use_turtle_and_pygame/fneyhwt/",
           "That is most likely why the game was not running t"
          ],
          [
           "wynand1004",
           "/r/Python/comments/g1072z/how_to_use_turtle_and_pygame/fneysn6/",
           "wn.mainloop() should be the very last line of the "
          ],
          [
           "Baba_is_not",
           "/r/Python/comments/g10v5z/i_made_a_python_script_to_download_subtitles_for/fnfq6y7/",
           "very small nitpick: PEP-8 says to use capital L in"
          ],
          [
           "bonelessRizzy",
           "/r/Python/comments/g10v5z/i_made_a_python_script_to_download_subtitles_for/fnfqvca/",
           "jesus where do y’all come up with these good ideas"
          ],
          [
           "pythonHelperBot",
           "/r/Python/comments/g1e5ev/quick_class_question/fnf20f7/",
           "Hello! I'm a bot!\n\nIt looks to me like your post m"
          ],
          [
           "AutoModerator",
           "/r/Python/comments/g1ekx3/using_the_open_weather_map_api_to_obtain_weather/fnf3erc/",
           "Your submission has been automatically removed.\n\nY"
          ],
          [
           "PM_ME_SECRET_DATA",
           "/r/Python/comments/g168jg/i_made_a_procedural_world_generator/fnftz5d/",
           "So this was made with [pygame](https://www.pygame."
          ],
          [
           "ArrrGaming",
           "/r/Python/comments/g10v5z/i_made_a_python_script_to_download_subtitles_for/fnftuyw/",
           "I tried, I really did but Windows 10, a virtual en"
          ],
          [
           "Jack_QAQ",
           "/r/Python/comments/g1adit/i_made_my_first_game_in_python_thanks_uriles0829/fnfvmvm/",
           "Good Job!!  \nI started python recently and I'm sur"
          ],
          [
           "neither_both",
           "/r/Python/comments/g10v5z/i_made_a_python_script_to_download_subtitles_for/fnft95o/",
           "No, I don't think that culture can be owned. I do "
          ],
          [
           "pythonHelperBot",
           "/r/Python/comments/g1f29c/parallelizing_a_for_loop_that_with_massive/fnf7f1l/",
           "Hello! I'm a bot!\n\nIt looks to me like your post m"
          ],
          [
           "AutoModerator",
           "/r/Python/comments/g1esfu/we_made_a_python_code_using_geopandas_to_analyze/fnf4que/",
           "Your submission has been automatically removed.\n\nY"
          ],
          [
           "stndn",
           "/r/Python/comments/fjemrj/made_a_reaction_time_game_for_my_first_pygame/fng01yt/",
           "A bit of a dick thing to say to someone completely"
          ],
          [
           "v4-digg-refugee",
           "/r/Python/comments/g167bf/whats_everyone_working_on_this_week/fng4a90/",
           "For some blasted reason, my fairly large company u"
          ],
          [
           "gonzrob",
           "/r/Python/comments/g167bf/whats_everyone_working_on_this_week/fng24wp/",
           "Trying to start my portfolio website using django."
          ],
          [
           "taylynne",
           "/r/Python/comments/g10v5z/i_made_a_python_script_to_download_subtitles_for/fng4m4p/",
           "[PluralSight](https://www.pluralsight.com/) is fre"
          ],
          [
           "neotos",
           "/r/Python/comments/g10v5z/i_made_a_python_script_to_download_subtitles_for/fng5vym/",
           "Man, thanks, this is awesome! :)"
          ],
          [
           "theHolyTape420",
           "/r/Python/comments/g10v5z/i_made_a_python_script_to_download_subtitles_for/fng60w7/",
           "Works fine for me. Just got to get it exactly down"
          ],
          [
           "AztecComputer",
           "/r/Python/comments/g1conv/i_made_a_randomized_binary_tree_python_tkinter/fng9oil/",
           "Buon lavoro!"
          ],
          [
           "stevenjd",
           "/r/Python/comments/g1lq2b/python_programming_is_drowning_in_red_tape_my/fngeo0s/",
           "The irony that the code for a code beautifier is a"
          ],
          [
           "ZenT3600",
           "/r/Python/comments/g1e5ev/quick_class_question/fnggr86/",
           "It's as simple as\n\n```python\n    class Vehicle:\n  "
          ],
          [
           "sameera__madushan_",
           "/r/Python/comments/g10v5z/i_made_a_python_script_to_download_subtitles_for/fngf1qf/",
           "Thanks ♥"
          ],
          [
           "Bertridous",
           "/r/Python/comments/g1fhk9/i_wrote_an_api_wrapper_for_td_ameritrades_finance/fngekq6/",
           "Damn, that’s awesome!"
          ],
          [
           "theneonkoala",
           "/r/Python/comments/g1adit/i_made_my_first_game_in_python_thanks_uriles0829/fngep8i/",
           "Can we have a look at your source please?"
          ],
          [
           "FidoTheDisingenuous",
           "/r/Python/comments/g10v5z/i_made_a_python_script_to_download_subtitles_for/fngppi3/",
           "They asked yo"
          ],
          [
           "FidoTheDisingenuous",
           "/r/Python/comments/g10v5z/i_made_a_python_script_to_download_subtitles_for/fngq177/",
           "They asked me to explain how they were contributin"
          ],
          [
           "Adro_95",
           "/r/Python/comments/fyvt4l/i_made_a_script_to_automatically_log_into_my_zoom/fngpjbz/",
           "Is there a way to do the same with Microsoft Teams"
          ],
          [
           "NoBSCode",
           "/r/Python/comments/g1ns0l/how_effectively_can_one_learn_python_from_a/fngo63m/",
           "Absolutely. But why limit yourself if you have all"
          ],
          [
           "kvothethedulator",
           "/r/Python/comments/g10v5z/i_made_a_python_script_to_download_subtitles_for/fngolig/",
           "Just download MX Player."
          ],
          [
           "cdaniel7",
           "/r/Python/comments/g167bf/whats_everyone_working_on_this_week/fngpaiq/",
           "I worked on building a URL shortner \n\nthis creates"
          ],
          [
           "MaxQuant",
           "/r/Python/comments/g1onw8/i_keep_trying_to_get_pip_to_work_and_it_always/fngt53l/",
           "Try “echo %PATH%” in a command console (search for"
          ],
          [
           "awegge",
           "/r/Python/comments/g1pn2c/i_cant_understand_how_it_works/fngz2zg/",
           "Is it the [for ... else](https://docs.python.org/3"
          ],
          [
           "danielroseman",
           "/r/Python/comments/g1oans/securely_deploying_python_code_onpremise/fngqo0r/",
           "No. But why do you care? What is the problem with "
          ],
          [
           "justingolden21",
           "/r/Python/comments/g1onw8/i_keep_trying_to_get_pip_to_work_and_it_always/fngtp1s/",
           "Thanks for all the input. Here's my screenshot:  h"
          ],
          [
           "pythonHelperBot",
           "/r/Python/comments/g1nuy0/request_is_there_any_python_tool_to_download_a/fngsamv/",
           "Hello! I'm a bot!\n\nIt looks to me like your post m"
          ],
          [
           "danielroseman",
           "/r/Python/comments/g1oans/securely_deploying_python_code_onpremise/fngrlz2/",
           "Yes. So the licence protects you."
          ],
          [
           "shalvinpshaji",
           "/r/Python/comments/g1adit/i_made_my_first_game_in_python_thanks_uriles0829/fngvfa6/",
           "\nWhy don't you provide link for the git?  It would"
          ],
          [
           "justingolden21",
           "/r/Python/comments/g1onw8/i_keep_trying_to_get_pip_to_work_and_it_always/fnguyqg/",
           "The title of my post says I've tried adding it to "
          ],
          [
           "mutatedllama",
           "/r/Python/comments/g167bf/whats_everyone_working_on_this_week/fnguej7/",
           "Dude that's awesome. Are you doing this for income"
          ],
          [
           "cip43r",
           "/r/Python/comments/g1conv/i_made_a_randomized_binary_tree_python_tkinter/fngvlkp/",
           "Maybe try processing for python!"
          ],
          [
           "Hihipypy",
           "/r/Python/comments/g1l9q9/fractal_rendering_tool_i_made_with_no_initial/fngusxb/",
           "Wow. If this is indeed the thing you did after one"
          ],
          [
           "Rafinha-do-R6",
           "/r/Python/comments/fwl5wy/whats_everyone_working_on_this_week/fnaojyz/",
           "I am creating my own Network map and FTPBruteforce"
          ],
          [
           "magicram",
           "/r/Python/comments/g0o8gt/youtubestyle_face_detect_crop_and_blur_using/fnap57u/",
           "This was my holiday project here in Europe (coront"
          ],
          [
           "ticua07",
           "/r/Python/comments/g0ny0j/created_a_simple_web_app_to_learn_django/fnanpc0/",
           "Wow its really cool"
          ],
          [
           "_MyUsernameIsThis",
           "/r/Python/comments/g0oe5a/how_to_run_function_through_a_list/fnary71/",
           "You could do something like:\n\nfor x in dictName:\n\n"
          ],
          [
           "robin-gvx",
           "/r/Python/comments/g079zf/does_the_pass_function_only_work_for_loops/fnawyu5/",
           "It is a statement, and as such is allowed anywhere"
          ],
          [
           "zacharypamela",
           "/r/Python/comments/g0mmbt/i_made_a_web_app_to_convert_baking_recipes_from/fnatoax/",
           "Agreed. The same is true for sugar: For sugar 1 cu"
          ],
          [
           "robin-gvx",
           "/r/Python/comments/g0kwg7/modifying_a_class_state/fnauwwu/",
           "Basically, it has access to the class object. The "
          ],
          [
           "[deleted]",
           "/r/Python/comments/g0iftn/nameerror_name_file_is_not_defined_when_tryna/fnazb1k/",
           "[deleted]"
          ],
          [
           "allaboutHans",
           "/r/Python/comments/g0iln8/this_very_simple_one_made_my_day_today_after/fnbagri/",
           "Thanks! I will try to remember this one for my nex"
          ],
          [
           "Sigg3net",
           "/r/Python/comments/g0q88v/printing_back_a_line_in_python/fnbalzh/",
           "`lscpu` just reads /proc/cpuinfo, so I would do th"
          ],
          [
           "_Jordo",
           "/r/Python/comments/fygn3n/i_made_a_script_that_organizes_a_folder/fnb11sd/",
           "I decided to improve my script. It now supports Ho"
          ],
          [
           "GeldedMonkey",
           "/r/Python/comments/fr1x65/update_thank_you_all_for_your_suggestions_on_my/fnb2pqa/",
           "Hey any update on this?"
          ],
          [
           "IConservativeCode",
           "/r/Python/comments/g0q90q/jobs_knowing_python/fnb1pku/",
           "You can get a job only knowing python, but they ar"
          ],
          [
           "InputField",
           "/r/Python/comments/g0qnsv/anyone_else_wants_assignment_expressions_reverted/fnb4qs4/",
           "Of course, it isn't a necessity. This is a discuss"
          ],
          [
           "SamDaHam1738",
           "/r/Python/comments/g0qpj9/finding_out_if_a_list_has_duplicates/fnbmkay/",
           "Update\n\n&amp;#x200B;\n\nimport random\n\ncoinSide = \\["
          ],
          [
           "AAAVR",
           "/r/Python/comments/g0qaa5/mypy_static_type_checker_vs_aheadoftime_bytecode/fnbl6u6/",
           "Thanks, but funny enough that link actually says *"
          ],
          [
           "PeridexisErrant",
           "/r/Python/comments/g0gga6/view_python_download_stats_by_project_version/fnbp1ea/",
           "This is fantastic! Thanks so much 😍\n\nOf course the"
          ],
          [
           "Lesluse",
           "/r/Python/comments/fzwbcx/i_made_a_face_recognition_program/fnbrxdp/",
           "Very true I was already thinking that. But if a fe"
          ],
          [
           "__pyth0n__",
           "/r/Python/comments/g0mkqy/from_chunking_to_parallelism_faster_pandas_with/fnbvgj9/",
           "Nice Article. \n\nI have couple of dataset, 2GB (CSV"
          ],
          [
           "pythonHelperBot",
           "/r/Python/comments/g0ublu/animated_perspective_grid/fnbwj12/",
           "Hello! I'm a bot!\n\nIt looks to me like your post m"
          ],
          [
           "Hailcanadien",
           "/r/Python/comments/g0onvr/update_some_of_you_asked_me_to_make_a_video_of/fnc2jqr/",
           "Nice! That's really cool, thanks for adding the vi"
          ],
          [
           "pythonHelperBot",
           "/r/Python/comments/g0webr/pyglet_detect_when_a_key_has_not_been_pressed_the/fnc4rr5/",
           "Hello! I'm a bot!\n\nIt looks to me like your post m"
          ],
          [
           "AutoModerator",
           "/r/Python/comments/g0wy57/how_would_you_code_the_following_statement_inside/fnc83wc/",
           "Your submission has been automatically removed.\n\nY"
          ],
          [
           "pythonHelperBot",
           "/r/Python/comments/g0wfqq/is_it_possible_to_use_python_to_generate_filled/fnc6vmj/",
           "Hello! I'm a bot!\n\nIt looks to me like your post m"
          ],
          [
           "pythonHelperBot",
           "/r/Python/comments/g0kwg7/modifying_a_class_state/fnah66w/",
           "Hello! I'm a bot!\n\nIt looks to me like your post m"
          ],
          [
           "dugindeep",
           "/r/Python/comments/g0qnsv/anyone_else_wants_assignment_expressions_reverted/fnb5reb/",
           "You should also know that he is 64+ he can decide "
          ],
          [
           "SamDaHam1738",
           "/r/Python/comments/g0qpj9/finding_out_if_a_list_has_duplicates/fnb5ele/",
           "sorry about that"
          ],
          [
           "jimmythenewsmith",
           "/r/Python/comments/g0mmbt/i_made_a_web_app_to_convert_baking_recipes_from/fnb7hze/",
           "That's why I enabled mine not convert tsps and cup"
          ],
          [
           "pydataguy",
           "/r/Python/comments/g0ny0j/created_a_simple_web_app_to_learn_django/fnb7oub/",
           "Nice job!"
          ],
          [
           "pythonHelperBot",
           "/r/Python/comments/g1640e/what_are_some_libraries_to_get_stock_quotes_from/fndmeyo/",
           "Hello! I'm a bot!\n\nIt looks to me like your post m"
          ],
          [
           "Awayythrone",
           "/r/Python/comments/g16dji/would_i_be_able_to_write_a_program_that_could/fndoh9m/",
           "Just have different streams opened regardless from"
          ],
          [
           "grangersyndrome",
           "/r/Python/comments/g161el/help_simple_test_function/fndm9nv/",
           "You're missing a ( just before the first %s expres"
          ],
          [
           "the_battousai89",
           "/r/Python/comments/g0uevj/coronavirus_ventilator_runs_on_raspberry_pi/fndmcx4/",
           "Python is the primary language Raspberry Pi is des"
          ],
          [
           "AutoModerator",
           "/r/Python/comments/g16hks/need_help_fast/fndoir4/",
           "Your submission has been automatically removed.\n\nY"
          ],
          [
           "pythonHelperBot",
           "/r/Python/comments/g16dji/would_i_be_able_to_write_a_program_that_could/fndo3ip/",
           "Hello! I'm a bot!\n\nIt looks to me like your post m"
          ],
          [
           "gbdavidx",
           "/r/Python/comments/g10v5z/i_made_a_python_script_to_download_subtitles_for/fne9xhd/",
           "Cool script but too mush work for people with a lo"
          ],
          [
           "AlanSoulchild",
           "/r/Python/comments/fx42wf/we_made_a_3d_audio_library_with_efx_and_codecs/fne91vg/",
           "VERy interesting. HOWEVER, I can't install the mod"
          ],
          [
           "psincraian",
           "/r/Python/comments/g0gga6/view_python_download_stats_by_project_version/fnea0qk/",
           "The data comes from PyPI official source, which is"
          ],
          [
           "AutoModerator",
           "/r/Python/comments/g19skv/written_a_script_to_brute_force_password/fne8xau/",
           "Your submission has been automatically removed.\n\nY"
          ],
          [
           "dlyk",
           "/r/Python/comments/fyzbl1/does_anyone_know_whats_going_on_with_contributors/fnca9m6/",
           "OK, I'll bite. Being free of conditions that limit"
          ],
          [
           "AutoModerator",
           "/r/Python/comments/g0x7wx/how_would_you_code/fnc9uti/",
           "Your submission has been automatically removed.\n\nY"
          ],
          [
           "AutoModerator",
           "/r/Python/comments/g0xfoo/hey_friends_can_someone_please_help_me_to_get_a/fncba3h/",
           "Your submission has been automatically removed.\n\nY"
          ],
          [
           "notmebutmesoz",
           "/r/Python/comments/g1adit/i_made_my_first_game_in_python_thanks_uriles0829/fnedk2q/",
           "I started python too recently and I know how you f"
          ],
          [
           "C0c04l4",
           "/r/Python/comments/g168jg/i_made_a_procedural_world_generator/fnedurh/",
           "Now you need to make a Kingdom name generator ;)"
          ],
          [
           "[deleted]",
           "/r/Python/comments/g1apao/when_should_i_start_learning_machine_learning/fneerv4/",
           "[removed]"
          ],
          [
           "sameera__madushan_",
           "/r/Python/comments/g10v5z/i_made_a_python_script_to_download_subtitles_for/fndqpcm/",
           "thanks for pointing out the typo...."
          ],
          [
           "Pez84",
           "/r/Python/comments/g15e8f/how_do_you_run_a_python_app_all_the_time/fndsood/",
           "I run most of my python scripts on my synology NAS"
          ],
          [
           "Presac",
           "/r/Python/comments/g1725y/my_take_on_tictactoe/fnds1n7/",
           "This is the first project I actually have managed "
          ],
          [
           "ChrisBez87",
           "/r/Python/comments/g1adit/i_made_my_first_game_in_python_thanks_uriles0829/fnehb8v/",
           "Thanks I really appreciate it! I just want to keep"
          ],
          [
           "YmFzZTY0dXNlcm5hbWU_",
           "/r/Python/comments/g10v5z/i_made_a_python_script_to_download_subtitles_for/fneiwwt/",
           "Perfect, thanks!"
          ],
          [
           "YmFzZTY0dXNlcm5hbWU_",
           "/r/Python/comments/g10v5z/i_made_a_python_script_to_download_subtitles_for/fnei32p/",
           "This will definitely come in handy for me, thanks."
          ],
          [
           "pythonHelperBot",
           "/r/Python/comments/g1bhri/packaging_and_distribution_help/fnek3gr/",
           "Hello! I'm a bot!\n\nIt looks to me like your post m"
          ],
          [
           "xAlecto",
           "/r/Python/comments/g0gga6/view_python_download_stats_by_project_version/fnehj8i/",
           "Thanks for the reply.\n\nI'm very confused to see al"
          ],
          [
           "IAmKindOfCreative",
           "/r/Python/comments/g0qnsv/anyone_else_wants_assignment_expressions_reverted/fneiw0p/",
           "What seems to be the issue?"
          ],
          [
           "nicmccool",
           "/r/Python/comments/g167bf/whats_everyone_working_on_this_week/fnejg9w/",
           "A web-based accounting application similar to Quic"
          ],
          [
           "Kat9_123",
           "/r/Python/comments/g12rdq/i_made_a_simple_programme_that_enables_you_to/fnejp5r/",
           "I know."
          ],
          [
           "bahermursi",
           "/r/Python/comments/g1b23g/is_oop_still_needed/fnejxt1/",
           "It looks really interesting, thank you"
          ],
          [
           "SirADV",
           "/r/Python/comments/g167bf/whats_everyone_working_on_this_week/fndua3r/",
           "Console dictionary that finds on a website the def"
          ],
          [
           "[deleted]",
           "/r/Python/comments/g17554/generating_random_mazes_with_prims_algorithm_then/fndsrwh/",
           "[deleted]"
          ],
          [
           "[deleted]",
           "/r/Python/comments/g167bf/whats_everyone_working_on_this_week/fnduls8/",
           "[removed]"
          ],
          [
           "coletrickle88",
           "/r/Python/comments/fygn3n/i_made_a_script_that_organizes_a_folder/fnelod8/",
           "Have you got the original code? You've edited on g"
          ],
          [
           "shubbbbbby",
           "/r/Python/comments/g0ur21/change_a_link_once_selenium_web_scraper_is_done/fnch7ki/",
           "Also here is my stackoverflow link for anyone in t"
          ],
          [
           "faithade",
           "/r/Python/comments/g0xo8y/tictactoe_game/fnchj1m/",
           "Thanks bro!"
          ],
          [
           "anemikk",
           "/r/Python/comments/fwl5wy/whats_everyone_working_on_this_week/fnd0jxa/",
           "I was doing this project = [https://github.com/Mar"
          ],
          [
           "anemikk",
           "/r/Python/comments/g121pt/my_new_project_taskboard_tasks_boards_notes_and/fnd2nfi/",
           "Thank you. When you install with pip, you can type"
          ],
          [
           "pythonHelperBot",
           "/r/Python/comments/g12r1b/looking_to_prototype_using_db25_controlled_with/fnd4fdu/",
           "Hello! I'm a bot!\n\nIt looks to me like your post m"
          ],
          [
           "danielroseman",
           "/r/Python/comments/g0s4yu/class_implementation_of_caseswitch_need_a_default/fnd53vg/",
           "Your question is a bit unclear. The default *is* a"
          ],
          [
           "dmarko",
           "/r/Python/comments/g0mmbt/i_made_a_web_app_to_convert_baking_recipes_from/fnd4c4p/",
           "Great. This would be awesome as a browser plugin."
          ],
          [
           "coll_ryan",
           "/r/Python/comments/fwl5wy/whats_everyone_working_on_this_week/fnd5bf2/",
           "Over the Easter weekend I've been finishing off an"
          ],
          [
           "borntrucker",
           "/r/Python/comments/g0ny0j/created_a_simple_web_app_to_learn_django/fncn3h3/",
           "Awesome! This looks nice and gave me the idea to c"
          ],
          [
           "magBeatsSC",
           "/r/Python/comments/g0l7l4/car_database_in_python/fncouea/",
           "English is just not my first language, so I had to"
          ],
          [
           "__Protector",
           "/r/Python/comments/g13g8f/i_made_a_guess_game_to_guess_any_number_from_1_to/fnd7zgd/",
           "Maybe make a value example answer_times = 0 and ru"
          ],
          [
           "wewbull",
           "/r/Python/comments/g0mmbt/i_made_a_web_app_to_convert_baking_recipes_from/fnd8f8u/",
           "Isn't that the problem that this solves though. \n\n"
          ],
          [
           "XRTce",
           "/r/Python/comments/fg3iwc/snapchat_gdpr_takeout_memories_downloader/fncpphf/",
           "Maybe you could add a timeout between the download"
          ],
          [
           "cant_thinkof_aname",
           "/r/Python/comments/g0mmbt/i_made_a_web_app_to_convert_baking_recipes_from/fncp9we/",
           "Nice I'm gonna take a look at this! Im planning to"
          ],
          [
           "magBeatsSC",
           "/r/Python/comments/g0l7l4/car_database_in_python/fndaac5/",
           "Mange tak du ;)"
          ],
          [
           "trimi140",
           "/r/Python/comments/dmkx8a/just_finished_programming_and_building_my_own/fndbm5m/",
           "I flagged your OP a while back, and was super happ"
          ],
          [
           "_folgo_",
           "/r/Python/comments/fz8cub/a_simple_windows_ratbackdoor_keylogger_written/fncykgc/",
           "thank you! Actually no, this topic only interested"
          ],
          [
           "xAlecto",
           "/r/Python/comments/g0gga6/view_python_download_stats_by_project_version/fnczejm/",
           "Hi,\n\nThat's really neat! The interface is great to"
          ],
          [
           "pythonHelperBot",
           "/r/Python/comments/g152iw/displaying_xyt_coordinates/fndgaxd/",
           "Hello! I'm a bot!\n\nIt looks to me like your post m"
          ],
          [
           "AutoModerator",
           "/r/Python/comments/g14phv/s/fnde1z3/",
           "Your submission has been automatically removed.\n\nY"
          ],
          [
           "ArgetDota",
           "/r/Python/comments/g10v5z/i_made_a_python_script_to_download_subtitles_for/fnfd9pz/",
           "How do you know other people see the same meaning?"
          ],
          [
           "pythonHelperBot",
           "/r/Python/comments/g1fw66/arrow_angle_while_in_flight/fnfdw44/",
           "Hello! I'm a bot!\n\nIt looks to me like your post m"
          ],
          [
           "Iinsaan",
           "/r/Python/comments/g0q1il/using_regex_to_extract_data_after_a_specific_word/fnfcued/",
           "Thanks really appreciate the help"
          ],
          [
           "wynand1004",
           "/r/Python/comments/g1072z/how_to_use_turtle_and_pygame/fncspsf/",
           "As a beginner you need to get used to explaining p"
          ],
          [
           "irspaul",
           "/r/Python/comments/g0mmbt/i_made_a_web_app_to_convert_baking_recipes_from/fnctcjl/",
           "You are the man!!"
          ],
          [
           "AutoModerator",
           "/r/Python/comments/g10m2o/selenium_instagram_bot_help/fnctpue/",
           "Your submission has been automatically removed.\n\nY"
          ],
          [
           "pythonHelperBot",
           "/r/Python/comments/g15fkv/search_algorithm_advice/fndjg37/",
           "Hello! I'm a bot!\n\nIt looks to me like your post m"
          ],
          [
           "sameera__madushan_",
           "/r/Python/comments/g10v5z/i_made_a_python_script_to_download_subtitles_for/fndguli/",
           "Hope the script  helped you! Thanks."
          ],
          [
           "pythonHelperBot",
           "/r/Python/comments/g1962q/i_need_help_for_a_script_that_types_good_morning/fne5c8y/",
           "Hello! I'm a bot!\n\nIt looks to me like your post m"
          ],
          [
           "toyg",
           "/r/Python/comments/g10v5z/i_made_a_python_script_to_download_subtitles_for/fne4iw8/",
           "This could be a job for PyQt... if only I had the "
          ],
          [
           "sameera__madushan_",
           "/r/Python/comments/g10v5z/i_made_a_python_script_to_download_subtitles_for/fne5dvd/",
           "u/Hayvan-Boris"
          ],
          [
           "sameera__madushan_",
           "/r/Python/comments/g10v5z/i_made_a_python_script_to_download_subtitles_for/fne5j07/",
           "One day"
          ],
          [
           "thequincy91",
           "/r/Python/comments/g00cpz/python_selenium_help/fncwp7g/",
           "Thank you so much!!"
          ],
          [
           "Schneggl",
           "/r/Python/comments/g113ug/im_new_to_python_and_wanted_to_install_pillow/fncwvst/",
           "Ah ok thank you again!"
          ],
          [
           "MeltedCheeseFantasy",
           "/r/Python/comments/g0mmbt/i_made_a_web_app_to_convert_baking_recipes_from/fndi46g/",
           "Writing your recipes on a mass basis in the first "
          ],
          [
           "chicken__soup",
           "/r/Python/comments/g15e8f/how_do_you_run_a_python_app_all_the_time/fndj78a/",
           "Turns out I was wrong, sorry, you can leave it run"
          ],
          [
           "pythonHelperBot",
           "/r/Python/comments/g1c57f/help_with_a_piece_of_code/fneo0tm/",
           "Hello! I'm a bot!\n\nIt looks to me like your post m"
          ],
          [
           "xbl-beefy",
           "/r/Python/comments/g1cgvz/purplepwny_presentation/fnepzjq/",
           "Fully-Automated Intelligent Host Selection and Exp"
          ],
          [
           "feltnerk",
           "/r/Python/comments/g1how8/i_trying_to_learn/fnfo39t/",
           "YouTube a 101 course on Python."
          ],
          [
           "sameera__madushan_",
           "/r/Python/comments/g10v5z/i_made_a_python_script_to_download_subtitles_for/fnety8z/",
           " [https://www.groovypost.com/howto/enable-dark-mod"
          ],
          [
           "nathanjell",
           "/r/Python/comments/g1fvec/instacart_deliverypickup_availability_check_using/fnfk976/",
           "You probably want to review the Instacart [terms o"
          ],
          [
           "FidoTheDisingenuous",
           "/r/Python/comments/g10v5z/i_made_a_python_script_to_download_subtitles_for/fnfjulv/",
           "You really want to get into this? Meaning is diale"
          ],
          [
           "pythonHelperBot",
           "/r/Python/comments/g1dbxs/help_im_new_and_no_matter_the_input_the_output_is/fneveug/",
           "Hello! I'm a bot!\n\nIt looks to me like your post m"
          ],
          [
           "pythonHelperBot",
           "/r/Python/comments/g1d4u6/treat_registry_key_as_variable_with_setter_and/fneub1j/",
           "Hello! I'm a bot!\n\nIt looks to me like your post m"
          ],
          [
           "AutoModerator",
           "/r/Python/comments/g1dvmv/quick_class_question/fneyv7h/",
           "Your submission has been automatically removed.\n\nY"
          ],
          [
           "anselal",
           "/r/Python/comments/g10v5z/i_made_a_python_script_to_download_subtitles_for/fnew97p/",
           "Thnx"
          ],
          [
           "[deleted]",
           "/r/Python/comments/fyqpt6/multiple_pytest_maintainers_leaving_pytest/fnf0i8g/",
           "[deleted]"
          ],
          [
           "maximumpowe321",
           "/r/Python/comments/g0lndd/i_made_a_file_arranger_any_suggestions_github/fnf4fhu/",
           "Thank you! I really appreciate it."
          ],
          [
           "pythonHelperBot",
           "/r/Python/comments/g1eqm4/ascii_art/fnf4sei/",
           "Hello! I'm a bot!\n\nIt looks to me like your post m"
          ],
          [
           "irixnox",
           "/r/Python/comments/g10v5z/i_made_a_python_script_to_download_subtitles_for/fnf4pik/",
           "Which movie is that?"
          ],
          [
           "upizs2",
           "/r/Python/comments/g10v5z/i_made_a_python_script_to_download_subtitles_for/fnf5kez/",
           "You are a god!!"
          ],
          [
           "Thrasherop",
           "/r/Python/comments/g1f1vf/api_for_getting_local_restaurants/fnf6sk9/",
           "Sweet that sounds perfect. I didn't even think abo"
          ],
          [
           "[deleted]",
           "/r/Python/comments/g0lndd/i_made_a_file_arranger_any_suggestions_github/fnf58x2/",
           "[deleted]"
          ],
          [
           "_lazyByte",
           "/r/Python/comments/g1ffsh/small_flask_blog_running_on_heroku/fnfpgjd/",
           "Nice work. Keep it up. \n\nYou could probably add so"
          ],
          [
           "Comboxer",
           "/r/Python/comments/g10v5z/i_made_a_python_script_to_download_subtitles_for/fnfr5xc/",
           "Check r/UsefulScripts"
          ],
          [
           "sHyGuY423",
           "/r/Python/comments/g14p79/i_made_a_tiny_script_for_ristodayfridaythe13th_so/fnf9k87/",
           "Impossible, no machine could know such thing"
          ],
          [
           "metaperl",
           "/r/Python/comments/g1et92/library_how_often_do_you_wait_for_timeconsuming/fnf9l9p/",
           "interesting.  do you ever need caching of classes/"
          ],
          [
           "iggy555",
           "/r/Python/comments/g1adit/i_made_my_first_game_in_python_thanks_uriles0829/fnfs84k/",
           "Nice job"
          ],
          [
           "stagfollow",
           "/r/Python/comments/g0p3js/im_3_hours_into_a_udemy_python_course_and_feel/fnfs95a/",
           "thanks this gave me motivation :)"
          ],
          [
           "Andrew_the_giant",
           "/r/Python/comments/g1fhk9/i_wrote_an_api_wrapper_for_td_ameritrades_finance/fnft2ab/",
           "This is sick, thank you"
          ],
          [
           "GiantJigglypuff3",
           "/r/Python/comments/g1ip1o/is_python_hard_for_most_people/fnfw3b1/",
           "Python is generally easy to learn as a coding lang"
          ],
          [
           "FidoTheDisingenuous",
           "/r/Python/comments/g10v5z/i_made_a_python_script_to_download_subtitles_for/fnfl6ry/",
           "\"Indian roots\" are often themselves a racist trope"
          ],
          [
           "smokingweedle2000",
           "/r/Python/comments/g1how8/i_trying_to_learn/fngc8hx/",
           "I've been doing those for a week now I'm trying to"
          ],
          [
           "ripogipo",
           "/r/Python/comments/g1mbgj/python_programming_is_drowning_in_red_tape_my/fngg8mk/",
           "I didn't understand the article, not sure if its j"
          ],
          [
           "[deleted]",
           "/r/Python/comments/g1n8jc/python_conditional_operators_python_tutorial_for/fngl5cu/",
           "[removed]"
          ],
          [
           "pythonHelperBot",
           "/r/Python/comments/g1l0pa/python3_scapy_issue/fngaecb/",
           "Hello! I'm a bot!\n\nIt looks to me like your post m"
          ],
          [
           "pythonHelperBot",
           "/r/Python/comments/g1npyp/merging_similar_lines/fngok9v/",
           "Hello! I'm a bot!\n\nIt looks to me like your post m"
          ],
          [
           "FidoTheDisingenuous",
           "/r/Python/comments/g10v5z/i_made_a_python_script_to_download_subtitles_for/fngpdnz/",
           "Believe it or not everything is political. I saw t"
          ],
          [
           "Adro_95",
           "/r/Python/comments/fygn3n/i_made_a_script_that_organizes_a_folder/fngpmsz/",
           "If you manage, please drop a link!"
          ],
          [
           "pythonHelperBot",
           "/r/Python/comments/g1o4b0/how_could_i_mimic_kotlins_decorator_feature/fngq8h0/",
           "Hello! I'm a bot!\n\nIt looks to me like your post m"
          ],
          [
           "K900_",
           "/r/Python/comments/g1ns0l/how_effectively_can_one_learn_python_from_a/fngnp07/",
           "You absolutely don't have to take classes to learn"
          ],
          [
           "Sir_Corvo",
           "/r/Python/comments/g10v5z/i_made_a_python_script_to_download_subtitles_for/fngpckw/",
           "valeu op!"
          ],
          [
           "swentso",
           "/r/Python/comments/g1oans/securely_deploying_python_code_onpremise/fngqwl4/",
           "It's to protect it so they can't copy it. They are"
          ],
          [
           "danielwtf230",
           "/r/Python/comments/g1cgvz/purplepwny_presentation/fngodgt/",
           "Just started learning python during quarantine. Pu"
          ],
          [
           "AlexS11111",
           "/r/Python/comments/g1onw8/i_keep_trying_to_get_pip_to_work_and_it_always/fngtmaq/",
           "If you cannot run the pip command directly (possib"
          ],
          [
           "dirtycimments",
           "/r/Python/comments/g1adit/i_made_my_first_game_in_python_thanks_uriles0829/fngy7xg/",
           "Im making a Rock-Paper-Scissor game.... \n\nI am mak"
          ],
          [
           "Classisax",
           "/r/Python/comments/g0p3js/im_3_hours_into_a_udemy_python_course_and_feel/fnb4ccc/",
           "I teach Python and I can say that a lot of people "
          ],
          [
           "allexks",
           "/r/Python/comments/fwgtu6/i_made_a_commandline_tool_to_find_similar/fnb7hoq/",
           "Thanks! You might be interested in mine as well, h"
          ],
          [
           "AutoModerator",
           "/r/Python/comments/g0ut0p/this_code_keeps_outputting_the_same_message_even/fnbum48/",
           "Your submission has been automatically removed.\n\nY"
          ],
          [
           "pythonHelperBot",
           "/r/Python/comments/g0ur21/change_a_link_once_selenium_web_scraper_is_done/fnbup1s/",
           "Hello! I'm a bot!\n\nIt looks to me like your post m"
          ],
          [
           "yomaprogenitus",
           "/r/Python/comments/fu303u/3_days_ago_told_my_wife_id_learn_to_code_and/fnbtth3/",
           "Expect programming to be very difficult. Don't get"
          ],
          [
           "Sir_not_sir",
           "/r/Python/comments/g0vaiy/hey_all_needing_help_with_running_a_scriptim_not/fnbywy3/",
           "/r/cheatathomework"
          ],
          [
           "pythonHelperBot",
           "/r/Python/comments/g0vaiy/hey_all_needing_help_with_running_a_scriptim_not/fnby0p0/",
           "Hello! I'm a bot!\n\nIt looks to me like your post m"
          ],
          [
           "bulletmark",
           "/r/Python/comments/g0qobg/i_made_a_python_program_which_models_the/fnbhw50/",
           "Step 2 is to put your code on Github and post the "
          ],
          [
           "pythonHelperBot",
           "/r/Python/comments/g0wgll/fix_package_has_no_attribute_named_script_in_my/fnc53up/",
           "Hello! I'm a bot!\n\nIt looks to me like your post m"
          ],
          [
           "__xor__",
           "/r/Python/comments/g0fz1e/generating_a_random_maze_using_prims_algorithm/fnc3zkr/",
           "To solve a maze, an algorithm doesn't necessarily "
          ],
          [
           "PythyMcPyface",
           "/r/Python/comments/g0qobg/i_made_a_python_program_which_models_the/fnbkngk/",
           "Here you go:  [https://github.com/pythymcpyface/Co"
          ],
          [
           "AutoModerator",
           "/r/Python/comments/g0nx41/help_with_python_homwork_please/fnan0it/",
           "Your submission has been automatically removed.\n\nY"
          ],
          [
           "XRTce",
           "/r/Python/comments/fg3iwc/snapchat_gdpr_takeout_memories_downloader/fnamxku/",
           "Which error is shown? If a specific file fails try"
          ],
          [
           "AutoModerator",
           "/r/Python/comments/g0o781/help_i_am_a_big_newbie/fnaonvk/",
           "Your submission has been automatically removed.\n\nY"
          ],
          [
           "runiker",
           "/r/Python/comments/fyok1f/what_happened_to_swapico/fnasain/",
           "other  guy on github, [Juriy](https://github.com/J"
          ],
          [
           "rhalsmith",
           "/r/Python/comments/g0fz1e/generating_a_random_maze_using_prims_algorithm/fnaufea/",
           "Is it just me or do the branches from the main pat"
          ],
          [
           "james_pic",
           "/r/Python/comments/g0p3js/im_3_hours_into_a_udemy_python_course_and_feel/fnav2vu/",
           "I can't speak for the exact course you're doing, b"
          ],
          [
           "tylerlecho",
           "/r/Python/comments/g0pegm/looking_for_good_resources/fnay1g5/",
           "Ah okay, thanks alot :)"
          ],
          [
           "ABd3Lh4di",
           "/r/Python/comments/fg3iwc/snapchat_gdpr_takeout_memories_downloader/fnccw1c/",
           "The files are working via a web browser, the error"
          ],
          [
           "CreativeLion2000",
           "/r/Python/comments/g0mmbt/i_made_a_web_app_to_convert_baking_recipes_from/fnck1fg/",
           "Nice! As someone who bakes and does a little codin"
          ],
          [
           "AissySantos",
           "/r/Python/comments/g0mmbt/i_made_a_web_app_to_convert_baking_recipes_from/fncobgf/",
           "I wonder if there could be a CLI SDK for quick rea"
          ],
          [
           "frvwfr2",
           "/r/Python/comments/g0zfpl/hi_im_50_years_old_never_had_no_interest_in/fncnget/",
           "This is a post of an image searching for \"python t"
          ],
          [
           "Juswanna",
           "/r/Python/comments/fwl5wy/whats_everyone_working_on_this_week/fnd8jx1/",
           "An MNIST estimator \nWith varying input types \n\nSen"
          ],
          [
           "faithade",
           "/r/Python/comments/g0xo8y/tictactoe_game/fnd61ji/",
           "Thanks! I will."
          ],
          [
           "bitswede",
           "/r/Python/comments/g0mmbt/i_made_a_web_app_to_convert_baking_recipes_from/fncrozo/",
           "Powdered sugar is lighter than white sugar.\nIn met"
          ],
          [
           "nice-scores",
           "/r/Python/comments/g0fz1e/generating_a_random_maze_using_prims_algorithm/fncq6gj/",
           "𝓷𝓲𝓬𝓮 ☜(ﾟヮﾟ☜)\n#Nice Leaderboard\n**1.** `u/RepliesNi"
          ],
          [
           "xyzadeel",
           "/r/Python/comments/g0mmbt/i_made_a_web_app_to_convert_baking_recipes_from/fncv0ai/",
           "Pretty cool."
          ],
          [
           "damnation_strikes",
           "/r/Python/comments/g0onvr/update_some_of_you_asked_me_to_make_a_video_of/fnct58i/",
           "That looks pretty complex"
          ],
          [
           "[deleted]",
           "/r/Python/comments/fx2ff0/python_powered_slot_car_track_video/fnctdmx/",
           "[removed]"
          ],
          [
           "johnpope44",
           "/r/Python/comments/g10v5z/i_made_a_python_script_to_download_subtitles_for/fndbqs5/",
           "Thank you again!"
          ],
          [
           "Farbfetzen",
           "/r/Python/comments/g0mmbt/i_made_a_web_app_to_convert_baking_recipes_from/fnd9i1m/",
           "And if you use weight you will have less flour, be"
          ],
          [
           "[deleted]",
           "/r/Python/comments/g10v5z/i_made_a_python_script_to_download_subtitles_for/fndf7tp/",
           "[deleted]"
          ],
          [
           "sameera__madushan_",
           "/r/Python/comments/g10v5z/i_made_a_python_script_to_download_subtitles_for/fndftex/",
           "Thanks ❤"
          ],
          [
           "sameera__madushan_",
           "/r/Python/comments/g10v5z/i_made_a_python_script_to_download_subtitles_for/fndgv4f/",
           "Thanks ❤"
          ],
          [
           "pythonHelperBot",
           "/r/Python/comments/g194ky/noob_question/fne599e/",
           "Hello! I'm a bot!\n\nIt looks to me like your post m"
          ],
          [
           "sameera__madushan_",
           "/r/Python/comments/g10v5z/i_made_a_python_script_to_download_subtitles_for/fne58sh/",
           "They are from SubDB"
          ],
          [
           "sameera__madushan_",
           "/r/Python/comments/g10v5z/i_made_a_python_script_to_download_subtitles_for/fne55a5/",
           "Thanks ♥"
          ],
          [
           "I-surely-know-nothin",
           "/r/Python/comments/g11umr/more_fun_with_numpy_cupy_clojure_and_gpu/fne589z/",
           "That’s something I’d like to learn :) Thanks!"
          ],
          [
           "Wobblycogs",
           "/r/Python/comments/g0mmbt/i_made_a_web_app_to_convert_baking_recipes_from/fndld2i/",
           "Good job. I don't quite know how to phrase this co"
          ],
          [
           "pythonHelperBot",
           "/r/Python/comments/g15n5r/help_with_search_algorithm/fndjfkn/",
           "Hello! I'm a bot!\n\nIt looks to me like your post m"
          ],
          [
           "Entr00py134",
           "/r/Python/comments/g121pt/my_new_project_taskboard_tasks_boards_notes_and/fndhzfs/",
           "I like it so far, I just need to get used to the s"
          ],
          [
           "bl0ndie5",
           "/r/Python/comments/g16dji/would_i_be_able_to_write_a_program_that_could/fndonax/",
           "yeah the thing is I have to be tabbed in. when one"
          ],
          [
           "Lep333",
           "/r/Python/comments/g16dji/would_i_be_able_to_write_a_program_that_could/fndp0iq/",
           "Just wait?\nAs soon as you hit 2hrs of watching wit"
          ],
          [
           "bloedlink",
           "/r/Python/comments/g12911/strava_api/fndpmu7/",
           " \n\nThe issue was the following, i was using the re"
          ],
          [
           "worthy_sloth",
           "/r/Python/comments/g15e8f/how_do_you_run_a_python_app_all_the_time/fndopzi/",
           "Thank you SO MUCH! First time I'm happy with a red"
          ],
          [
           "_lagadeno_",
           "/r/Python/comments/g16t0s/hello_i_am_new_to_pythoncould_you_guys_guve_me/fndrluj/",
           "Ah yes,thanks I have started using codewars and I "
          ],
          [
           "_lagadeno_",
           "/r/Python/comments/g16t0s/hello_i_am_new_to_pythoncould_you_guys_guve_me/fndqqy8/",
           "Thanks!"
          ],
          [
           "sameera__madushan_",
           "/r/Python/comments/g10v5z/i_made_a_python_script_to_download_subtitles_for/fndqmfb/",
           "Cool...."
          ],
          [
           "IMJoeTheBro",
           "/r/Python/comments/g10v5z/i_made_a_python_script_to_download_subtitles_for/fndsxfv/",
           "Cool!"
          ],
          [
           "gbdavidx",
           "/r/Python/comments/g10v5z/i_made_a_python_script_to_download_subtitles_for/fndv7b5/",
           "where are the subtitles coming from?"
          ],
          [
           "plentycool",
           "/r/Python/comments/g10v5z/i_made_a_python_script_to_download_subtitles_for/fndwhtx/",
           "Pirate?"
          ],
          [
           "elvy399",
           "/r/Python/comments/g10v5z/i_made_a_python_script_to_download_subtitles_for/fndx0tg/",
           "Nice job, you can add the script to the right clic"
          ],
          [
           "[deleted]",
           "/r/Python/comments/g167bf/whats_everyone_working_on_this_week/fndu6o6/",
           "[deleted]"
          ],
          [
           "anarchyisthekey",
           "/r/Python/comments/g10v5z/i_made_a_python_script_to_download_subtitles_for/fndvfd5/",
           "Theoretically, I’ve always thought that you could "
          ],
          [
           "Shrish3001",
           "/r/Python/comments/g10v5z/i_made_a_python_script_to_download_subtitles_for/fndz2ue/",
           "Does it also work if I just put in the name of the"
          ],
          [
           "MeltedCheeseFantasy",
           "/r/Python/comments/g0mmbt/i_made_a_web_app_to_convert_baking_recipes_from/fndznsg/",
           "Actually, what drives the change in density is moi"
          ],
          [
           "RussianCheeseDood",
           "/r/Python/comments/g17ivd/does_anyone_have_any_tips_on_where_can_i_learn_to/fndy58g/",
           "oh, I'm stupid, sorry"
          ],
          [
           "pythonHelperBot",
           "/r/Python/comments/g18ksv/task_scheduler_run_py_file/fne1dfz/",
           "Hello! I'm a bot!\n\nIt looks to me like your post m"
          ],
          [
           "psincraian",
           "/r/Python/comments/g0gga6/view_python_download_stats_by_project_version/fne9dzd/",
           "Hi!\n\nMany thanks for the useful feedback 😊  \n\n\nCur"
          ],
          [
           "sameera__madushan_",
           "/r/Python/comments/g10v5z/i_made_a_python_script_to_download_subtitles_for/fnebinj/",
           "check [this](https://github.com/sameera-madushan/S"
          ],
          [
           "[deleted]",
           "/r/Python/comments/g14p79/i_made_a_tiny_script_for_ristodayfridaythe13th_so/fneho90/",
           "[deleted]"
          ],
          [
           "pythonHelperBot",
           "/r/Python/comments/g1ap5r/can_anyone_let_me_know_if_i_can_get_details_on/fnegygj/",
           "Hello! I'm a bot!\n\nIt looks to me like your post m"
          ],
          [
           "bahermursi",
           "/r/Python/comments/g1b23g/is_oop_still_needed/fnejmbb/",
           "Sorry I didn’t have the link at first, here it is "
          ],
          [
           "bahermursi",
           "/r/Python/comments/g1b23g/is_oop_still_needed/fnei8ft/",
           "Yeah you’re actually correct. The decision of weat"
          ],
          [
           "iGalaxy_",
           "/r/Python/comments/g10v5z/i_made_a_python_script_to_download_subtitles_for/fneifp1/",
           "DM me a link"
          ],
          [
           "pythonHelperBot",
           "/r/Python/comments/g1b2pv/python_noob_with_questions_about_a_program_idea/fnehbyd/",
           "Hello! I'm a bot!\n\nIt looks to me like your post m"
          ],
          [
           "SimpleScribbler",
           "/r/Python/comments/g0qnsv/anyone_else_wants_assignment_expressions_reverted/fnehfk3/",
           "Clearly this bot needs work."
          ],
          [
           "neilbaldwn",
           "/r/Python/comments/g1bhri/packaging_and_distribution_help/fnejunt/",
           "Oh, I can install this on my particular system wit"
          ],
          [
           "m3lonh0de",
           "/r/Python/comments/g1962q/i_need_help_for_a_script_that_types_good_morning/fnelzr0/",
           "hangouts"
          ],
          [
           "N3urAlgorithm",
           "/r/Python/comments/fygn3n/i_made_a_script_that_organizes_a_folder/fnenm8w/",
           "Can you send the code even here please?"
          ],
          [
           "twillisagogo",
           "/r/Python/comments/g1bhri/packaging_and_distribution_help/fneo3x6/",
           "looks like you've already figured out the packagin"
          ],
          [
           "mutatedllama",
           "/r/Python/comments/g168jg/i_made_a_procedural_world_generator/fnequp4/",
           "This is so damn cool! Is this to be used in a game"
          ],
          [
           "Potrac",
           "/r/Python/comments/g10v5z/i_made_a_python_script_to_download_subtitles_for/fneq0ja/",
           "Hey, nice job! Do you use the [opensubtitles.org]("
          ],
          [
           "sameera__madushan_",
           "/r/Python/comments/g10v5z/i_made_a_python_script_to_download_subtitles_for/fnet3n4/",
           "it uses SubDB API"
          ],
          [
           "wynand1004",
           "/r/Python/comments/g1072z/how_to_use_turtle_and_pygame/fnerntn/",
           "That runs the main turtle graphics loop and keeps "
          ],
          [
           "sHyGuY423",
           "/r/Python/comments/g167bf/whats_everyone_working_on_this_week/fnez5xe/",
           "A script that plays the sonic ring sound whenever "
          ],
          [
           "[deleted]",
           "/r/Python/comments/g1conv/i_made_a_randomized_binary_tree_python_tkinter/fnez68q/",
           "[removed]"
          ],
          [
           "athermop",
           "/r/Python/comments/g1apao/when_should_i_start_learning_machine_learning/fnezdwu/",
           "&gt;  being smart is not about knowing, but about "
          ],
          [
           "mrmiser81",
           "/r/Python/comments/g168jg/i_made_a_procedural_world_generator/fnf0pfz/",
           "This is really amazing. I am working on my python "
          ],
          [
           "danielroseman",
           "/r/Python/comments/g0s4yu/class_implementation_of_caseswitch_need_a_default/fnf2vf5/",
           "No, you don't want a lambda at all. Put your defau"
          ],
          [
           "maximumpowe321",
           "/r/Python/comments/g0lndd/i_made_a_file_arranger_any_suggestions_github/fnf6hip/",
           "PyCharm"
          ],
          [
           "[deleted]",
           "/r/Python/comments/g10v5z/i_made_a_python_script_to_download_subtitles_for/fnf808x/",
           "[deleted]"
          ],
          [
           "Iinsaan",
           "/r/Python/comments/g0q1il/using_regex_to_extract_data_after_a_specific_word/fnfct7b/",
           "Thank you will definitely check it out!"
          ],
          [
           "ArgetDota",
           "/r/Python/comments/g10v5z/i_made_a_python_script_to_download_subtitles_for/fnf9kbe/",
           "Or (for a second just imagine) it’s just a wallpap"
          ],
          [
           "metaperl",
           "/r/Python/comments/g1b23g/is_oop_still_needed/fnfd28c/",
           "\n&gt; It attempts to decompose the world in terms "
          ],
          [
           "misho88",
           "/r/Python/comments/g1b23g/is_oop_still_needed/fnfcn1w/",
           "The more I learn about programming (and I've been "
          ],
          [
           "dalenapier",
           "/r/Python/comments/g10v5z/i_made_a_python_script_to_download_subtitles_for/fnf9fl7/",
           "I know by asking this it could be assuming too muc"
          ],
          [
           "b10011",
           "/r/Python/comments/g1et92/library_how_often_do_you_wait_for_timeconsuming/fnfd58m/",
           "I couldn't decide so I went with the convention of"
          ],
          [
           "darps",
           "/r/Python/comments/g10v5z/i_made_a_python_script_to_download_subtitles_for/fnfiagy/",
           "So the main problem with subtitles files that I've"
          ],
          [
           "pythonHelperBot",
           "/r/Python/comments/g1gptn/memoryerror_using_geojson_on_11gb_file/fnfhiry/",
           "Hello! I'm a bot!\n\nIt looks to me like your post m"
          ],
          [
           "PizzaHolder",
           "/r/Python/comments/g10v5z/i_made_a_python_script_to_download_subtitles_for/fnfjcs8/",
           "I always thought I was too stupid to use it proper"
          ],
          [
           "wapu",
           "/r/Python/comments/g167bf/whats_everyone_working_on_this_week/fnfmei2/",
           "In the first phase of an ML project. Right now I a"
          ],
          [
           "AltezaHumilde",
           "/r/Python/comments/g10v5z/i_made_a_python_script_to_download_subtitles_for/fnfmmgv/",
           "so what? Cristians are a religion, if tomorrow som"
          ],
          [
           "inhumantsar",
           "/r/Python/comments/g1cftx/python_formatters_to_eg_align_code/fnf42zj/",
           "none will do that because that's not an accepted p"
          ],
          [
           "[deleted]",
           "/r/Python/comments/g10v5z/i_made_a_python_script_to_download_subtitles_for/fnft4n8/",
           "[deleted]"
          ],
          [
           "deadtreesquirrels",
           "/r/Python/comments/g0s4yu/class_implementation_of_caseswitch_need_a_default/fnftoem/",
           "perfect, thank you."
          ],
          [
           "alb1",
           "/r/Python/comments/g0rooh/implement_caseswitch_with_class_but_want_a/fnfu2yw/",
           "The argument `lambda: default` that's passed to `g"
          ],
          [
           "pythonHelperBot",
           "/r/Python/comments/g0q1il/using_regex_to_extract_data_after_a_specific_word/fnb1df5/",
           "Hello! I'm a bot!\n\nIt looks to me like your post m"
          ],
          [
           "Jamalco",
           "/r/Python/comments/g0io6y/multiprocessing_the_mean_of_a_subset_of_rows/fnb2u34/",
           "Yeah, unfortunately I have to use multiprocessing "
          ],
          [
           "twoy519",
           "/r/Python/comments/g0pl67/pandas_with_array_of_col_names_in_a_desired/fnb36c9/",
           "I actually found what I needed with the [reindex]("
          ],
          [
           "Lesluse",
           "/r/Python/comments/fzwbcx/i_made_a_face_recognition_program/fnbrz45/",
           "I will check that out. Thanks for the info!"
          ],
          [
           "Marcus_Fo-Relius",
           "/r/Python/comments/fjqoxv/laid_off_for_8_weeks_anyone_else_starting_their/fnc8e9o/",
           "Just started as well! Spent my \"working hours\" tod"
          ],
          [
           "kigurai",
           "/r/Python/comments/g0kqss/no_really_pythons_pathlib_is_great_dipping_toes/fnd0jax/",
           "It's not like `pathlib` does something that you ca"
          ],
          [
           "Bizzix",
           "/r/Python/comments/g0mmbt/i_made_a_web_app_to_convert_baking_recipes_from/fncyswv/",
           "finally! u hate always needing to stop doing somet"
          ],
          [
           "AissySantos",
           "/r/Python/comments/fvitk9/browsable_snippets_database_see_link_in_comments/fnczkpl/",
           "I don't think I have ever worked on developing plu"
          ],
          [
           "davehodg",
           "/r/Python/comments/g0uevj/coronavirus_ventilator_runs_on_raspberry_pi/fnd1ojj/",
           "Is it python?"
          ],
          [
           "Entr00py134",
           "/r/Python/comments/g121pt/my_new_project_taskboard_tasks_boards_notes_and/fnd269p/",
           "This look awesome. I’ve been searching for somethi"
          ],
          [
           "chintan22",
           "/r/Python/comments/g10v5z/i_made_a_python_script_to_download_subtitles_for/fnfxpga/",
           "Angry birds"
          ],
          [
           "chintan22",
           "/r/Python/comments/g10v5z/i_made_a_python_script_to_download_subtitles_for/fnfy3op/",
           "Major movie hoarder here, so important question.\n\n"
          ],
          [
           "xxenon11",
           "/r/Python/comments/g10v5z/i_made_a_python_script_to_download_subtitles_for/fngcix0/",
           "VLC's both, subtitle and audio, offsetting feature"
          ],
          [
           "pythonHelperBot",
           "/r/Python/comments/g1lmhk/help_pls_from_a_fellow_coder/fngcjf4/",
           "Hello! I'm a bot!\n\nIt looks to me like your post m"
          ],
          [
           "i_like_trains_a_lot1",
           "/r/Python/comments/g1dxfn/stop_naming_your_python_modules_utils/fnggxrq/",
           "I agree. But I'd avoid giving them the same name a"
          ],
          [
           "ZenT3600",
           "/r/Python/comments/g1e5ev/quick_class_question/fnggzqn/",
           "Also, are you sure you understood the problem you "
          ],
          [
           "pythonHelperBot",
           "/r/Python/comments/g1m73i/if_anyone_knows_encryption_in_python_please_dm_me/fnghix8/",
           "Hello! I'm a bot!\n\nIt looks to me like your post m"
          ],
          [
           "mutatedllama",
           "/r/Python/comments/g168jg/i_made_a_procedural_world_generator/fngimh0/",
           "I think that's a great idea. Just looking at the w"
          ],
          [
           "[deleted]",
           "/r/Python/comments/g1mvz9/python_logical_operators_python_tutorial_for/fngja0d/",
           "[removed]"
          ],
          [
           "Akmantainman",
           "/r/Python/comments/g18ksv/task_scheduler_run_py_file/fngmav6/",
           "I just ran into this today. Couldn't find a resolu"
          ],
          [
           "FidoTheDisingenuous",
           "/r/Python/comments/g10v5z/i_made_a_python_script_to_download_subtitles_for/fngq9fi/",
           "I do. I'm glad you can laugh at yourself. It's not"
          ],
          [
           "softver787",
           "/r/Python/comments/g1no5q/python_processing/fngn9j4/",
           "Are you able to provide a screenshot of the progra"
          ],
          [
           "FidoTheDisingenuous",
           "/r/Python/comments/g10v5z/i_made_a_python_script_to_download_subtitles_for/fngpo1k/",
           "Your \"Progressive\" is conservative to me if you st"
          ],
          [
           "pythonHelperBot",
           "/r/Python/comments/g1ns0l/how_effectively_can_one_learn_python_from_a/fngodtd/",
           "Hello! I'm a bot!\n\nI see someone has already sugge"
          ],
          [
           "phoenixind",
           "/r/Python/comments/g1conv/i_made_a_randomized_binary_tree_python_tkinter/fngomqz/",
           "Loved it! Just wondering how to use this in an act"
          ],
          [
           "justingolden21",
           "/r/Python/comments/g1onw8/i_keep_trying_to_get_pip_to_work_and_it_always/fngs0t8/",
           "Thanks in advance to anyone who can help me with t"
          ],
          [
           "danielroseman",
           "/r/Python/comments/g1onw8/i_keep_trying_to_get_pip_to_work_and_it_always/fngtna8/",
           "It says clearly that the directory is *not* on you"
          ],
          [
           "justingolden21",
           "/r/Python/comments/g1onw8/i_keep_trying_to_get_pip_to_work_and_it_always/fngs1wa/",
           "Nope, just windows 10"
          ],
          [
           "TouchingTheVodka",
           "/r/Python/comments/g1onw8/i_keep_trying_to_get_pip_to_work_and_it_always/fngs446/",
           "Weird.\n\nI had a similar problem and I solved it by"
          ],
          [
           "jyper",
           "/r/Python/comments/g1lq2b/python_programming_is_drowning_in_red_tape_my/fngxk1y/",
           "I was curious when he mentioned Ward and it looks "
          ],
          [
           "DevTomar2005",
           "/r/Python/comments/g1pn2c/i_cant_understand_how_it_works/fngxsva/",
           "I understand what it does but not how it does it.\n"
          ],
          [
           "ChrisBez87",
           "/r/Python/comments/g1adit/i_made_my_first_game_in_python_thanks_uriles0829/fngytbm/",
           "Im sure you will! Python is the best, there is jus"
          ],
          [
           "funkenpedro",
           "/r/Python/comments/g1l9q9/fractal_rendering_tool_i_made_with_no_initial/fngyy70/",
           "Really nice. Can you share your code?"
          ],
          [
           "Keterz",
           "/r/Python/comments/g0g728/how_to_make_python_script_proprietary/fngy86v/",
           "Cython."
          ],
          [
           "ChrisBez87",
           "/r/Python/comments/g1adit/i_made_my_first_game_in_python_thanks_uriles0829/fngzfuu/",
           "Ahh I love that guy, subscribe to him on YouTube. "
          ],
          [
           "coder_et",
           "/r/Python/comments/g0zlcv/coding_demo_for_the_tom_scott_this_video_has/fnco5du/",
           "r/python r/programming"
          ],
          [
           "Sub_to_pewezzz1",
           "/r/Python/comments/g17o6h/why_the_error_pls_answer/fndw12e/",
           "Why and how"
          ],
          [
           "FidoTheDisingenuous",
           "/r/Python/comments/g10v5z/i_made_a_python_script_to_download_subtitles_for/fnfd49s/",
           "I'm a semiotic anthropologist. This is me realizin"
          ],
          [
           "Schneggl",
           "/r/Python/comments/g113ug/im_new_to_python_and_wanted_to_install_pillow/fncws05/",
           "I got it now, thanks. I got another question, why "
          ],
          [
           "mnsicbox",
           "/r/Python/comments/g10v5z/i_made_a_python_script_to_download_subtitles_for/fnghg30/",
           "Don't use emojis. This is Reddit."
          ],
          [
           "saytannblazes",
           "/r/Python/comments/g10v5z/i_made_a_python_script_to_download_subtitles_for/fngms30/",
           "Ok boomer"
          ],
          [
           "AltezaHumilde",
           "/r/Python/comments/g10v5z/i_made_a_python_script_to_download_subtitles_for/fngpk6c/",
           "You should open your heart and be polite, now go b"
          ],
          [
           "saytannblazes",
           "/r/Python/comments/g10v5z/i_made_a_python_script_to_download_subtitles_for/fngpfs1/",
           "Again,\n\n“You don’t like it? Move on. Not everythin"
          ],
          [
           "saytannblazes",
           "/r/Python/comments/g10v5z/i_made_a_python_script_to_download_subtitles_for/fngq22i/",
           "I just really wish you understood irony. HAHAHAH"
          ],
          [
           "InputField",
           "/r/Python/comments/g0qnsv/anyone_else_wants_assignment_expressions_reverted/fnba98w/",
           "Huh? I never said, I plan to stop using Python. \n\n"
          ],
          [
           "FidoTheDisingenuous",
           "/r/Python/comments/g10v5z/i_made_a_python_script_to_download_subtitles_for/fnebpbe/",
           "Imagine not being offended by colonialism."
          ],
          [
           "nice-scores",
           "/r/Python/comments/g0fz1e/generating_a_random_maze_using_prims_algorithm/fnblysr/",
           "𝓷𝓲𝓬𝓮 ☜(ﾟヮﾟ☜)\n#Nice Leaderboard\n**1.** `u/RepliesNi"
          ],
          [
           "pythonHelperBot",
           "/r/Python/comments/g0qnsv/anyone_else_wants_assignment_expressions_reverted/fnbllxm/",
           "Hello! I'm a bot!\n\nIt looks to me like your post m"
          ],
          [
           "saytannblazes",
           "/r/Python/comments/g10v5z/i_made_a_python_script_to_download_subtitles_for/fngp3tm/",
           "Says the dude who really just spent his time shitt"
          ],
          [
           "BubblyMethod9",
           "/r/Python/comments/g0oe5a/how_to_run_function_through_a_list/fnat40u/",
           "I am sorry but I am new to python so I don't quite"
          ],
          [
           "[deleted]",
           "/r/Python/comments/g0qnsv/anyone_else_wants_assignment_expressions_reverted/fnb4tqz/",
           "[deleted]"
          ],
          [
           "PeterMoresco",
           "/r/Python/comments/g0qobg/i_made_a_python_program_which_models_the/fnc7ckm/",
           "Hey, nice code! Have checked out this [model](http"
          ],
          [
           "Chemracer",
           "/r/Python/comments/g167bf/whats_everyone_working_on_this_week/fndo7eo/",
           "A quantum chemistry machine learning project"
          ],
          [
           "shadowsmith98",
           "/r/Python/comments/g10v5z/i_made_a_python_script_to_download_subtitles_for/fneda4b/",
           "Why are you so sensitive?"
          ],
          [
           "stevenjd",
           "/r/Python/comments/fyzbl1/does_anyone_know_whats_going_on_with_contributors/fncoint/",
           "I'm glad you mentioned van Gogh, because he was [a"
          ],
          [
           "Fanshiboi",
           "/r/Python/comments/g10v5z/i_made_a_python_script_to_download_subtitles_for/fnd9t8t/",
           "Because its a picture, it's art form, photographer"
          ],
          [
           "ah_86",
           "/r/Python/comments/g10v5z/i_made_a_python_script_to_download_subtitles_for/fne6drn/",
           "That script only works on Windows, right?"
          ],
          [
           "Haxican",
           "/r/Python/comments/g10v5z/i_made_a_python_script_to_download_subtitles_for/fndotvr/",
           "Imagine being this obtuse."
          ],
          [
           "rezoreziko",
           "/r/Python/comments/g0zhz4/dating_life_beside_a_busy_job_as_a_developer/fncvxvs/",
           "&gt;Looks like the bot is getting a overzealous wi"
          ],
          [
           "Hens1i",
           "/r/Python/comments/g1jz58/if_anyone_can_make_a_script_for_this_i_will_pay/fng2abr/",
           "I have some files that would help you with it."
          ],
          [
           "FidoTheDisingenuous",
           "/r/Python/comments/g10v5z/i_made_a_python_script_to_download_subtitles_for/fngoze8/",
           "You know that was started by leftists right? So us"
          ],
          [
           "yvcii",
           "/r/Python/comments/g1nuy0/request_is_there_any_python_tool_to_download_a/fngoctl/",
           "Be honest,  you want to use offline data, do you w"
          ],
          [
           "saytannblazes",
           "/r/Python/comments/g10v5z/i_made_a_python_script_to_download_subtitles_for/fngpcm3/",
           "You realize what subreddit you’re in, right?"
          ],
          [
           "harshpatel8779",
           "/r/Python/comments/g1conv/i_made_a_randomized_binary_tree_python_tkinter/fngyntm/",
           "Happy cake day!"
          ],
          [
           "coder_et",
           "/r/Python/comments/g0zts2/coding_demo_for_the_tom_scott_this_video_has/fncq856/",
           "r/python r/programming"
          ],
          [
           "Hens1i",
           "/r/Python/comments/g1jz58/if_anyone_can_make_a_script_for_this_i_will_pay/fngkytx/",
           "And?"
          ],
          [
           "Hayvan-Boris",
           "/r/Python/comments/g10v5z/i_made_a_python_script_to_download_subtitles_for/fndv0c3/",
           "Congratulations gj. Where I can get your wallpaper"
          ],
          [
           "Hens1i",
           "/r/Python/comments/g1jz58/if_anyone_can_make_a_script_for_this_i_will_pay/fngkxb5/",
           "What if it is"
          ],
          [
           "FidoTheDisingenuous",
           "/r/Python/comments/g10v5z/i_made_a_python_script_to_download_subtitles_for/fnezoiv/",
           "Because it replaces real indigenous culture with a"
          ],
          [
           "pythonHelperBot",
           "/r/Python/comments/g0zhz4/dating_life_beside_a_busy_job_as_a_developer/fncnqtv/",
           "Hello! I'm a bot!\n\nIt looks to me like your post m"
          ],
          [
           "FidoTheDisingenuous",
           "/r/Python/comments/g10v5z/i_made_a_python_script_to_download_subtitles_for/fnd9z2d/",
           "That can also be offensive yes. Like Indian mascot"
          ],
          [
           "agree-with-you",
           "/r/Python/comments/g10v5z/i_made_a_python_script_to_download_subtitles_for/fnejs3k/",
           "No you both"
          ],
          [
           "drpepper",
           "/r/Python/comments/g10v5z/i_made_a_python_script_to_download_subtitles_for/fndzz75/",
           "give me your email. ill send an offensive wall pap"
          ],
          [
           "Mattwmaster58",
           "/r/Python/comments/g0lndd/i_made_a_file_arranger_any_suggestions_github/fnb1jkc/",
           "I think this would be more suited for /r/learnpyth"
          ],
          [
           "baby__groot",
           "/r/Python/comments/g10v5z/i_made_a_python_script_to_download_subtitles_for/fndqr1z/",
           "Great, but I do not see any use of this. Most of t"
          ],
          [
           "FidoTheDisingenuous",
           "/r/Python/comments/g10v5z/i_made_a_python_script_to_download_subtitles_for/fnekk5z/",
           "No u both"
          ],
          [
           "NevadaPurple",
           "/r/Python/comments/g10kyu/a_web_app_that_counts_the_number_of_days_until/fncuvjk/",
           "This bot never should have been developed in the f"
          ],
          [
           "FidoTheDisingenuous",
           "/r/Python/comments/g10v5z/i_made_a_python_script_to_download_subtitles_for/fnd9e9f/",
           "Because it's not cool to appropriate the culture o"
          ],
          [
           "FidoTheDisingenuous",
           "/r/Python/comments/g10v5z/i_made_a_python_script_to_download_subtitles_for/fnd8rdz/",
           "Yeah but I'm also right so how about you don't be "
          ],
          [
           "FidoTheDisingenuous",
           "/r/Python/comments/g10v5z/i_made_a_python_script_to_download_subtitles_for/fnelna3/",
           "It's not cool at all. In fact in continues the gen"
          ],
          [
           "FidoTheDisingenuous",
           "/r/Python/comments/g10v5z/i_made_a_python_script_to_download_subtitles_for/fnd8g54/",
           "Not to be that guy but your background could be pr"
          ],
          [
           "FidoTheDisingenuous",
           "/r/Python/comments/g10v5z/i_made_a_python_script_to_download_subtitles_for/fnejru8/",
           "No u"
          ],
          [
           "FidoTheDisingenuous",
           "/r/Python/comments/g10v5z/i_made_a_python_script_to_download_subtitles_for/fnecivt/",
           "Hijacking top comment because the assholes in this"
          ]
         ],
         "hoverlabel": {
          "namelength": 0
         },
         "hovertemplate": "Date comment was posted=%{x}<br>Comment Positivity=%{y}<br>score=%{marker.size}<br>author=%{customdata[0]}<br>permalink=%{customdata[1]}<br>preview=%{customdata[2]}<br>sentiment_subjectivity=%{marker.color}",
         "legendgroup": "",
         "marker": {
          "color": [
           0.6416666666666666,
           0.65,
           0,
           0,
           0.4122474747474748,
           0.5062500000000001,
           0.47575757575757577,
           0,
           0.43333333333333335,
           1,
           0.6666666666666666,
           0,
           0.6,
           1,
           0.5433333333333333,
           0.31111111111111106,
           0.3333333333333333,
           0,
           1,
           0.6,
           0.55,
           0,
           0.5,
           0.46011904761904765,
           0,
           0.36904761904761907,
           0.55,
           0.7066666666666667,
           0.8,
           0,
           0,
           0.35714285714285715,
           0.06666666666666667,
           0.46366666666666667,
           0.46522108843537413,
           0,
           0.6,
           0.41111111111111115,
           0.43125,
           0.461111111111111,
           0.2,
           0,
           0.4772727272727273,
           0.2,
           0,
           0.45454545454545453,
           0,
           0.8333333333333334,
           0.7962962962962963,
           0,
           1,
           0.5527777777777777,
           0.6000000000000001,
           0.3041666666666667,
           0,
           0,
           0.36810776942355894,
           0.5097883597883598,
           0.7250000000000001,
           0.5123015873015873,
           0.875,
           0.6877777777777778,
           1,
           0,
           0.3,
           0,
           0.43333333333333335,
           0.5479166666666666,
           0.5708333333333333,
           0.2,
           0.95,
           0.5,
           0.4361111111111111,
           0.2,
           0.39124649859943983,
           0,
           0.7,
           0,
           0.15000000000000002,
           0.4,
           0.5403198653198653,
           0,
           0,
           0.475,
           0.30000000000000004,
           0.4292929292929293,
           0.5,
           0,
           0.3491071428571429,
           0.5480725623582767,
           0.4172619047619048,
           0.31666666666666665,
           0.4483333333333333,
           1,
           0,
           0,
           0.5065996095407861,
           0.8875,
           0.5,
           0.5884479717813051,
           0.2,
           0.2888888888888889,
           0,
           0.9,
           1,
           0,
           0.5235383597883598,
           0.5339285714285714,
           0.545,
           0.2,
           0.6625,
           0.30000000000000004,
           0.6777777777777777,
           1,
           0.75,
           0,
           0.25738636363636364,
           0.3642857142857143,
           0.5722222222222223,
           0.35000000000000003,
           0.6875,
           0.2,
           0.46,
           0,
           0.5218559218559219,
           0.2,
           0.5,
           0.8,
           0.5625,
           0.38333333333333336,
           0,
           0.6166666666666667,
           0.4649725274725275,
           0.5499999999999999,
           1,
           0.5,
           0,
           0.4,
           0.5333333333333333,
           0,
           1,
           0.2,
           0,
           0.35,
           0,
           0.35000000000000003,
           0.41648148148148156,
           0.13541666666666666,
           0.3488095238095238,
           0.6000000000000001,
           0.9,
           1,
           0.59375,
           0.4,
           0.2,
           0,
           0.42857142857142855,
           0.2,
           0.4208333333333334,
           0.8020833333333334,
           0.6,
           0.4372916666666667,
           0.5218559218559219,
           0.5708333333333334,
           1,
           0.4762626262626263,
           0.2824675324675325,
           0.44238351254480285,
           0.5218559218559219,
           0,
           0.3333333333333333,
           0.41041666666666665,
           0.5333333333333333,
           1,
           0.9,
           0.8,
           0.9,
           0.5,
           0.44166666666666665,
           0.5218559218559219,
           0.5588624338624338,
           0.5874999999999999,
           0.5218559218559219,
           0.5738095238095239,
           0.275,
           0,
           0.18888888888888888,
           0.3936507936507937,
           0.6416666666666666,
           0.10833333333333334,
           0,
           0.75,
           0.35000000000000003,
           0.5218559218559219,
           1,
           0.35,
           0.375,
           1,
           0.59375,
           0.2,
           0.4857142857142857,
           0.6347222222222223,
           0.5480725623582767,
           0.5218559218559219,
           0,
           0.5,
           0.4,
           0.475,
           0,
           0.6777777777777777,
           0,
           0.55,
           0.4,
           0,
           0,
           1,
           0.8666666666666667,
           1,
           0.41666666666666663,
           0,
           0.55,
           0.5480725623582767,
           0.55,
           0,
           0.09999999999999999,
           0,
           0.44166666666666665,
           1,
           0.5218559218559219,
           0.75,
           0.2,
           0.37111111111111117,
           0.575925925925926,
           1,
           0,
           0,
           1,
           0.5,
           0.4,
           0.5183333333333333,
           0.7,
           0.825,
           1,
           0.4912698412698413,
           0,
           0.6000000000000001,
           0.5196428571428572,
           0.6476190476190476,
           0.7000000000000001,
           0.49583333333333335,
           0.25,
           1,
           0.40208333333333335,
           0,
           0,
           0.5616071428571429,
           0,
           0.95,
           0,
           0.5011904761904762,
           0.4731481481481481,
           0.6491341991341992,
           0,
           0.4405328798185941,
           0.7,
           0.4788461538461538,
           0.42500000000000004,
           0.41464646464646465,
           0,
           0.5218559218559219,
           0.3333333333333333,
           0.5,
           0.475,
           0,
           0.875,
           0.6,
           0.95,
           0.5875,
           0,
           0.61,
           1,
           0.9199999999999999,
           1,
           0.825,
           0,
           0.655,
           0.8333333333333334,
           0.3333333333333333,
           0.3125,
           0.75,
           1,
           1,
           1,
           0.3,
           0.6,
           0.37256493506493504,
           0,
           0.55,
           0,
           0.125,
           0,
           0.5,
           0.30000000000000004,
           0.4375,
           0.5480725623582767,
           0.540530303030303,
           0.23333333333333334,
           0.575,
           0.2,
           0.5218559218559219,
           0,
           1,
           0.53125,
           0,
           1,
           0.4772727272727273,
           0.05,
           0,
           0.2,
           0,
           0.39375,
           0.8392857142857143,
           0.3678571428571429,
           0,
           0.62,
           0.5,
           0.375,
           0.30000000000000004,
           0.5218559218559219,
           0,
           0.9166666666666667,
           0.35,
           0.6392857142857142,
           0,
           0.5218559218559219,
           0,
           0,
           0.55,
           0.5,
           0.2,
           0,
           0.8450000000000001,
           0.9,
           0.7666666666666666,
           0.6,
           0.31666666666666665,
           0.5449999999999999,
           0,
           0.2928571428571428,
           1,
           0.3839285714285714,
           0.48259637188208615,
           0,
           0.55,
           0.5218559218559219,
           0.75,
           0.7250000000000001,
           0.4166666666666667,
           0.5218559218559219,
           0.3466666666666667,
           0,
           0.4,
           0,
           1,
           0.55,
           0.3,
           0.4,
           0.6,
           0.30000000000000004,
           0.32244897959183677,
           0,
           0.4,
           0,
           0.3466666666666667,
           0.5218559218559219,
           0,
           0.2,
           0,
           0,
           0,
           0.2,
           0.43526785714285715,
           0,
           1,
           0,
           0.45,
           0.5218559218559219,
           0,
           0,
           0.5,
           0.64,
           0.5218559218559219,
           0.5480725623582767,
           0,
           0.5218559218559219,
           0.4405328798185941,
           0.35,
           0,
           0.16666666666666666,
           0.6291666666666667,
           0,
           1,
           0,
           0.44166666666666665,
           0.4123076923076924,
           0,
           0.5218559218559219,
           0.4607142857142857,
           0,
           0.364375,
           0.5218559218559219,
           0.5218559218559219,
           0.7,
           0,
           0.6,
           1,
           0.3277777777777778,
           0.875,
           0.4,
           0.2,
           0.3692063492063492,
           0.875,
           0,
           0,
           0.39999999999999997,
           0.7999999999999999,
           0.6972222222222222,
           1,
           0.7,
           0.5,
           0.7250000000000001,
           0.3466666666666667,
           0.5218559218559219,
           0.5235383597883598,
           0,
           0.7416666666666667,
           0.4666666666666667,
           0.5218559218559219,
           0.6196428571428572,
           0.5255952380952381,
           0.3585164835164836,
           0.2,
           0.2,
           0.5480725623582767,
           0.6785714285714285,
           0.2,
           0.4776785714285714,
           0.4912698412698413,
           0,
           0,
           1,
           0,
           0,
           0.4527777777777778,
           0,
           0.3466666666666667,
           0.1,
           0,
           0,
           0.5218559218559219,
           0.6,
           0.6962962962962963,
           0.25,
           0,
           0.9,
           0,
           0.586111111111111,
           0,
           0.5218559218559219,
           0.5218559218559219,
           0.3833333333333333,
           1,
           0.6000000000000001,
           1,
           0.5909090909090909,
           0.55,
           0.465,
           0.53125,
           0,
           0.6772727272727272,
           0.5166666666666666,
           0.7166666666666667,
           0.6166666666666667,
           0,
           0.3466666666666667,
           0.2,
           0.6000000000000001,
           0.6681818181818181,
           0.19375,
           0.5,
           0.23500000000000001,
           0.7222222222222222,
           0.4611111111111111,
           0,
           0.5480725623582767,
           0.4712962962962963,
           0.3375,
           0.44222222222222224,
           0.575,
           0,
           0,
           0,
           0.4,
           0.5235383597883598,
           0.125,
           0.75,
           0.7,
           0,
           0.7250000000000001,
           0.5218559218559219,
           0.6047222222222223,
           0.7678571428571428,
           0,
           0.325,
           0.3333333333333333,
           0.41041666666666665,
           0.2,
           0,
           0,
           0.625,
           0.3466666666666667,
           0.2,
           0.625,
           0.3466666666666667,
           1,
           0.775,
           0.35,
           0.5218559218559219,
           1,
           0,
           0.3678571428571429,
           0.33214285714285713,
           0,
           0.5375,
           0.4912698412698413,
           0.6375,
           0.24444444444444446,
           0,
           0,
           0.4745915032679739,
           0.6666666666666666,
           0.5349999999999999,
           0,
           0.25,
           0.45454545454545453,
           0.26222222222222225,
           0.3466666666666667,
           0.5218559218559219,
           0.4305555555555556,
           0.2,
           0.4435714285714286,
           1,
           0.55,
           0,
           0.5218559218559219,
           0.3961309523809523,
           0.06222222222222223,
           0.46,
           0.65,
           0.5218559218559219,
           0.3466666666666667,
           0.3819444444444444,
           0.2,
           0.5966666666666667,
           0.40008771929824555,
           0.5218559218559219,
           0.3466666666666667,
           0.49318181818181817,
           0.44285714285714284,
           0,
           0.5392857142857143,
           0.7333333333333334,
           0.3944444444444445,
           0,
           0.3041666666666667,
           0.35714285714285715,
           0.6,
           1,
           0,
           0,
           0.35833333333333334,
           0.125,
           0.5646989374262101,
           0,
           0.3,
           0.5728114478114478,
           0,
           0,
           0.30000000000000004,
           0.5218559218559219,
           0,
           0.6,
           0,
           0.5,
           0,
           0.5731481481481481,
           1,
           0,
           0.825,
           1,
           0.5,
           0.25833333333333336,
           0.35714285714285715,
           0,
           0.1,
           0,
           0.5,
           0,
           0.7958333333333334,
           0.3708333333333333,
           0.38690476190476186,
           0.385,
           0.47988034188034195,
           0.48625000000000007,
           1,
           0.5218559218559219,
           0.6166666666666666,
           0.4912698412698413,
           0.3466666666666667,
           0.5218559218559219,
           0.5218559218559219,
           0.49895833333333334,
           1,
           0,
           1,
           0.5218559218559219,
           0.35,
           0.19166666666666665,
           0.5,
           0.3466666666666667,
           0.5218559218559219,
           0.65,
           0.3583333333333334,
           0.6984375,
           0.3466666666666667,
           0.5285714285714286,
           0.3466666666666667,
           0.3466666666666667,
           0.5174107142857143,
           1,
           0,
           0.2,
           0.3638888888888889,
           0.4767195767195768,
           0.4694444444444444,
           0.6,
           0.5147959183673468,
           0.5218559218559219,
           0.6818888888888889,
           0,
           0.39999999999999997,
           0,
           0.5,
           0,
           0,
           0,
           0.75,
           0.3125,
           0.2,
           1,
           0,
           0.5218559218559219,
           0.6,
           0.875,
           0.65,
           0.6220982142857143,
           0.45555555555555555,
           0.3888888888888889,
           0.5,
           0.40625,
           0.5625,
           1,
           0.3933333333333333,
           0.5333333333333333,
           0.43625,
           0.5218559218559219,
           0.3466666666666667,
           0.3666666666666667,
           0.5218559218559219,
           0.2,
           0.5961309523809524,
           0,
           0.3466666666666667,
           0.5480725623582767,
           0.2,
           0.5218559218559219,
           0.6833333333333332,
           0,
           0,
           0.2,
           0.5,
           0.41111111111111115,
           0.7749999999999999,
           0.5218559218559219,
           0.9,
           0,
           0,
           1,
           0.4,
           0.5218559218559219,
           0.5218559218559219,
           0.3466666666666667,
           0,
           0,
           0.2,
           0.5218559218559219,
           0,
           0,
           0.7833333333333332,
           0,
           1,
           0,
           0.75,
           0.5,
           1,
           0.6,
           0.8571428571428571,
           0.5016666666666667,
           0.55,
           0.3375,
           0.8888888888888888,
           0,
           0.5218559218559219,
           0.5218559218559219,
           0.2111111111111111,
           0,
           0.5218559218559219,
           0.75,
           0,
           0,
           0.40625,
           1,
           0.3883333333333333,
           0.45369318181818186,
           0.175,
           0.3466666666666667,
           0.4912698412698413,
           0.75,
           0,
           0.5218559218559219,
           0.5515873015873015,
           0.4912698412698413,
           0.6071428571428571,
           1,
           0.3466666666666667,
           0.28125,
           0.3466666666666667,
           0.4375,
           0.45416666666666666,
           0.5166666666666667,
           0.5666666666666667,
           0,
           0.7142857142857143,
           0.625,
           0,
           0,
           0.2,
           0.4981481481481482,
           1,
           0.825,
           0.7,
           0,
           0,
           0.06666666666666667,
           0,
           0.2,
           0.2,
           0.4912698412698413,
           0,
           0.6,
           0.6,
           0.40995370370370376,
           0.5218559218559219,
           0.7666666666666666,
           0,
           0,
           0.3740196078431373,
           0.5444444444444444,
           0.6,
           0.2,
           0.65,
           0.65,
           0,
           0,
           0.5452380952380952,
           0,
           0.67,
           0.5,
           0.49375,
           1,
           0.5480725623582767,
           0.4622507122507123,
           0,
           0,
           0.5218559218559219,
           0.6666666666666666,
           0.34722222222222215,
           0,
           0.5218559218559219,
           0.3833333333333333,
           0.34523809523809523,
           0,
           0,
           0.375,
           0.525,
           0.8452380952380952,
           0,
           0.3333333333333333,
           0.3875,
           0,
           0.5892857142857143,
           0.45333333333333337,
           0,
           0,
           0,
           0.5,
           0,
           0.21428571428571427,
           0.5233758692997823,
           0.4625,
           0.3111111111111111,
           0.19166666666666668,
           0.5480725623582767,
           0.75,
           0.21726190476190477,
           0.2866666666666667,
           1,
           0,
           1,
           0.375,
           0.5218559218559219,
           0.55,
           0.1,
           0.2,
           0.1,
           0.5155578898225956,
           0.9,
           0.42857142857142855,
           0,
           0.75,
           1,
           0.49062500000000003,
           0.5,
           0.5218559218559219,
           0.1125,
           0.6296296296296297,
           0.5218559218559219,
           0.5499999999999999,
           0,
           0,
           0.5333333333333333,
           0.625,
           0,
           0.5235383597883598,
           0.45,
           0.39226190476190476,
           0.3833333333333333,
           0,
           0.5981481481481482,
           0.7976190476190476,
           0,
           0.46296296296296297,
           1,
           0,
           0.45416666666666666,
           0,
           0,
           0,
           0.4,
           0,
           0.5,
           0.5,
           0.46666666666666673,
           0.2,
           0.5,
           0,
           1,
           0.4912698412698413,
           0.3630952380952381,
           0.7140151515151515,
           0,
           1,
           0,
           0.9,
           0.6326923076923078,
           0.8125,
           0.7678571428571428,
           0,
           0.25,
           0,
           0.6785714285714285,
           0.8500000000000001,
           0.5357142857142857,
           1,
           0,
           0,
           0,
           0,
           0.15000000000000002,
           0.5218559218559219,
           0.5,
           0,
           1,
           0.5,
           0.4166666666666667,
           0,
           0.37777777777777777,
           0.31999999999999995,
           0.5678571428571428,
           0.65,
           0.8013888888888889,
           0,
           0.4468253968253968
          ],
          "coloraxis": "coloraxis",
          "size": [
           68,
           52,
           51,
           46,
           25,
           25,
           24,
           22,
           19,
           19,
           18,
           18,
           17,
           16,
           16,
           16,
           13,
           13,
           12,
           12,
           12,
           11,
           11,
           11,
           10,
           10,
           10,
           10,
           9,
           9,
           9,
           9,
           9,
           8,
           8,
           8,
           8,
           7,
           7,
           7,
           7,
           7,
           7,
           7,
           7,
           7,
           7,
           7,
           6,
           6,
           6,
           6,
           6,
           6,
           6,
           6,
           6,
           6,
           5,
           5,
           5,
           5,
           5,
           5,
           5,
           5,
           5,
           5,
           5,
           5,
           5,
           5,
           5,
           5,
           5,
           5,
           5,
           4,
           4,
           4,
           4,
           4,
           4,
           4,
           4,
           4,
           4,
           4,
           4,
           4,
           4,
           4,
           4,
           4,
           4,
           4,
           4,
           4,
           4,
           4,
           4,
           4,
           4,
           4,
           4,
           3,
           3,
           3,
           3,
           3,
           3,
           3,
           3,
           3,
           3,
           3,
           3,
           3,
           3,
           3,
           3,
           3,
           3,
           3,
           3,
           3,
           3,
           3,
           3,
           3,
           3,
           3,
           3,
           3,
           3,
           3,
           3,
           3,
           3,
           3,
           3,
           3,
           3,
           3,
           3,
           3,
           3,
           3,
           3,
           3,
           3,
           3,
           3,
           3,
           3,
           3,
           3,
           3,
           3,
           3,
           3,
           3,
           2,
           2,
           2,
           2,
           2,
           2,
           2,
           2,
           2,
           2,
           2,
           2,
           2,
           2,
           2,
           2,
           2,
           2,
           2,
           2,
           2,
           2,
           2,
           2,
           2,
           2,
           2,
           2,
           2,
           2,
           2,
           2,
           2,
           2,
           2,
           2,
           2,
           2,
           2,
           2,
           2,
           2,
           2,
           2,
           2,
           2,
           2,
           2,
           2,
           2,
           2,
           2,
           2,
           2,
           2,
           2,
           2,
           2,
           2,
           2,
           2,
           2,
           2,
           2,
           2,
           2,
           2,
           2,
           2,
           2,
           2,
           2,
           2,
           2,
           2,
           2,
           2,
           2,
           2,
           2,
           2,
           2,
           2,
           2,
           2,
           2,
           2,
           2,
           2,
           2,
           2,
           2,
           2,
           2,
           2,
           2,
           2,
           2,
           2,
           2,
           2,
           2,
           2,
           2,
           2,
           2,
           2,
           2,
           2,
           2,
           2,
           2,
           2,
           2,
           2,
           2,
           2,
           2,
           2,
           2,
           2,
           2,
           2,
           2,
           2,
           2,
           2,
           2,
           2,
           2,
           2,
           2,
           2,
           2,
           2,
           2,
           2,
           2,
           2,
           2,
           2,
           2,
           2,
           2,
           2,
           2,
           2,
           2,
           2,
           2,
           2,
           2,
           2,
           2,
           2,
           2,
           2,
           2,
           2,
           2,
           2,
           2,
           2,
           2,
           2,
           2,
           2,
           2,
           2,
           2,
           2,
           2,
           2,
           2,
           2,
           2,
           2,
           2,
           2,
           2,
           2,
           2,
           2,
           2,
           2,
           2,
           2,
           2,
           2,
           2,
           2,
           2,
           2,
           2,
           2,
           1,
           1,
           1,
           1,
           1,
           1,
           1,
           1,
           1,
           1,
           1,
           1,
           1,
           1,
           1,
           1,
           1,
           1,
           1,
           1,
           1,
           1,
           1,
           1,
           1,
           1,
           1,
           1,
           1,
           1,
           1,
           1,
           1,
           1,
           1,
           1,
           1,
           1,
           1,
           1,
           1,
           1,
           1,
           1,
           1,
           1,
           1,
           1,
           1,
           1,
           1,
           1,
           1,
           1,
           1,
           1,
           1,
           1,
           1,
           1,
           1,
           1,
           1,
           1,
           1,
           1,
           1,
           1,
           1,
           1,
           1,
           1,
           1,
           1,
           1,
           1,
           1,
           1,
           1,
           1,
           1,
           1,
           1,
           1,
           1,
           1,
           1,
           1,
           1,
           1,
           1,
           1,
           1,
           1,
           1,
           1,
           1,
           1,
           1,
           1,
           1,
           1,
           1,
           1,
           1,
           1,
           1,
           1,
           1,
           1,
           1,
           1,
           1,
           1,
           1,
           1,
           1,
           1,
           1,
           1,
           1,
           1,
           1,
           1,
           1,
           1,
           1,
           1,
           1,
           1,
           1,
           1,
           1,
           1,
           1,
           1,
           1,
           1,
           1,
           1,
           1,
           1,
           1,
           1,
           1,
           1,
           1,
           1,
           1,
           1,
           1,
           1,
           1,
           1,
           1,
           1,
           1,
           1,
           1,
           1,
           1,
           1,
           1,
           1,
           1,
           1,
           1,
           1,
           1,
           1,
           1,
           1,
           1,
           1,
           1,
           1,
           1,
           1,
           1,
           1,
           1,
           1,
           1,
           1,
           1,
           1,
           1,
           1,
           1,
           1,
           1,
           1,
           1,
           1,
           1,
           1,
           1,
           1,
           1,
           1,
           1,
           1,
           1,
           1,
           1,
           1,
           1,
           1,
           1,
           1,
           1,
           1,
           1,
           1,
           1,
           1,
           1,
           1,
           1,
           1,
           1,
           1,
           1,
           1,
           1,
           1,
           1,
           1,
           1,
           1,
           1,
           1,
           1,
           1,
           1,
           1,
           1,
           1,
           1,
           1,
           1,
           1,
           1,
           1,
           1,
           1,
           1,
           1,
           1,
           1,
           1,
           1,
           1,
           1,
           1,
           1,
           1,
           1,
           1,
           1,
           1,
           1,
           1,
           1,
           1,
           1,
           1,
           1,
           1,
           1,
           1,
           1,
           1,
           1,
           1,
           1,
           1,
           1,
           1,
           1,
           1,
           1,
           1,
           1,
           1,
           1,
           1,
           1,
           1,
           1,
           1,
           1,
           1,
           1,
           1,
           1,
           1,
           1,
           1,
           1,
           1,
           1,
           1,
           1,
           1,
           1,
           1,
           1,
           1,
           1,
           1,
           1,
           1,
           1,
           1,
           1,
           1,
           1,
           1,
           1,
           1,
           1,
           1,
           1,
           1,
           1,
           1,
           1,
           1,
           1,
           1,
           1,
           1,
           1,
           1,
           1,
           1,
           1,
           1,
           1,
           1,
           1,
           1,
           1,
           1,
           1,
           1,
           1,
           1,
           1,
           1,
           1,
           1,
           1,
           1,
           1,
           1,
           1,
           1,
           1,
           1,
           1,
           1,
           1,
           1,
           1,
           1,
           1,
           1,
           1,
           1,
           1,
           1,
           1,
           1,
           1,
           1,
           1,
           1,
           1,
           1,
           1,
           1,
           1,
           1,
           1,
           1,
           1,
           1,
           1,
           1,
           1,
           1,
           1,
           1,
           1,
           1,
           1,
           1,
           1,
           1,
           1,
           1,
           1,
           1,
           1,
           1,
           1,
           1,
           1,
           1,
           1,
           1,
           1,
           1,
           1,
           1,
           1,
           1,
           1,
           1,
           1,
           1,
           1,
           1,
           1,
           1,
           1,
           1,
           1,
           1,
           1,
           1,
           1,
           1,
           1,
           1,
           1,
           1,
           1,
           1,
           1,
           1,
           1,
           1,
           1,
           1,
           1,
           1,
           1,
           1,
           1,
           1,
           1,
           1,
           1,
           1,
           1,
           1,
           1,
           1,
           1,
           1,
           1,
           1,
           1,
           1,
           1,
           1,
           1,
           1,
           1,
           1,
           1,
           1,
           1,
           1,
           1,
           1,
           1,
           1,
           1,
           1,
           1,
           1,
           1,
           1,
           1,
           1,
           1,
           1,
           1,
           1,
           1,
           1,
           1,
           1,
           1,
           1,
           1,
           1,
           1,
           1,
           1,
           1,
           1,
           1,
           1,
           0,
           0,
           0,
           0,
           0,
           0,
           0,
           0,
           0,
           0,
           0,
           0,
           0,
           0,
           0,
           0,
           0,
           0,
           0,
           0,
           0,
           0,
           0,
           0,
           0,
           0,
           0,
           0,
           0,
           0,
           0,
           0,
           0,
           0,
           0,
           0,
           0,
           0,
           0,
           0,
           0,
           0,
           0,
           0,
           0,
           0,
           0,
           0
          ],
          "sizemode": "area",
          "sizeref": 0.07555555555555556,
          "symbol": "circle"
         },
         "mode": "markers",
         "name": "",
         "showlegend": false,
         "type": "scatter",
         "x": [
          "2020-04-14T09:04:52",
          "2020-04-14T22:07:07",
          "2020-04-14T22:00:12",
          "2020-04-14T07:08:58",
          "2020-04-14T12:13:01",
          "2020-04-13T18:15:07",
          "2020-04-14T01:39:35",
          "2020-04-14T13:33:09",
          "2020-04-14T21:31:00",
          "2020-04-14T13:09:24",
          "2020-04-14T09:09:21",
          "2020-04-14T10:37:21",
          "2020-04-15T04:59:47",
          "2020-04-14T07:53:58",
          "2020-04-13T20:34:53",
          "2020-04-14T09:56:10",
          "2020-04-14T08:47:17",
          "2020-04-14T01:04:52",
          "2020-04-14T08:21:43",
          "2020-04-14T21:32:52",
          "2020-04-14T21:35:54",
          "2020-04-14T09:10:11",
          "2020-04-14T21:25:44",
          "2020-04-15T10:30:45",
          "2020-04-14T09:56:16",
          "2020-04-14T09:55:36",
          "2020-04-14T14:56:58",
          "2020-04-15T01:17:54",
          "2020-04-14T22:38:03",
          "2020-04-14T11:15:13",
          "2020-04-14T12:18:42",
          "2020-04-15T03:26:09",
          "2020-04-14T18:40:03",
          "2020-04-14T18:37:14",
          "2020-04-14T10:13:37",
          "2020-04-14T21:45:21",
          "2020-04-14T21:16:21",
          "2020-04-14T10:24:47",
          "2020-04-14T14:01:22",
          "2020-04-15T01:07:43",
          "2020-04-14T07:57:24",
          "2020-04-15T05:10:06",
          "2020-04-15T04:45:12",
          "2020-04-14T14:50:21",
          "2020-04-15T00:32:33",
          "2020-04-15T04:02:03",
          "2020-04-14T18:30:23",
          "2020-04-13T16:47:18",
          "2020-04-14T12:32:41",
          "2020-04-14T02:04:47",
          "2020-04-14T21:33:59",
          "2020-04-15T04:40:22",
          "2020-04-14T18:45:25",
          "2020-04-15T05:51:53",
          "2020-04-14T10:19:14",
          "2020-04-14T07:30:30",
          "2020-04-15T08:43:57",
          "2020-04-15T09:21:01",
          "2020-04-14T01:47:25",
          "2020-04-14T13:26:15",
          "2020-04-14T09:29:50",
          "2020-04-15T06:54:21",
          "2020-04-14T14:59:58",
          "2020-04-14T04:22:19",
          "2020-04-14T22:54:55",
          "2020-04-15T07:49:24",
          "2020-04-15T09:06:51",
          "2020-04-14T18:17:32",
          "2020-04-14T15:20:38",
          "2020-04-14T13:17:33",
          "2020-04-14T13:34:40",
          "2020-04-15T03:06:07",
          "2020-04-13T17:56:44",
          "2020-04-14T10:32:38",
          "2020-04-14T18:49:00",
          "2020-04-14T18:34:42",
          "2020-04-14T21:25:54",
          "2020-04-14T00:15:59",
          "2020-04-13T21:54:12",
          "2020-04-14T11:23:35",
          "2020-04-14T15:13:36",
          "2020-04-14T22:37:03",
          "2020-04-14T07:39:07",
          "2020-04-13T16:41:38",
          "2020-04-14T02:00:48",
          "2020-04-14T11:09:22",
          "2020-04-14T15:25:38",
          "2020-04-14T05:24:15",
          "2020-04-14T18:41:47",
          "2020-04-15T04:19:43",
          "2020-04-15T07:07:09",
          "2020-04-14T14:10:01",
          "2020-04-14T18:38:27",
          "2020-04-14T09:03:21",
          "2020-04-14T11:30:39",
          "2020-04-14T13:10:46",
          "2020-04-15T10:36:37",
          "2020-04-13T18:59:07",
          "2020-04-14T11:59:53",
          "2020-04-14T13:56:01",
          "2020-04-14T14:43:51",
          "2020-04-14T17:40:40",
          "2020-04-14T20:36:45",
          "2020-04-14T07:18:45",
          "2020-04-15T06:22:58",
          "2020-04-13T19:06:16",
          "2020-04-13T19:08:06",
          "2020-04-14T01:52:45",
          "2020-04-14T11:13:38",
          "2020-04-14T12:56:48",
          "2020-04-14T13:38:01",
          "2020-04-14T13:15:48",
          "2020-04-14T14:22:56",
          "2020-04-14T21:25:52",
          "2020-04-14T21:30:54",
          "2020-04-14T22:12:23",
          "2020-04-14T22:54:45",
          "2020-04-14T18:39:15",
          "2020-04-14T19:06:36",
          "2020-04-13T19:40:55",
          "2020-04-14T14:42:37",
          "2020-04-14T14:50:43",
          "2020-04-15T04:49:38",
          "2020-04-15T07:09:22",
          "2020-04-15T10:48:20",
          "2020-04-14T11:35:50",
          "2020-04-14T13:10:22",
          "2020-04-14T13:23:21",
          "2020-04-14T13:22:19",
          "2020-04-14T17:50:35",
          "2020-04-14T18:58:48",
          "2020-04-13T23:09:04",
          "2020-04-13T23:18:58",
          "2020-04-14T19:09:34",
          "2020-04-14T22:10:02",
          "2020-04-15T06:21:48",
          "2020-04-15T09:21:03",
          "2020-04-14T00:11:56",
          "2020-04-13T23:42:03",
          "2020-04-14T01:46:17",
          "2020-04-13T16:47:17",
          "2020-04-14T13:45:08",
          "2020-04-14T11:10:28",
          "2020-04-14T17:01:45",
          "2020-04-14T13:17:04",
          "2020-04-14T20:47:21",
          "2020-04-14T22:16:59",
          "2020-04-15T05:54:05",
          "2020-04-13T20:41:08",
          "2020-04-14T05:19:14",
          "2020-04-14T09:57:45",
          "2020-04-14T16:43:27",
          "2020-04-14T17:00:20",
          "2020-04-14T14:44:52",
          "2020-04-14T14:50:34",
          "2020-04-14T15:09:18",
          "2020-04-14T15:35:16",
          "2020-04-14T13:16:11",
          "2020-04-13T22:46:06",
          "2020-04-13T23:25:07",
          "2020-04-13T17:08:15",
          "2020-04-15T07:07:58",
          "2020-04-13T16:46:11",
          "2020-04-13T16:48:48",
          "2020-04-13T19:07:15",
          "2020-04-13T20:10:54",
          "2020-04-14T00:16:49",
          "2020-04-13T20:40:08",
          "2020-04-13T21:35:47",
          "2020-04-14T04:30:13",
          "2020-04-14T04:34:08",
          "2020-04-14T04:05:09",
          "2020-04-14T10:57:05",
          "2020-04-14T10:19:52",
          "2020-04-14T10:16:44",
          "2020-04-14T10:13:53",
          "2020-04-14T11:24:59",
          "2020-04-14T12:09:39",
          "2020-04-14T12:16:22",
          "2020-04-14T11:53:16",
          "2020-04-14T05:32:11",
          "2020-04-14T14:21:59",
          "2020-04-14T22:23:53",
          "2020-04-14T22:39:27",
          "2020-04-14T23:15:01",
          "2020-04-14T23:21:20",
          "2020-04-14T16:00:48",
          "2020-04-14T16:02:37",
          "2020-04-14T16:12:59",
          "2020-04-14T16:34:33",
          "2020-04-14T19:04:06",
          "2020-04-14T17:24:20",
          "2020-04-14T20:01:50",
          "2020-04-14T20:06:07",
          "2020-04-15T02:59:56",
          "2020-04-15T02:58:56",
          "2020-04-15T02:43:49",
          "2020-04-15T03:46:23",
          "2020-04-13T23:32:23",
          "2020-04-14T09:10:39",
          "2020-04-13T22:44:18",
          "2020-04-13T19:15:22",
          "2020-04-14T18:16:01",
          "2020-04-15T04:43:40",
          "2020-04-15T05:21:15",
          "2020-04-15T07:11:35",
          "2020-04-15T09:16:39",
          "2020-04-15T10:05:12",
          "2020-04-15T11:24:15",
          "2020-04-15T10:25:31",
          "2020-04-14T09:40:40",
          "2020-04-14T10:01:27",
          "2020-04-14T09:59:52",
          "2020-04-14T11:04:39",
          "2020-04-14T11:06:51",
          "2020-04-14T11:20:26",
          "2020-04-14T12:06:39",
          "2020-04-14T13:55:09",
          "2020-04-14T13:23:52",
          "2020-04-14T13:43:59",
          "2020-04-14T14:07:28",
          "2020-04-13T20:18:05",
          "2020-04-13T20:32:28",
          "2020-04-13T20:26:26",
          "2020-04-13T20:23:52",
          "2020-04-13T21:21:16",
          "2020-04-13T21:14:44",
          "2020-04-13T19:26:33",
          "2020-04-13T21:36:17",
          "2020-04-14T03:01:22",
          "2020-04-14T03:57:15",
          "2020-04-14T04:38:44",
          "2020-04-14T16:31:13",
          "2020-04-14T16:48:30",
          "2020-04-14T18:44:42",
          "2020-04-14T18:56:12",
          "2020-04-13T19:35:23",
          "2020-04-13T19:45:53",
          "2020-04-13T20:03:08",
          "2020-04-13T22:03:42",
          "2020-04-13T22:35:40",
          "2020-04-13T17:08:07",
          "2020-04-13T23:10:43",
          "2020-04-14T00:50:45",
          "2020-04-14T20:34:26",
          "2020-04-15T01:15:49",
          "2020-04-15T01:35:28",
          "2020-04-14T22:13:34",
          "2020-04-15T04:14:00",
          "2020-04-15T06:34:12",
          "2020-04-15T06:47:14",
          "2020-04-15T06:59:25",
          "2020-04-15T10:11:26",
          "2020-04-15T10:23:03",
          "2020-04-15T11:04:06",
          "2020-04-15T10:39:50",
          "2020-04-13T18:28:35",
          "2020-04-13T19:05:30",
          "2020-04-13T19:06:41",
          "2020-04-13T21:11:12",
          "2020-04-13T21:59:48",
          "2020-04-14T00:02:43",
          "2020-04-14T00:45:02",
          "2020-04-14T02:13:46",
          "2020-04-13T20:29:41",
          "2020-04-13T16:40:28",
          "2020-04-14T14:17:04",
          "2020-04-14T18:02:49",
          "2020-04-14T14:35:54",
          "2020-04-14T18:53:21",
          "2020-04-14T18:45:09",
          "2020-04-14T15:32:30",
          "2020-04-14T15:14:22",
          "2020-04-14T19:07:16",
          "2020-04-14T03:33:19",
          "2020-04-14T08:06:47",
          "2020-04-14T09:06:21",
          "2020-04-14T08:20:23",
          "2020-04-14T08:35:38",
          "2020-04-14T04:46:44",
          "2020-04-14T10:09:13",
          "2020-04-14T11:08:59",
          "2020-04-14T16:38:06",
          "2020-04-14T13:20:06",
          "2020-04-14T13:07:25",
          "2020-04-14T13:25:10",
          "2020-04-14T20:37:30",
          "2020-04-14T21:29:38",
          "2020-04-15T01:37:35",
          "2020-04-15T01:50:45",
          "2020-04-15T05:27:10",
          "2020-04-15T05:02:06",
          "2020-04-15T05:46:09",
          "2020-04-15T06:27:57",
          "2020-04-15T06:50:31",
          "2020-04-15T06:54:53",
          "2020-04-15T08:05:48",
          "2020-04-15T04:43:37",
          "2020-04-15T08:46:11",
          "2020-04-15T09:43:08",
          "2020-04-15T09:56:13",
          "2020-04-15T10:15:36",
          "2020-04-15T10:48:13",
          "2020-04-13T20:16:09",
          "2020-04-13T20:18:19",
          "2020-04-14T00:16:53",
          "2020-04-13T21:13:19",
          "2020-04-13T22:11:19",
          "2020-04-14T01:47:20",
          "2020-04-13T17:50:34",
          "2020-04-13T19:33:19",
          "2020-04-13T19:21:22",
          "2020-04-14T05:37:11",
          "2020-04-14T10:50:21",
          "2020-04-14T10:30:19",
          "2020-04-14T12:03:59",
          "2020-04-14T11:38:27",
          "2020-04-14T13:08:27",
          "2020-04-14T13:09:24",
          "2020-04-14T17:05:43",
          "2020-04-14T13:23:32",
          "2020-04-14T13:45:04",
          "2020-04-14T13:53:32",
          "2020-04-14T14:12:33",
          "2020-04-14T14:34:56",
          "2020-04-14T15:15:15",
          "2020-04-14T14:50:28",
          "2020-04-14T14:47:26",
          "2020-04-14T15:36:08",
          "2020-04-14T15:26:57",
          "2020-04-14T15:33:50",
          "2020-04-14T15:34:44",
          "2020-04-14T15:52:56",
          "2020-04-14T18:49:09",
          "2020-04-14T18:46:57",
          "2020-04-14T18:56:36",
          "2020-04-14T22:09:58",
          "2020-04-14T22:40:02",
          "2020-04-15T00:49:04",
          "2020-04-15T01:26:15",
          "2020-04-15T01:28:26",
          "2020-04-14T02:11:27",
          "2020-04-14T08:43:55",
          "2020-04-14T03:05:12",
          "2020-04-13T17:09:04",
          "2020-04-15T02:33:29",
          "2020-04-15T02:04:59",
          "2020-04-15T02:37:22",
          "2020-04-15T01:57:39",
          "2020-04-15T03:29:37",
          "2020-04-15T06:13:59",
          "2020-04-15T05:07:37",
          "2020-04-15T05:24:28",
          "2020-04-15T07:15:25",
          "2020-04-15T08:19:42",
          "2020-04-15T09:15:59",
          "2020-04-15T09:32:27",
          "2020-04-13T17:29:00",
          "2020-04-13T18:03:09",
          "2020-04-13T20:12:21",
          "2020-04-13T20:17:46",
          "2020-04-13T20:18:12",
          "2020-04-13T20:20:32",
          "2020-04-13T20:30:43",
          "2020-04-13T20:14:35",
          "2020-04-14T00:00:39",
          "2020-04-14T00:54:51",
          "2020-04-14T00:27:49",
          "2020-04-13T21:27:20",
          "2020-04-13T21:23:26",
          "2020-04-14T01:47:15",
          "2020-04-14T02:02:58",
          "2020-04-14T01:41:14",
          "2020-04-14T02:19:14",
          "2020-04-14T03:46:02",
          "2020-04-14T10:20:44",
          "2020-04-14T10:29:43",
          "2020-04-14T12:01:48",
          "2020-04-14T12:34:12",
          "2020-04-14T05:12:24",
          "2020-04-14T13:09:29",
          "2020-04-14T13:16:59",
          "2020-04-14T05:41:32",
          "2020-04-14T05:52:55",
          "2020-04-14T14:03:37",
          "2020-04-14T14:28:05",
          "2020-04-14T15:35:57",
          "2020-04-14T15:11:01",
          "2020-04-14T15:22:50",
          "2020-04-14T15:37:16",
          "2020-04-14T15:12:50",
          "2020-04-14T20:42:20",
          "2020-04-14T20:43:46",
          "2020-04-14T20:47:41",
          "2020-04-14T20:42:41",
          "2020-04-14T20:50:48",
          "2020-04-14T21:26:57",
          "2020-04-14T20:59:32",
          "2020-04-14T21:20:13",
          "2020-04-14T21:27:26",
          "2020-04-14T22:16:24",
          "2020-04-14T22:25:00",
          "2020-04-14T23:07:32",
          "2020-04-14T23:18:56",
          "2020-04-14T23:40:30",
          "2020-04-14T23:45:19",
          "2020-04-14T16:18:16",
          "2020-04-14T16:25:18",
          "2020-04-14T18:40:23",
          "2020-04-14T18:48:28",
          "2020-04-14T09:48:11",
          "2020-04-14T09:51:56",
          "2020-04-14T14:57:02",
          "2020-04-14T17:54:12",
          "2020-04-14T16:54:22",
          "2020-04-14T16:57:00",
          "2020-04-14T17:26:42",
          "2020-04-14T19:43:06",
          "2020-04-14T19:46:26",
          "2020-04-14T20:02:48",
          "2020-04-14T20:01:19",
          "2020-04-15T00:56:44",
          "2020-04-15T00:47:38",
          "2020-04-15T01:41:44",
          "2020-04-15T02:56:37",
          "2020-04-15T02:50:25",
          "2020-04-15T02:55:39",
          "2020-04-15T03:56:44",
          "2020-04-14T07:56:22",
          "2020-04-14T08:04:49",
          "2020-04-14T07:58:59",
          "2020-04-14T07:15:58",
          "2020-04-14T07:35:10",
          "2020-04-14T07:31:58",
          "2020-04-14T09:19:12",
          "2020-04-14T09:20:06",
          "2020-04-14T08:23:19",
          "2020-04-14T09:33:57",
          "2020-04-14T09:36:40",
          "2020-04-13T22:43:03",
          "2020-04-13T22:43:28",
          "2020-04-13T22:43:19",
          "2020-04-13T22:45:30",
          "2020-04-13T19:29:37",
          "2020-04-13T19:41:18",
          "2020-04-14T14:46:05",
          "2020-04-15T05:18:24",
          "2020-04-15T05:08:51",
          "2020-04-15T04:45:49",
          "2020-04-15T04:58:33",
          "2020-04-15T05:26:37",
          "2020-04-15T05:55:58",
          "2020-04-15T07:02:49",
          "2020-04-15T06:59:43",
          "2020-04-15T07:37:11",
          "2020-04-15T09:04:38",
          "2020-04-15T08:46:51",
          "2020-04-15T09:01:25",
          "2020-04-15T09:26:11",
          "2020-04-15T09:27:48",
          "2020-04-15T09:33:28",
          "2020-04-15T11:24:51",
          "2020-04-15T10:33:34",
          "2020-04-15T11:23:27",
          "2020-04-15T11:23:20",
          "2020-04-15T11:23:00",
          "2020-04-15T11:13:03",
          "2020-04-14T07:06:34",
          "2020-04-14T06:48:54",
          "2020-04-14T07:35:18",
          "2020-04-14T01:43:58",
          "2020-04-14T02:10:11",
          "2020-04-14T09:02:30",
          "2020-04-14T09:36:00",
          "2020-04-14T09:51:13",
          "2020-04-14T10:27:15",
          "2020-04-14T10:02:24",
          "2020-04-14T11:02:53",
          "2020-04-14T10:58:50",
          "2020-04-14T11:28:49",
          "2020-04-14T11:16:19",
          "2020-04-14T11:21:38",
          "2020-04-14T08:57:56",
          "2020-04-14T08:54:07",
          "2020-04-14T12:50:34",
          "2020-04-14T13:09:50",
          "2020-04-14T12:44:01",
          "2020-04-14T12:34:52",
          "2020-04-14T13:09:09",
          "2020-04-14T12:55:13",
          "2020-04-14T13:07:02",
          "2020-04-14T13:27:47",
          "2020-04-14T13:27:21",
          "2020-04-14T13:30:10",
          "2020-04-14T13:41:06",
          "2020-04-14T13:38:09",
          "2020-04-14T13:49:48",
          "2020-04-14T14:23:16",
          "2020-04-14T14:13:17",
          "2020-04-14T14:52:11",
          "2020-04-14T14:46:54",
          "2020-04-14T15:05:42",
          "2020-04-14T15:22:10",
          "2020-04-14T15:28:45",
          "2020-04-14T15:41:32",
          "2020-04-14T15:44:52",
          "2020-04-14T15:55:10",
          "2020-04-13T20:22:37",
          "2020-04-13T21:01:38",
          "2020-04-13T19:00:40",
          "2020-04-13T19:23:16",
          "2020-04-13T19:32:13",
          "2020-04-14T03:48:06",
          "2020-04-14T04:31:40",
          "2020-04-14T05:49:23",
          "2020-04-14T05:35:41",
          "2020-04-14T16:45:48",
          "2020-04-14T16:54:33",
          "2020-04-14T17:12:41",
          "2020-04-14T17:05:58",
          "2020-04-14T17:39:33",
          "2020-04-14T17:47:03",
          "2020-04-14T18:40:32",
          "2020-04-14T17:48:17",
          "2020-04-14T18:05:37",
          "2020-04-14T18:21:50",
          "2020-04-14T18:15:58",
          "2020-04-13T19:57:00",
          "2020-04-13T22:31:20",
          "2020-04-13T22:16:54",
          "2020-04-13T21:54:46",
          "2020-04-13T16:42:42",
          "2020-04-13T22:38:52",
          "2020-04-13T23:15:30",
          "2020-04-13T23:14:03",
          "2020-04-13T23:35:50",
          "2020-04-14T19:16:55",
          "2020-04-14T23:19:41",
          "2020-04-14T23:03:56",
          "2020-04-14T23:09:40",
          "2020-04-14T23:27:58",
          "2020-04-14T19:39:09",
          "2020-04-14T20:03:01",
          "2020-04-14T20:01:50",
          "2020-04-14T20:02:51",
          "2020-04-14T23:33:29",
          "2020-04-14T23:40:32",
          "2020-04-14T20:36:11",
          "2020-04-14T20:24:20",
          "2020-04-14T20:43:15",
          "2020-04-15T11:15:19",
          "2020-04-15T11:25:05",
          "2020-04-15T11:26:01",
          "2020-04-15T11:26:10",
          "2020-04-14T21:01:16",
          "2020-04-14T21:02:58",
          "2020-04-14T21:05:28",
          "2020-04-15T01:12:49",
          "2020-04-15T01:19:35",
          "2020-04-14T21:32:30",
          "2020-04-14T21:44:42",
          "2020-04-15T01:50:18",
          "2020-04-15T01:49:09",
          "2020-04-15T02:07:10",
          "2020-04-15T01:43:06",
          "2020-04-14T22:19:46",
          "2020-04-14T21:56:18",
          "2020-04-15T02:53:15",
          "2020-04-15T03:39:38",
          "2020-04-15T03:15:51",
          "2020-04-15T03:43:20",
          "2020-04-15T03:57:59",
          "2020-04-15T03:59:35",
          "2020-04-15T04:44:18",
          "2020-04-15T05:51:53",
          "2020-04-15T06:22:03",
          "2020-04-15T05:57:12",
          "2020-04-15T05:50:35",
          "2020-04-15T05:52:22",
          "2020-04-15T08:46:11",
          "2020-04-15T08:51:53",
          "2020-04-15T08:43:11",
          "2020-04-15T08:19:48",
          "2020-04-15T08:27:05",
          "2020-04-15T08:38:53",
          "2020-04-15T09:46:30",
          "2020-04-15T11:28:23",
          "2020-04-15T09:02:58",
          "2020-04-15T09:56:18",
          "2020-04-15T09:31:32",
          "2020-04-15T09:19:25",
          "2020-04-15T10:27:11",
          "2020-04-15T10:18:57",
          "2020-04-15T10:08:54",
          "2020-04-15T10:30:18",
          "2020-04-15T10:16:02",
          "2020-04-13T18:04:26",
          "2020-04-13T18:09:19",
          "2020-04-13T17:57:25",
          "2020-04-13T18:32:44",
          "2020-04-13T19:14:49",
          "2020-04-13T18:47:18",
          "2020-04-13T18:57:33",
          "2020-04-13T19:34:40",
          "2020-04-13T21:07:50",
          "2020-04-13T21:09:06",
          "2020-04-13T19:49:16",
          "2020-04-13T20:02:52",
          "2020-04-13T19:54:38",
          "2020-04-13T20:19:48",
          "2020-04-13T22:50:12",
          "2020-04-13T22:38:19",
          "2020-04-13T23:12:07",
          "2020-04-13T23:38:37",
          "2020-04-14T00:11:58",
          "2020-04-14T00:22:06",
          "2020-04-14T01:21:10",
          "2020-04-14T01:43:29",
          "2020-04-14T02:17:35",
          "2020-04-14T02:04:53",
          "2020-04-13T17:03:55",
          "2020-04-13T20:28:18",
          "2020-04-13T20:25:21",
          "2020-04-13T20:42:47",
          "2020-04-13T20:44:23",
          "2020-04-14T14:07:09",
          "2020-04-14T14:27:12",
          "2020-04-14T14:05:39",
          "2020-04-14T14:06:34",
          "2020-04-14T14:27:35",
          "2020-04-14T14:23:31",
          "2020-04-14T17:33:39",
          "2020-04-14T17:26:26",
          "2020-04-14T17:34:25",
          "2020-04-14T17:25:25",
          "2020-04-14T02:40:28",
          "2020-04-14T02:36:04",
          "2020-04-14T02:51:12",
          "2020-04-14T18:04:01",
          "2020-04-14T18:06:34",
          "2020-04-14T18:14:33",
          "2020-04-14T14:47:50",
          "2020-04-14T15:05:51",
          "2020-04-14T15:00:02",
          "2020-04-14T18:36:03",
          "2020-04-14T18:49:44",
          "2020-04-14T18:42:43",
          "2020-04-14T18:59:45",
          "2020-04-14T18:37:59",
          "2020-04-14T18:49:32",
          "2020-04-14T18:54:19",
          "2020-04-14T18:56:22",
          "2020-04-14T18:58:25",
          "2020-04-14T15:20:11",
          "2020-04-14T15:06:39",
          "2020-04-14T15:23:07",
          "2020-04-14T19:13:07",
          "2020-04-14T03:57:55",
          "2020-04-14T04:01:39",
          "2020-04-14T08:46:04",
          "2020-04-14T09:25:23",
          "2020-04-14T09:59:06",
          "2020-04-14T10:11:51",
          "2020-04-14T09:57:22",
          "2020-04-14T10:15:46",
          "2020-04-14T05:11:31",
          "2020-04-14T05:35:35",
          "2020-04-14T11:03:33",
          "2020-04-14T11:11:04",
          "2020-04-14T05:47:39",
          "2020-04-14T05:41:31",
          "2020-04-14T11:41:25",
          "2020-04-14T12:01:21",
          "2020-04-14T08:09:56",
          "2020-04-14T08:24:59",
          "2020-04-14T13:01:41",
          "2020-04-14T12:34:17",
          "2020-04-14T23:11:13",
          "2020-04-14T23:16:44",
          "2020-04-14T23:07:27",
          "2020-04-14T06:32:39",
          "2020-04-14T06:42:25",
          "2020-04-14T06:48:09",
          "2020-04-14T13:36:40",
          "2020-04-14T13:08:00",
          "2020-04-14T16:55:33",
          "2020-04-14T16:48:42",
          "2020-04-14T16:55:56",
          "2020-04-14T16:57:07",
          "2020-04-14T07:37:17",
          "2020-04-14T07:40:23",
          "2020-04-14T13:21:58",
          "2020-04-14T13:33:58",
          "2020-04-14T19:32:58",
          "2020-04-14T19:49:42",
          "2020-04-15T00:52:22",
          "2020-04-14T20:23:19",
          "2020-04-15T00:14:54",
          "2020-04-15T00:11:03",
          "2020-04-14T20:36:04",
          "2020-04-14T20:26:14",
          "2020-04-14T21:06:05",
          "2020-04-14T20:43:51",
          "2020-04-14T21:19:40",
          "2020-04-14T21:53:32",
          "2020-04-14T21:56:40",
          "2020-04-14T21:55:59",
          "2020-04-14T22:03:27",
          "2020-04-14T22:14:19",
          "2020-04-14T22:00:38",
          "2020-04-15T01:05:33",
          "2020-04-15T01:22:27",
          "2020-04-14T22:38:42",
          "2020-04-14T22:38:57",
          "2020-04-15T01:32:53",
          "2020-04-15T01:33:09",
          "2020-04-15T01:41:11",
          "2020-04-15T02:11:48",
          "2020-04-15T00:24:00",
          "2020-04-15T05:18:15",
          "2020-04-15T06:14:30",
          "2020-04-15T07:29:28",
          "2020-04-15T04:53:36",
          "2020-04-15T08:26:30",
          "2020-04-15T08:40:25",
          "2020-04-15T08:44:53",
          "2020-04-15T08:55:26",
          "2020-04-15T08:11:51",
          "2020-04-15T08:39:53",
          "2020-04-15T09:07:03",
          "2020-04-15T08:23:18",
          "2020-04-15T09:54:56",
          "2020-04-15T11:14:45",
          "2020-04-13T20:16:28",
          "2020-04-13T20:42:43",
          "2020-04-14T00:04:01",
          "2020-04-14T00:04:47",
          "2020-04-13T23:56:37",
          "2020-04-14T00:45:11",
          "2020-04-14T00:36:27",
          "2020-04-13T22:10:14",
          "2020-04-14T01:46:49",
          "2020-04-14T01:35:29",
          "2020-04-13T22:33:41",
          "2020-04-13T17:51:48",
          "2020-04-13T17:51:08",
          "2020-04-13T18:05:20",
          "2020-04-13T18:35:37",
          "2020-04-13T18:53:33",
          "2020-04-13T18:58:54",
          "2020-04-13T19:23:48",
          "2020-04-14T03:08:42",
          "2020-04-14T04:32:18",
          "2020-04-14T05:28:06",
          "2020-04-14T05:16:20",
          "2020-04-14T11:13:14",
          "2020-04-14T10:29:10",
          "2020-04-14T06:16:58",
          "2020-04-14T05:54:30",
          "2020-04-14T07:08:55",
          "2020-04-14T06:39:17",
          "2020-04-14T06:42:51",
          "2020-04-14T12:03:10",
          "2020-04-14T11:28:59",
          "2020-04-14T12:48:49",
          "2020-04-14T12:56:04",
          "2020-04-14T13:08:09",
          "2020-04-14T16:54:52",
          "2020-04-14T16:54:47",
          "2020-04-14T16:53:57",
          "2020-04-14T16:54:39",
          "2020-04-14T13:56:25",
          "2020-04-14T13:36:30",
          "2020-04-14T13:20:34",
          "2020-04-14T14:28:48",
          "2020-04-14T14:32:12",
          "2020-04-14T14:37:58",
          "2020-04-14T14:29:29",
          "2020-04-14T14:56:04",
          "2020-04-14T14:48:14",
          "2020-04-14T14:47:04",
          "2020-04-14T15:08:04",
          "2020-04-14T15:28:24",
          "2020-04-14T15:39:47",
          "2020-04-14T15:44:28",
          "2020-04-14T15:19:20",
          "2020-04-14T15:30:21",
          "2020-04-14T16:02:24",
          "2020-04-14T16:07:28",
          "2020-04-14T15:54:17",
          "2020-04-14T16:22:10",
          "2020-04-14T17:29:12",
          "2020-04-14T17:46:50",
          "2020-04-14T18:39:09",
          "2020-04-14T18:33:04",
          "2020-04-14T18:55:44",
          "2020-04-14T18:43:58",
          "2020-04-14T18:45:39",
          "2020-04-14T18:36:13",
          "2020-04-14T18:37:04",
          "2020-04-14T18:57:41",
          "2020-04-14T19:15:49",
          "2020-04-14T19:29:31",
          "2020-04-14T19:33:41",
          "2020-04-14T19:56:59",
          "2020-04-14T19:49:57",
          "2020-04-14T20:16:13",
          "2020-04-14T20:03:53",
          "2020-04-14T21:08:35",
          "2020-04-14T21:08:39",
          "2020-04-14T21:10:25",
          "2020-04-14T21:21:21",
          "2020-04-14T21:40:01",
          "2020-04-14T22:11:36",
          "2020-04-14T22:25:00",
          "2020-04-14T23:07:08",
          "2020-04-14T22:38:43",
          "2020-04-14T23:09:23",
          "2020-04-14T23:05:37",
          "2020-04-14T22:37:33",
          "2020-04-14T23:10:06",
          "2020-04-14T23:56:19",
          "2020-04-14T23:49:17",
          "2020-04-15T00:06:19",
          "2020-04-15T00:35:47",
          "2020-04-15T00:37:58",
          "2020-04-14T21:50:33",
          "2020-04-15T01:41:50",
          "2020-04-15T01:47:19",
          "2020-04-15T01:51:23",
          "2020-04-13T19:51:52",
          "2020-04-13T20:03:54",
          "2020-04-13T20:06:46",
          "2020-04-13T23:39:05",
          "2020-04-14T02:20:40",
          "2020-04-14T08:45:45",
          "2020-04-14T08:14:08",
          "2020-04-14T08:28:07",
          "2020-04-14T09:07:05",
          "2020-04-14T09:16:24",
          "2020-04-15T02:28:30",
          "2020-04-15T02:32:39",
          "2020-04-15T05:22:12",
          "2020-04-15T05:22:25",
          "2020-04-15T06:24:45",
          "2020-04-15T06:25:34",
          "2020-04-15T06:33:40",
          "2020-04-15T06:50:15",
          "2020-04-15T07:00:15",
          "2020-04-15T07:48:41",
          "2020-04-15T08:55:54",
          "2020-04-15T08:04:40",
          "2020-04-15T08:45:29",
          "2020-04-15T08:23:28",
          "2020-04-15T08:27:40",
          "2020-04-15T09:26:40",
          "2020-04-15T09:55:25",
          "2020-04-15T09:27:12",
          "2020-04-15T09:28:18",
          "2020-04-15T11:03:44",
          "2020-04-15T11:07:52",
          "2020-04-15T11:24:13",
          "2020-04-15T11:26:19",
          "2020-04-15T11:14:53",
          "2020-04-15T11:33:58",
          "2020-04-14T05:25:46",
          "2020-04-14T15:35:40",
          "2020-04-14T23:09:52",
          "2020-04-14T07:38:36",
          "2020-04-15T06:32:28",
          "2020-04-15T07:56:36",
          "2020-04-15T08:43:35",
          "2020-04-15T08:41:28",
          "2020-04-15T08:52:18",
          "2020-04-13T21:06:01",
          "2020-04-14T17:48:26",
          "2020-04-13T22:45:02",
          "2020-04-13T22:41:55",
          "2020-04-15T08:35:43",
          "2020-04-13T18:42:33",
          "2020-04-13T20:20:29",
          "2020-04-14T02:09:43",
          "2020-04-14T14:24:33",
          "2020-04-14T18:01:40",
          "2020-04-14T05:30:57",
          "2020-04-14T11:34:02",
          "2020-04-14T17:04:17",
          "2020-04-14T14:30:29",
          "2020-04-14T07:24:15",
          "2020-04-15T03:17:28",
          "2020-04-15T08:33:35",
          "2020-04-15T08:23:00",
          "2020-04-15T08:39:54",
          "2020-04-15T11:21:50",
          "2020-04-14T05:55:12",
          "2020-04-15T07:26:30",
          "2020-04-14T15:26:43",
          "2020-04-15T07:25:50",
          "2020-04-14T21:12:54",
          "2020-04-14T05:20:14",
          "2020-04-14T11:36:33",
          "2020-04-14T18:57:05",
          "2020-04-14T16:10:15",
          "2020-04-13T19:53:16",
          "2020-04-14T14:48:16",
          "2020-04-14T19:03:43",
          "2020-04-14T07:06:47",
          "2020-04-14T11:27:16",
          "2020-04-14T11:16:39",
          "2020-04-14T19:12:52",
          "2020-04-14T11:11:30",
          "2020-04-14T18:57:01",
          "2020-04-14T17:55:17"
         ],
         "xaxis": "x",
         "y": [
          0.4000000000000001,
          0.35,
          0,
          0,
          0.13325757575757574,
          0.42083333333333334,
          0.30909090909090914,
          0,
          0.13333333333333333,
          -0.8,
          0.19999999999999998,
          0,
          0.5,
          0.6,
          0.19,
          0.2916666666666667,
          0.25,
          0,
          0,
          -0.3,
          0.2,
          0,
          0.25,
          -0.047023809523809516,
          0,
          0.3666666666666667,
          -0.24375,
          0.16999999999999998,
          0.1,
          0,
          0,
          -0.2857142857142857,
          -0.16666666666666666,
          -0.03799999999999999,
          0.04081632653061224,
          0,
          0.5,
          -0.08333333333333333,
          0.12499999999999999,
          0.09999999999999998,
          0.2,
          0,
          -0.18181818181818182,
          0.2,
          0,
          0.13636363636363635,
          0,
          -0.4545454545454546,
          0.16666666666666666,
          0,
          0.5,
          -0.2166666666666666,
          0.7,
          -0.17083333333333334,
          0,
          0,
          0.04398496240601504,
          0.32410714285714287,
          0.375,
          0.22023809523809523,
          0.8,
          0.5349999999999999,
          0.6,
          0,
          0.125,
          0,
          -0.04166666666666667,
          -0.275,
          0.43750000000000006,
          0.2,
          0.45000000000000007,
          0.22499999999999998,
          0.3152777777777778,
          0.3,
          0.25917366946778714,
          0,
          0.7,
          0,
          0.024999999999999994,
          -0.05,
          0.20042087542087542,
          0,
          0,
          0.175,
          0.04444444444444445,
          0.09545454545454546,
          -0.5,
          0,
          0.1431547619047619,
          0.280187074829932,
          0.24642857142857139,
          0.21666666666666665,
          0.17,
          0.35,
          0,
          0,
          0.04161573720397249,
          0.14999999999999997,
          0.25,
          0.2111111111111111,
          0.2,
          -0.15555555555555559,
          0,
          0.6000000000000001,
          0,
          0,
          0.2811904761904762,
          0.17142857142857143,
          0.12,
          0.2,
          0.45,
          0.15000000000000002,
          -0.033333333333333326,
          -0.5,
          0.8,
          0,
          -0.053409090909090906,
          0.0642857142857143,
          -0.15000000000000002,
          0.06666666666666667,
          0.07083333333333333,
          0.2,
          -0.2,
          0,
          0.2632783882783883,
          0.25,
          0.525,
          0.4,
          0,
          0.125,
          0,
          0.35000000000000003,
          0.051785714285714296,
          -0.21666666666666667,
          0.35,
          0.2722222222222222,
          0,
          -0.15,
          0.15555555555555556,
          0,
          0.6,
          0.2,
          0,
          0.35,
          0,
          0.025,
          0.17462962962962963,
          -0.07291666666666667,
          -0.011688311688311692,
          0.7,
          0.75,
          0.6,
          0.09375,
          0,
          0.2,
          0,
          0.21428571428571427,
          0.2,
          0.13333333333333333,
          0.20208333333333334,
          -0.25,
          0.174375,
          0.2632783882783883,
          0.1722222222222222,
          1,
          -0.07954545454545454,
          0.08295454545454546,
          0.1467741935483871,
          0.2632783882783883,
          0,
          0.16666666666666666,
          -0.04791666666666668,
          0.3,
          0.6,
          0.7500000000000001,
          0.375,
          0,
          0.495,
          0.016666666666666632,
          0.2632783882783883,
          0.27351190476190473,
          0.40312499999999996,
          0.2632783882783883,
          0.38392857142857145,
          0.125,
          0,
          0.07777777777777779,
          0.14571428571428574,
          -0.19999999999999998,
          0.06666666666666667,
          0,
          0.375,
          0.35,
          0.2632783882783883,
          1,
          0.35,
          -0.125,
          0.75,
          0.06875,
          0.25,
          0.18392857142857144,
          0.04027777777777778,
          0.280187074829932,
          0.2632783882783883,
          0,
          0.3,
          -0.4,
          0.5,
          0,
          0.2916666666666667,
          0,
          0.35,
          0.1,
          0,
          0,
          0.9,
          0.39999999999999997,
          0.5,
          0.125,
          0,
          -0.2,
          0.280187074829932,
          0.07500000000000001,
          0,
          -0.05555555555555555,
          0,
          0.2222222222222222,
          0.1,
          0.2632783882783883,
          0.175,
          0.25,
          0.38666666666666666,
          0.31296296296296294,
          0.6,
          0,
          0.3,
          0.6,
          -0.5,
          0,
          -0.06,
          0.245,
          0.71875,
          0.6,
          0.2435515873015873,
          0,
          0.7,
          0.27031249999999996,
          0.10952380952380954,
          0.3666666666666667,
          0.09999999999999999,
          0.3125,
          0.6,
          0.1708333333333333,
          0,
          0,
          0.11071428571428571,
          0,
          0.875,
          0,
          0.24444444444444446,
          0.006481481481481489,
          0.046392496392496395,
          0,
          0.22959183673469388,
          -0.5,
          0.1980769230769231,
          0.31875,
          0.06439393939393939,
          0,
          0.2632783882783883,
          0.2333333333333333,
          0.74375,
          0.5,
          0,
          0.9,
          -0.17142857142857143,
          0.09999999999999998,
          0.11249999999999999,
          0,
          -0.19333333333333336,
          0.6,
          0,
          0.3333333333333333,
          0.25,
          0,
          0.175,
          -0.4545454545454546,
          0.19444444444444445,
          -0.1125,
          0.19999999999999998,
          -0.5,
          0.05,
          1,
          0.03611111111111111,
          0.4166666666666667,
          -0.019480519480519487,
          0,
          0.6,
          0,
          -0.125,
          0,
          0.5,
          0.35,
          0.1875,
          0.280187074829932,
          -0.050757575757575765,
          0.016666666666666677,
          0.375,
          0.2,
          0.2632783882783883,
          0,
          -0.6666666666666666,
          -0.1,
          0.48750000000000004,
          0.5,
          0.23484848484848483,
          -0.2,
          0,
          0.2,
          0,
          -0.18125,
          -0.012500000000000011,
          0.24285714285714285,
          0,
          0.1,
          0,
          -0.125,
          0.35,
          0.2632783882783883,
          0,
          0.3416666666666667,
          -0.290625,
          0.09464285714285717,
          0,
          0.2632783882783883,
          0,
          0,
          0.35,
          0.13636363636363635,
          0.25,
          0,
          0.56875,
          0.6000000000000001,
          0.6333333333333333,
          0.425,
          0.016666666666666646,
          0.12999999999999998,
          0,
          -0.009523809523809521,
          0.85,
          0.07142857142857142,
          0.3040816326530612,
          0,
          0.5,
          0.2632783882783883,
          -0.34375,
          0.4,
          0.16666666666666666,
          0.2632783882783883,
          0.07333333333333333,
          0,
          -0.05,
          0,
          0.5,
          0.44,
          0.2,
          0.2,
          0,
          0.175,
          0.021428571428571432,
          0,
          0,
          0,
          0.07333333333333333,
          0.2632783882783883,
          0,
          0.225,
          0,
          0,
          0,
          0.2,
          -0.103125,
          0,
          -0.5,
          0,
          0.15,
          0.2632783882783883,
          0,
          0,
          0,
          -0.16,
          0.2632783882783883,
          0.280187074829932,
          0,
          0.2632783882783883,
          0.22959183673469388,
          0.1,
          0,
          -0.016666666666666677,
          0.14583333333333334,
          0,
          -0.5,
          0,
          0.41944444444444445,
          0.030512820512820515,
          0,
          0.2632783882783883,
          0.058928571428571414,
          0,
          0.05541666666666667,
          0.2632783882783883,
          0.2632783882783883,
          1,
          0,
          0.6,
          -0.78125,
          0.19999999999999998,
          0.875,
          -0.15,
          0.2,
          0.028888888888888888,
          -0.125,
          0,
          0,
          -0.30000000000000004,
          0.5750000000000001,
          -0.05,
          1,
          -0.5,
          0,
          0.6833333333333333,
          0.07333333333333333,
          0.2632783882783883,
          0.2811904761904762,
          0,
          -0.2583333333333333,
          0.1375,
          0.2632783882783883,
          0.08630952380952382,
          -0.03630952380952381,
          0.17967032967032964,
          0.2,
          0.25,
          0.280187074829932,
          -0.038095238095238106,
          0.2,
          0.040178571428571425,
          0.2435515873015873,
          0,
          0,
          0.6,
          0,
          0,
          0.07447916666666665,
          0,
          0.07333333333333333,
          0.1,
          0,
          0,
          0.2632783882783883,
          0,
          -0.03333333333333333,
          0.20833333333333334,
          0,
          0.6000000000000001,
          0,
          0.15833333333333333,
          0,
          0.2632783882783883,
          0.2632783882783883,
          0.259375,
          -1,
          0.7,
          0.5333333333333333,
          0.30909090909090914,
          -0.125,
          0.24500000000000002,
          -0.125,
          0,
          0.5369318181818182,
          0.22499999999999998,
          0.01944444444444444,
          0.09444444444444444,
          0,
          0.07333333333333333,
          0.2,
          0.7,
          0.3912878787878788,
          0.1,
          0.25,
          0.16,
          0.10000000000000005,
          0.4083333333333334,
          0,
          0.280187074829932,
          -0.30185185185185187,
          -0.08333333333333333,
          0.31444444444444447,
          0,
          0,
          0,
          0,
          -0.05,
          0.2811904761904762,
          0,
          0.8,
          0.5,
          0,
          0.625,
          0.2632783882783883,
          0.2175,
          -0.07142857142857145,
          0,
          0.13999999999999999,
          0.125,
          -0.07291666666666667,
          0.2,
          0,
          0,
          0.050000000000000044,
          0.07333333333333333,
          0.2,
          0.65,
          0.07333333333333333,
          0.5,
          0.475,
          -0.25,
          0.2632783882783883,
          0,
          0,
          0.24285714285714285,
          0.11428571428571428,
          0,
          0.2825,
          0.2435515873015873,
          0.375,
          0.022222222222222213,
          0,
          0,
          -0.0022058823529411686,
          -0.6999999999999998,
          0.3,
          0,
          0.25,
          0.13636363636363635,
          -0.005138888888888894,
          0.07333333333333333,
          0.2632783882783883,
          0.11666666666666665,
          0.3,
          0.04285714285714286,
          0.5,
          0.7666666666666666,
          0,
          0.2632783882783883,
          0.0023809523809523725,
          0,
          -0.3125,
          0.75,
          0.2632783882783883,
          0.07333333333333333,
          0.11944444444444444,
          0.2,
          0.2066666666666667,
          0.18166666666666667,
          0.2632783882783883,
          0.07333333333333333,
          0.24545454545454545,
          -0.12857142857142856,
          0,
          0.2598214285714286,
          0.5666666666666667,
          0.13055555555555554,
          0,
          -0.17083333333333334,
          0,
          0.6,
          1,
          0,
          0,
          -0.05833333333333334,
          0,
          0.20785123966942146,
          0,
          0,
          0.17045454545454544,
          0,
          0,
          0.1,
          0.2632783882783883,
          0,
          0.4,
          0,
          0.5,
          0,
          0.13749999999999998,
          0.3,
          0,
          0.22499999999999998,
          0,
          0.049999999999999996,
          0.11666666666666665,
          0,
          0,
          0.125,
          0,
          0.25,
          0,
          0.15416666666666667,
          0.11750000000000001,
          -0.07142857142857144,
          0.09,
          0.18994871794871795,
          0.013749999999999984,
          0.6,
          0.2632783882783883,
          0.43333333333333335,
          0.2435515873015873,
          0.07333333333333333,
          0.2632783882783883,
          0.2632783882783883,
          0.17604166666666665,
          -0.5,
          0,
          0.75,
          0.2632783882783883,
          0,
          0.024999999999999994,
          0.4,
          0.07333333333333333,
          0.2632783882783883,
          0.35,
          0.35833333333333334,
          0.09843749999999998,
          0.07333333333333333,
          0.10776643990929705,
          0.07333333333333333,
          0.07333333333333333,
          0.11875,
          0.25,
          0,
          0.2,
          0.15833333333333333,
          -0.00555555555555556,
          0.35416666666666663,
          0.625,
          0.2448979591836735,
          0.2632783882783883,
          0.22549999999999998,
          0,
          0.13333333333333333,
          0,
          0.5,
          0,
          0,
          0,
          0.375,
          0.25,
          0.25,
          0.5633333333333334,
          0,
          0.2632783882783883,
          0,
          0.9,
          0.0625,
          0.41874999999999996,
          0.3625,
          -0.06666666666666667,
          0.5,
          -0.02083333333333333,
          0.3875,
          0.25,
          0.31104166666666666,
          0.08333333333333333,
          0.42125,
          0.2632783882783883,
          0.07333333333333333,
          -0.041666666666666664,
          0.2632783882783883,
          0.2,
          -0.19652777777777777,
          0,
          0.07333333333333333,
          0.280187074829932,
          0.2,
          0.2632783882783883,
          0.3333333333333333,
          0,
          0,
          0.3125,
          0.625,
          0.21944444444444444,
          -0.1625,
          0.2632783882783883,
          0.8,
          0,
          0,
          0,
          0.1,
          0.2632783882783883,
          0.2632783882783883,
          0.07333333333333333,
          0,
          0,
          0.2,
          0.2632783882783883,
          0,
          0,
          0.7166666666666668,
          0,
          0.6,
          0,
          -0.3333333333333333,
          0.5,
          0.6,
          0.35,
          -0.7142857142857143,
          0.17833333333333332,
          -0.075,
          0.1625,
          -0.25,
          0,
          0.2632783882783883,
          0.2632783882783883,
          0.12222222222222223,
          0,
          0.2632783882783883,
          0.44999999999999996,
          0,
          0,
          0.10416666666666667,
          0,
          -0.2427083333333333,
          0.23579545454545453,
          0.275,
          0.07333333333333333,
          0.2435515873015873,
          -0.07500000000000001,
          0,
          0.2632783882783883,
          0.2142857142857143,
          0.2435515873015873,
          -0.03571428571428571,
          -0.75,
          0.07333333333333333,
          -0.35,
          0.07333333333333333,
          -0.1625,
          0.3166666666666667,
          0.3277777777777778,
          0.39999999999999997,
          0,
          0.29464285714285715,
          0.5666666666666667,
          0,
          0,
          0.25,
          0.3833333333333333,
          0.5,
          0.3,
          -0.024999999999999994,
          0,
          0,
          -0.16666666666666666,
          0,
          0.2,
          0.2,
          0.2435515873015873,
          0,
          0.6,
          0.375,
          0.18032407407407405,
          0.2632783882783883,
          0.1416666666666667,
          0,
          0,
          0.014705882352941176,
          0.4166666666666667,
          0.625,
          0.25,
          0.35,
          0.4375,
          0,
          0,
          0.3119047619047619,
          0,
          0.019999999999999997,
          -0.375,
          0.29375,
          -0.6499999999999999,
          0.280187074829932,
          0.13683760683760685,
          0,
          0,
          0.2632783882783883,
          -0.125,
          0.036111111111111115,
          0,
          0.2632783882783883,
          0.10000000000000002,
          0.08333333333333333,
          0,
          0,
          -0.125,
          0.01874999999999999,
          0.17857142857142858,
          0,
          0.16666666666666666,
          0.1375,
          0,
          0.25,
          0.35333333333333333,
          0,
          0,
          0,
          0,
          0,
          -0.07142857142857142,
          0.024800591920157166,
          0.1375,
          0.31666666666666665,
          0.024999999999999994,
          0.280187074829932,
          -0.39999999999999997,
          0.13392857142857142,
          0.12666666666666665,
          0.6,
          0,
          1,
          -0.125,
          0.2632783882783883,
          -0.25,
          0,
          0.25,
          -0.1,
          0.1020658263305322,
          -0.8,
          0.011904761904761899,
          0,
          0.39583333333333337,
          -0.5,
          0.1203125,
          0.4166666666666667,
          0.2632783882783883,
          -0.025,
          0.3333333333333333,
          0.2632783882783883,
          0.5416666666666666,
          0,
          0,
          0.3166666666666667,
          0.5,
          0,
          0.2811904761904762,
          0.4375,
          -0.13392857142857142,
          0.10000000000000002,
          0,
          0.09444444444444444,
          0.2119047619047619,
          0,
          0.6083333333333333,
          0.6,
          0,
          0.3333333333333333,
          0,
          0,
          0,
          0.1,
          0,
          0.5,
          0,
          0.19999999999999998,
          0.2,
          0.3333333333333333,
          0,
          0.5333333333333333,
          0.2435515873015873,
          -0.04166666666666667,
          -0.22537878787878787,
          0,
          0.75,
          0,
          0.1,
          -0.0764423076923077,
          0.3,
          0.14285714285714285,
          0,
          0.2,
          0,
          -0.029761904761904767,
          0.5,
          0.2857142857142857,
          1,
          0,
          0,
          0,
          0,
          0.1,
          0.2632783882783883,
          0.125,
          0,
          -0.5,
          0.5,
          0.5333333333333333,
          0,
          0.2833333333333333,
          0.10500000000000001,
          -0.05714285714285716,
          0.0875,
          0.12916666666666665,
          0,
          0.13492063492063494
         ],
         "yaxis": "y"
        }
       ],
       "layout": {
        "autosize": true,
        "coloraxis": {
         "colorbar": {
          "title": {
           "text": "sentiment_subjectivity"
          }
         },
         "colorscale": [
          [
           0,
           "rgb(255,247,236)"
          ],
          [
           0.125,
           "rgb(254,232,200)"
          ],
          [
           0.25,
           "rgb(253,212,158)"
          ],
          [
           0.375,
           "rgb(253,187,132)"
          ],
          [
           0.5,
           "rgb(252,141,89)"
          ],
          [
           0.625,
           "rgb(239,101,72)"
          ],
          [
           0.75,
           "rgb(215,48,31)"
          ],
          [
           0.875,
           "rgb(179,0,0)"
          ],
          [
           1,
           "rgb(127,0,0)"
          ]
         ]
        },
        "legend": {
         "itemsizing": "constant",
         "tracegroupgap": 0
        },
        "template": {
         "data": {
          "bar": [
           {
            "error_x": {
             "color": "#2a3f5f"
            },
            "error_y": {
             "color": "#2a3f5f"
            },
            "marker": {
             "line": {
              "color": "#E5ECF6",
              "width": 0.5
             }
            },
            "type": "bar"
           }
          ],
          "barpolar": [
           {
            "marker": {
             "line": {
              "color": "#E5ECF6",
              "width": 0.5
             }
            },
            "type": "barpolar"
           }
          ],
          "carpet": [
           {
            "aaxis": {
             "endlinecolor": "#2a3f5f",
             "gridcolor": "white",
             "linecolor": "white",
             "minorgridcolor": "white",
             "startlinecolor": "#2a3f5f"
            },
            "baxis": {
             "endlinecolor": "#2a3f5f",
             "gridcolor": "white",
             "linecolor": "white",
             "minorgridcolor": "white",
             "startlinecolor": "#2a3f5f"
            },
            "type": "carpet"
           }
          ],
          "choropleth": [
           {
            "colorbar": {
             "outlinewidth": 0,
             "ticks": ""
            },
            "type": "choropleth"
           }
          ],
          "contour": [
           {
            "colorbar": {
             "outlinewidth": 0,
             "ticks": ""
            },
            "colorscale": [
             [
              0,
              "#0d0887"
             ],
             [
              0.1111111111111111,
              "#46039f"
             ],
             [
              0.2222222222222222,
              "#7201a8"
             ],
             [
              0.3333333333333333,
              "#9c179e"
             ],
             [
              0.4444444444444444,
              "#bd3786"
             ],
             [
              0.5555555555555556,
              "#d8576b"
             ],
             [
              0.6666666666666666,
              "#ed7953"
             ],
             [
              0.7777777777777778,
              "#fb9f3a"
             ],
             [
              0.8888888888888888,
              "#fdca26"
             ],
             [
              1,
              "#f0f921"
             ]
            ],
            "type": "contour"
           }
          ],
          "contourcarpet": [
           {
            "colorbar": {
             "outlinewidth": 0,
             "ticks": ""
            },
            "type": "contourcarpet"
           }
          ],
          "heatmap": [
           {
            "colorbar": {
             "outlinewidth": 0,
             "ticks": ""
            },
            "colorscale": [
             [
              0,
              "#0d0887"
             ],
             [
              0.1111111111111111,
              "#46039f"
             ],
             [
              0.2222222222222222,
              "#7201a8"
             ],
             [
              0.3333333333333333,
              "#9c179e"
             ],
             [
              0.4444444444444444,
              "#bd3786"
             ],
             [
              0.5555555555555556,
              "#d8576b"
             ],
             [
              0.6666666666666666,
              "#ed7953"
             ],
             [
              0.7777777777777778,
              "#fb9f3a"
             ],
             [
              0.8888888888888888,
              "#fdca26"
             ],
             [
              1,
              "#f0f921"
             ]
            ],
            "type": "heatmap"
           }
          ],
          "heatmapgl": [
           {
            "colorbar": {
             "outlinewidth": 0,
             "ticks": ""
            },
            "colorscale": [
             [
              0,
              "#0d0887"
             ],
             [
              0.1111111111111111,
              "#46039f"
             ],
             [
              0.2222222222222222,
              "#7201a8"
             ],
             [
              0.3333333333333333,
              "#9c179e"
             ],
             [
              0.4444444444444444,
              "#bd3786"
             ],
             [
              0.5555555555555556,
              "#d8576b"
             ],
             [
              0.6666666666666666,
              "#ed7953"
             ],
             [
              0.7777777777777778,
              "#fb9f3a"
             ],
             [
              0.8888888888888888,
              "#fdca26"
             ],
             [
              1,
              "#f0f921"
             ]
            ],
            "type": "heatmapgl"
           }
          ],
          "histogram": [
           {
            "marker": {
             "colorbar": {
              "outlinewidth": 0,
              "ticks": ""
             }
            },
            "type": "histogram"
           }
          ],
          "histogram2d": [
           {
            "colorbar": {
             "outlinewidth": 0,
             "ticks": ""
            },
            "colorscale": [
             [
              0,
              "#0d0887"
             ],
             [
              0.1111111111111111,
              "#46039f"
             ],
             [
              0.2222222222222222,
              "#7201a8"
             ],
             [
              0.3333333333333333,
              "#9c179e"
             ],
             [
              0.4444444444444444,
              "#bd3786"
             ],
             [
              0.5555555555555556,
              "#d8576b"
             ],
             [
              0.6666666666666666,
              "#ed7953"
             ],
             [
              0.7777777777777778,
              "#fb9f3a"
             ],
             [
              0.8888888888888888,
              "#fdca26"
             ],
             [
              1,
              "#f0f921"
             ]
            ],
            "type": "histogram2d"
           }
          ],
          "histogram2dcontour": [
           {
            "colorbar": {
             "outlinewidth": 0,
             "ticks": ""
            },
            "colorscale": [
             [
              0,
              "#0d0887"
             ],
             [
              0.1111111111111111,
              "#46039f"
             ],
             [
              0.2222222222222222,
              "#7201a8"
             ],
             [
              0.3333333333333333,
              "#9c179e"
             ],
             [
              0.4444444444444444,
              "#bd3786"
             ],
             [
              0.5555555555555556,
              "#d8576b"
             ],
             [
              0.6666666666666666,
              "#ed7953"
             ],
             [
              0.7777777777777778,
              "#fb9f3a"
             ],
             [
              0.8888888888888888,
              "#fdca26"
             ],
             [
              1,
              "#f0f921"
             ]
            ],
            "type": "histogram2dcontour"
           }
          ],
          "mesh3d": [
           {
            "colorbar": {
             "outlinewidth": 0,
             "ticks": ""
            },
            "type": "mesh3d"
           }
          ],
          "parcoords": [
           {
            "line": {
             "colorbar": {
              "outlinewidth": 0,
              "ticks": ""
             }
            },
            "type": "parcoords"
           }
          ],
          "pie": [
           {
            "automargin": true,
            "type": "pie"
           }
          ],
          "scatter": [
           {
            "marker": {
             "colorbar": {
              "outlinewidth": 0,
              "ticks": ""
             }
            },
            "type": "scatter"
           }
          ],
          "scatter3d": [
           {
            "line": {
             "colorbar": {
              "outlinewidth": 0,
              "ticks": ""
             }
            },
            "marker": {
             "colorbar": {
              "outlinewidth": 0,
              "ticks": ""
             }
            },
            "type": "scatter3d"
           }
          ],
          "scattercarpet": [
           {
            "marker": {
             "colorbar": {
              "outlinewidth": 0,
              "ticks": ""
             }
            },
            "type": "scattercarpet"
           }
          ],
          "scattergeo": [
           {
            "marker": {
             "colorbar": {
              "outlinewidth": 0,
              "ticks": ""
             }
            },
            "type": "scattergeo"
           }
          ],
          "scattergl": [
           {
            "marker": {
             "colorbar": {
              "outlinewidth": 0,
              "ticks": ""
             }
            },
            "type": "scattergl"
           }
          ],
          "scattermapbox": [
           {
            "marker": {
             "colorbar": {
              "outlinewidth": 0,
              "ticks": ""
             }
            },
            "type": "scattermapbox"
           }
          ],
          "scatterpolar": [
           {
            "marker": {
             "colorbar": {
              "outlinewidth": 0,
              "ticks": ""
             }
            },
            "type": "scatterpolar"
           }
          ],
          "scatterpolargl": [
           {
            "marker": {
             "colorbar": {
              "outlinewidth": 0,
              "ticks": ""
             }
            },
            "type": "scatterpolargl"
           }
          ],
          "scatterternary": [
           {
            "marker": {
             "colorbar": {
              "outlinewidth": 0,
              "ticks": ""
             }
            },
            "type": "scatterternary"
           }
          ],
          "surface": [
           {
            "colorbar": {
             "outlinewidth": 0,
             "ticks": ""
            },
            "colorscale": [
             [
              0,
              "#0d0887"
             ],
             [
              0.1111111111111111,
              "#46039f"
             ],
             [
              0.2222222222222222,
              "#7201a8"
             ],
             [
              0.3333333333333333,
              "#9c179e"
             ],
             [
              0.4444444444444444,
              "#bd3786"
             ],
             [
              0.5555555555555556,
              "#d8576b"
             ],
             [
              0.6666666666666666,
              "#ed7953"
             ],
             [
              0.7777777777777778,
              "#fb9f3a"
             ],
             [
              0.8888888888888888,
              "#fdca26"
             ],
             [
              1,
              "#f0f921"
             ]
            ],
            "type": "surface"
           }
          ],
          "table": [
           {
            "cells": {
             "fill": {
              "color": "#EBF0F8"
             },
             "line": {
              "color": "white"
             }
            },
            "header": {
             "fill": {
              "color": "#C8D4E3"
             },
             "line": {
              "color": "white"
             }
            },
            "type": "table"
           }
          ]
         },
         "layout": {
          "annotationdefaults": {
           "arrowcolor": "#2a3f5f",
           "arrowhead": 0,
           "arrowwidth": 1
          },
          "coloraxis": {
           "colorbar": {
            "outlinewidth": 0,
            "ticks": ""
           }
          },
          "colorscale": {
           "diverging": [
            [
             0,
             "#8e0152"
            ],
            [
             0.1,
             "#c51b7d"
            ],
            [
             0.2,
             "#de77ae"
            ],
            [
             0.3,
             "#f1b6da"
            ],
            [
             0.4,
             "#fde0ef"
            ],
            [
             0.5,
             "#f7f7f7"
            ],
            [
             0.6,
             "#e6f5d0"
            ],
            [
             0.7,
             "#b8e186"
            ],
            [
             0.8,
             "#7fbc41"
            ],
            [
             0.9,
             "#4d9221"
            ],
            [
             1,
             "#276419"
            ]
           ],
           "sequential": [
            [
             0,
             "#0d0887"
            ],
            [
             0.1111111111111111,
             "#46039f"
            ],
            [
             0.2222222222222222,
             "#7201a8"
            ],
            [
             0.3333333333333333,
             "#9c179e"
            ],
            [
             0.4444444444444444,
             "#bd3786"
            ],
            [
             0.5555555555555556,
             "#d8576b"
            ],
            [
             0.6666666666666666,
             "#ed7953"
            ],
            [
             0.7777777777777778,
             "#fb9f3a"
            ],
            [
             0.8888888888888888,
             "#fdca26"
            ],
            [
             1,
             "#f0f921"
            ]
           ],
           "sequentialminus": [
            [
             0,
             "#0d0887"
            ],
            [
             0.1111111111111111,
             "#46039f"
            ],
            [
             0.2222222222222222,
             "#7201a8"
            ],
            [
             0.3333333333333333,
             "#9c179e"
            ],
            [
             0.4444444444444444,
             "#bd3786"
            ],
            [
             0.5555555555555556,
             "#d8576b"
            ],
            [
             0.6666666666666666,
             "#ed7953"
            ],
            [
             0.7777777777777778,
             "#fb9f3a"
            ],
            [
             0.8888888888888888,
             "#fdca26"
            ],
            [
             1,
             "#f0f921"
            ]
           ]
          },
          "colorway": [
           "#636efa",
           "#EF553B",
           "#00cc96",
           "#ab63fa",
           "#FFA15A",
           "#19d3f3",
           "#FF6692",
           "#B6E880",
           "#FF97FF",
           "#FECB52"
          ],
          "font": {
           "color": "#2a3f5f"
          },
          "geo": {
           "bgcolor": "white",
           "lakecolor": "white",
           "landcolor": "#E5ECF6",
           "showlakes": true,
           "showland": true,
           "subunitcolor": "white"
          },
          "hoverlabel": {
           "align": "left"
          },
          "hovermode": "closest",
          "mapbox": {
           "style": "light"
          },
          "paper_bgcolor": "white",
          "plot_bgcolor": "#E5ECF6",
          "polar": {
           "angularaxis": {
            "gridcolor": "white",
            "linecolor": "white",
            "ticks": ""
           },
           "bgcolor": "#E5ECF6",
           "radialaxis": {
            "gridcolor": "white",
            "linecolor": "white",
            "ticks": ""
           }
          },
          "scene": {
           "xaxis": {
            "backgroundcolor": "#E5ECF6",
            "gridcolor": "white",
            "gridwidth": 2,
            "linecolor": "white",
            "showbackground": true,
            "ticks": "",
            "zerolinecolor": "white"
           },
           "yaxis": {
            "backgroundcolor": "#E5ECF6",
            "gridcolor": "white",
            "gridwidth": 2,
            "linecolor": "white",
            "showbackground": true,
            "ticks": "",
            "zerolinecolor": "white"
           },
           "zaxis": {
            "backgroundcolor": "#E5ECF6",
            "gridcolor": "white",
            "gridwidth": 2,
            "linecolor": "white",
            "showbackground": true,
            "ticks": "",
            "zerolinecolor": "white"
           }
          },
          "shapedefaults": {
           "line": {
            "color": "#2a3f5f"
           }
          },
          "ternary": {
           "aaxis": {
            "gridcolor": "white",
            "linecolor": "white",
            "ticks": ""
           },
           "baxis": {
            "gridcolor": "white",
            "linecolor": "white",
            "ticks": ""
           },
           "bgcolor": "#E5ECF6",
           "caxis": {
            "gridcolor": "white",
            "linecolor": "white",
            "ticks": ""
           }
          },
          "title": {
           "x": 0.05
          },
          "xaxis": {
           "automargin": true,
           "gridcolor": "white",
           "linecolor": "white",
           "ticks": "",
           "title": {
            "standoff": 15
           },
           "zerolinecolor": "white",
           "zerolinewidth": 2
          },
          "yaxis": {
           "automargin": true,
           "gridcolor": "white",
           "linecolor": "white",
           "ticks": "",
           "title": {
            "standoff": 15
           },
           "zerolinecolor": "white",
           "zerolinewidth": 2
          }
         }
        },
        "title": {
         "text": "Comment sentiment in /r/python for the past 2d"
        },
        "xaxis": {
         "anchor": "y",
         "autorange": true,
         "domain": [
          0,
          1
         ],
         "range": [
          "2020-04-13 13:40:06.1881",
          "2020-04-15 14:16:05.1987"
         ],
         "title": {
          "text": "Date comment was posted"
         },
         "type": "date"
        },
        "yaxis": {
         "anchor": "x",
         "autorange": true,
         "domain": [
          0,
          1
         ],
         "range": [
          -1.1398704818486518,
          1.148919221129288
         ],
         "title": {
          "text": "Comment Positivity"
         },
         "type": "linear"
        }
       }
      },
      "image/png": "[encoded data removed]",
      "text/html": [
       "<div>\n",
       "        \n",
       "        \n",
       "            <div id=\"e260ad51-362f-40ed-aa8e-d582a0360d9c\" class=\"plotly-graph-div\" style=\"height:525px; width:100%;\"></div>\n",
       "            <script type=\"text/javascript\">\n",
       "                require([\"plotly\"], function(Plotly) {\n",
       "                    window.PLOTLYENV=window.PLOTLYENV || {};\n",
       "                    \n",
       "                if (document.getElementById(\"e260ad51-362f-40ed-aa8e-d582a0360d9c\")) {\n",
       "                    Plotly.newPlot(\n",
       "                        'e260ad51-362f-40ed-aa8e-d582a0360d9c',\n",
       "                        [{\"customdata\": [[\"AltezaHumilde\", \"/r/Python/comments/g10v5z/i_made_a_python_script_to_download_subtitles_for/fnd1kci/\", \"Amazing job, if you rename the subtitle in the end\"], [\"Ro0t-set\", \"/r/Python/comments/g1conv/i_made_a_randomized_binary_tree_python_tkinter/fnf5za9/\", \"to give it a true tree shape\"], [\"brma9262\", \"/r/Python/comments/g1conv/i_made_a_randomized_binary_tree_python_tkinter/fnf574p/\", \"Why it the tree upside-down?\"], [\"sameera__madushan_\", \"/r/Python/comments/g10v5z/i_made_a_python_script_to_download_subtitles_for/fncv0dm/\", \"GitHub -  [https://github.com/sameera-madushan/Sub\"], [\"strghst\", \"/r/Python/comments/g10v5z/i_made_a_python_script_to_download_subtitles_for/fndcg7f/\", \"Found a small thing in your code. When scrapping t\"], [\"Teract\", \"/r/Python/comments/g0mmbt/i_made_a_web_app_to_convert_baking_recipes_from/fnapud5/\", \"Nice! Heads up on dry ingredient conversions; the \"], [\"MeltedCheeseFantasy\", \"/r/Python/comments/g0mmbt/i_made_a_web_app_to_convert_baking_recipes_from/fnc4e6h/\", \"hello! chemical engineer/python enthusiast here.\\n\\n\"], [\"panzerex\", \"/r/Python/comments/g10v5z/i_made_a_python_script_to_download_subtitles_for/fndj4my/\", \"Or using pathlib:\\n\\n    from pathlib import Path\\n  \"], [\"Leusdat\", \"/r/Python/comments/g1conv/i_made_a_randomized_binary_tree_python_tkinter/fnf1u83/\", \"Thank you for sharing. Looks nice except 'red = Co\"], [\"maikcatrinque\", \"/r/Python/comments/g10v5z/i_made_a_python_script_to_download_subtitles_for/fndgz3l/\", \"A pythonic approach to this problem:\\n\\n```\\nbase, ex\"], [\"dePliko\", \"/r/Python/comments/g10v5z/i_made_a_python_script_to_download_subtitles_for/fnd1svv/\", \"Wow nice. You could make it automatically sync to \"], [\"v3ritas1989\", \"/r/Python/comments/g10v5z/i_made_a_python_script_to_download_subtitles_for/fnd6hhz/\", \"that bird on your desktop background looks as if t\"], [\"Fuchsiaff\", \"/r/Python/comments/g1conv/i_made_a_randomized_binary_tree_python_tkinter/fngave0/\", \"I love this response\"], [\"magestooge\", \"/r/Python/comments/g10v5z/i_made_a_python_script_to_download_subtitles_for/fncxo49/\", \"It's nice, I tried it and it worked for a movie.\"], [\"thehaikuza\", \"/r/Python/comments/g0mmbt/i_made_a_web_app_to_convert_baking_recipes_from/fnb6jut/\", \"Thanks for the feedback. Yes, the conversion datab\"], [\"rebmakesmusic\", \"/r/Python/comments/g10v5z/i_made_a_python_script_to_download_subtitles_for/fnd49tl/\", \"Ooo, that could be interesting! Could search for t\"], [\"Mr95tyz\", \"/r/Python/comments/g10v5z/i_made_a_python_script_to_download_subtitles_for/fnd0m89/\", \"yeah but first watch the movie.\"], [\"Benedict_Cucumber_\", \"/r/Python/comments/g0mmbt/i_made_a_web_app_to_convert_baking_recipes_from/fnc0wg9/\", \"You are not the hero earth deserve but the hero ea\"], [\"StarlordHarshKO\", \"/r/Python/comments/g10v5z/i_made_a_python_script_to_download_subtitles_for/fncz830/\", \"Is it possible to learn this power?\"], [\"Ro0t-set\", \"/r/Python/comments/g1conv/i_made_a_randomized_binary_tree_python_tkinter/fnf21y2/\", \"AHAHAHAHHAHA, I wrote it late at night...\"], [\"programmingfriend\", \"/r/Python/comments/g1dxfn/stop_naming_your_python_modules_utils/fnf2eek/\", \"I am definitely responsible for these offenses\"], [\"dePliko\", \"/r/Python/comments/g10v5z/i_made_a_python_script_to_download_subtitles_for/fnd1uha/\", \"it searches SubDB\"], [\"Ro0t-set\", \"/r/Python/comments/g1conv/i_made_a_randomized_binary_tree_python_tkinter/fnf183m/\", \"Of course! It is not an elegant code and I apologi\"], [\"mutatedllama\", \"/r/Python/comments/g1p4ce/visualising_dijkstra_vs_dfs_vs_a_pathfinding/fngvmju/\", \"If I'm understanding what you mean, this is essent\"], [\"SwapDhar\", \"/r/Python/comments/g10v5z/i_made_a_python_script_to_download_subtitles_for/fnd4a16/\", \"[Here](https://a-static.besthdwallpaper.com/mei-zh\"], [\"dartharva\", \"/r/Python/comments/g10v5z/i_made_a_python_script_to_download_subtitles_for/fnd48qj/\", \"You keep making great stuff man, they're both simp\"], [\"cymrow\", \"/r/Python/comments/g10v5z/i_made_a_python_script_to_download_subtitles_for/fndrph6/\", \"I'm a little late to the party here, but someone s\"], [\"hamoliciousRUS\", \"/r/Python/comments/g1i24z/my_first_scraper/fnfqp6x/\", \"my first scraper was to check if my ex posted anyt\"], [\"alexgolec\", \"/r/Python/comments/g1fhk9/i_wrote_an_api_wrapper_for_td_ameritrades_finance/fnf9hn9/\", \"My aim is to help people use computers to lose mon\"], [\"DoiF\", \"/r/Python/comments/g10v5z/i_made_a_python_script_to_download_subtitles_for/fnd8obe/\", \"Seems like you are *that* guy.\"], [\"PizzaHolder\", \"/r/Python/comments/g10v5z/i_made_a_python_script_to_download_subtitles_for/fndcvay/\", \"The offset can be adjusted with VLC tho\"], [\"slayer_of_idiots\", \"/r/Python/comments/g1conv/i_made_a_randomized_binary_tree_python_tkinter/fng32rj/\", \"It starts with a single line, and then creates 13 \"], [\"iGalaxy_\", \"/r/Python/comments/g10v5z/i_made_a_python_script_to_download_subtitles_for/fnehrwp/\", \"As a Native Indian I couldn't care less\"], [\"athermop\", \"/r/Python/comments/g1b23g/is_oop_still_needed/fnehg9k/\", \"Insightful insight coming in: OOP is useful where \"], [\"yeetboy\", \"/r/Python/comments/g10v5z/i_made_a_python_script_to_download_subtitles_for/fnd579x/\", \"I\\u2019m surprised the drag and drop was even necessary\"], [\"petdance\", \"/r/Python/comments/g1dxfn/stop_naming_your_python_modules_utils/fnf3hiw/\", \"See also: Variables named `data`.\"], [\"Leusdat\", \"/r/Python/comments/g1conv/i_made_a_randomized_binary_tree_python_tkinter/fnf03pv/\", \"Would u care to share the source? I'd love to take\"], [\"jiejenn\", \"/r/Python/comments/g12xlh/i_see_there_are_veterans_on_this_sub/fnd5t6d/\", \"First, wrong sub. Second, no one is gonna do your \"], [\"maikcatrinque\", \"/r/Python/comments/g10v5z/i_made_a_python_script_to_download_subtitles_for/fndlulv/\", \"I agree with you. \\n\\nIt is very hypocritical to app\"], [\"MarsupialMole\", \"/r/Python/comments/g1dxfn/stop_naming_your_python_modules_utils/fnfpofg/\", \"Strongly disagree. The namespace that utils is con\"], [\"sameera__madushan_\", \"/r/Python/comments/g10v5z/i_made_a_python_script_to_download_subtitles_for/fncxv7l/\", \"thanks\"], [\"thrallsius\", \"/r/Python/comments/g1jz58/if_anyone_can_make_a_script_for_this_i_will_pay/fngbn1g/\", \"smells like homework\"], [\"AztecComputer\", \"/r/Python/comments/g1conv/i_made_a_randomized_binary_tree_python_tkinter/fng9r2n/\", \"I'm thinking randomized as in the angles aren't ev\"], [\"sameera__madushan_\", \"/r/Python/comments/g10v5z/i_made_a_python_script_to_download_subtitles_for/fndqz8o/\", \"Thanks for all your suggestions....\"], [\"11218\", \"/r/Python/comments/g1dxfn/stop_naming_your_python_modules_utils/fnfm2fm/\", \"    the_data = data\\n    del data\"], [\"_mfStarBoy\", \"/r/Python/comments/g1conv/i_made_a_randomized_binary_tree_python_tkinter/fng68nb/\", \"Why it is called 'randomized' binary tree?\\nPS: I'm\"], [\"AltezaHumilde\", \"/r/Python/comments/g10v5z/i_made_a_python_script_to_download_subtitles_for/fnegn8g/\", \"erm.. why are you replying to my comment... expres\"], [\"thehaikuza\", \"/r/Python/comments/g0mmbt/i_made_a_web_app_to_convert_baking_recipes_from/fnaf6op/\", \"Backend in Flask, frontend using HTML/CSS/Javascri\"], [\"AnonIowa\", \"/r/Python/comments/g10v5z/i_made_a_python_script_to_download_subtitles_for/fnddxep/\", \"Only works on Windows, because you've used `ctypes\"], [\"Helpful-Astronomer\", \"/r/Python/comments/g0mmbt/i_made_a_web_app_to_convert_baking_recipes_from/fnc6vau/\", \"Yes\"], [\"Leusdat\", \"/r/Python/comments/g1adit/i_made_my_first_game_in_python_thanks_uriles0829/fnf26ga/\", \"Now slap a ai to it:) https://youtu.be/tjQIO1rqTBE\"], [\"turtle_with_dentures\", \"/r/Python/comments/g1dxfn/stop_naming_your_python_modules_utils/fng9dea/\", \"Exactly this.  It's completely ignored that the `u\"], [\"K900_\", \"/r/Python/comments/g1b6n5/should_i_buy_raspberry/fneiep7/\", \"In that case it's definitely a good choice.\"], [\"stevenjd\", \"/r/Python/comments/g1lq2b/python_programming_is_drowning_in_red_tape_my/fngeo0u/\", \"The irony that the code for a code beautifier is a\"], [\"IMJoeTheBro\", \"/r/Python/comments/g10v5z/i_made_a_python_script_to_download_subtitles_for/fnd5ia6/\", \"Does it work for TV shows?\"], [\"K900_\", \"/r/Python/comments/g113ug/im_new_to_python_and_wanted_to_install_pillow/fncwayp/\", \"1. /r/learnpython \\n2. You need to be running those\"], [\"WesolyKubeczek\", \"/r/Python/comments/g1lq2b/python_programming_is_drowning_in_red_tape_my/fngpkwk/\", \"One problem that I have with blog posts like this \"], [\"CAPSLOCKFTW_hs\", \"/r/Python/comments/g1conv/i_made_a_randomized_binary_tree_python_tkinter/fngrp7t/\", \"&gt; Can I ask, is it good practice to use `from x\"], [\"EarthGoddessDude\", \"/r/Python/comments/g0mmbt/i_made_a_web_app_to_convert_baking_recipes_from/fnc55zl/\", \"Is Heroku free? If I wanted to play around with we\"], [\"neither_both\", \"/r/Python/comments/g10v5z/i_made_a_python_script_to_download_subtitles_for/fndii7r/\", \"Indigenous people aren't a costume, though. They'r\"], [\"johnpope44\", \"/r/Python/comments/g10v5z/i_made_a_python_script_to_download_subtitles_for/fnd2vvo/\", \"Great script!\\nBy the way, do you happen to know so\"], [\"mutatedllama\", \"/r/Python/comments/g1conv/i_made_a_randomized_binary_tree_python_tkinter/fngiw3l/\", \"I loved the speed code! That is so cool.\\n\\nCan I as\"], [\"KimmiG1\", \"/r/Python/comments/g10v5z/i_made_a_python_script_to_download_subtitles_for/fnds1d6/\", \"Nice.\\n\\nHave you tryed bazarr?\"], [\"AngriestSCV\", \"/r/Python/comments/g0mmbt/i_made_a_web_app_to_convert_baking_recipes_from/fncj7z7/\", \"Don't forget to factor in the humidity. The densit\"], [\"zb_running\", \"/r/Python/comments/g1fhk9/i_wrote_an_api_wrapper_for_td_ameritrades_finance/fnfbfe1/\", \"I see you frequent r/wallstreetbets as well. A per\"], [\"thrallsius\", \"/r/Python/comments/g1jz58/if_anyone_can_make_a_script_for_this_i_will_pay/fngmchb/\", \"nothing, you'll have to do it yourself\"], [\"Tweak_Imp\", \"/r/Python/comments/g1lq2b/python_programming_is_drowning_in_red_tape_my/fngqw68/\", \"This guy is just crying about black not accepting \"], [\"Mark-SuckoBerg\", \"/r/Python/comments/g1apao/when_should_i_start_learning_machine_learning/fnef498/\", \"Now. Check out google\\u2019s machine learning course or\"], [\"woutSo\", \"/r/Python/comments/g10v5z/i_made_a_python_script_to_download_subtitles_for/fndubw2/\", \"More specifically, he uses the hash (that was real\"], [\"sameera__madushan_\", \"/r/Python/comments/g10v5z/i_made_a_python_script_to_download_subtitles_for/fndhpau/\", \"Make a Pull request... Thanks.\"], [\"anarchyisthekey\", \"/r/Python/comments/g10v5z/i_made_a_python_script_to_download_subtitles_for/fndj9g7/\", \"Fps of the movie also makes a huge difference, tim\"], [\"Umlautica\", \"/r/Python/comments/g1dxfn/stop_naming_your_python_modules_utils/fng191m/\", \"I've found a good trade-off is to create a utils s\"], [\"Huntersolomon\", \"/r/Python/comments/g0ny0j/created_a_simple_web_app_to_learn_django/fnanmdl/\", \"I am trying to learn the Django framework and the \"], [\"Senacharim\", \"/r/Python/comments/g12rdq/i_made_a_simple_programme_that_enables_you_to/fnd689u/\", \"Fun fact, that function is already built into the \"], [\"Mark-SuckoBerg\", \"/r/Python/comments/g1apao/when_should_i_start_learning_machine_learning/fneitsa/\", \"Couldn\\u2019t have said it better myself! It\\u2019s great th\"], [\"joelwitherspoon\", \"/r/Python/comments/g1b23g/is_oop_still_needed/fneh5db/\", \"[citation needed] what blog did you read?\"], [\"NitroXSC\", \"/r/Python/comments/g1conv/i_made_a_randomized_binary_tree_python_tkinter/fnf18qz/\", \"This is a perfect fit for /r/generative\"], [\"idd24x7\", \"/r/Python/comments/g0ur21/change_a_link_once_selenium_web_scraper_is_done/fnbvvw0/\", \"What is the source of your links? If you have a li\"], [\"thehaikuza\", \"/r/Python/comments/g0mmbt/i_made_a_web_app_to_convert_baking_recipes_from/fnbfyss/\", \"Ah, can't believe I missed this. For some reason I\"], [\"barnfart\", \"/r/Python/comments/g10v5z/i_made_a_python_script_to_download_subtitles_for/fnd9665/\", \"Seems like it, as long as the db has support for t\"], [\"maxbridgland\", \"/r/Python/comments/g17b2n/i_made_command_line_tool_written_in_python_to/fndtjok/\", \"As of Firefox 57 (the Quantum Update), Mozilla has\"], [\"spydakat\", \"/r/Python/comments/g1fhk9/i_wrote_an_api_wrapper_for_td_ameritrades_finance/fnf9dkw/\", \"Time for some FDs \\ud83d\\udc40?\"], [\"K900_\", \"/r/Python/comments/g113ug/im_new_to_python_and_wanted_to_install_pillow/fncwt3m/\", \"It's not \\\"Python\\\", it's a text editor called Subli\"], [\"rednafi\", \"/r/Python/comments/g0kqss/no_really_pythons_pathlib_is_great_dipping_toes/fnaeie6/\", \"Yeah. But most of the backlashes it gets are due t\"], [\"nathanjell\", \"/r/Python/comments/g0ur7l/make_money_selling_your_apis_feedback_needed_beta/fnc6hea/\", \"Your terms also include a provision to, when conne\"], [\"9bard\", \"/r/Python/comments/g13g8f/i_made_a_guess_game_to_guess_any_number_from_1_to/fnd8bni/\", \"First you don't need to use empty print to get new\"], [\"rcfox\", \"/r/Python/comments/g17cqd/interesting_script_that_drops_items_by_their/fnduw1w/\", \"    import random\\n    import collections\\n    \\n    \"], [\"Cryostasys\", \"/r/Python/comments/g0zhz4/dating_life_beside_a_busy_job_as_a_developer/fnco1gh/\", \"Looks like the bot is getting a overzealous with i\"], [\"K900_\", \"/r/Python/comments/g1b6n5/should_i_buy_raspberry/fnehz46/\", \"It's a fine choice for a server, but keep in mind \"], [\"pythonHelperBot\", \"/r/Python/comments/g1jz58/if_anyone_can_make_a_script_for_this_i_will_pay/fng7psz/\", \"Hello! I'm a bot!\\n\\nIt looks to me like your post m\"], [\"Ro0t-set\", \"/r/Python/comments/g1conv/i_made_a_randomized_binary_tree_python_tkinter/fngjq3z/\", \"you're right, you should always specify the functi\"], [\"kneulb4zud\", \"/r/Python/comments/g10v5z/i_made_a_python_script_to_download_subtitles_for/fndmpim/\", \"Get Media Player Classic, open the video, press D,\"], [\"K900_\", \"/r/Python/comments/g1b23g/is_oop_still_needed/fnehlby/\", \"There are definitely projects where OOP is a good \"], [\"tjburton\", \"/r/Python/comments/g10v5z/i_made_a_python_script_to_download_subtitles_for/fnd1hfh/\", \"Wow nice. How does it get the subtitle information\"], [\"IronRyan2807\", \"/r/Python/comments/g10v5z/i_made_a_python_script_to_download_subtitles_for/fnd9lpn/\", \"jesus christ\"], [\"sameera__madushan_\", \"/r/Python/comments/g10v5z/i_made_a_python_script_to_download_subtitles_for/fndh3is/\", \"\\ud83d\\ude02\"], [\"OctagonClock\", \"/r/Python/comments/g1lq2b/python_programming_is_drowning_in_red_tape_my/fngvyha/\", \"&gt; As I adventured in this petty task, it\\u2019s wort\"], [\"zacharypamela\", \"/r/Python/comments/g0mmbt/i_made_a_web_app_to_convert_baking_recipes_from/fnav3uz/\", \"This is pretty cool. I'm working on a recipes web \"], [\"Ak7ghost\", \"/r/Python/comments/g10v5z/i_made_a_python_script_to_download_subtitles_for/fndbig0/\", \"Found a higher quality version [here](http://wallp\"], [\"neither_both\", \"/r/Python/comments/g10v5z/i_made_a_python_script_to_download_subtitles_for/fndlbne/\", \"Ty for being that guy. I try to assume that people\"], [\"sameera__madushan_\", \"/r/Python/comments/g10v5z/i_made_a_python_script_to_download_subtitles_for/fndq9v4/\", \"thanks for the suggestions....\"], [\"The_loudsoda\", \"/r/Python/comments/g10v5z/i_made_a_python_script_to_download_subtitles_for/fneas1d/\", \"I scrolled down just to find this comment.\"], [\"TouchingTheVodka\", \"/r/Python/comments/g1dbxs/help_im_new_and_no_matter_the_input_the_output_is/fnevh6l/\", \"    answer = input('A, B, C, D?')\\n    if answer ==\"], [\"TheMathelm\", \"/r/Python/comments/g0mmbt/i_made_a_web_app_to_convert_baking_recipes_from/fncvm1c/\", \"Hey you know what? let's use a standardized unit f\"], [\"thrallsius\", \"/r/Python/comments/g1jz58/if_anyone_can_make_a_script_for_this_i_will_pay/fnggth3/\", \"help yourself, you only post in gaming subreddits\"], [\"K900_\", \"/r/Python/comments/g0pegm/looking_for_good_resources/fnavygf/\", \"/r/learnpython/wiki\"], [\"pythonHelperBot\", \"/r/Python/comments/g0pegm/looking_for_good_resources/fnaw66x/\", \"Hello! I'm a bot!\\n\\nI see someone has already sugge\"], [\"nathanjell\", \"/r/Python/comments/g0ur7l/make_money_selling_your_apis_feedback_needed_beta/fnc5ox9/\", \"Personally you wouldn't catch me using it. Your te\"], [\"ptekspy\", \"/r/Python/comments/g13g8f/i_made_a_guess_game_to_guess_any_number_from_1_to/fnd8kub/\", \"Like people at a while loop probs best\\n\\n    attemp\"], [\"sameera__madushan_\", \"/r/Python/comments/g10v5z/i_made_a_python_script_to_download_subtitles_for/fndfvno/\", \"Make a pull request.... Thanks.\"], [\"vsujeesh\", \"/r/Python/comments/g10v5z/i_made_a_python_script_to_download_subtitles_for/fndjkmy/\", \"For opensubtitles, now you need to login to be abl\"], [\"sameera__madushan_\", \"/r/Python/comments/g10v5z/i_made_a_python_script_to_download_subtitles_for/fndhjmk/\", \"If the subtitle file available in SUbDB database i\"], [\"will_work_for_twerk\", \"/r/Python/comments/g10v5z/i_made_a_python_script_to_download_subtitles_for/fndo1cf/\", \"Uh homie by your logic I can post some pretty fuck\"], [\"fdemmer\", \"/r/Python/comments/g1cftx/python_formatters_to_eg_align_code/fnf18lx/\", \"sorry, i don't know any editor doing that. it is a\"], [\"Ro0t-set\", \"/r/Python/comments/g1conv/i_made_a_randomized_binary_tree_python_tkinter/fnf1tt7/\", \"Great, thank you for your suggestion\"], [\"KsqueaKJ\", \"/r/Python/comments/g10v5z/i_made_a_python_script_to_download_subtitles_for/fnf6kpy/\", \"So white people have no culture?\"], [\"DarkCeptor44\", \"/r/Python/comments/g10v5z/i_made_a_python_script_to_download_subtitles_for/fnfbeo8/\", \"It is the buggiest thing and it never really helpe\"], [\"athermop\", \"/r/Python/comments/g1apao/when_should_i_start_learning_machine_learning/fnehop8/\", \"Yes, the answer is always now.\\n\\nI would caution th\"], [\"AltezaHumilde\", \"/r/Python/comments/g10v5z/i_made_a_python_script_to_download_subtitles_for/fnekweb/\", \"Don't bug the OP, the background pic is really coo\"], [\"SimpleScribbler\", \"/r/Python/comments/g0pl67/pandas_with_array_of_col_names_in_a_desired/fnb01d1/\", \"Off the top of my head, I'd create an empty datafr\"], [\"dePliko\", \"/r/Python/comments/g10v5z/i_made_a_python_script_to_download_subtitles_for/fndq529/\", \"yes, that's why it's so hard also voice recognitio\"], [\"sameera__madushan_\", \"/r/Python/comments/g10v5z/i_made_a_python_script_to_download_subtitles_for/fndr0rc/\", \"Thanks\"], [\"Gayoka\", \"/r/Python/comments/g1conv/i_made_a_randomized_binary_tree_python_tkinter/fnga3du/\", \"This looks so very similar to those tree puzzles i\"], [\"br3w0r\", \"/r/Python/comments/g1mxy4/what_are_the_best_books_to_learn_how_to_use_django/fngjv7u/\", \"https://docs.djangoproject.com/en/3.0/intro/\"], [\"pythonHelperBot\", \"/r/Python/comments/g1pn2c/i_cant_understand_how_it_works/fngwmxv/\", \"Hello! I'm a bot!\\n\\nIt looks to me like your post m\"], [\"imperialdub\", \"/r/Python/comments/g10v5z/i_made_a_python_script_to_download_subtitles_for/fnd9xem/\", \"A:10\\nV:10\\n\\nThanks YIFI!\"], [\"idrinkwatertoo\", \"/r/Python/comments/g10v5z/i_made_a_python_script_to_download_subtitles_for/fndh289/\", \"Nice! I've been thinking about making something li\"], [\"chicken__soup\", \"/r/Python/comments/g15e8f/how_do_you_run_a_python_app_all_the_time/fndi8qa/\", \"https://www.pythonanywhere.com/ is a hosting servi\"], [\"StarlordHarshKO\", \"/r/Python/comments/g10v5z/i_made_a_python_script_to_download_subtitles_for/fndi5aw/\", \"I know python but only basic, how to go advance\"], [\"FidoTheDisingenuous\", \"/r/Python/comments/g10v5z/i_made_a_python_script_to_download_subtitles_for/fnebymi/\", \"You are missing the point. It's not about legalism\"], [\"juanda2\", \"/r/Python/comments/g10v5z/i_made_a_python_script_to_download_subtitles_for/fnejzgf/\", \"even if the name doesn't match there is a setting \"], [\"Senator_Sanders\", \"/r/Python/comments/g0qobg/i_made_a_python_program_which_models_the/fnbopc9/\", \"Cool work. Thanks for sharing :)\"], [\"tunisia3507\", \"/r/Python/comments/g0kqss/no_really_pythons_pathlib_is_great_dipping_toes/fnbpsoq/\", \"&gt; However, if you are working with python 3.5 o\"], [\"WhoWhyWhatWhenWhere\", \"/r/Python/comments/g167bf/whats_everyone_working_on_this_week/fnel9am/\", \"I just finished up a trailer for an escape the roo\"], [\"Nvr_Dbt\", \"/r/Python/comments/g1conv/i_made_a_randomized_binary_tree_python_tkinter/fnf6b5j/\", \"Wow nice\"], [\"i_like_trains_a_lot1\", \"/r/Python/comments/g1dxfn/stop_naming_your_python_modules_utils/fnggqlc/\", \"Within the scope of a few lines or a block of code\"], [\"nolandeluca\", \"/r/Python/comments/g1oi1o/ip_address_locater/fngrpbe/\", \"This scares me \\ud83e\\udd14\\ud83e\\udd14\\ud83e\\udd14 I feel like I'll get infected c\"], [\"BimphyRedixler\", \"/r/Python/comments/g0fz1e/generating_a_random_maze_using_prims_algorithm/fnbvgf1/\", \"Yeah, in every maze I have seen, dark = wall\"], [\"Natetronn\", \"/r/Python/comments/g0mmbt/i_made_a_web_app_to_convert_baking_recipes_from/fnbsaen/\", \"Just a suggestion: might be nice to have a toggle \"], [\"nathanjell\", \"/r/Python/comments/g0ur7l/make_money_selling_your_apis_feedback_needed_beta/fnc51up/\", \"You might want to finish filling out that one blan\"], [\"Lazy_Victor\", \"/r/Python/comments/g0mmbt/i_made_a_web_app_to_convert_baking_recipes_from/fnaf6m7/\", \"Nice app, did you have a link to try it?\"], [\"vantech887\", \"/r/Python/comments/g13g8f/i_made_a_guess_game_to_guess_any_number_from_1_to/fndk9bx/\", \"Thanks my mind was so lost when I was coding thus\"], [\"joeyturner123\", \"/r/Python/comments/g10v5z/i_made_a_python_script_to_download_subtitles_for/fnd8dy9/\", \"Not from a Jedi.\"], [\"Dr4g3r45\", \"/r/Python/comments/g10v5z/i_made_a_python_script_to_download_subtitles_for/fne62xx/\", \"I really need to do more with Python, it seems lim\"], [\"sameera__madushan_\", \"/r/Python/comments/g10v5z/i_made_a_python_script_to_download_subtitles_for/fndhnpb/\", \"Do self studies and never give up.....\"], [\"nielwimo\", \"/r/Python/comments/g167bf/whats_everyone_working_on_this_week/fnewnkk/\", \"I am working on a lstm model in deep learning with\"], [\"genericlemon24\", \"/r/Python/comments/g167bf/whats_everyone_working_on_this_week/fnf73mr/\", \"Very good, this will pay off in spades later on!\\n\\n\"], [\"stevenjd\", \"/r/Python/comments/g1dxfn/stop_naming_your_python_modules_utils/fngetpp/\", \"If your variable represents generic data, what els\"], [\"jimmythenewsmith\", \"/r/Python/comments/g0mmbt/i_made_a_web_app_to_convert_baking_recipes_from/fnb7b0t/\", \"I did something similar for my first ever django a\"], [\"justONEfreeUSERNAME\", \"/r/Python/comments/g0zfpl/hi_im_50_years_old_never_had_no_interest_in/fncno5r/\", \"Good Luck\"], [\"johnpope44\", \"/r/Python/comments/g10v5z/i_made_a_python_script_to_download_subtitles_for/fnd4cts/\", \"Thank you, kind dude!\"], [\"CwzZ\", \"/r/Python/comments/g10v5z/i_made_a_python_script_to_download_subtitles_for/fne3wgx/\", \"stared, nice stuff\"], [\"BestNameEverCR\", \"/r/Python/comments/g1962q/i_need_help_for_a_script_that_types_good_morning/fne5wv6/\", \"I mean you could just go to class.....\\n\\nAlso I\\u2019m n\"], [\"sameera__madushan_\", \"/r/Python/comments/g10v5z/i_made_a_python_script_to_download_subtitles_for/fndqdug/\", \"do some individual projects... learn by trying\"], [\"sameera__madushan_\", \"/r/Python/comments/g10v5z/i_made_a_python_script_to_download_subtitles_for/fndr06m/\", \"Thanks\"], [\"sameera__madushan_\", \"/r/Python/comments/g10v5z/i_made_a_python_script_to_download_subtitles_for/fndt2bd/\", \"yes, Make a Pull Request..\"], [\"spicypixel\", \"/r/Python/comments/g17o6h/why_the_error_pls_answer/fndvzia/\", \"The int is too large to convert to float.\"], [\"sameera__madushan_\", \"/r/Python/comments/g10v5z/i_made_a_python_script_to_download_subtitles_for/fndhkvd/\", \"Thanks \\u2764\"], [\"AndydeCleyre\", \"/r/Python/comments/g0kqss/no_really_pythons_pathlib_is_great_dipping_toes/fnbm3ab/\", \"I really dislike the enforced symlink resolution w\"], [\"zacharypamela\", \"/r/Python/comments/g0mmbt/i_made_a_web_app_to_convert_baking_recipes_from/fnbqgun/\", \"Then you can also add other measurements (pints, g\"], [\"thehaikuza\", \"/r/Python/comments/g0mmbt/i_made_a_web_app_to_convert_baking_recipes_from/fnahp3k/\", \"Thanks! Yep, you can try it here: [recipe-converte\"], [\"kigurai\", \"/r/Python/comments/g1dxfn/stop_naming_your_python_modules_utils/fngjs0e/\", \"I use `data` as a variable all the time. It is not\"], [\"pythonHelperBot\", \"/r/Python/comments/g0mmte/help_getting_stared_with_python/fnaf1xh/\", \"Hello! I'm a bot!\\n\\nIt looks to me like your post m\"], [\"DavidTheNewKid\", \"/r/Python/comments/g009l2/made_a_python_program_to_automatically_generate/fnafd74/\", \"The code for this project is definitely really, re\"], [\"Syncopaint\", \"/r/Python/comments/g0fz1e/generating_a_random_maze_using_prims_algorithm/fnaw2kx/\", \"Oh excellent\"], [\"livrem\", \"/r/Python/comments/g0fz1e/generating_a_random_maze_using_prims_algorithm/fnb3o65/\", \"Do you use random weights on all connections (bord\"], [\"james_pic\", \"/r/Python/comments/g0io6y/multiprocessing_the_mean_of_a_subset_of_rows/fnbvz1p/\", \"OK. If you're committed to using multiprocessing, \"], [\"PythyMcPyface\", \"/r/Python/comments/g0qobg/i_made_a_python_program_which_models_the/fnb76pi/\", \"Here's the repo: [https://github.com/pythymcpyface\"], [\"pythonHelperBot\", \"/r/Python/comments/g0s4yu/class_implementation_of_caseswitch_need_a_default/fnbdsdd/\", \"Hello! I'm a bot!\\n\\nIt looks to me like your post m\"], [\"T567U18\", \"/r/Python/comments/g0xo8y/tictactoe_game/fncjvbc/\", \"Well done, keep it up\"], [\"CreativeLion2000\", \"/r/Python/comments/g0mmbt/i_made_a_web_app_to_convert_baking_recipes_from/fnck6r1/\", \"i would think powdered sugar is packed in more den\"], [\"Betsy-DeVos\", \"/r/Python/comments/g0fz1e/generating_a_random_maze_using_prims_algorithm/fnchtgm/\", \"So it's interesting to see it generated but I thin\"], [\"useTheButtySystem\", \"/r/Python/comments/g10v5z/i_made_a_python_script_to_download_subtitles_for/fnd7ls2/\", \"Looks nice. Just last night I needed something lik\"], [\"koushpy\", \"/r/Python/comments/g12rdq/i_made_a_simple_programme_that_enables_you_to/fnd5jkx/\", \"&gt;comments\\n\\nLMAO\"], [\"ScheissPW\", \"/r/Python/comments/g0xo8y/tictactoe_game/fnd5d89/\", \"As a fellow noob this looks amazing!\"], [\"gla_ddos\", \"/r/Python/comments/g10v5z/i_made_a_python_script_to_download_subtitles_for/fnd57sc/\", \"Nice program! Got a question tho, could you get su\"], [\"Fanshiboi\", \"/r/Python/comments/g10v5z/i_made_a_python_script_to_download_subtitles_for/fnd9974/\", \"It's a fucking desktop background, it's made to lo\"], [\"Mrsaintj\", \"/r/Python/comments/g10v5z/i_made_a_python_script_to_download_subtitles_for/fndc7hm/\", \"Nice work. Very useful\"], [\"nanometers\", \"/r/Python/comments/g13g8f/i_made_a_guess_game_to_guess_any_number_from_1_to/fndcp2y/\", \"actually you can consider making your function ret\"], [\"pythonHelperBot\", \"/r/Python/comments/g14063/phone_book/fndb2fg/\", \"Hello! I'm a bot!\\n\\nIt looks to me like your post m\"], [\"Grums\", \"/r/Python/comments/g0mmbt/i_made_a_web_app_to_convert_baking_recipes_from/fncolpt/\", \"Nice! I was thinking about an app like this a litt\"], [\"worthy_sloth\", \"/r/Python/comments/g15e8f/how_do_you_run_a_python_app_all_the_time/fndnxq7/\", \"That is PERFECT. Exactly what I wanted!\\n\\nQuestions\"], [\"pythonHelperBot\", \"/r/Python/comments/g1f1vf/api_for_getting_local_restaurants/fnf7vt9/\", \"Hello! I'm a bot!\\n\\nIt looks to me like your post m\"], [\"iamlocal\", \"/r/Python/comments/g1et92/library_how_often_do_you_wait_for_timeconsuming/fnf9na7/\", \"Cool project, man!\\n\\nIt is certainly a matter of ta\"], [\"b10011\", \"/r/Python/comments/g1et92/library_how_often_do_you_wait_for_timeconsuming/fnfdp4q/\", \"Personally, I have never felt the need for caching\"], [\"thegodzilla25\", \"/r/Python/comments/g14p79/i_made_a_tiny_script_for_ristodayfridaythe13th_so/fnfef7b/\", \"The sacred texts!\"], [\"rcfox\", \"/r/Python/comments/g17cqd/interesting_script_that_drops_items_by_their/fndywb1/\", \"No problem. Half the battle is just figuring out w\"], [\"willm\", \"/r/Python/comments/g17o6h/why_the_error_pls_answer/fndz3nq/\", \"Your `q` value becomes a float when you divide on \"], [\"dePliko\", \"/r/Python/comments/g10v5z/i_made_a_python_script_to_download_subtitles_for/fne0am0/\", \"yes, perhaps I didn't make it clear voice recognit\"], [\"FakeitTillYou_Makeit\", \"/r/Python/comments/g10v5z/i_made_a_python_script_to_download_subtitles_for/fne2u3j/\", \"Thanks, will try to adapt this to auto download en\"], [\"james_pic\", \"/r/Python/comments/g1b23g/is_oop_still_needed/fnekltm/\", \"The canonical example is https://github.com/Enterp\"], [\"rcfox\", \"/r/Python/comments/g17cqd/interesting_script_that_drops_items_by_their/fne8sgw/\", \"OP's original code used cumulative weights. `cum_w\"], [\"geonyoro\", \"/r/Python/comments/g10v5z/i_made_a_python_script_to_download_subtitles_for/fnerf3f/\", \"Big vote for providing source my good man.\"], [\"pythonHelperBot\", \"/r/Python/comments/g1csk3/why_anaconda_tries_to_write_to_another_environment/fnerxav/\", \"Hello! I'm a bot!\\n\\nIt looks to me like your post m\"], [\"mt19937\", \"/r/Python/comments/g10v5z/i_made_a_python_script_to_download_subtitles_for/fng0oji/\", \"For working with SRT files this is awesome: https:\"], [\"Thrasherop\", \"/r/Python/comments/g1f1vf/api_for_getting_local_restaurants/fng0l5l/\", \"I've gotten Yelp Fusion to work and this is everyt\"], [\"1zzie\", \"/r/Python/comments/g1fvec/instacart_deliverypickup_availability_check_using/fnfz5s0/\", \"On the other hand.... https://www.vice.com/en_us/a\"], [\"MrMarvell0us\", \"/r/Python/comments/g10v5z/i_made_a_python_script_to_download_subtitles_for/fng4vo9/\", \"Adoh nice work bn! (. \\u275b \\u1d17 \\u275b.)\"], [\"je66b\", \"/r/Python/comments/g0mmbt/i_made_a_web_app_to_convert_baking_recipes_from/fnbr97i/\", \"I've been looking at something like this as part o\"], [\"tjburton\", \"/r/Python/comments/g10v5z/i_made_a_python_script_to_download_subtitles_for/fnd1ve9/\", \"Thanks!\"], [\"PeridexisErrant\", \"/r/Python/comments/g0qaa5/mypy_static_type_checker_vs_aheadoftime_bytecode/fnblvmf/\", \"Mypy is a linter, whose repo includes an experimen\"], [\"james_pic\", \"/r/Python/comments/g0io6y/multiprocessing_the_mean_of_a_subset_of_rows/fnax190/\", \"Just putting it out there, but have you tried not \"], [\"pythonHelperBot\", \"/r/Python/comments/g1apao/when_should_i_start_learning_machine_learning/fneey83/\", \"Hello! I'm a bot!\\n\\nIt looks to me like your post m\"], [\"pythonHelperBot\", \"/r/Python/comments/g1l3uk/help_with_safely_uninstalling_python_27_to_get_37/fng9mr8/\", \"Hello! I'm a bot!\\n\\nIt looks to me like your post m\"], [\"fuloqulous\", \"/r/Python/comments/g1lmhk/help_pls_from_a_fellow_coder/fngcgez/\", \"Depends on your OS but yeah download python and ru\"], [\"PM_ME_SECRET_DATA\", \"/r/Python/comments/g168jg/i_made_a_procedural_world_generator/fngk0c1/\", \"Thanks for your comments. They are very motivating\"], [\"itiztv\", \"/r/Python/comments/g1conv/i_made_a_randomized_binary_tree_python_tkinter/fngrgbf/\", \"Reminds me of all the fractals and generative crap\"], [\"mutatedllama\", \"/r/Python/comments/g1conv/i_made_a_randomized_binary_tree_python_tkinter/fngu778/\", \"Great answer. Thanks for this, it explains it well\"], [\"aaronr_90\", \"/r/Python/comments/g1conv/i_made_a_randomized_binary_tree_python_tkinter/fngyteh/\", \"Yea, it\\u2019s not a Root\"], [\"danielroseman\", \"/r/Python/comments/g1onw8/i_keep_trying_to_get_pip_to_work_and_it_always/fngvbxk/\", \"But just as clearly, your reply to MaxQuant shows \"], [\"K900_\", \"/r/Python/comments/g12ghb/new_to_the_thread_as_well_as_to_programming/fnd3gdp/\", \"/r/learnpython/wiki\"], [\"Sat1n\", \"/r/Python/comments/g12rdq/i_made_a_simple_programme_that_enables_you_to/fnd4k0q/\", \"this makes me want to throw a flashbang into a roo\"], [\"simonononon\", \"/r/Python/comments/g12rdq/i_made_a_simple_programme_that_enables_you_to/fnd4gve/\", \"epic gamer move \\ud83d\\ude0e\"], [\"gevezex\", \"/r/Python/comments/g10v5z/i_made_a_python_script_to_download_subtitles_for/fnd81rv/\", \"Or you could install the vlc extension VLSub.\"], [\"0nowhytho\", \"/r/Python/comments/g13k0q/not_eating/fnd86bd/\", \"Have you tried turning it off and on again?\"], [\"dermotmcg\", \"/r/Python/comments/g10v5z/i_made_a_python_script_to_download_subtitles_for/fnd8zar/\", \"Was wondering how you'd get subtitles reliably. Us\"], [\"janky_british_gamer\", \"/r/Python/comments/dmkx8a/just_finished_programming_and_building_my_own/fndbzrz/\", \"No problem good luck with it, I've tried to lay it\"], [\"BooparinoBR\", \"/r/Python/comments/g10v5z/i_made_a_python_script_to_download_subtitles_for/fndl8j9/\", \"Watch James Powell talks :)\"], [\"sameera__madushan_\", \"/r/Python/comments/g10v5z/i_made_a_python_script_to_download_subtitles_for/fndiafn/\", \"At first i used tkinter to open the file dialog bo\"], [\"vantech887\", \"/r/Python/comments/g13g8f/i_made_a_guess_game_to_guess_any_number_from_1_to/fndk5bg/\", \"Thank you\"], [\"davehodg\", \"/r/Python/comments/g0uevj/coronavirus_ventilator_runs_on_raspberry_pi/fndmg4q/\", \"No. It runs a *ix distro and as such runs whatever\"], [\"pythonHelperBot\", \"/r/Python/comments/g0q88v/printing_back_a_line_in_python/fnb4jdv/\", \"Hello! I'm a bot!\\n\\nIt looks to me like your post m\"], [\"moonrunn3r\", \"/r/Python/comments/g0iln8/this_very_simple_one_made_my_day_today_after/fnb69hj/\", \"Changing i inside a loop, where i is the loop vari\"], [\"hulleyrob\", \"/r/Python/comments/g0qpj9/finding_out_if_a_list_has_duplicates/fnb5jcr/\", \"It\\u2019s gonna be quicker to do the calculation as you\"], [\"hulleyrob\", \"/r/Python/comments/g0qpj9/finding_out_if_a_list_has_duplicates/fnb58c9/\", \"Misleading title but you could ha e a variable for\"], [\"efmccurdy\", \"/r/Python/comments/g0q88v/printing_back_a_line_in_python/fnbc21y/\", \"    &gt;&gt;&gt; _ = os.system(\\\"lscpu|grep 'Model \"], [\"willm\", \"/r/Python/comments/g0qaa5/mypy_static_type_checker_vs_aheadoftime_bytecode/fnbba4b/\", \"Mypy and similar tools have a greater understandin\"], [\"DEEP_STATE_DESTROYER\", \"/r/Python/comments/g0p3js/im_3_hours_into_a_udemy_python_course_and_feel/fnayda5/\", \"You shouldnt keep going if you dont understand eve\"], [\"pythonHelperBot\", \"/r/Python/comments/g0rooh/implement_caseswitch_with_class_but_want_a/fnbdui1/\", \"Hello! I'm a bot!\\n\\nIt looks to me like your post m\"], [\"Kbreit\", \"/r/Python/comments/g0mmbt/i_made_a_web_app_to_convert_baking_recipes_from/fncc889/\", \"Not only types of salt but brands of salt varies. \"], [\"shubbbbbby\", \"/r/Python/comments/g0ur21/change_a_link_once_selenium_web_scraper_is_done/fnch5gg/\", \"Thanks I got it working!\"], [\"T567U18\", \"/r/Python/comments/g0l7l4/car_database_in_python/fnckk0k/\", \"Don't apologize about your English people use emoj\"], [\"je66b\", \"/r/Python/comments/g0mmbt/i_made_a_web_app_to_convert_baking_recipes_from/fne2fut/\", \"I see thanks, Didn't feel like navigating the code\"], [\"xen0blade\", \"/r/Python/comments/g10v5z/i_made_a_python_script_to_download_subtitles_for/fne4hzy/\", \"Somehow, you've answered your own question.\"], [\"K900_\", \"/r/Python/comments/g1b23g/is_oop_still_needed/fneibqq/\", \"https://www.youtube.com/watch?v=o9pEzgHorH0\"], [\"Kat9_123\", \"/r/Python/comments/g12rdq/i_made_a_simple_programme_that_enables_you_to/fnejoeb/\", \"I know. This was made as a learning project not an\"], [\"xXramzS\", \"/r/Python/comments/g0fz1e/generating_a_random_maze_using_prims_algorithm/fnazdx0/\", \"nice\"], [\"Bobby246810\", \"/r/Python/comments/g0q1il/using_regex_to_extract_data_after_a_specific_word/fnb0mub/\", \"Something along the lines of \\u201cOrder:(\\\\w+)$\\u201d. It mi\"], [\"petdance\", \"/r/Python/comments/g0g728/how_to_make_python_script_proprietary/fnb2qtg/\", \"The idea of \\\"proprietary\\\" is not related to the id\"], [\"willm\", \"/r/Python/comments/g0qaa5/mypy_static_type_checker_vs_aheadoftime_bytecode/fnbh3jd/\", \"Yes, the interpreter will completely ignore all an\"], [\"PeridexisErrant\", \"/r/Python/comments/g0qaa5/mypy_static_type_checker_vs_aheadoftime_bytecode/fnbkvuh/\", \"You're thinking of https://github.com/mypyc/mypyc,\"], [\"CutleryDrawer\", \"/r/Python/comments/g0fz1e/generating_a_random_maze_using_prims_algorithm/fnahohu/\", \"Would be awesome to see this with the A* algorithm\"], [\"robbies40\", \"/r/Python/comments/g0fz1e/generating_a_random_maze_using_prims_algorithm/fnbovwl/\", \"Nice\"], [\"pythonHelperBot\", \"/r/Python/comments/g0vjg8/writing_basic_config_file_code/fnbzhc4/\", \"Hello! I'm a bot!\\n\\nIt looks to me like your post m\"], [\"b10011\", \"/r/Python/comments/g10v5z/i_made_a_python_script_to_download_subtitles_for/fnev92f/\", \"Out of interest, how does it compare to [https://g\"], [\"gNomad88\", \"/r/Python/comments/g1conv/i_made_a_randomized_binary_tree_python_tkinter/fnfqhqi/\", \"Good job I was looking for one of those\"], [\"EchoZer0\", \"/r/Python/comments/g167bf/whats_everyone_working_on_this_week/fnfshne/\", \"I just started learning. No coding experience or c\"], [\"astigos1\", \"/r/Python/comments/g1f1vf/api_for_getting_local_restaurants/fnf6plh/\", \"Yelp or Foursquare API. I've used foursquare befor\"], [\"The_Correct_Doctor\", \"/r/Python/comments/g1conv/i_made_a_randomized_binary_tree_python_tkinter/fng78sz/\", \"clean\"], [\"kitsune\", \"/r/Python/comments/fyqpt6/multiple_pytest_maintainers_leaving_pytest/fnghk80/\", \"This most solid advice, toxic people love individu\"], [\"Ro0t-set\", \"/r/Python/comments/g1conv/i_made_a_randomized_binary_tree_python_tkinter/fngifad/\", \"exactly!\"], [\"LobbyDizzle\", \"/r/Python/comments/g1conv/i_made_a_randomized_binary_tree_python_tkinter/fngj81k/\", \"Got it, nice\"], [\"mutatedllama\", \"/r/Python/comments/g167bf/whats_everyone_working_on_this_week/fngujmv/\", \"Totally realistic. I had an idea to do something s\"], [\"Tintenpisser\", \"/r/Python/comments/g1pc33/learn_ultimate_python3_gui_course_with_tkinterqt/fngv6zl/\", \"Udemy advertisement? Rly?\"], [\"TouchingTheVodka\", \"/r/Python/comments/g1pn2c/i_cant_understand_how_it_works/fngxkux/\", \"Which bit don't you understand?\\n\\nThis code looks a\"], [\"tnetrop\", \"/r/Python/comments/g1oans/securely_deploying_python_code_onpremise/fngw55x/\", \"I believe there are ways to convert Python code to\"], [\"Syncopaint\", \"/r/Python/comments/g0fz1e/generating_a_random_maze_using_prims_algorithm/fnargh4/\", \"Can you combine this with djikstra\\u2019s algorithm\"], [\"ThePresidentsButler\", \"/r/Python/comments/g0fz1e/generating_a_random_maze_using_prims_algorithm/fnavv4e/\", \" Beautiful, incredible\"], [\"mutatedllama\", \"/r/Python/comments/g0fz1e/generating_a_random_maze_using_prims_algorithm/fnaw08w/\", \"The maze gets solved with Dijkstra's algorithm!\"], [\"thehaikuza\", \"/r/Python/comments/g0mmbt/i_made_a_web_app_to_convert_baking_recipes_from/fnbauvg/\", \"Thanks! I used [Spectre.css](https://picturepan2.g\"], [\"bladeoflight16\", \"/r/Python/comments/g0kqss/no_really_pythons_pathlib_is_great_dipping_toes/fnbgmw3/\", \"That `ExitStack` thing is bad as general advice. I\"], [\"bladeoflight16\", \"/r/Python/comments/g0kqss/no_really_pythons_pathlib_is_great_dipping_toes/fnbuha5/\", \"&gt; The main advantage is not using strings for d\"], [\"BDMac1997\", \"/r/Python/comments/g0fz1e/generating_a_random_maze_using_prims_algorithm/fnbywdg/\", \"Longest DnD dungeon crawl ever\"], [\"pythonHelperBot\", \"/r/Python/comments/g0ur7l/make_money_selling_your_apis_feedback_needed_beta/fnc7qq1/\", \"Hello! I'm a bot!\\n\\nIt looks like you posted this i\"], [\"mutatedllama\", \"/r/Python/comments/g0fz1e/generating_a_random_maze_using_prims_algorithm/fnb5xga/\", \"Code is here: https://github.com/ChrisKneller/pyga\"], [\"cbarrick\", \"/r/Python/comments/g05323/ai_learns_to_play_flappy_bird/fnaedhk/\", \"Nope. Genetic algorithms are a general purpose opt\"], [\"iamlocal\", \"/r/Python/comments/fwgtu6/i_made_a_commandline_tool_to_find_similar/fndnf8e/\", \"Cool! Thanks for sharing\"], [\"ChrisBez87\", \"/r/Python/comments/g1adit/i_made_my_first_game_in_python_thanks_uriles0829/fnedf1p/\", \"I saw u/Riles0829 post his first game he made and \"], [\"shinitakunai\", \"/r/Python/comments/g10v5z/i_made_a_python_script_to_download_subtitles_for/fndpeqn/\", \"SMPlayer\"], [\"pythonHelperBot\", \"/r/Python/comments/g1b6n5/should_i_buy_raspberry/fnejc3w/\", \"Hello! I'm a bot!\\n\\nIt looks to me like your post m\"], [\"scrooge_oleh\", \"/r/Python/comments/g1b6n5/should_i_buy_raspberry/fneidn0/\", \"I'm just learn Django now, so all projects are for\"], [\"--0mn1-Qr330005--\", \"/r/Python/comments/g10v5z/i_made_a_python_script_to_download_subtitles_for/fndvo9x/\", \"Impressive, very useful script!\"], [\"sameera__madushan_\", \"/r/Python/comments/g10v5z/i_made_a_python_script_to_download_subtitles_for/fndtmsj/\", \"Great project... Thanks\"], [\"AltezaHumilde\", \"/r/Python/comments/g10v5z/i_made_a_python_script_to_download_subtitles_for/fnekz9m/\", \"Didn't know that...\"], [\"snipperthefrog\", \"/r/Python/comments/g0xo8y/tictactoe_game/fncf2tj/\", \"this is great, awesome job bro!\"], [\"neozhaoliang\", \"/r/Python/comments/g11hl1/lots_of_gif_animations_made_with_pure_python_use/fncye7j/\", \"List of animations:\\n\\n1. conway's game of life\\n2. h\"], [\"barth_\", \"/r/Python/comments/g0mmbt/i_made_a_web_app_to_convert_baking_recipes_from/fnd1n5p/\", \"This is really awesome. My GF always bakes based o\"], [\"mutatedllama\", \"/r/Python/comments/g0fz1e/generating_a_random_maze_using_prims_algorithm/fncz5gu/\", \"Yep of course. It calculates in under a second tha\"], [\"miaomiaomiao\", \"/r/Python/comments/fyqpt6/multiple_pytest_maintainers_leaving_pytest/fnczzm1/\", \"https://mail.python.org/pipermail/pytest-dev/2020-\"], [\"livrem\", \"/r/Python/comments/g0fz1e/generating_a_random_maze_using_prims_algorithm/fncl6yl/\", \"You probably did nothing wrong, but the common way\"], [\"xXramzS\", \"/r/Python/comments/g10v5z/i_made_a_python_script_to_download_subtitles_for/fnd4yvr/\", \"nice\"], [\"ptekspy\", \"/r/Python/comments/g13k0q/not_eating/fnd8asl/\", \"You could put it in a for loop. Iterate over the d\"], [\"chicken__soup\", \"/r/Python/comments/g15e8f/how_do_you_run_a_python_app_all_the_time/fne39m6/\", \"i'll do anything for a worthy sloth\"], [\"tunitg6\", \"/r/Python/comments/g10v5z/i_made_a_python_script_to_download_subtitles_for/fndhxtr/\", \"This looks great!\\n\\nFYI, you spelled language wrong\"], [\"sameera__madushan_\", \"/r/Python/comments/g10v5z/i_made_a_python_script_to_download_subtitles_for/fndgssb/\", \"Script uses the SubDB API\"], [\"anemikk\", \"/r/Python/comments/g121pt/my_new_project_taskboard_tasks_boards_notes_and/fndieqd/\", \"Boards list items that consist of snippets, tasks \"], [\"Soolsily\", \"/r/Python/comments/g1dbhk/best_dash_file_management_setup_focused_on_fast/fnevjrf/\", \"Live Covid-19 Dashboard: [https://covid-dash-udemy\"], [\"genericlemon24\", \"/r/Python/comments/g167bf/whats_everyone_working_on_this_week/fnf1of2/\", \"I'm preparing my [feed reader library](https://git\"], [\"McSinyx\", \"/r/Python/comments/fx42wf/we_made_a_3d_audio_library_with_efx_and_codecs/fnfspcz/\", \"Thanks for trying it out!  My guess would be you'r\"], [\"PM_ME_SECRET_DATA\", \"/r/Python/comments/g168jg/i_made_a_procedural_world_generator/fnfu0ps/\", \"Potentially. I just created it as a world builder \"], [\"xxenon11\", \"/r/Python/comments/g1dxfn/stop_naming_your_python_modules_utils/fngcvyi/\", \"Guilty as charged, your honour\"], [\"chazzeromus\", \"/r/Python/comments/g1conv/i_made_a_randomized_binary_tree_python_tkinter/fngb1ql/\", \"this tree needs to be balanced!! :o\"], [\"fameshpatel\", \"/r/Python/comments/g1conv/i_made_a_randomized_binary_tree_python_tkinter/fnge9bs/\", \"I like that perfect loop\"], [\"i_like_trains_a_lot1\", \"/r/Python/comments/g1dxfn/stop_naming_your_python_modules_utils/fngh5f3/\", \"I look behind at old projects and whenever I see t\"], [\"Sagittarius-Astar\", \"/r/Python/comments/g1conv/i_made_a_randomized_binary_tree_python_tkinter/fngin3z/\", \"I love this art, it give me inspiration, thanks! :\"], [\"Ro0t-set\", \"/r/Python/comments/g1conv/i_made_a_randomized_binary_tree_python_tkinter/fngixc2/\", \"&gt;yes, it is generated from right to left, but, \"], [\"WesolyKubeczek\", \"/r/Python/comments/g1mbgj/python_programming_is_drowning_in_red_tape_my/fngnbwk/\", \"It's not written for noobs. There's a rant about s\"], [\"dePliko\", \"/r/Python/comments/g10v5z/i_made_a_python_script_to_download_subtitles_for/fng9ml1/\", \"Yeah, SubSync is quite good for most subtitle file\"], [\"TouchingTheVodka\", \"/r/Python/comments/g1o4b0/how_could_i_mimic_kotlins_decorator_feature/fngppiv/\", \"Python supports duck-typing by using dunder method\"], [\"TheRealRealRadu\", \"/r/Python/comments/g1o4b0/how_could_i_mimic_kotlins_decorator_feature/fngsyb7/\", \"How about a mixin? Python supports multiple inheri\"], [\"eduplus0606\", \"/r/Python/comments/g1mkwv/python_youtube_channel/fngtovj/\", \"Does it cover the basics in python??\"], [\"beremeth\", \"/r/Python/comments/g1p4ce/visualising_dijkstra_vs_dfs_vs_a_pathfinding/fngurzr/\", \"How many cycles each algo used to get to resolve t\"], [\"tdammers\", \"/r/Python/comments/g1ns0l/how_effectively_can_one_learn_python_from_a/fngwmpy/\", \"Between a textbook, a locally installed toolchain,\"], [\"dugindeep\", \"/r/Python/comments/g0qnsv/anyone_else_wants_assignment_expressions_reverted/fnb4ayv/\", \"Nobody insists you on using it. It is a preference\"], [\"pythonHelperBot\", \"/r/Python/comments/g0qpj9/finding_out_if_a_list_has_duplicates/fnb4keg/\", \"Hello! I'm a bot!\\n\\nIt looks to me like your post m\"], [\"bladeoflight16\", \"/r/Python/comments/g0kqss/no_really_pythons_pathlib_is_great_dipping_toes/fnbvzbk/\", \"The Django ticket you mention says this:\\n\\n&gt; App\"], [\"EvilLemonzzz\", \"/r/Python/comments/g06vbu/a_flat_water_color_like_effect_on_any_picture/fnbb3x9/\", \"haha yeah Nord theme for the terminal, spacegray t\"], [\"Marorin\", \"/r/Python/comments/g0fz1e/generating_a_random_maze_using_prims_algorithm/fnbi0p4/\", \"This looks great, how long did it take to brew thi\"], [\"PointSpreadFunction\", \"/r/Python/comments/g0onvr/update_some_of_you_asked_me_to_make_a_video_of/fnc55p0/\", \"Thanks. But it isn't a home setup. It is a univers\"], [\"pythonHelperBot\", \"/r/Python/comments/g0nvrs/think_like_a_computer_scientist_help/fnamv4q/\", \"Hello! I'm a bot!\\n\\nIt looks to me like your post m\"], [\"Strojac\", \"/r/Python/comments/g0fz1e/generating_a_random_maze_using_prims_algorithm/fnaz5ke/\", \"I\\u2019m inspired!\"], [\"robin-gvx\", \"/r/Python/comments/g0gdq2/how_can_a_python_script_verify_itself_with_a/fnaxqxf/\", \"It is impossible, because at the end of the day, n\"], [\"mutatedllama\", \"/r/Python/comments/g0fz1e/generating_a_random_maze_using_prims_algorithm/fncoyh0/\", \"Nice idea. Alternatively I could perhaps start the\"], [\"abazi\", \"/r/Python/comments/g10v5z/i_made_a_python_script_to_download_subtitles_for/fnd77wq/\", \"Very useful. Thank you!\"], [\"Tureni\", \"/r/Python/comments/g0l7l4/car_database_in_python/fnd63s0/\", \"Det ser sq godt ud min ven :-)\"], [\"nuquichoco\", \"/r/Python/comments/g10v5z/i_made_a_python_script_to_download_subtitles_for/fndbsva/\", \"Niceee!, do you accept contributions. I just had a\"], [\"Fanshiboi\", \"/r/Python/comments/g10v5z/i_made_a_python_script_to_download_subtitles_for/fnda3f3/\", \"You are missing the point. If we go with what you \"], [\"Stragemque\", \"/r/Python/comments/g10v5z/i_made_a_python_script_to_download_subtitles_for/fndgw12/\", \"If you add a .bat file which runs the script into \"], [\"sameera__madushan_\", \"/r/Python/comments/g10v5z/i_made_a_python_script_to_download_subtitles_for/fndgz4v/\", \"Thanks \\u2764\"], [\"sameera__madushan_\", \"/r/Python/comments/g10v5z/i_made_a_python_script_to_download_subtitles_for/fne6jxm/\", \"I just merged a pull request that adds Linux suppo\"], [\"snow__\", \"/r/Python/comments/g10v5z/i_made_a_python_script_to_download_subtitles_for/fndi9aq/\", \"If someone stumble upon this, but this someone is \"], [\"ptekspy\", \"/r/Python/comments/g13g8f/i_made_a_guess_game_to_guess_any_number_from_1_to/fndk916/\", \"No worries man some people like to just give base \"], [\"vantech887\", \"/r/Python/comments/g13g8f/i_made_a_guess_game_to_guess_any_number_from_1_to/fndl2ts/\", \"Right, thanks\"], [\"kaira95\", \"/r/Python/comments/g12rdq/i_made_a_simple_programme_that_enables_you_to/fndmypn/\", \"Shift+win+S\"], [\"TotesMessenger\", \"/r/Python/comments/g10v5z/i_made_a_python_script_to_download_subtitles_for/fndpawy/\", \"I'm a bot, *bleep*, *bloop*. Someone has linked to\"], [\"sameera__madushan_\", \"/r/Python/comments/g10v5z/i_made_a_python_script_to_download_subtitles_for/fndtq9j/\", \"Nope.. but thank you for mentioning it. I'll defin\"], [\"atom036\", \"/r/Python/comments/g16t0s/hello_i_am_new_to_pythoncould_you_guys_guve_me/fndqzr4/\", \"Read the documentation (python.org) and do coding \"], [\"ElimGarak007\", \"/r/Python/comments/g16t0s/hello_i_am_new_to_pythoncould_you_guys_guve_me/fndqnud/\", \"There is no way to become really good at Python or\"], [\"pythonHelperBot\", \"/r/Python/comments/g17o6h/why_the_error_pls_answer/fndw2zf/\", \"Hello! I'm a bot!\\n\\nIt looks to me like your post m\"], [\"darkfish-tech\", \"/r/Python/comments/g17ivd/does_anyone_have_any_tips_on_where_can_i_learn_to/fndv1cg/\", \"r/learnpython\"], [\"TJ-MD\", \"/r/Python/comments/g15e8f/how_do_you_run_a_python_app_all_the_time/fndvtoy/\", \"Shameless plug for our platform [https://wayscript\"], [\"thugforlife\", \"/r/Python/comments/g17cqd/interesting_script_that_drops_items_by_their/fndvxb6/\", \"&gt;import random  \\nimport collections  \\ndrops = r\"], [\"heyitsnotmeok\", \"/r/Python/comments/g17o6h/why_the_error_pls_answer/fndxzqg/\", \"I am not an expert but isn't your while loop an in\"], [\"sameera__madushan_\", \"/r/Python/comments/g10v5z/i_made_a_python_script_to_download_subtitles_for/fneiufd/\", \" check [this](https://github.com/sameera-madushan/\"], [\"pythonHelperBot\", \"/r/Python/comments/g1b98c/how_to_install_python_and_set_it_up_with_visual/fneil0r/\", \"Hello! I'm a bot!\\n\\nIt looks to me like your post m\"], [\"quantumwoooo\", \"/r/Python/comments/g10v5z/i_made_a_python_script_to_download_subtitles_for/fnejq22/\", \"Nononoooo, thankyouu\"], [\"iamlocal\", \"/r/Python/comments/g1dxfn/stop_naming_your_python_modules_utils/fnf6auw/\", \"sometimes utils is a convenient name and after all\"], [\"spydakat\", \"/r/Python/comments/g1fhk9/i_wrote_an_api_wrapper_for_td_ameritrades_finance/fnf9pnu/\", \"Ah a good man, I'll definitely check this out\"], [\"Legorooj\", \"/r/Python/comments/g1b6n5/should_i_buy_raspberry/fnfnr2v/\", \"I'd say use the raspberry pi or a VM for learning,\"], [\"loop0001\", \"/r/Python/comments/g17ygx/python_bootcamp_2020_build_15_working/fnfrjq1/\", \"Thanks!\"], [\"tpycat\", \"/r/Python/comments/g1conv/i_made_a_randomized_binary_tree_python_tkinter/fnfrrkm/\", \"Noice\"], [\"3rdIxel\", \"/r/Python/comments/g0mmbt/i_made_a_web_app_to_convert_baking_recipes_from/fnc7iqk/\", \"Very cool!\"], [\"quantumwoooo\", \"/r/Python/comments/g10v5z/i_made_a_python_script_to_download_subtitles_for/fnd0ftr/\", \"That's amazing\"], [\"nspectre\", \"/r/Python/comments/g0onvr/update_some_of_you_asked_me_to_make_a_video_of/fncckp1/\", \"That is *very* awesome [\\\\m/&gt;.&lt;\\\\m/](https://i\"], [\"Lazy_Victor\", \"/r/Python/comments/g0mmbt/i_made_a_web_app_to_convert_baking_recipes_from/fnahskm/\", \"Nice, thanks!\"], [\"Umlautica\", \"/r/Python/comments/g167bf/whats_everyone_working_on_this_week/fnfy6lr/\", \"I received a Google foo.bar invitation which is a \"], [\"TheRevTastic\", \"/r/Python/comments/g167bf/whats_everyone_working_on_this_week/fnfvf79/\", \"I\\u2019m around 30 hours into the Zero to Mastery pytho\"], [\"Harith_alsafi\", \"/r/Python/comments/g1conv/i_made_a_randomized_binary_tree_python_tkinter/fnfyk17/\", \"I don\\u2019t quite understand how is this happening \\u201cma\"], [\"be_nicer_to_yourself\", \"/r/Python/comments/g1ip1o/is_python_hard_for_most_people/fnfup79/\", \"Keep at it and don't worry too much about if it's \"], [\"qazwsx2148\", \"/r/Python/comments/g1conv/i_made_a_randomized_binary_tree_python_tkinter/fng3e5m/\", \"Beautiful\"], [\"LobbyDizzle\", \"/r/Python/comments/g1conv/i_made_a_randomized_binary_tree_python_tkinter/fngg7db/\", \"Doesn\\u2019t seem random but more so procedurally gener\"], [\"thrallsius\", \"/r/Python/comments/g1l3uk/help_with_safely_uninstalling_python_27_to_get_37/fngbgic/\", \"&gt; I don't remember how it got there, so I was c\"], [\"piepepie\", \"/r/Python/comments/g1lmhk/help_pls_from_a_fellow_coder/fngcou1/\", \"Go to [download](https://www.pythin.org/downloads/\"], [\"xxcooldude24xx\", \"/r/Python/comments/g1i24z/my_first_scraper/fngk97s/\", \"i see you have your priorities straight lol\"], [\"pythonHelperBot\", \"/r/Python/comments/g1mxy4/what_are_the_best_books_to_learn_how_to_use_django/fngo5vk/\", \"Hello! I'm a bot!\\n\\nIt looks to me like your post m\"], [\"Lintydint\", \"/r/Python/comments/g167bf/whats_everyone_working_on_this_week/fngrezh/\", \"Search up \\u2018ceaser cipher\\u2019, understand it, and try \"], [\"dr-khalid\", \"/r/Python/comments/g1nuy0/request_is_there_any_python_tool_to_download_a/fngsch7/\", \"Well I\\u2019m honest, i will not sell anything which is\"], [\"elpigo\", \"/r/Python/comments/g05323/ai_learns_to_play_flappy_bird/fnak876/\", \"Cool thanks for the clarification. It\\u2019s been a lon\"], [\"pythonHelperBot\", \"/r/Python/comments/g0o3hn/python_scraping_question/fnaoeg5/\", \"Hello! I'm a bot!\\n\\nIt looks to me like your post m\"], [\"AutoModerator\", \"/r/Python/comments/g0qnga/edhesive/fnb3uaa/\", \"Your submission has been automatically removed.\\n\\nY\"], [\"[deleted]\", \"/r/Python/comments/g05323/ai_learns_to_play_flappy_bird/fnb4hz4/\", \"[deleted]\"], [\"Braian94lp\", \"/r/Python/comments/g05323/ai_learns_to_play_flappy_bird/fnb4jwn/\", \"How long did it take you to make this code?\"], [\"bykof\", \"/r/Python/comments/g0qobg/i_made_a_python_program_which_models_the/fnb4tyx/\", \"Can you share the Code? A link?\"], [\"nemom\", \"/r/Python/comments/g0qpj9/finding_out_if_a_list_has_duplicates/fnb61vt/\", \"`if coinFlips[-6:] == ['H','H','H','H','H','H'] or\"], [\"silent_guy1\", \"/r/Python/comments/fz5r9j/python_cheat_sheet/fnb441n/\", \"+1 for Python Notes for Professional. A very handy\"], [\"argsb\", \"/r/Python/comments/fzwbcx/i_made_a_face_recognition_program/fnbu97d/\", \"oh I see. Thank you! That makes sense. I do someti\"], [\"frostming\", \"/r/Python/comments/g0bb6j/pdm_a_pep_582_package_manager_for_the_future/fnbzwdy/\", \"It is not aiming at being a universal solution, if\"], [\"idd24x7\", \"/r/Python/comments/g0q1il/using_regex_to_extract_data_after_a_specific_word/fnbx4ki/\", \"I think the solution provided by Bobby should work\"], [\"mutatedllama\", \"/r/Python/comments/g0fz1e/generating_a_random_maze_using_prims_algorithm/fnbcs2z/\", \"I completely agree. I'll be trying dfs out tomorro\"], [\"EvilLemonzzz\", \"/r/Python/comments/g06vbu/a_flat_water_color_like_effect_on_any_picture/fnbcbbm/\", \"actually, (as a sort of naive solution/start point\"], [\"ffemt161\", \"/r/Python/comments/g0wfqq/is_it_possible_to_use_python_to_generate_filled/fnc55ey/\", \"Why would you want to do this? If you have word an\"], [\"p1nkp3ngu1n\", \"/r/Python/comments/g0wfqq/is_it_possible_to_use_python_to_generate_filled/fnc6oyd/\", \"data entry related work. it doesnt have to be pyth\"], [\"Wh00ster\", \"/r/Python/comments/g0vjg8/writing_basic_config_file_code/fnc4jvm/\", \"look at the difference between `read` and `read_fi\"], [\"AutoModerator\", \"/r/Python/comments/g0wyyi/trying_to_download_latest_version_of_python_help/fnc89es/\", \"Your submission has been automatically removed.\\n\\nY\"], [\"pythonHelperBot\", \"/r/Python/comments/g0y6q2/python_code_help/fncg6ez/\", \"Hello! I'm a bot!\\n\\nIt looks to me like your post m\"], [\"Tom8to_Citizen\", \"/r/Python/comments/g10v5z/i_made_a_python_script_to_download_subtitles_for/fnd5lam/\", \"What about those times when you dl a sub and it's \"], [\"faithade\", \"/r/Python/comments/g0xo8y/tictactoe_game/fnd62ll/\", \"Thanks! I really appreciate.\"], [\"TofuCannon\", \"/r/Python/comments/g0oe5a/how_to_run_function_through_a_list/fndbnbq/\", \"Dicts allow accessing values of keys via [].\\n\\nYou \"], [\"sm4\", \"/r/Python/comments/g10v5z/i_made_a_python_script_to_download_subtitles_for/fnde1qv/\", \"iirc it's bundled with VLC install nowadays?\"], [\"a-babak\", \"/r/Python/comments/g0lndd/i_made_a_file_arranger_any_suggestions_github/fncn5uh/\", \"any(file_extension_splitted.lower() == a for a in \"], [\"sameera__madushan_\", \"/r/Python/comments/g10v5z/i_made_a_python_script_to_download_subtitles_for/fndgzd9/\", \"Thanks \\u2764\"], [\"anemikk\", \"/r/Python/comments/g121pt/my_new_project_taskboard_tasks_boards_notes_and/fndhnhg/\", \"Yes generally, i keep open Taskboard in one tab an\"], [\"rockchalk1995\", \"/r/Python/comments/g0lndd/i_made_a_file_arranger_any_suggestions_github/fncp9xo/\", \"What text editor are you using?\"], [\"Arth_K\", \"/r/Python/comments/g0zx5p/everyone_was_making_a_file_manager_so_i_made_i_too/fncq2k0/\", \"Sorry for the typo\"], [\"K900_\", \"/r/Python/comments/g161el/help_simple_test_function/fndm2ge/\", \"1. /r/learnpython \\n2. `print something` is Python \"], [\"chicken__soup\", \"/r/Python/comments/g15e8f/how_do_you_run_a_python_app_all_the_time/fndokmq/\", \"yeah this was the free tier. They warn however tha\"], [\"pythonHelperBot\", \"/r/Python/comments/g17o5i/countdown_with_input_break_helpadvice/fndw27m/\", \"Hello! I'm a bot!\\n\\nIt looks to me like your post m\"], [\"mutatedllama\", \"/r/Python/comments/g0fz1e/generating_a_random_maze_using_prims_algorithm/fndt95w/\", \"I used pygame. I would recommend checking it out!\"], [\"[deleted]\", \"/r/Python/comments/g177ev/interesting_little_script_that_drops_items_by/fnduklx/\", \"[deleted]\"], [\"woutSo\", \"/r/Python/comments/g0mmbt/i_made_a_web_app_to_convert_baking_recipes_from/fndw7nd/\", \"He has a map for the variations of teaspoon and th\"], [\"cyrus01337\", \"/r/Python/comments/g167bf/whats_everyone_working_on_this_week/fndtglm/\", \"I'm working on a game with similar concepts to tha\"], [\"pythonHelperBot\", \"/r/Python/comments/g1d6eq/module_error/fnew2x7/\", \"Hello! I'm a bot!\\n\\nIt looks to me like your post m\"], [\"pythonHelperBot\", \"/r/Python/comments/g1dgsb/pycharm_module_error/fnew8sk/\", \"Hello! I'm a bot!\\n\\nIt looks to me like your post m\"], [\"tacoshellzz\", \"/r/Python/comments/g1dgsb/pycharm_module_error/fnewoxh/\", \"Have you installed the package? You might be using\"], [\"pythonHelperBot\", \"/r/Python/comments/g1b23g/is_oop_still_needed/fnew4cd/\", \"Hello! I'm a bot!\\n\\nIt looks to me like your post m\"], [\"pythonHelperBot\", \"/r/Python/comments/g1d90f/how_to_use_local_modules_in_pyenv/fnex295/\", \"Hello! I'm a bot!\\n\\nIt looks like you posted this i\"], [\"AAAVR\", \"/r/Python/comments/g1cftx/python_formatters_to_eg_align_code/fnf1d3f/\", \"Thanks I noticed that (and e.g. pylint complains a\"], [\"Raj_CSH\", \"/r/Python/comments/g10v5z/i_made_a_python_script_to_download_subtitles_for/fney3c8/\", \"How????\"], [\"Dogeek\", \"/r/Python/comments/g10v5z/i_made_a_python_script_to_download_subtitles_for/fnf0kn1/\", \"Once you have the data you need from the file dial\"], [\"deadtreesquirrels\", \"/r/Python/comments/g0s4yu/class_implementation_of_caseswitch_need_a_default/fnf1f4c/\", \"Sorry, let me clarify. My class looks like this\\n  \"], [\"bibek687\", \"/r/Python/comments/g10v5z/i_made_a_python_script_to_download_subtitles_for/fnf719m/\", \"Where were you when I was still watching movies on\"], [\"LunarLorkhan\", \"/r/Python/comments/g10v5z/i_made_a_python_script_to_download_subtitles_for/fnf809a/\", \"You\\u2019re mentally ill. Seek help.\"], [\"TrainingShift3\", \"/r/Python/comments/g10v5z/i_made_a_python_script_to_download_subtitles_for/fnfcuqs/\", \"well done!\"], [\"AltezaHumilde\", \"/r/Python/comments/g10v5z/i_made_a_python_script_to_download_subtitles_for/fnfe58f/\", \"So if I enjoy a good picture of a fine lady, dress\"], [\"PeridexisErrant\", \"/r/Python/comments/g0gga6/view_python_download_stats_by_project_version/fnfgjy4/\", \"Raw data is mostly because I want to correct for t\"], [\"may314\", \"/r/Python/comments/g1dxfn/stop_naming_your_python_modules_utils/fnfh37k/\", \"Or `helpers`, `misc`, `tools`...\"], [\"pythonHelperBot\", \"/r/Python/comments/g14t14/batching_in_google_classroom_api/fne0x28/\", \"Hello! I'm a bot!\\n\\nIt looks to me like your post m\"], [\"550r\", \"/r/Python/comments/g167bf/whats_everyone_working_on_this_week/fne1qmz/\", \"Been working on an extremely simple game that I ho\"], [\"[deleted]\", \"/r/Python/comments/g1b23g/is_oop_still_needed/fnehtbg/\", \"[deleted]\"], [\"RenSoAbrupt\", \"/r/Python/comments/g167bf/whats_everyone_working_on_this_week/fneirj9/\", \"Starting over with the basics in Python. I used to\"], [\"pythonHelperBot\", \"/r/Python/comments/g12911/strava_api/fnd3ums/\", \"Hello! I'm a bot!\\n\\nIt looks to me like your post m\"], [\"pythonHelperBot\", \"/r/Python/comments/g12lj2/free_resource_to_learn_data_analysis_in_python/fnd41uw/\", \"Hello! I'm a bot!\\n\\nIt looks to me like your post m\"], [\"_lagadeno_\", \"/r/Python/comments/g16t0s/hello_i_am_new_to_pythoncould_you_guys_guve_me/fndrpr1/\", \"LOL!\"], [\"blah001blah\", \"/r/Python/comments/g1962q/i_need_help_for_a_script_that_types_good_morning/fnece7f/\", \"Type where ?\"], [\"sameera__madushan_\", \"/r/Python/comments/g10v5z/i_made_a_python_script_to_download_subtitles_for/fne5735/\", \"Thanks \\u2665\"], [\"worthy_sloth\", \"/r/Python/comments/g15e8f/how_do_you_run_a_python_app_all_the_time/fne5igx/\", \"Ill look into it !!\"], [\"shisui1729\", \"/r/Python/comments/g10v5z/i_made_a_python_script_to_download_subtitles_for/fne931u/\", \"First time I have seen using import statements in \"], [\"Riles0829\", \"/r/Python/comments/g1adit/i_made_my_first_game_in_python_thanks_uriles0829/fnep77k/\", \"Nice job! It looks great!\"], [\"anselal\", \"/r/Python/comments/g10v5z/i_made_a_python_script_to_download_subtitles_for/fneplfl/\", \"How did you apply a dark theme to explorer?\"], [\"wynand1004\", \"/r/Python/comments/g1072z/how_to_use_turtle_and_pygame/fnerj8q/\", \"Let me repeat: You need to share the code. Otherwi\"], [\"Wesman504\", \"/r/Python/comments/g1072z/how_to_use_turtle_and_pygame/fnercz3/\", \"That does work, but it's just when I was trying to\"], [\"FidoTheDisingenuous\", \"/r/Python/comments/g10v5z/i_made_a_python_script_to_download_subtitles_for/fnfojno/\", \"I never said I was offended snowflake. And your st\"], [\"monsto\", \"/r/Python/comments/g10v5z/i_made_a_python_script_to_download_subtitles_for/fnfnlty/\", \"But not with stuff like Plex.\"], [\"Andrew_the_giant\", \"/r/Python/comments/g1fhk9/i_wrote_an_api_wrapper_for_td_ameritrades_finance/fnft4az/\", \"This is the way\"], [\"BurningOrangeHeaven\", \"/r/Python/comments/g10v5z/i_made_a_python_script_to_download_subtitles_for/fng0dh2/\", \"This video just reminded me of how slow my craptop\"], [\"IllegalAlcoholic\", \"/r/Python/comments/g10v5z/i_made_a_python_script_to_download_subtitles_for/fnfzsds/\", \"I checked your GitHub, you have a lot of interesti\"], [\"M-W-R\", \"/r/Python/comments/g167bf/whats_everyone_working_on_this_week/fng0a82/\", \"So I'm working on a script that will download my c\"], [\"sameera__madushan_\", \"/r/Python/comments/g10v5z/i_made_a_python_script_to_download_subtitles_for/fng5s01/\", \"Thank you machan \\u2665\"], [\"IWantOreo\", \"/r/Python/comments/g0fz1e/generating_a_random_maze_using_prims_algorithm/fncxt1i/\", \"You can probably increase generation speed by not \"], [\"metaperl\", \"/r/Python/comments/g0qbcc/is_there_a_replacement_for_anvil_works/fncyach/\", \"livecode has an open source option.\"], [\"cerealtomilkratio\", \"/r/Python/comments/g0mmbt/i_made_a_web_app_to_convert_baking_recipes_from/fncxyfr/\", \"This is great! Clean UI, too. If I may suggest, th\"], [\"AutoModerator\", \"/r/Python/comments/g10yah/python_youtube_channel/fncvfy3/\", \"Your submission has been automatically removed.\\n\\nY\"], [\"pythonHelperBot\", \"/r/Python/comments/g10q1v/drf_upload_file_save_filename_as_uuid/fncwksf/\", \"Hello! I'm a bot!\\n\\nIt looks to me like your post m\"], [\"pythonHelperBot\", \"/r/Python/comments/g113ug/im_new_to_python_and_wanted_to_install_pillow/fncwe0s/\", \"Hello! I'm a bot!\\n\\nI see someone has already sugge\"], [\"[deleted]\", \"/r/Python/comments/g12911/strava_api/fnd2bka/\", \"[deleted]\"], [\"wholl0p\", \"/r/Python/comments/g0mmbt/i_made_a_web_app_to_convert_baking_recipes_from/fnd2d9c/\", \"So an idiotic murrican to normal converter?\"], [\"willm\", \"/r/Python/comments/g0qaa5/mypy_static_type_checker_vs_aheadoftime_bytecode/fnczb8i/\", \"Last time I looked in to mypyc it was not quite re\"], [\"pythonHelperBot\", \"/r/Python/comments/g12hbx/help_with_coursework/fnd33mx/\", \"Hello! I'm a bot!\\n\\nIt looks to me like your post m\"], [\"stef13013\", \"/r/Python/comments/g082tt/why_i_chose_python_after_almost_15_years/fnd38ra/\", \"Very interesting...\\n\\nThe main problem with Java is\"], [\"mattiavenditti\", \"/r/Python/comments/fzzshs/i_made_a_chatbot_for_instagram_made_to_suggest/fnblqjo/\", \"Your ranking criterion is pretty solid to get star\"], [\"rednafi\", \"/r/Python/comments/g0kqss/no_really_pythons_pathlib_is_great_dipping_toes/fnbls70/\", \"You got that part right, it doesn't reduce the amo\"], [\"AAAVR\", \"/r/Python/comments/g0qaa5/mypy_static_type_checker_vs_aheadoftime_bytecode/fnblrlm/\", \"Thanks - Just wondering, how would you reconcile w\"], [\"AAAVR\", \"/r/Python/comments/g0qaa5/mypy_static_type_checker_vs_aheadoftime_bytecode/fnbm0ti/\", \"Indeed - Thanks!\"], [\"pythonHelperBot\", \"/r/Python/comments/g0pl67/pandas_with_array_of_col_names_in_a_desired/fnayqoz/\", \"Hello! I'm a bot!\\n\\nIt looks to me like your post m\"], [\"Peksio\", \"/r/Python/comments/g0os2k/virtual_env_for_pushing_app_to_heroku_and_venv/fnb02zp/\", \"Hello dear bot!\\n\\nI think that you may be right. Bu\"], [\"sameera__madushan_\", \"/r/Python/comments/g10v5z/i_made_a_python_script_to_download_subtitles_for/fndqill/\", \"Thanks \\u2764\"], [\"theharamberapiast\", \"/r/Python/comments/fna798/because_of_quarantine_and_online_clases_i_made/fngc8x7/\", \"How do u make python do things like that. I use re\"], [\"pythonHelperBot\", \"/r/Python/comments/g1lh1i/can_someone_help_me_spot_this_runtime_error/fngbjt1/\", \"Hello! I'm a bot!\\n\\nIt looks to me like your post m\"], [\"elfoosay\", \"/r/Python/comments/fu8h57/a_beginner_here_why_dont_i_get_the_suggestions/fng9sum/\", \"Interpreter setup correctly? File preferences inte\"], [\"MeekZeek\", \"/r/Python/comments/g14p79/i_made_a_tiny_script_for_ristodayfridaythe13th_so/fngas03/\", \" u/GangControl\"], [\"speedysocks30\", \"/r/Python/comments/g10v5z/i_made_a_python_script_to_download_subtitles_for/fngcuif/\", \"Nice. I'll be checking this out.\"], [\"[deleted]\", \"/r/Python/comments/g1lzot/python_tuples_python_tutorial_for_beginners/fngeylu/\", \"[removed]\"], [\"anarchyisthekey\", \"/r/Python/comments/g10v5z/i_made_a_python_script_to_download_subtitles_for/fngjg1v/\", \"Ah, yes now it makes sense.\"], [\"kigurai\", \"/r/Python/comments/g0kqss/no_really_pythons_pathlib_is_great_dipping_toes/fngj8sg/\", \"I think there are several objective good things:\\n\\n\"], [\"cochorol\", \"/r/Python/comments/g10v5z/i_made_a_python_script_to_download_subtitles_for/fngllyq/\", \"Can you find Chinese subs with it? By any chance ?\"], [\"AutoModerator\", \"/r/Python/comments/g1oenp/my_first_game_in_python_any_thoughts_took_me_very/fngqri0/\", \"Your submission has been automatically removed.\\n\\nY\"], [\"saytannblazes\", \"/r/Python/comments/g10v5z/i_made_a_python_script_to_download_subtitles_for/fngpqxm/\", \"They did not ask you to spew your anti cultural ap\"], [\"ballagarba\", \"/r/Python/comments/g1dxfn/stop_naming_your_python_modules_utils/fngqku3/\", \"What value does `utils/` bring in your example ver\"], [\"TouchingTheVodka\", \"/r/Python/comments/g1onw8/i_keep_trying_to_get_pip_to_work_and_it_always/fngrzsz/\", \"Is your Python running inside an Anaconda environm\"], [\"pythonHelperBot\", \"/r/Python/comments/g1onw8/i_keep_trying_to_get_pip_to_work_and_it_always/fngs34l/\", \"Hello! I'm a bot!\\n\\nIt looks to me like your post m\"], [\"justingolden21\", \"/r/Python/comments/g1onw8/i_keep_trying_to_get_pip_to_work_and_it_always/fngselq/\", \"That makes sense. I tried that months ago on a dif\"], [\"ChrisBez87\", \"/r/Python/comments/g1adit/i_made_my_first_game_in_python_thanks_uriles0829/fngyuqq/\", \"Sure I will add a comment with a link, sorry I hav\"], [\"jyper\", \"/r/Python/comments/g1dxfn/stop_naming_your_python_modules_utils/fngvsbu/\", \"Local variables named data seem fine\"], [\"ChrisBez87\", \"/r/Python/comments/g1adit/i_made_my_first_game_in_python_thanks_uriles0829/fngyrl8/\", \"Thank you\"], [\"ChrisBez87\", \"/r/Python/comments/g1adit/i_made_my_first_game_in_python_thanks_uriles0829/fngyrbx/\", \"Amazing\"], [\"ChrisBez87\", \"/r/Python/comments/g1adit/i_made_my_first_game_in_python_thanks_uriles0829/fngyqj6/\", \"Thank you!\"], [\"TouchingTheVodka\", \"/r/Python/comments/g1pn2c/i_cant_understand_how_it_works/fngy45i/\", \"`range(x, y)` will produce a list of numbers betwe\"], [\"DreamIce\", \"/r/Python/comments/g0fz1e/generating_a_random_maze_using_prims_algorithm/fncuv1p/\", \"what did you use to make the grid?\"], [\"pythonHelperBot\", \"/r/Python/comments/g10kyu/a_web_app_that_counts_the_number_of_days_until/fnctrle/\", \"Hello! I'm a bot!\\n\\nIt looks to me like your post m\"], [\"pythonHelperBot\", \"/r/Python/comments/g1161p/drf_file_upload_uuid_as_filename/fncwl2m/\", \"Hello! I'm a bot!\\n\\nIt looks to me like your post m\"], [\"medicali\", \"/r/Python/comments/g0onvr/update_some_of_you_asked_me_to_make_a_video_of/fnc4tiw/\", \"Didn\\u2019t see your first post so I gotta go back to g\"], [\"MyPythonDontWantNone\", \"/r/Python/comments/g0fz1e/generating_a_random_maze_using_prims_algorithm/fnc7e7k/\", \"No loops at all. Terrible for Inception.\"], [\"weshall8\", \"/r/Python/comments/fjqoxv/laid_off_for_8_weeks_anyone_else_starting_their/fnd1frv/\", \"I started today. Done with variables, strings and \"], [\"nice-scores\", \"/r/Python/comments/g0fz1e/generating_a_random_maze_using_prims_algorithm/fnd37il/\", \"\\ud835\\udcf7\\ud835\\udcf2\\ud835\\udcec\\ud835\\udcee \\u261c(\\uff9f\\u30ee\\uff9f\\u261c)\\n#Nice Leaderboard\\n**1.** `u/RepliesNi\"], [\"coll_ryan\", \"/r/Python/comments/g0mmbt/i_made_a_web_app_to_convert_baking_recipes_from/fnd40i5/\", \"Nice! My girlfriend is always finding recipes for \"], [\"bloedlink\", \"/r/Python/comments/g12911/strava_api/fnd5xuo/\", \"I verified this, and there is nothing wrong in thi\"], [\"coll_ryan\", \"/r/Python/comments/g0mmbt/i_made_a_web_app_to_convert_baking_recipes_from/fnd4lt0/\", \"Another thing - converting \\\"tsp\\\" into grams is not\"], [\"way22\", \"/r/Python/comments/g12hbx/help_with_coursework/fnd7y2c/\", \"This is definitely the wrong Sub for this since it\"], [\"xXramzS\", \"/r/Python/comments/g12xlh/i_see_there_are_veterans_on_this_sub/fnd7pin/\", \"kk let's delete it\"], [\"Mr-Jabba\", \"/r/Python/comments/g10v5z/i_made_a_python_script_to_download_subtitles_for/fnd9hni/\", \"I'm a new programmer, but this looks amazing!! Can\"], [\"ptekspy\", \"/r/Python/comments/g13k0q/not_eating/fnd8qna/\", \"On a serious note,, a quick Google brought up this\"], [\"Entr00py134\", \"/r/Python/comments/g121pt/my_new_project_taskboard_tasks_boards_notes_and/fnd91xy/\", \"Sweet. So do you typically have one terminal just \"], [\"GiantElectron\", \"/r/Python/comments/g0qbcc/is_there_a_replacement_for_anvil_works/fnd16td/\", \"Probably dash, but honestly, while all these servi\"], [\"lollipas\", \"/r/Python/comments/fr5561/beginners_guide_how_to_start_programming_in_python/fnd0zdg/\", \"done pong, now make tetris\"], [\"AutoModerator\", \"/r/Python/comments/g14xzm/looping_through_multiple_regression_and_how_to/fndfcwb/\", \"Your submission has been automatically removed.\\n\\nY\"], [\"sameera__madushan_\", \"/r/Python/comments/g10v5z/i_made_a_python_script_to_download_subtitles_for/fndh0j6/\", \"Thanks \\u2764\"], [\"BastetFae\", \"/r/Python/comments/g10v5z/i_made_a_python_script_to_download_subtitles_for/fndetsk/\", \"Looks good. I like how you used c types. Something\"], [\"DaBeast07\", \"/r/Python/comments/g0fz1e/generating_a_random_maze_using_prims_algorithm/fnde3m1/\", \"That's so cool! I'm kind of new to python, what mo\"], [\"sameera__madushan_\", \"/r/Python/comments/g10v5z/i_made_a_python_script_to_download_subtitles_for/fndgyc9/\", \"&gt;available language types for a specific subtit\"], [\"anubhavgoel7\", \"/r/Python/comments/fr2ke4/is_anyone_is_interested_in_educativeio_courses/fndfqua/\", \"I am also interested\"], [\"sameera__madushan_\", \"/r/Python/comments/g10v5z/i_made_a_python_script_to_download_subtitles_for/fndgrls/\", \"available language types for a specific subtitle i\"], [\"Entr00py134\", \"/r/Python/comments/g121pt/my_new_project_taskboard_tasks_boards_notes_and/fndin9z/\", \"Awesome. Sub tasks would be neat as well, but that\"], [\"worthy_sloth\", \"/r/Python/comments/g15e8f/how_do_you_run_a_python_app_all_the_time/fndilv0/\", \"I did give this a try yesterday. Couldn't understa\"], [\"drpepper\", \"/r/Python/comments/g10v5z/i_made_a_python_script_to_download_subtitles_for/fndiv5n/\", \"imagine being offended by a wall paper\"], [\"pythonHelperBot\", \"/r/Python/comments/g15e8f/how_do_you_run_a_python_app_all_the_time/fndjvbl/\", \"Hello! I'm a bot!\\n\\nIt looks to me like your post m\"], [\"worthy_sloth\", \"/r/Python/comments/g15e8f/how_do_you_run_a_python_app_all_the_time/fndjl4l/\", \"Im down with the paid tier, if it allows me to run\"], [\"chicken__soup\", \"/r/Python/comments/g15e8f/how_do_you_run_a_python_app_all_the_time/fndkppc/\", \"&gt; Running it from their console is about the sa\"], [\"benchly\", \"/r/Python/comments/g167bf/whats_everyone_working_on_this_week/fndo2m6/\", \"Learning the basics after an unfortunately long de\"], [\"vmsda\", \"/r/Python/comments/g167bf/whats_everyone_working_on_this_week/fndn1el/\", \"Being a beginner, I am going through the Language \"], [\"Rhyniel\", \"/r/Python/comments/g16dji/would_i_be_able_to_write_a_program_that_could/fndr6dv/\", \"Have you considered multi tabs?\"], [\"K900_\", \"/r/Python/comments/g16t0s/hello_i_am_new_to_pythoncould_you_guys_guve_me/fndqlti/\", \"/r/learnpython\"], [\"william_whithersonly\", \"/r/Python/comments/g168jg/i_made_a_procedural_world_generator/fndso24/\", \"I kinda like the name The Kingdom of 12. \\n\\n\\\"Why ye\"], [\"areyanjineylu\", \"/r/Python/comments/g10v5z/i_made_a_python_script_to_download_subtitles_for/fnduhxz/\", \"Hey! How long did it take you to do this?\"], [\"pythonHelperBot\", \"/r/Python/comments/g17ivd/does_anyone_have_any_tips_on_where_can_i_learn_to/fndv8qa/\", \"Hello! I'm a bot!\\n\\nI see someone has already sugge\"], [\"m4nolito\", \"/r/Python/comments/g10v5z/i_made_a_python_script_to_download_subtitles_for/fndwoz5/\", \"I was wondering the same. Ty.\"], [\"TJ-MD\", \"/r/Python/comments/g0zts2/coding_demo_for_the_tom_scott_this_video_has/fndx2g2/\", \"Great demo and tutorial. I just sent you a PM.\"], [\"DoiF\", \"/r/Python/comments/g10v5z/i_made_a_python_script_to_download_subtitles_for/fndy8y8/\", \"I wasn't judging. I see what you are saying and in\"], [\"[deleted]\", \"/r/Python/comments/g0qnsv/anyone_else_wants_assignment_expressions_reverted/fnb52w4/\", \"[removed]\"], [\"yukatukapt\", \"/r/Python/comments/g0mmbt/i_made_a_web_app_to_convert_baking_recipes_from/fnb9r3e/\", \"OwO ... this is very interesting, I liked the idea\"], [\"pythonHelperBot\", \"/r/Python/comments/g0os2k/virtual_env_for_pushing_app_to_heroku_and_venv/fnavaj5/\", \"Hello! I'm a bot!\\n\\nIt looks to me like your post m\"], [\"kellyjonbrazil\", \"/r/Python/comments/g0ngkm/csvchk_utility_to_vertically_view_records_in/fnaxz4b/\", \"Very cool. Jc can convert CSV into JSON, which is \"], [\"mutatedllama\", \"/r/Python/comments/g0fz1e/generating_a_random_maze_using_prims_algorithm/fnaz19z/\", \"Ah yes sorry I believe you're right!\"], [\"topecas\", \"/r/Python/comments/fygn3n/i_made_a_script_that_organizes_a_folder/fncgcyo/\", \"Thank you! I\\u2019ma check it out\"], [\"abstract__art\", \"/r/Python/comments/fwl5wy/whats_everyone_working_on_this_week/fncjzk9/\", \"Is there anyway to make a script that somehow trac\"], [\"Im3Rhythmus3bleiben\", \"/r/Python/comments/g0hsnu/omg_you_guys_i_just_gained_comprehension_of_how/fncptv7/\", \"Oh wicked, this is so much more intuitive than Pan\"], [\"mutatedllama\", \"/r/Python/comments/g0fz1e/generating_a_random_maze_using_prims_algorithm/fncoumr/\", \"Thanks, I can definitely see the difference. It's \"], [\"arctdav\", \"/r/Python/comments/g15n5r/help_with_search_algorithm/fne46gp/\", \"I don\\u2019t know much about search engine library, but\"], [\"sameera__madushan_\", \"/r/Python/comments/g10v5z/i_made_a_python_script_to_download_subtitles_for/fne57so/\", \"No\"], [\"Thomas1122\", \"/r/Python/comments/g17cqd/interesting_script_that_drops_items_by_their/fne7e2d/\", \"Shouldn't it be `weights` instead of `cum_weights`\"], [\"frank20a\", \"/r/Python/comments/g0onvr/update_some_of_you_asked_me_to_make_a_video_of/fne6kxr/\", \"THIS IS AMAZING! I really wanted to do something s\"], [\"AutoModerator\", \"/r/Python/comments/g1a1z2/programming_help/fnean8y/\", \"Your submission has been automatically removed.\\n\\nY\"], [\"sameera__madushan_\", \"/r/Python/comments/g10v5z/i_made_a_python_script_to_download_subtitles_for/fnebjjq/\", \"thanks\"], [\"bahermursi\", \"/r/Python/comments/g1b23g/is_oop_still_needed/fnehty6/\", \"That\\u2019s a great way of seeing it. I would like to k\"], [\"AutoModerator\", \"/r/Python/comments/g1a7sx/analysing_insider_trading_with_edgar_data/fnebopg/\", \"Your submission has been automatically removed.\\n\\nY\"], [\"nice-scores\", \"/r/Python/comments/g10v5z/i_made_a_python_script_to_download_subtitles_for/fnedqtc/\", \"\\ud835\\udcf7\\ud835\\udcf2\\ud835\\udcec\\ud835\\udcee \\u261c(\\uff9f\\u30ee\\uff9f\\u261c)\\n#Nice Leaderboard\\n**1.** `u/RepliesNi\"], [\"gbdavidx\", \"/r/Python/comments/g10v5z/i_made_a_python_script_to_download_subtitles_for/fnefmnj/\", \"cool, but honestly I don't like subtitles\"], [\"lknapp117\", \"/r/Python/comments/g167bf/whats_everyone_working_on_this_week/fneey0l/\", \"Starting as a beginner with Treehouse. Just finish\"], [\"pythonHelperBot\", \"/r/Python/comments/g0qbcc/is_there_a_replacement_for_anvil_works/fnb1zxr/\", \"Hello! I'm a bot!\\n\\nIt looks to me like your post m\"], [\"GoldsteinQ\", \"/r/Python/comments/g0g728/how_to_make_python_script_proprietary/fnbkdk8/\", \"If your program can see key, anyone can\"], [\"ALanEFE\", \"/r/Python/comments/g00cpz/python_selenium_help/fnbiocl/\", \"The path in webdriver.chrome() should point to the\"], [\"AAAVR\", \"/r/Python/comments/g0qaa5/mypy_static_type_checker_vs_aheadoftime_bytecode/fnbg16p/\", \"Thanks, so if that's the case, even in a situation\"], [\"clovr94\", \"/r/Python/comments/g0bu62/4chan_thread_collecting/fnaemy4/\", \"You can use the 4chan api (https://github.com/4cha\"], [\"PeridexisErrant\", \"/r/Python/comments/g0hsnu/omg_you_guys_i_just_gained_comprehension_of_how/fnbl97i/\", \"Check out Xarray! Natively multidimensional, and c\"], [\"Senator_Sanders\", \"/r/Python/comments/fz8cub/a_simple_windows_ratbackdoor_keylogger_written/fnbperu/\", \"Very nice I\\u2019ll definitely look into the code later\"], [\"pythonHelperBot\", \"/r/Python/comments/g0oe5a/how_to_run_function_through_a_list/fnbp94c/\", \"Hello! I'm a bot!\\n\\nIt looks to me like your post m\"], [\"dontpanic4242\", \"/r/Python/comments/fzwbcx/i_made_a_face_recognition_program/fnbrmpb/\", \"In addition to the other points, I think a fair nu\"], [\"m3lonh0de\", \"/r/Python/comments/g1962q/i_need_help_for_a_script_that_types_good_morning/fnem4d3/\", \"sleep schedule is upside down, and i intend to kee\"], [\"LinuxRootUser\", \"/r/Python/comments/g1b6n5/should_i_buy_raspberry/fnfe8aj/\", \"Correct.  A VPS would do your job.\"], [\"DarkCeptor44\", \"/r/Python/comments/g10v5z/i_made_a_python_script_to_download_subtitles_for/fnfcg4c/\", \"There's the Subsync repository that does that, the\"], [\"bladeoflight16\", \"/r/Python/comments/g0kqss/no_really_pythons_pathlib_is_great_dipping_toes/fnfd3hh/\", \"&gt; I'd argue that collecting path-related functi\"], [\"dapper_drake\", \"/r/Python/comments/g10v5z/i_made_a_python_script_to_download_subtitles_for/fnff62w/\", \"Oh, too bad. That's a no for me.\"], [\"notmebutmesoz\", \"/r/Python/comments/g1adit/i_made_my_first_game_in_python_thanks_uriles0829/fneoqra/\", \"Python has infinite possibilities, you can potenti\"], [\"geonyoro\", \"/r/Python/comments/g10v5z/i_made_a_python_script_to_download_subtitles_for/fnerk6t/\", \"Rapartition?\"], [\"Wesman504\", \"/r/Python/comments/g1072z/how_to_use_turtle_and_pygame/fnerf4w/\", \"What does \\\"wn.mainloop()\\\" do exactly?\"], [\"Pegaz7\", \"/r/Python/comments/fyvt4l/i_made_a_script_to_automatically_log_into_my_zoom/fnerjhj/\", \"Bro. Just happen new think with zoom, and sned thi\"], [\"Slinkusmalinkus\", \"/r/Python/comments/g10v5z/i_made_a_python_script_to_download_subtitles_for/fnffs02/\", \"I agree that it could be construed as disrespectfu\"], [\"AutoModerator\", \"/r/Python/comments/g1gmas/cota\\u00e7\\u00e3o_de_moedas_em_python/fnfgk3x/\", \"Your submission has been automatically removed.\\n\\nY\"], [\"pythonHelperBot\", \"/r/Python/comments/g1dau4/project_ideas_and_help/fnevf9b/\", \"Hello! I'm a bot!\\n\\nIt looks to me like your post m\"], [\"itamarst\", \"/r/Python/comments/g0mkqy/from_chunking_to_parallelism_faster_pandas_with/fneu2s9/\", \"If speed/memory use are an issue, I'd definitely g\"], [\"MoonPadUSer\", \"/r/Python/comments/g1dau4/project_ideas_and_help/fnew6o6/\", \"Huffman Encoder/Decoder. I had quite a lot of fun \"], [\"Keterz\", \"/r/Python/comments/g0g728/how_to_make_python_script_proprietary/fngy932/\", \"Compiled C/C++ code takes disassembling skills rat\"], [\"ChrisBez87\", \"/r/Python/comments/g1adit/i_made_my_first_game_in_python_thanks_uriles0829/fngyv9c/\", \"Will add a comment! :)\"], [\"ChrisBez87\", \"/r/Python/comments/g1adit/i_made_my_first_game_in_python_thanks_uriles0829/fngyxfg/\", \"Great I would love to give it a go when you done?\\n\"], [\"ChrisBez87\", \"/r/Python/comments/g1adit/i_made_my_first_game_in_python_thanks_uriles0829/fngyxt1/\", \"[https://github.com/FlawlessCalamity/Snake-Python]\"], [\"pythonHelperBot\", \"/r/Python/comments/g1db11/remove_delete_column_in_google_sheet_gspread/fneyaq6/\", \"Hello! I'm a bot!\\n\\nIt looks to me like your post m\"], [\"Wesman504\", \"/r/Python/comments/g1072z/how_to_use_turtle_and_pygame/fneyhwt/\", \"That is most likely why the game was not running t\"], [\"wynand1004\", \"/r/Python/comments/g1072z/how_to_use_turtle_and_pygame/fneysn6/\", \"wn.mainloop() should be the very last line of the \"], [\"Baba_is_not\", \"/r/Python/comments/g10v5z/i_made_a_python_script_to_download_subtitles_for/fnfq6y7/\", \"very small nitpick: PEP-8 says to use capital L in\"], [\"bonelessRizzy\", \"/r/Python/comments/g10v5z/i_made_a_python_script_to_download_subtitles_for/fnfqvca/\", \"jesus where do y\\u2019all come up with these good ideas\"], [\"pythonHelperBot\", \"/r/Python/comments/g1e5ev/quick_class_question/fnf20f7/\", \"Hello! I'm a bot!\\n\\nIt looks to me like your post m\"], [\"AutoModerator\", \"/r/Python/comments/g1ekx3/using_the_open_weather_map_api_to_obtain_weather/fnf3erc/\", \"Your submission has been automatically removed.\\n\\nY\"], [\"PM_ME_SECRET_DATA\", \"/r/Python/comments/g168jg/i_made_a_procedural_world_generator/fnftz5d/\", \"So this was made with [pygame](https://www.pygame.\"], [\"ArrrGaming\", \"/r/Python/comments/g10v5z/i_made_a_python_script_to_download_subtitles_for/fnftuyw/\", \"I tried, I really did but Windows 10, a virtual en\"], [\"Jack_QAQ\", \"/r/Python/comments/g1adit/i_made_my_first_game_in_python_thanks_uriles0829/fnfvmvm/\", \"Good Job!!  \\nI started python recently and I'm sur\"], [\"neither_both\", \"/r/Python/comments/g10v5z/i_made_a_python_script_to_download_subtitles_for/fnft95o/\", \"No, I don't think that culture can be owned. I do \"], [\"pythonHelperBot\", \"/r/Python/comments/g1f29c/parallelizing_a_for_loop_that_with_massive/fnf7f1l/\", \"Hello! I'm a bot!\\n\\nIt looks to me like your post m\"], [\"AutoModerator\", \"/r/Python/comments/g1esfu/we_made_a_python_code_using_geopandas_to_analyze/fnf4que/\", \"Your submission has been automatically removed.\\n\\nY\"], [\"stndn\", \"/r/Python/comments/fjemrj/made_a_reaction_time_game_for_my_first_pygame/fng01yt/\", \"A bit of a dick thing to say to someone completely\"], [\"v4-digg-refugee\", \"/r/Python/comments/g167bf/whats_everyone_working_on_this_week/fng4a90/\", \"For some blasted reason, my fairly large company u\"], [\"gonzrob\", \"/r/Python/comments/g167bf/whats_everyone_working_on_this_week/fng24wp/\", \"Trying to start my portfolio website using django.\"], [\"taylynne\", \"/r/Python/comments/g10v5z/i_made_a_python_script_to_download_subtitles_for/fng4m4p/\", \"[PluralSight](https://www.pluralsight.com/) is fre\"], [\"neotos\", \"/r/Python/comments/g10v5z/i_made_a_python_script_to_download_subtitles_for/fng5vym/\", \"Man, thanks, this is awesome! :)\"], [\"theHolyTape420\", \"/r/Python/comments/g10v5z/i_made_a_python_script_to_download_subtitles_for/fng60w7/\", \"Works fine for me. Just got to get it exactly down\"], [\"AztecComputer\", \"/r/Python/comments/g1conv/i_made_a_randomized_binary_tree_python_tkinter/fng9oil/\", \"Buon lavoro!\"], [\"stevenjd\", \"/r/Python/comments/g1lq2b/python_programming_is_drowning_in_red_tape_my/fngeo0s/\", \"The irony that the code for a code beautifier is a\"], [\"ZenT3600\", \"/r/Python/comments/g1e5ev/quick_class_question/fnggr86/\", \"It's as simple as\\n\\n```python\\n    class Vehicle:\\n  \"], [\"sameera__madushan_\", \"/r/Python/comments/g10v5z/i_made_a_python_script_to_download_subtitles_for/fngf1qf/\", \"Thanks \\u2665\"], [\"Bertridous\", \"/r/Python/comments/g1fhk9/i_wrote_an_api_wrapper_for_td_ameritrades_finance/fngekq6/\", \"Damn, that\\u2019s awesome!\"], [\"theneonkoala\", \"/r/Python/comments/g1adit/i_made_my_first_game_in_python_thanks_uriles0829/fngep8i/\", \"Can we have a look at your source please?\"], [\"FidoTheDisingenuous\", \"/r/Python/comments/g10v5z/i_made_a_python_script_to_download_subtitles_for/fngppi3/\", \"They asked yo\"], [\"FidoTheDisingenuous\", \"/r/Python/comments/g10v5z/i_made_a_python_script_to_download_subtitles_for/fngq177/\", \"They asked me to explain how they were contributin\"], [\"Adro_95\", \"/r/Python/comments/fyvt4l/i_made_a_script_to_automatically_log_into_my_zoom/fngpjbz/\", \"Is there a way to do the same with Microsoft Teams\"], [\"NoBSCode\", \"/r/Python/comments/g1ns0l/how_effectively_can_one_learn_python_from_a/fngo63m/\", \"Absolutely. But why limit yourself if you have all\"], [\"kvothethedulator\", \"/r/Python/comments/g10v5z/i_made_a_python_script_to_download_subtitles_for/fngolig/\", \"Just download MX Player.\"], [\"cdaniel7\", \"/r/Python/comments/g167bf/whats_everyone_working_on_this_week/fngpaiq/\", \"I worked on building a URL shortner \\n\\nthis creates\"], [\"MaxQuant\", \"/r/Python/comments/g1onw8/i_keep_trying_to_get_pip_to_work_and_it_always/fngt53l/\", \"Try \\u201cecho %PATH%\\u201d in a command console (search for\"], [\"awegge\", \"/r/Python/comments/g1pn2c/i_cant_understand_how_it_works/fngz2zg/\", \"Is it the [for ... else](https://docs.python.org/3\"], [\"danielroseman\", \"/r/Python/comments/g1oans/securely_deploying_python_code_onpremise/fngqo0r/\", \"No. But why do you care? What is the problem with \"], [\"justingolden21\", \"/r/Python/comments/g1onw8/i_keep_trying_to_get_pip_to_work_and_it_always/fngtp1s/\", \"Thanks for all the input. Here's my screenshot:  h\"], [\"pythonHelperBot\", \"/r/Python/comments/g1nuy0/request_is_there_any_python_tool_to_download_a/fngsamv/\", \"Hello! I'm a bot!\\n\\nIt looks to me like your post m\"], [\"danielroseman\", \"/r/Python/comments/g1oans/securely_deploying_python_code_onpremise/fngrlz2/\", \"Yes. So the licence protects you.\"], [\"shalvinpshaji\", \"/r/Python/comments/g1adit/i_made_my_first_game_in_python_thanks_uriles0829/fngvfa6/\", \"\\nWhy don't you provide link for the git?  It would\"], [\"justingolden21\", \"/r/Python/comments/g1onw8/i_keep_trying_to_get_pip_to_work_and_it_always/fnguyqg/\", \"The title of my post says I've tried adding it to \"], [\"mutatedllama\", \"/r/Python/comments/g167bf/whats_everyone_working_on_this_week/fnguej7/\", \"Dude that's awesome. Are you doing this for income\"], [\"cip43r\", \"/r/Python/comments/g1conv/i_made_a_randomized_binary_tree_python_tkinter/fngvlkp/\", \"Maybe try processing for python!\"], [\"Hihipypy\", \"/r/Python/comments/g1l9q9/fractal_rendering_tool_i_made_with_no_initial/fngusxb/\", \"Wow. If this is indeed the thing you did after one\"], [\"Rafinha-do-R6\", \"/r/Python/comments/fwl5wy/whats_everyone_working_on_this_week/fnaojyz/\", \"I am creating my own Network map and FTPBruteforce\"], [\"magicram\", \"/r/Python/comments/g0o8gt/youtubestyle_face_detect_crop_and_blur_using/fnap57u/\", \"This was my holiday project here in Europe (coront\"], [\"ticua07\", \"/r/Python/comments/g0ny0j/created_a_simple_web_app_to_learn_django/fnanpc0/\", \"Wow its really cool\"], [\"_MyUsernameIsThis\", \"/r/Python/comments/g0oe5a/how_to_run_function_through_a_list/fnary71/\", \"You could do something like:\\n\\nfor x in dictName:\\n\\n\"], [\"robin-gvx\", \"/r/Python/comments/g079zf/does_the_pass_function_only_work_for_loops/fnawyu5/\", \"It is a statement, and as such is allowed anywhere\"], [\"zacharypamela\", \"/r/Python/comments/g0mmbt/i_made_a_web_app_to_convert_baking_recipes_from/fnatoax/\", \"Agreed. The same is true for sugar: For sugar 1 cu\"], [\"robin-gvx\", \"/r/Python/comments/g0kwg7/modifying_a_class_state/fnauwwu/\", \"Basically, it has access to the class object. The \"], [\"[deleted]\", \"/r/Python/comments/g0iftn/nameerror_name_file_is_not_defined_when_tryna/fnazb1k/\", \"[deleted]\"], [\"allaboutHans\", \"/r/Python/comments/g0iln8/this_very_simple_one_made_my_day_today_after/fnbagri/\", \"Thanks! I will try to remember this one for my nex\"], [\"Sigg3net\", \"/r/Python/comments/g0q88v/printing_back_a_line_in_python/fnbalzh/\", \"`lscpu` just reads /proc/cpuinfo, so I would do th\"], [\"_Jordo\", \"/r/Python/comments/fygn3n/i_made_a_script_that_organizes_a_folder/fnb11sd/\", \"I decided to improve my script. It now supports Ho\"], [\"GeldedMonkey\", \"/r/Python/comments/fr1x65/update_thank_you_all_for_your_suggestions_on_my/fnb2pqa/\", \"Hey any update on this?\"], [\"IConservativeCode\", \"/r/Python/comments/g0q90q/jobs_knowing_python/fnb1pku/\", \"You can get a job only knowing python, but they ar\"], [\"InputField\", \"/r/Python/comments/g0qnsv/anyone_else_wants_assignment_expressions_reverted/fnb4qs4/\", \"Of course, it isn't a necessity. This is a discuss\"], [\"SamDaHam1738\", \"/r/Python/comments/g0qpj9/finding_out_if_a_list_has_duplicates/fnbmkay/\", \"Update\\n\\n&amp;#x200B;\\n\\nimport random\\n\\ncoinSide = \\\\[\"], [\"AAAVR\", \"/r/Python/comments/g0qaa5/mypy_static_type_checker_vs_aheadoftime_bytecode/fnbl6u6/\", \"Thanks, but funny enough that link actually says *\"], [\"PeridexisErrant\", \"/r/Python/comments/g0gga6/view_python_download_stats_by_project_version/fnbp1ea/\", \"This is fantastic! Thanks so much \\ud83d\\ude0d\\n\\nOf course the\"], [\"Lesluse\", \"/r/Python/comments/fzwbcx/i_made_a_face_recognition_program/fnbrxdp/\", \"Very true I was already thinking that. But if a fe\"], [\"__pyth0n__\", \"/r/Python/comments/g0mkqy/from_chunking_to_parallelism_faster_pandas_with/fnbvgj9/\", \"Nice Article. \\n\\nI have couple of dataset, 2GB (CSV\"], [\"pythonHelperBot\", \"/r/Python/comments/g0ublu/animated_perspective_grid/fnbwj12/\", \"Hello! I'm a bot!\\n\\nIt looks to me like your post m\"], [\"Hailcanadien\", \"/r/Python/comments/g0onvr/update_some_of_you_asked_me_to_make_a_video_of/fnc2jqr/\", \"Nice! That's really cool, thanks for adding the vi\"], [\"pythonHelperBot\", \"/r/Python/comments/g0webr/pyglet_detect_when_a_key_has_not_been_pressed_the/fnc4rr5/\", \"Hello! I'm a bot!\\n\\nIt looks to me like your post m\"], [\"AutoModerator\", \"/r/Python/comments/g0wy57/how_would_you_code_the_following_statement_inside/fnc83wc/\", \"Your submission has been automatically removed.\\n\\nY\"], [\"pythonHelperBot\", \"/r/Python/comments/g0wfqq/is_it_possible_to_use_python_to_generate_filled/fnc6vmj/\", \"Hello! I'm a bot!\\n\\nIt looks to me like your post m\"], [\"pythonHelperBot\", \"/r/Python/comments/g0kwg7/modifying_a_class_state/fnah66w/\", \"Hello! I'm a bot!\\n\\nIt looks to me like your post m\"], [\"dugindeep\", \"/r/Python/comments/g0qnsv/anyone_else_wants_assignment_expressions_reverted/fnb5reb/\", \"You should also know that he is 64+ he can decide \"], [\"SamDaHam1738\", \"/r/Python/comments/g0qpj9/finding_out_if_a_list_has_duplicates/fnb5ele/\", \"sorry about that\"], [\"jimmythenewsmith\", \"/r/Python/comments/g0mmbt/i_made_a_web_app_to_convert_baking_recipes_from/fnb7hze/\", \"That's why I enabled mine not convert tsps and cup\"], [\"pydataguy\", \"/r/Python/comments/g0ny0j/created_a_simple_web_app_to_learn_django/fnb7oub/\", \"Nice job!\"], [\"pythonHelperBot\", \"/r/Python/comments/g1640e/what_are_some_libraries_to_get_stock_quotes_from/fndmeyo/\", \"Hello! I'm a bot!\\n\\nIt looks to me like your post m\"], [\"Awayythrone\", \"/r/Python/comments/g16dji/would_i_be_able_to_write_a_program_that_could/fndoh9m/\", \"Just have different streams opened regardless from\"], [\"grangersyndrome\", \"/r/Python/comments/g161el/help_simple_test_function/fndm9nv/\", \"You're missing a ( just before the first %s expres\"], [\"the_battousai89\", \"/r/Python/comments/g0uevj/coronavirus_ventilator_runs_on_raspberry_pi/fndmcx4/\", \"Python is the primary language Raspberry Pi is des\"], [\"AutoModerator\", \"/r/Python/comments/g16hks/need_help_fast/fndoir4/\", \"Your submission has been automatically removed.\\n\\nY\"], [\"pythonHelperBot\", \"/r/Python/comments/g16dji/would_i_be_able_to_write_a_program_that_could/fndo3ip/\", \"Hello! I'm a bot!\\n\\nIt looks to me like your post m\"], [\"gbdavidx\", \"/r/Python/comments/g10v5z/i_made_a_python_script_to_download_subtitles_for/fne9xhd/\", \"Cool script but too mush work for people with a lo\"], [\"AlanSoulchild\", \"/r/Python/comments/fx42wf/we_made_a_3d_audio_library_with_efx_and_codecs/fne91vg/\", \"VERy interesting. HOWEVER, I can't install the mod\"], [\"psincraian\", \"/r/Python/comments/g0gga6/view_python_download_stats_by_project_version/fnea0qk/\", \"The data comes from PyPI official source, which is\"], [\"AutoModerator\", \"/r/Python/comments/g19skv/written_a_script_to_brute_force_password/fne8xau/\", \"Your submission has been automatically removed.\\n\\nY\"], [\"dlyk\", \"/r/Python/comments/fyzbl1/does_anyone_know_whats_going_on_with_contributors/fnca9m6/\", \"OK, I'll bite. Being free of conditions that limit\"], [\"AutoModerator\", \"/r/Python/comments/g0x7wx/how_would_you_code/fnc9uti/\", \"Your submission has been automatically removed.\\n\\nY\"], [\"AutoModerator\", \"/r/Python/comments/g0xfoo/hey_friends_can_someone_please_help_me_to_get_a/fncba3h/\", \"Your submission has been automatically removed.\\n\\nY\"], [\"notmebutmesoz\", \"/r/Python/comments/g1adit/i_made_my_first_game_in_python_thanks_uriles0829/fnedk2q/\", \"I started python too recently and I know how you f\"], [\"C0c04l4\", \"/r/Python/comments/g168jg/i_made_a_procedural_world_generator/fnedurh/\", \"Now you need to make a Kingdom name generator ;)\"], [\"[deleted]\", \"/r/Python/comments/g1apao/when_should_i_start_learning_machine_learning/fneerv4/\", \"[removed]\"], [\"sameera__madushan_\", \"/r/Python/comments/g10v5z/i_made_a_python_script_to_download_subtitles_for/fndqpcm/\", \"thanks for pointing out the typo....\"], [\"Pez84\", \"/r/Python/comments/g15e8f/how_do_you_run_a_python_app_all_the_time/fndsood/\", \"I run most of my python scripts on my synology NAS\"], [\"Presac\", \"/r/Python/comments/g1725y/my_take_on_tictactoe/fnds1n7/\", \"This is the first project I actually have managed \"], [\"ChrisBez87\", \"/r/Python/comments/g1adit/i_made_my_first_game_in_python_thanks_uriles0829/fnehb8v/\", \"Thanks I really appreciate it! I just want to keep\"], [\"YmFzZTY0dXNlcm5hbWU_\", \"/r/Python/comments/g10v5z/i_made_a_python_script_to_download_subtitles_for/fneiwwt/\", \"Perfect, thanks!\"], [\"YmFzZTY0dXNlcm5hbWU_\", \"/r/Python/comments/g10v5z/i_made_a_python_script_to_download_subtitles_for/fnei32p/\", \"This will definitely come in handy for me, thanks.\"], [\"pythonHelperBot\", \"/r/Python/comments/g1bhri/packaging_and_distribution_help/fnek3gr/\", \"Hello! I'm a bot!\\n\\nIt looks to me like your post m\"], [\"xAlecto\", \"/r/Python/comments/g0gga6/view_python_download_stats_by_project_version/fnehj8i/\", \"Thanks for the reply.\\n\\nI'm very confused to see al\"], [\"IAmKindOfCreative\", \"/r/Python/comments/g0qnsv/anyone_else_wants_assignment_expressions_reverted/fneiw0p/\", \"What seems to be the issue?\"], [\"nicmccool\", \"/r/Python/comments/g167bf/whats_everyone_working_on_this_week/fnejg9w/\", \"A web-based accounting application similar to Quic\"], [\"Kat9_123\", \"/r/Python/comments/g12rdq/i_made_a_simple_programme_that_enables_you_to/fnejp5r/\", \"I know.\"], [\"bahermursi\", \"/r/Python/comments/g1b23g/is_oop_still_needed/fnejxt1/\", \"It looks really interesting, thank you\"], [\"SirADV\", \"/r/Python/comments/g167bf/whats_everyone_working_on_this_week/fndua3r/\", \"Console dictionary that finds on a website the def\"], [\"[deleted]\", \"/r/Python/comments/g17554/generating_random_mazes_with_prims_algorithm_then/fndsrwh/\", \"[deleted]\"], [\"[deleted]\", \"/r/Python/comments/g167bf/whats_everyone_working_on_this_week/fnduls8/\", \"[removed]\"], [\"coletrickle88\", \"/r/Python/comments/fygn3n/i_made_a_script_that_organizes_a_folder/fnelod8/\", \"Have you got the original code? You've edited on g\"], [\"shubbbbbby\", \"/r/Python/comments/g0ur21/change_a_link_once_selenium_web_scraper_is_done/fnch7ki/\", \"Also here is my stackoverflow link for anyone in t\"], [\"faithade\", \"/r/Python/comments/g0xo8y/tictactoe_game/fnchj1m/\", \"Thanks bro!\"], [\"anemikk\", \"/r/Python/comments/fwl5wy/whats_everyone_working_on_this_week/fnd0jxa/\", \"I was doing this project = [https://github.com/Mar\"], [\"anemikk\", \"/r/Python/comments/g121pt/my_new_project_taskboard_tasks_boards_notes_and/fnd2nfi/\", \"Thank you. When you install with pip, you can type\"], [\"pythonHelperBot\", \"/r/Python/comments/g12r1b/looking_to_prototype_using_db25_controlled_with/fnd4fdu/\", \"Hello! I'm a bot!\\n\\nIt looks to me like your post m\"], [\"danielroseman\", \"/r/Python/comments/g0s4yu/class_implementation_of_caseswitch_need_a_default/fnd53vg/\", \"Your question is a bit unclear. The default *is* a\"], [\"dmarko\", \"/r/Python/comments/g0mmbt/i_made_a_web_app_to_convert_baking_recipes_from/fnd4c4p/\", \"Great. This would be awesome as a browser plugin.\"], [\"coll_ryan\", \"/r/Python/comments/fwl5wy/whats_everyone_working_on_this_week/fnd5bf2/\", \"Over the Easter weekend I've been finishing off an\"], [\"borntrucker\", \"/r/Python/comments/g0ny0j/created_a_simple_web_app_to_learn_django/fncn3h3/\", \"Awesome! This looks nice and gave me the idea to c\"], [\"magBeatsSC\", \"/r/Python/comments/g0l7l4/car_database_in_python/fncouea/\", \"English is just not my first language, so I had to\"], [\"__Protector\", \"/r/Python/comments/g13g8f/i_made_a_guess_game_to_guess_any_number_from_1_to/fnd7zgd/\", \"Maybe make a value example answer_times = 0 and ru\"], [\"wewbull\", \"/r/Python/comments/g0mmbt/i_made_a_web_app_to_convert_baking_recipes_from/fnd8f8u/\", \"Isn't that the problem that this solves though. \\n\\n\"], [\"XRTce\", \"/r/Python/comments/fg3iwc/snapchat_gdpr_takeout_memories_downloader/fncpphf/\", \"Maybe you could add a timeout between the download\"], [\"cant_thinkof_aname\", \"/r/Python/comments/g0mmbt/i_made_a_web_app_to_convert_baking_recipes_from/fncp9we/\", \"Nice I'm gonna take a look at this! Im planning to\"], [\"magBeatsSC\", \"/r/Python/comments/g0l7l4/car_database_in_python/fndaac5/\", \"Mange tak du ;)\"], [\"trimi140\", \"/r/Python/comments/dmkx8a/just_finished_programming_and_building_my_own/fndbm5m/\", \"I flagged your OP a while back, and was super happ\"], [\"_folgo_\", \"/r/Python/comments/fz8cub/a_simple_windows_ratbackdoor_keylogger_written/fncykgc/\", \"thank you! Actually no, this topic only interested\"], [\"xAlecto\", \"/r/Python/comments/g0gga6/view_python_download_stats_by_project_version/fnczejm/\", \"Hi,\\n\\nThat's really neat! The interface is great to\"], [\"pythonHelperBot\", \"/r/Python/comments/g152iw/displaying_xyt_coordinates/fndgaxd/\", \"Hello! I'm a bot!\\n\\nIt looks to me like your post m\"], [\"AutoModerator\", \"/r/Python/comments/g14phv/s/fnde1z3/\", \"Your submission has been automatically removed.\\n\\nY\"], [\"ArgetDota\", \"/r/Python/comments/g10v5z/i_made_a_python_script_to_download_subtitles_for/fnfd9pz/\", \"How do you know other people see the same meaning?\"], [\"pythonHelperBot\", \"/r/Python/comments/g1fw66/arrow_angle_while_in_flight/fnfdw44/\", \"Hello! I'm a bot!\\n\\nIt looks to me like your post m\"], [\"Iinsaan\", \"/r/Python/comments/g0q1il/using_regex_to_extract_data_after_a_specific_word/fnfcued/\", \"Thanks really appreciate the help\"], [\"wynand1004\", \"/r/Python/comments/g1072z/how_to_use_turtle_and_pygame/fncspsf/\", \"As a beginner you need to get used to explaining p\"], [\"irspaul\", \"/r/Python/comments/g0mmbt/i_made_a_web_app_to_convert_baking_recipes_from/fnctcjl/\", \"You are the man!!\"], [\"AutoModerator\", \"/r/Python/comments/g10m2o/selenium_instagram_bot_help/fnctpue/\", \"Your submission has been automatically removed.\\n\\nY\"], [\"pythonHelperBot\", \"/r/Python/comments/g15fkv/search_algorithm_advice/fndjg37/\", \"Hello! I'm a bot!\\n\\nIt looks to me like your post m\"], [\"sameera__madushan_\", \"/r/Python/comments/g10v5z/i_made_a_python_script_to_download_subtitles_for/fndguli/\", \"Hope the script  helped you! Thanks.\"], [\"pythonHelperBot\", \"/r/Python/comments/g1962q/i_need_help_for_a_script_that_types_good_morning/fne5c8y/\", \"Hello! I'm a bot!\\n\\nIt looks to me like your post m\"], [\"toyg\", \"/r/Python/comments/g10v5z/i_made_a_python_script_to_download_subtitles_for/fne4iw8/\", \"This could be a job for PyQt... if only I had the \"], [\"sameera__madushan_\", \"/r/Python/comments/g10v5z/i_made_a_python_script_to_download_subtitles_for/fne5dvd/\", \"u/Hayvan-Boris\"], [\"sameera__madushan_\", \"/r/Python/comments/g10v5z/i_made_a_python_script_to_download_subtitles_for/fne5j07/\", \"One day\"], [\"thequincy91\", \"/r/Python/comments/g00cpz/python_selenium_help/fncwp7g/\", \"Thank you so much!!\"], [\"Schneggl\", \"/r/Python/comments/g113ug/im_new_to_python_and_wanted_to_install_pillow/fncwvst/\", \"Ah ok thank you again!\"], [\"MeltedCheeseFantasy\", \"/r/Python/comments/g0mmbt/i_made_a_web_app_to_convert_baking_recipes_from/fndi46g/\", \"Writing your recipes on a mass basis in the first \"], [\"chicken__soup\", \"/r/Python/comments/g15e8f/how_do_you_run_a_python_app_all_the_time/fndj78a/\", \"Turns out I was wrong, sorry, you can leave it run\"], [\"pythonHelperBot\", \"/r/Python/comments/g1c57f/help_with_a_piece_of_code/fneo0tm/\", \"Hello! I'm a bot!\\n\\nIt looks to me like your post m\"], [\"xbl-beefy\", \"/r/Python/comments/g1cgvz/purplepwny_presentation/fnepzjq/\", \"Fully-Automated Intelligent Host Selection and Exp\"], [\"feltnerk\", \"/r/Python/comments/g1how8/i_trying_to_learn/fnfo39t/\", \"YouTube a 101 course on Python.\"], [\"sameera__madushan_\", \"/r/Python/comments/g10v5z/i_made_a_python_script_to_download_subtitles_for/fnety8z/\", \" [https://www.groovypost.com/howto/enable-dark-mod\"], [\"nathanjell\", \"/r/Python/comments/g1fvec/instacart_deliverypickup_availability_check_using/fnfk976/\", \"You probably want to review the Instacart [terms o\"], [\"FidoTheDisingenuous\", \"/r/Python/comments/g10v5z/i_made_a_python_script_to_download_subtitles_for/fnfjulv/\", \"You really want to get into this? Meaning is diale\"], [\"pythonHelperBot\", \"/r/Python/comments/g1dbxs/help_im_new_and_no_matter_the_input_the_output_is/fneveug/\", \"Hello! I'm a bot!\\n\\nIt looks to me like your post m\"], [\"pythonHelperBot\", \"/r/Python/comments/g1d4u6/treat_registry_key_as_variable_with_setter_and/fneub1j/\", \"Hello! I'm a bot!\\n\\nIt looks to me like your post m\"], [\"AutoModerator\", \"/r/Python/comments/g1dvmv/quick_class_question/fneyv7h/\", \"Your submission has been automatically removed.\\n\\nY\"], [\"anselal\", \"/r/Python/comments/g10v5z/i_made_a_python_script_to_download_subtitles_for/fnew97p/\", \"Thnx\"], [\"[deleted]\", \"/r/Python/comments/fyqpt6/multiple_pytest_maintainers_leaving_pytest/fnf0i8g/\", \"[deleted]\"], [\"maximumpowe321\", \"/r/Python/comments/g0lndd/i_made_a_file_arranger_any_suggestions_github/fnf4fhu/\", \"Thank you! I really appreciate it.\"], [\"pythonHelperBot\", \"/r/Python/comments/g1eqm4/ascii_art/fnf4sei/\", \"Hello! I'm a bot!\\n\\nIt looks to me like your post m\"], [\"irixnox\", \"/r/Python/comments/g10v5z/i_made_a_python_script_to_download_subtitles_for/fnf4pik/\", \"Which movie is that?\"], [\"upizs2\", \"/r/Python/comments/g10v5z/i_made_a_python_script_to_download_subtitles_for/fnf5kez/\", \"You are a god!!\"], [\"Thrasherop\", \"/r/Python/comments/g1f1vf/api_for_getting_local_restaurants/fnf6sk9/\", \"Sweet that sounds perfect. I didn't even think abo\"], [\"[deleted]\", \"/r/Python/comments/g0lndd/i_made_a_file_arranger_any_suggestions_github/fnf58x2/\", \"[deleted]\"], [\"_lazyByte\", \"/r/Python/comments/g1ffsh/small_flask_blog_running_on_heroku/fnfpgjd/\", \"Nice work. Keep it up. \\n\\nYou could probably add so\"], [\"Comboxer\", \"/r/Python/comments/g10v5z/i_made_a_python_script_to_download_subtitles_for/fnfr5xc/\", \"Check r/UsefulScripts\"], [\"sHyGuY423\", \"/r/Python/comments/g14p79/i_made_a_tiny_script_for_ristodayfridaythe13th_so/fnf9k87/\", \"Impossible, no machine could know such thing\"], [\"metaperl\", \"/r/Python/comments/g1et92/library_how_often_do_you_wait_for_timeconsuming/fnf9l9p/\", \"interesting.  do you ever need caching of classes/\"], [\"iggy555\", \"/r/Python/comments/g1adit/i_made_my_first_game_in_python_thanks_uriles0829/fnfs84k/\", \"Nice job\"], [\"stagfollow\", \"/r/Python/comments/g0p3js/im_3_hours_into_a_udemy_python_course_and_feel/fnfs95a/\", \"thanks this gave me motivation :)\"], [\"Andrew_the_giant\", \"/r/Python/comments/g1fhk9/i_wrote_an_api_wrapper_for_td_ameritrades_finance/fnft2ab/\", \"This is sick, thank you\"], [\"GiantJigglypuff3\", \"/r/Python/comments/g1ip1o/is_python_hard_for_most_people/fnfw3b1/\", \"Python is generally easy to learn as a coding lang\"], [\"FidoTheDisingenuous\", \"/r/Python/comments/g10v5z/i_made_a_python_script_to_download_subtitles_for/fnfl6ry/\", \"\\\"Indian roots\\\" are often themselves a racist trope\"], [\"smokingweedle2000\", \"/r/Python/comments/g1how8/i_trying_to_learn/fngc8hx/\", \"I've been doing those for a week now I'm trying to\"], [\"ripogipo\", \"/r/Python/comments/g1mbgj/python_programming_is_drowning_in_red_tape_my/fngg8mk/\", \"I didn't understand the article, not sure if its j\"], [\"[deleted]\", \"/r/Python/comments/g1n8jc/python_conditional_operators_python_tutorial_for/fngl5cu/\", \"[removed]\"], [\"pythonHelperBot\", \"/r/Python/comments/g1l0pa/python3_scapy_issue/fngaecb/\", \"Hello! I'm a bot!\\n\\nIt looks to me like your post m\"], [\"pythonHelperBot\", \"/r/Python/comments/g1npyp/merging_similar_lines/fngok9v/\", \"Hello! I'm a bot!\\n\\nIt looks to me like your post m\"], [\"FidoTheDisingenuous\", \"/r/Python/comments/g10v5z/i_made_a_python_script_to_download_subtitles_for/fngpdnz/\", \"Believe it or not everything is political. I saw t\"], [\"Adro_95\", \"/r/Python/comments/fygn3n/i_made_a_script_that_organizes_a_folder/fngpmsz/\", \"If you manage, please drop a link!\"], [\"pythonHelperBot\", \"/r/Python/comments/g1o4b0/how_could_i_mimic_kotlins_decorator_feature/fngq8h0/\", \"Hello! I'm a bot!\\n\\nIt looks to me like your post m\"], [\"K900_\", \"/r/Python/comments/g1ns0l/how_effectively_can_one_learn_python_from_a/fngnp07/\", \"You absolutely don't have to take classes to learn\"], [\"Sir_Corvo\", \"/r/Python/comments/g10v5z/i_made_a_python_script_to_download_subtitles_for/fngpckw/\", \"valeu op!\"], [\"swentso\", \"/r/Python/comments/g1oans/securely_deploying_python_code_onpremise/fngqwl4/\", \"It's to protect it so they can't copy it. They are\"], [\"danielwtf230\", \"/r/Python/comments/g1cgvz/purplepwny_presentation/fngodgt/\", \"Just started learning python during quarantine. Pu\"], [\"AlexS11111\", \"/r/Python/comments/g1onw8/i_keep_trying_to_get_pip_to_work_and_it_always/fngtmaq/\", \"If you cannot run the\\u00a0pip\\u00a0command directly (possib\"], [\"dirtycimments\", \"/r/Python/comments/g1adit/i_made_my_first_game_in_python_thanks_uriles0829/fngy7xg/\", \"Im making a Rock-Paper-Scissor game.... \\n\\nI am mak\"], [\"Classisax\", \"/r/Python/comments/g0p3js/im_3_hours_into_a_udemy_python_course_and_feel/fnb4ccc/\", \"I teach Python and I can say that a lot of people \"], [\"allexks\", \"/r/Python/comments/fwgtu6/i_made_a_commandline_tool_to_find_similar/fnb7hoq/\", \"Thanks! You might be interested in mine as well, h\"], [\"AutoModerator\", \"/r/Python/comments/g0ut0p/this_code_keeps_outputting_the_same_message_even/fnbum48/\", \"Your submission has been automatically removed.\\n\\nY\"], [\"pythonHelperBot\", \"/r/Python/comments/g0ur21/change_a_link_once_selenium_web_scraper_is_done/fnbup1s/\", \"Hello! I'm a bot!\\n\\nIt looks to me like your post m\"], [\"yomaprogenitus\", \"/r/Python/comments/fu303u/3_days_ago_told_my_wife_id_learn_to_code_and/fnbtth3/\", \"Expect programming to be very difficult. Don't get\"], [\"Sir_not_sir\", \"/r/Python/comments/g0vaiy/hey_all_needing_help_with_running_a_scriptim_not/fnbywy3/\", \"/r/cheatathomework\"], [\"pythonHelperBot\", \"/r/Python/comments/g0vaiy/hey_all_needing_help_with_running_a_scriptim_not/fnby0p0/\", \"Hello! I'm a bot!\\n\\nIt looks to me like your post m\"], [\"bulletmark\", \"/r/Python/comments/g0qobg/i_made_a_python_program_which_models_the/fnbhw50/\", \"Step 2 is to put your code on Github and post the \"], [\"pythonHelperBot\", \"/r/Python/comments/g0wgll/fix_package_has_no_attribute_named_script_in_my/fnc53up/\", \"Hello! I'm a bot!\\n\\nIt looks to me like your post m\"], [\"__xor__\", \"/r/Python/comments/g0fz1e/generating_a_random_maze_using_prims_algorithm/fnc3zkr/\", \"To solve a maze, an algorithm doesn't necessarily \"], [\"PythyMcPyface\", \"/r/Python/comments/g0qobg/i_made_a_python_program_which_models_the/fnbkngk/\", \"Here you go:  [https://github.com/pythymcpyface/Co\"], [\"AutoModerator\", \"/r/Python/comments/g0nx41/help_with_python_homwork_please/fnan0it/\", \"Your submission has been automatically removed.\\n\\nY\"], [\"XRTce\", \"/r/Python/comments/fg3iwc/snapchat_gdpr_takeout_memories_downloader/fnamxku/\", \"Which error is shown? If a specific file fails try\"], [\"AutoModerator\", \"/r/Python/comments/g0o781/help_i_am_a_big_newbie/fnaonvk/\", \"Your submission has been automatically removed.\\n\\nY\"], [\"runiker\", \"/r/Python/comments/fyok1f/what_happened_to_swapico/fnasain/\", \"other  guy on github, [Juriy](https://github.com/J\"], [\"rhalsmith\", \"/r/Python/comments/g0fz1e/generating_a_random_maze_using_prims_algorithm/fnaufea/\", \"Is it just me or do the branches from the main pat\"], [\"james_pic\", \"/r/Python/comments/g0p3js/im_3_hours_into_a_udemy_python_course_and_feel/fnav2vu/\", \"I can't speak for the exact course you're doing, b\"], [\"tylerlecho\", \"/r/Python/comments/g0pegm/looking_for_good_resources/fnay1g5/\", \"Ah okay, thanks alot :)\"], [\"ABd3Lh4di\", \"/r/Python/comments/fg3iwc/snapchat_gdpr_takeout_memories_downloader/fnccw1c/\", \"The files are working via a web browser, the error\"], [\"CreativeLion2000\", \"/r/Python/comments/g0mmbt/i_made_a_web_app_to_convert_baking_recipes_from/fnck1fg/\", \"Nice! As someone who bakes and does a little codin\"], [\"AissySantos\", \"/r/Python/comments/g0mmbt/i_made_a_web_app_to_convert_baking_recipes_from/fncobgf/\", \"I wonder if there could be a CLI SDK for quick rea\"], [\"frvwfr2\", \"/r/Python/comments/g0zfpl/hi_im_50_years_old_never_had_no_interest_in/fncnget/\", \"This is a post of an image searching for \\\"python t\"], [\"Juswanna\", \"/r/Python/comments/fwl5wy/whats_everyone_working_on_this_week/fnd8jx1/\", \"An MNIST estimator \\nWith varying input types \\n\\nSen\"], [\"faithade\", \"/r/Python/comments/g0xo8y/tictactoe_game/fnd61ji/\", \"Thanks! I will.\"], [\"bitswede\", \"/r/Python/comments/g0mmbt/i_made_a_web_app_to_convert_baking_recipes_from/fncrozo/\", \"Powdered sugar is lighter than white sugar.\\nIn met\"], [\"nice-scores\", \"/r/Python/comments/g0fz1e/generating_a_random_maze_using_prims_algorithm/fncq6gj/\", \"\\ud835\\udcf7\\ud835\\udcf2\\ud835\\udcec\\ud835\\udcee \\u261c(\\uff9f\\u30ee\\uff9f\\u261c)\\n#Nice Leaderboard\\n**1.** `u/RepliesNi\"], [\"xyzadeel\", \"/r/Python/comments/g0mmbt/i_made_a_web_app_to_convert_baking_recipes_from/fncv0ai/\", \"Pretty cool.\"], [\"damnation_strikes\", \"/r/Python/comments/g0onvr/update_some_of_you_asked_me_to_make_a_video_of/fnct58i/\", \"That looks pretty complex\"], [\"[deleted]\", \"/r/Python/comments/fx2ff0/python_powered_slot_car_track_video/fnctdmx/\", \"[removed]\"], [\"johnpope44\", \"/r/Python/comments/g10v5z/i_made_a_python_script_to_download_subtitles_for/fndbqs5/\", \"Thank you again!\"], [\"Farbfetzen\", \"/r/Python/comments/g0mmbt/i_made_a_web_app_to_convert_baking_recipes_from/fnd9i1m/\", \"And if you use weight you will have less flour, be\"], [\"[deleted]\", \"/r/Python/comments/g10v5z/i_made_a_python_script_to_download_subtitles_for/fndf7tp/\", \"[deleted]\"], [\"sameera__madushan_\", \"/r/Python/comments/g10v5z/i_made_a_python_script_to_download_subtitles_for/fndftex/\", \"Thanks \\u2764\"], [\"sameera__madushan_\", \"/r/Python/comments/g10v5z/i_made_a_python_script_to_download_subtitles_for/fndgv4f/\", \"Thanks \\u2764\"], [\"pythonHelperBot\", \"/r/Python/comments/g194ky/noob_question/fne599e/\", \"Hello! I'm a bot!\\n\\nIt looks to me like your post m\"], [\"sameera__madushan_\", \"/r/Python/comments/g10v5z/i_made_a_python_script_to_download_subtitles_for/fne58sh/\", \"They are from SubDB\"], [\"sameera__madushan_\", \"/r/Python/comments/g10v5z/i_made_a_python_script_to_download_subtitles_for/fne55a5/\", \"Thanks \\u2665\"], [\"I-surely-know-nothin\", \"/r/Python/comments/g11umr/more_fun_with_numpy_cupy_clojure_and_gpu/fne589z/\", \"That\\u2019s something I\\u2019d like to learn :) Thanks!\"], [\"Wobblycogs\", \"/r/Python/comments/g0mmbt/i_made_a_web_app_to_convert_baking_recipes_from/fndld2i/\", \"Good job. I don't quite know how to phrase this co\"], [\"pythonHelperBot\", \"/r/Python/comments/g15n5r/help_with_search_algorithm/fndjfkn/\", \"Hello! I'm a bot!\\n\\nIt looks to me like your post m\"], [\"Entr00py134\", \"/r/Python/comments/g121pt/my_new_project_taskboard_tasks_boards_notes_and/fndhzfs/\", \"I like it so far, I just need to get used to the s\"], [\"bl0ndie5\", \"/r/Python/comments/g16dji/would_i_be_able_to_write_a_program_that_could/fndonax/\", \"yeah the thing is I have to be tabbed in. when one\"], [\"Lep333\", \"/r/Python/comments/g16dji/would_i_be_able_to_write_a_program_that_could/fndp0iq/\", \"Just wait?\\nAs soon as you hit 2hrs of watching wit\"], [\"bloedlink\", \"/r/Python/comments/g12911/strava_api/fndpmu7/\", \" \\n\\nThe issue was the following, i was using the re\"], [\"worthy_sloth\", \"/r/Python/comments/g15e8f/how_do_you_run_a_python_app_all_the_time/fndopzi/\", \"Thank you SO MUCH! First time I'm happy with a red\"], [\"_lagadeno_\", \"/r/Python/comments/g16t0s/hello_i_am_new_to_pythoncould_you_guys_guve_me/fndrluj/\", \"Ah yes,thanks I have started using codewars and I \"], [\"_lagadeno_\", \"/r/Python/comments/g16t0s/hello_i_am_new_to_pythoncould_you_guys_guve_me/fndqqy8/\", \"Thanks!\"], [\"sameera__madushan_\", \"/r/Python/comments/g10v5z/i_made_a_python_script_to_download_subtitles_for/fndqmfb/\", \"Cool....\"], [\"IMJoeTheBro\", \"/r/Python/comments/g10v5z/i_made_a_python_script_to_download_subtitles_for/fndsxfv/\", \"Cool!\"], [\"gbdavidx\", \"/r/Python/comments/g10v5z/i_made_a_python_script_to_download_subtitles_for/fndv7b5/\", \"where are the subtitles coming from?\"], [\"plentycool\", \"/r/Python/comments/g10v5z/i_made_a_python_script_to_download_subtitles_for/fndwhtx/\", \"Pirate?\"], [\"elvy399\", \"/r/Python/comments/g10v5z/i_made_a_python_script_to_download_subtitles_for/fndx0tg/\", \"Nice job, you can add the script to the right clic\"], [\"[deleted]\", \"/r/Python/comments/g167bf/whats_everyone_working_on_this_week/fndu6o6/\", \"[deleted]\"], [\"anarchyisthekey\", \"/r/Python/comments/g10v5z/i_made_a_python_script_to_download_subtitles_for/fndvfd5/\", \"Theoretically, I\\u2019ve always thought that you could \"], [\"Shrish3001\", \"/r/Python/comments/g10v5z/i_made_a_python_script_to_download_subtitles_for/fndz2ue/\", \"Does it also work if I just put in the name of the\"], [\"MeltedCheeseFantasy\", \"/r/Python/comments/g0mmbt/i_made_a_web_app_to_convert_baking_recipes_from/fndznsg/\", \"Actually, what drives the change in density is moi\"], [\"RussianCheeseDood\", \"/r/Python/comments/g17ivd/does_anyone_have_any_tips_on_where_can_i_learn_to/fndy58g/\", \"oh, I'm stupid, sorry\"], [\"pythonHelperBot\", \"/r/Python/comments/g18ksv/task_scheduler_run_py_file/fne1dfz/\", \"Hello! I'm a bot!\\n\\nIt looks to me like your post m\"], [\"psincraian\", \"/r/Python/comments/g0gga6/view_python_download_stats_by_project_version/fne9dzd/\", \"Hi!\\n\\nMany thanks for the useful feedback \\ud83d\\ude0a  \\n\\n\\nCur\"], [\"sameera__madushan_\", \"/r/Python/comments/g10v5z/i_made_a_python_script_to_download_subtitles_for/fnebinj/\", \"check [this](https://github.com/sameera-madushan/S\"], [\"[deleted]\", \"/r/Python/comments/g14p79/i_made_a_tiny_script_for_ristodayfridaythe13th_so/fneho90/\", \"[deleted]\"], [\"pythonHelperBot\", \"/r/Python/comments/g1ap5r/can_anyone_let_me_know_if_i_can_get_details_on/fnegygj/\", \"Hello! I'm a bot!\\n\\nIt looks to me like your post m\"], [\"bahermursi\", \"/r/Python/comments/g1b23g/is_oop_still_needed/fnejmbb/\", \"Sorry I didn\\u2019t have the link at first, here it is \"], [\"bahermursi\", \"/r/Python/comments/g1b23g/is_oop_still_needed/fnei8ft/\", \"Yeah you\\u2019re actually correct. The decision of weat\"], [\"iGalaxy_\", \"/r/Python/comments/g10v5z/i_made_a_python_script_to_download_subtitles_for/fneifp1/\", \"DM me a link\"], [\"pythonHelperBot\", \"/r/Python/comments/g1b2pv/python_noob_with_questions_about_a_program_idea/fnehbyd/\", \"Hello! I'm a bot!\\n\\nIt looks to me like your post m\"], [\"SimpleScribbler\", \"/r/Python/comments/g0qnsv/anyone_else_wants_assignment_expressions_reverted/fnehfk3/\", \"Clearly this bot needs work.\"], [\"neilbaldwn\", \"/r/Python/comments/g1bhri/packaging_and_distribution_help/fnejunt/\", \"Oh, I can install this on my particular system wit\"], [\"m3lonh0de\", \"/r/Python/comments/g1962q/i_need_help_for_a_script_that_types_good_morning/fnelzr0/\", \"hangouts\"], [\"N3urAlgorithm\", \"/r/Python/comments/fygn3n/i_made_a_script_that_organizes_a_folder/fnenm8w/\", \"Can you send the code even here please?\"], [\"twillisagogo\", \"/r/Python/comments/g1bhri/packaging_and_distribution_help/fneo3x6/\", \"looks like you've already figured out the packagin\"], [\"mutatedllama\", \"/r/Python/comments/g168jg/i_made_a_procedural_world_generator/fnequp4/\", \"This is so damn cool! Is this to be used in a game\"], [\"Potrac\", \"/r/Python/comments/g10v5z/i_made_a_python_script_to_download_subtitles_for/fneq0ja/\", \"Hey, nice job! Do you use the [opensubtitles.org](\"], [\"sameera__madushan_\", \"/r/Python/comments/g10v5z/i_made_a_python_script_to_download_subtitles_for/fnet3n4/\", \"it uses SubDB API\"], [\"wynand1004\", \"/r/Python/comments/g1072z/how_to_use_turtle_and_pygame/fnerntn/\", \"That runs the main turtle graphics loop and keeps \"], [\"sHyGuY423\", \"/r/Python/comments/g167bf/whats_everyone_working_on_this_week/fnez5xe/\", \"A script that plays the sonic ring sound whenever \"], [\"[deleted]\", \"/r/Python/comments/g1conv/i_made_a_randomized_binary_tree_python_tkinter/fnez68q/\", \"[removed]\"], [\"athermop\", \"/r/Python/comments/g1apao/when_should_i_start_learning_machine_learning/fnezdwu/\", \"&gt;  being smart is not about knowing, but about \"], [\"mrmiser81\", \"/r/Python/comments/g168jg/i_made_a_procedural_world_generator/fnf0pfz/\", \"This is really amazing. I am working on my python \"], [\"danielroseman\", \"/r/Python/comments/g0s4yu/class_implementation_of_caseswitch_need_a_default/fnf2vf5/\", \"No, you don't want a lambda at all. Put your defau\"], [\"maximumpowe321\", \"/r/Python/comments/g0lndd/i_made_a_file_arranger_any_suggestions_github/fnf6hip/\", \"PyCharm\"], [\"[deleted]\", \"/r/Python/comments/g10v5z/i_made_a_python_script_to_download_subtitles_for/fnf808x/\", \"[deleted]\"], [\"Iinsaan\", \"/r/Python/comments/g0q1il/using_regex_to_extract_data_after_a_specific_word/fnfct7b/\", \"Thank you will definitely check it out!\"], [\"ArgetDota\", \"/r/Python/comments/g10v5z/i_made_a_python_script_to_download_subtitles_for/fnf9kbe/\", \"Or (for a second just imagine) it\\u2019s just a wallpap\"], [\"metaperl\", \"/r/Python/comments/g1b23g/is_oop_still_needed/fnfd28c/\", \"\\n&gt; It attempts to decompose the world in terms \"], [\"misho88\", \"/r/Python/comments/g1b23g/is_oop_still_needed/fnfcn1w/\", \"The more I learn about programming (and I've been \"], [\"dalenapier\", \"/r/Python/comments/g10v5z/i_made_a_python_script_to_download_subtitles_for/fnf9fl7/\", \"I know by asking this it could be assuming too muc\"], [\"b10011\", \"/r/Python/comments/g1et92/library_how_often_do_you_wait_for_timeconsuming/fnfd58m/\", \"I couldn't decide so I went with the convention of\"], [\"darps\", \"/r/Python/comments/g10v5z/i_made_a_python_script_to_download_subtitles_for/fnfiagy/\", \"So the main problem with subtitles files that I've\"], [\"pythonHelperBot\", \"/r/Python/comments/g1gptn/memoryerror_using_geojson_on_11gb_file/fnfhiry/\", \"Hello! I'm a bot!\\n\\nIt looks to me like your post m\"], [\"PizzaHolder\", \"/r/Python/comments/g10v5z/i_made_a_python_script_to_download_subtitles_for/fnfjcs8/\", \"I always thought I was too stupid to use it proper\"], [\"wapu\", \"/r/Python/comments/g167bf/whats_everyone_working_on_this_week/fnfmei2/\", \"In the first phase of an ML project. Right now I a\"], [\"AltezaHumilde\", \"/r/Python/comments/g10v5z/i_made_a_python_script_to_download_subtitles_for/fnfmmgv/\", \"so what? Cristians are a religion, if tomorrow som\"], [\"inhumantsar\", \"/r/Python/comments/g1cftx/python_formatters_to_eg_align_code/fnf42zj/\", \"none will do that because that's not an accepted p\"], [\"[deleted]\", \"/r/Python/comments/g10v5z/i_made_a_python_script_to_download_subtitles_for/fnft4n8/\", \"[deleted]\"], [\"deadtreesquirrels\", \"/r/Python/comments/g0s4yu/class_implementation_of_caseswitch_need_a_default/fnftoem/\", \"perfect, thank you.\"], [\"alb1\", \"/r/Python/comments/g0rooh/implement_caseswitch_with_class_but_want_a/fnfu2yw/\", \"The argument `lambda: default` that's passed to `g\"], [\"pythonHelperBot\", \"/r/Python/comments/g0q1il/using_regex_to_extract_data_after_a_specific_word/fnb1df5/\", \"Hello! I'm a bot!\\n\\nIt looks to me like your post m\"], [\"Jamalco\", \"/r/Python/comments/g0io6y/multiprocessing_the_mean_of_a_subset_of_rows/fnb2u34/\", \"Yeah, unfortunately I have to use multiprocessing \"], [\"twoy519\", \"/r/Python/comments/g0pl67/pandas_with_array_of_col_names_in_a_desired/fnb36c9/\", \"I actually found what I needed with the [reindex](\"], [\"Lesluse\", \"/r/Python/comments/fzwbcx/i_made_a_face_recognition_program/fnbrz45/\", \"I will check that out. Thanks for the info!\"], [\"Marcus_Fo-Relius\", \"/r/Python/comments/fjqoxv/laid_off_for_8_weeks_anyone_else_starting_their/fnc8e9o/\", \"Just started as well! Spent my \\\"working hours\\\" tod\"], [\"kigurai\", \"/r/Python/comments/g0kqss/no_really_pythons_pathlib_is_great_dipping_toes/fnd0jax/\", \"It's not like `pathlib` does something that you ca\"], [\"Bizzix\", \"/r/Python/comments/g0mmbt/i_made_a_web_app_to_convert_baking_recipes_from/fncyswv/\", \"finally! u hate always needing to stop doing somet\"], [\"AissySantos\", \"/r/Python/comments/fvitk9/browsable_snippets_database_see_link_in_comments/fnczkpl/\", \"I don't think I have ever worked on developing plu\"], [\"davehodg\", \"/r/Python/comments/g0uevj/coronavirus_ventilator_runs_on_raspberry_pi/fnd1ojj/\", \"Is it python?\"], [\"Entr00py134\", \"/r/Python/comments/g121pt/my_new_project_taskboard_tasks_boards_notes_and/fnd269p/\", \"This look awesome. I\\u2019ve been searching for somethi\"], [\"chintan22\", \"/r/Python/comments/g10v5z/i_made_a_python_script_to_download_subtitles_for/fnfxpga/\", \"Angry birds\"], [\"chintan22\", \"/r/Python/comments/g10v5z/i_made_a_python_script_to_download_subtitles_for/fnfy3op/\", \"Major movie hoarder here, so important question.\\n\\n\"], [\"xxenon11\", \"/r/Python/comments/g10v5z/i_made_a_python_script_to_download_subtitles_for/fngcix0/\", \"VLC's both, subtitle and audio, offsetting feature\"], [\"pythonHelperBot\", \"/r/Python/comments/g1lmhk/help_pls_from_a_fellow_coder/fngcjf4/\", \"Hello! I'm a bot!\\n\\nIt looks to me like your post m\"], [\"i_like_trains_a_lot1\", \"/r/Python/comments/g1dxfn/stop_naming_your_python_modules_utils/fnggxrq/\", \"I agree. But I'd avoid giving them the same name a\"], [\"ZenT3600\", \"/r/Python/comments/g1e5ev/quick_class_question/fnggzqn/\", \"Also, are you sure you understood the problem you \"], [\"pythonHelperBot\", \"/r/Python/comments/g1m73i/if_anyone_knows_encryption_in_python_please_dm_me/fnghix8/\", \"Hello! I'm a bot!\\n\\nIt looks to me like your post m\"], [\"mutatedllama\", \"/r/Python/comments/g168jg/i_made_a_procedural_world_generator/fngimh0/\", \"I think that's a great idea. Just looking at the w\"], [\"[deleted]\", \"/r/Python/comments/g1mvz9/python_logical_operators_python_tutorial_for/fngja0d/\", \"[removed]\"], [\"Akmantainman\", \"/r/Python/comments/g18ksv/task_scheduler_run_py_file/fngmav6/\", \"I just ran into this today. Couldn't find a resolu\"], [\"FidoTheDisingenuous\", \"/r/Python/comments/g10v5z/i_made_a_python_script_to_download_subtitles_for/fngq9fi/\", \"I do. I'm glad you can laugh at yourself. It's not\"], [\"softver787\", \"/r/Python/comments/g1no5q/python_processing/fngn9j4/\", \"Are you able to provide a screenshot of the progra\"], [\"FidoTheDisingenuous\", \"/r/Python/comments/g10v5z/i_made_a_python_script_to_download_subtitles_for/fngpo1k/\", \"Your \\\"Progressive\\\" is conservative to me if you st\"], [\"pythonHelperBot\", \"/r/Python/comments/g1ns0l/how_effectively_can_one_learn_python_from_a/fngodtd/\", \"Hello! I'm a bot!\\n\\nI see someone has already sugge\"], [\"phoenixind\", \"/r/Python/comments/g1conv/i_made_a_randomized_binary_tree_python_tkinter/fngomqz/\", \"Loved it! Just wondering how to use this in an act\"], [\"justingolden21\", \"/r/Python/comments/g1onw8/i_keep_trying_to_get_pip_to_work_and_it_always/fngs0t8/\", \"Thanks in advance to anyone who can help me with t\"], [\"danielroseman\", \"/r/Python/comments/g1onw8/i_keep_trying_to_get_pip_to_work_and_it_always/fngtna8/\", \"It says clearly that the directory is *not* on you\"], [\"justingolden21\", \"/r/Python/comments/g1onw8/i_keep_trying_to_get_pip_to_work_and_it_always/fngs1wa/\", \"Nope, just windows 10\"], [\"TouchingTheVodka\", \"/r/Python/comments/g1onw8/i_keep_trying_to_get_pip_to_work_and_it_always/fngs446/\", \"Weird.\\n\\nI had a similar problem and I solved it by\"], [\"jyper\", \"/r/Python/comments/g1lq2b/python_programming_is_drowning_in_red_tape_my/fngxk1y/\", \"I was curious when he mentioned Ward and it looks \"], [\"DevTomar2005\", \"/r/Python/comments/g1pn2c/i_cant_understand_how_it_works/fngxsva/\", \"I understand what it does but not how it does it.\\n\"], [\"ChrisBez87\", \"/r/Python/comments/g1adit/i_made_my_first_game_in_python_thanks_uriles0829/fngytbm/\", \"Im sure you will! Python is the best, there is jus\"], [\"funkenpedro\", \"/r/Python/comments/g1l9q9/fractal_rendering_tool_i_made_with_no_initial/fngyy70/\", \"Really nice. Can you share your code?\"], [\"Keterz\", \"/r/Python/comments/g0g728/how_to_make_python_script_proprietary/fngy86v/\", \"Cython.\"], [\"ChrisBez87\", \"/r/Python/comments/g1adit/i_made_my_first_game_in_python_thanks_uriles0829/fngzfuu/\", \"Ahh I love that guy, subscribe to him on YouTube. \"], [\"coder_et\", \"/r/Python/comments/g0zlcv/coding_demo_for_the_tom_scott_this_video_has/fnco5du/\", \"r/python r/programming\"], [\"Sub_to_pewezzz1\", \"/r/Python/comments/g17o6h/why_the_error_pls_answer/fndw12e/\", \"Why and how\"], [\"FidoTheDisingenuous\", \"/r/Python/comments/g10v5z/i_made_a_python_script_to_download_subtitles_for/fnfd49s/\", \"I'm a semiotic anthropologist. This is me realizin\"], [\"Schneggl\", \"/r/Python/comments/g113ug/im_new_to_python_and_wanted_to_install_pillow/fncws05/\", \"I got it now, thanks. I got another question, why \"], [\"mnsicbox\", \"/r/Python/comments/g10v5z/i_made_a_python_script_to_download_subtitles_for/fnghg30/\", \"Don't use emojis. This is Reddit.\"], [\"saytannblazes\", \"/r/Python/comments/g10v5z/i_made_a_python_script_to_download_subtitles_for/fngms30/\", \"Ok boomer\"], [\"AltezaHumilde\", \"/r/Python/comments/g10v5z/i_made_a_python_script_to_download_subtitles_for/fngpk6c/\", \"You should open your heart and be polite, now go b\"], [\"saytannblazes\", \"/r/Python/comments/g10v5z/i_made_a_python_script_to_download_subtitles_for/fngpfs1/\", \"Again,\\n\\n\\u201cYou don\\u2019t like it? Move on. Not everythin\"], [\"saytannblazes\", \"/r/Python/comments/g10v5z/i_made_a_python_script_to_download_subtitles_for/fngq22i/\", \"I just really wish you understood irony. HAHAHAH\"], [\"InputField\", \"/r/Python/comments/g0qnsv/anyone_else_wants_assignment_expressions_reverted/fnba98w/\", \"Huh? I never said, I plan to stop using Python. \\n\\n\"], [\"FidoTheDisingenuous\", \"/r/Python/comments/g10v5z/i_made_a_python_script_to_download_subtitles_for/fnebpbe/\", \"Imagine not being offended by colonialism.\"], [\"nice-scores\", \"/r/Python/comments/g0fz1e/generating_a_random_maze_using_prims_algorithm/fnblysr/\", \"\\ud835\\udcf7\\ud835\\udcf2\\ud835\\udcec\\ud835\\udcee \\u261c(\\uff9f\\u30ee\\uff9f\\u261c)\\n#Nice Leaderboard\\n**1.** `u/RepliesNi\"], [\"pythonHelperBot\", \"/r/Python/comments/g0qnsv/anyone_else_wants_assignment_expressions_reverted/fnbllxm/\", \"Hello! I'm a bot!\\n\\nIt looks to me like your post m\"], [\"saytannblazes\", \"/r/Python/comments/g10v5z/i_made_a_python_script_to_download_subtitles_for/fngp3tm/\", \"Says the dude who really just spent his time shitt\"], [\"BubblyMethod9\", \"/r/Python/comments/g0oe5a/how_to_run_function_through_a_list/fnat40u/\", \"I am sorry but I am new to python so I don't quite\"], [\"[deleted]\", \"/r/Python/comments/g0qnsv/anyone_else_wants_assignment_expressions_reverted/fnb4tqz/\", \"[deleted]\"], [\"PeterMoresco\", \"/r/Python/comments/g0qobg/i_made_a_python_program_which_models_the/fnc7ckm/\", \"Hey, nice code! Have checked out this [model](http\"], [\"Chemracer\", \"/r/Python/comments/g167bf/whats_everyone_working_on_this_week/fndo7eo/\", \"A quantum chemistry machine learning project\"], [\"shadowsmith98\", \"/r/Python/comments/g10v5z/i_made_a_python_script_to_download_subtitles_for/fneda4b/\", \"Why are you so sensitive?\"], [\"stevenjd\", \"/r/Python/comments/fyzbl1/does_anyone_know_whats_going_on_with_contributors/fncoint/\", \"I'm glad you mentioned van Gogh, because he was [a\"], [\"Fanshiboi\", \"/r/Python/comments/g10v5z/i_made_a_python_script_to_download_subtitles_for/fnd9t8t/\", \"Because its a picture, it's art form, photographer\"], [\"ah_86\", \"/r/Python/comments/g10v5z/i_made_a_python_script_to_download_subtitles_for/fne6drn/\", \"That script only works on Windows, right?\"], [\"Haxican\", \"/r/Python/comments/g10v5z/i_made_a_python_script_to_download_subtitles_for/fndotvr/\", \"Imagine being this obtuse.\"], [\"rezoreziko\", \"/r/Python/comments/g0zhz4/dating_life_beside_a_busy_job_as_a_developer/fncvxvs/\", \"&gt;Looks like the bot is getting a overzealous wi\"], [\"Hens1i\", \"/r/Python/comments/g1jz58/if_anyone_can_make_a_script_for_this_i_will_pay/fng2abr/\", \"I have some files that would help you with it.\"], [\"FidoTheDisingenuous\", \"/r/Python/comments/g10v5z/i_made_a_python_script_to_download_subtitles_for/fngoze8/\", \"You know that was started by leftists right? So us\"], [\"yvcii\", \"/r/Python/comments/g1nuy0/request_is_there_any_python_tool_to_download_a/fngoctl/\", \"Be honest,  you want to use offline data, do you w\"], [\"saytannblazes\", \"/r/Python/comments/g10v5z/i_made_a_python_script_to_download_subtitles_for/fngpcm3/\", \"You realize what subreddit you\\u2019re in, right?\"], [\"harshpatel8779\", \"/r/Python/comments/g1conv/i_made_a_randomized_binary_tree_python_tkinter/fngyntm/\", \"Happy cake day!\"], [\"coder_et\", \"/r/Python/comments/g0zts2/coding_demo_for_the_tom_scott_this_video_has/fncq856/\", \"r/python r/programming\"], [\"Hens1i\", \"/r/Python/comments/g1jz58/if_anyone_can_make_a_script_for_this_i_will_pay/fngkytx/\", \"And?\"], [\"Hayvan-Boris\", \"/r/Python/comments/g10v5z/i_made_a_python_script_to_download_subtitles_for/fndv0c3/\", \"Congratulations gj. Where I can get your wallpaper\"], [\"Hens1i\", \"/r/Python/comments/g1jz58/if_anyone_can_make_a_script_for_this_i_will_pay/fngkxb5/\", \"What if it is\"], [\"FidoTheDisingenuous\", \"/r/Python/comments/g10v5z/i_made_a_python_script_to_download_subtitles_for/fnezoiv/\", \"Because it replaces real indigenous culture with a\"], [\"pythonHelperBot\", \"/r/Python/comments/g0zhz4/dating_life_beside_a_busy_job_as_a_developer/fncnqtv/\", \"Hello! I'm a bot!\\n\\nIt looks to me like your post m\"], [\"FidoTheDisingenuous\", \"/r/Python/comments/g10v5z/i_made_a_python_script_to_download_subtitles_for/fnd9z2d/\", \"That can also be offensive yes. Like Indian mascot\"], [\"agree-with-you\", \"/r/Python/comments/g10v5z/i_made_a_python_script_to_download_subtitles_for/fnejs3k/\", \"No you both\"], [\"drpepper\", \"/r/Python/comments/g10v5z/i_made_a_python_script_to_download_subtitles_for/fndzz75/\", \"give me your email. ill send an offensive wall pap\"], [\"Mattwmaster58\", \"/r/Python/comments/g0lndd/i_made_a_file_arranger_any_suggestions_github/fnb1jkc/\", \"I think this would be more suited for /r/learnpyth\"], [\"baby__groot\", \"/r/Python/comments/g10v5z/i_made_a_python_script_to_download_subtitles_for/fndqr1z/\", \"Great, but I do not see any use of this. Most of t\"], [\"FidoTheDisingenuous\", \"/r/Python/comments/g10v5z/i_made_a_python_script_to_download_subtitles_for/fnekk5z/\", \"No u both\"], [\"NevadaPurple\", \"/r/Python/comments/g10kyu/a_web_app_that_counts_the_number_of_days_until/fncuvjk/\", \"This bot never should have been developed in the f\"], [\"FidoTheDisingenuous\", \"/r/Python/comments/g10v5z/i_made_a_python_script_to_download_subtitles_for/fnd9e9f/\", \"Because it's not cool to appropriate the culture o\"], [\"FidoTheDisingenuous\", \"/r/Python/comments/g10v5z/i_made_a_python_script_to_download_subtitles_for/fnd8rdz/\", \"Yeah but I'm also right so how about you don't be \"], [\"FidoTheDisingenuous\", \"/r/Python/comments/g10v5z/i_made_a_python_script_to_download_subtitles_for/fnelna3/\", \"It's not cool at all. In fact in continues the gen\"], [\"FidoTheDisingenuous\", \"/r/Python/comments/g10v5z/i_made_a_python_script_to_download_subtitles_for/fnd8g54/\", \"Not to be that guy but your background could be pr\"], [\"FidoTheDisingenuous\", \"/r/Python/comments/g10v5z/i_made_a_python_script_to_download_subtitles_for/fnejru8/\", \"No u\"], [\"FidoTheDisingenuous\", \"/r/Python/comments/g10v5z/i_made_a_python_script_to_download_subtitles_for/fnecivt/\", \"Hijacking top comment because the assholes in this\"]], \"hoverlabel\": {\"namelength\": 0}, \"hovertemplate\": \"Date comment was posted=%{x}<br>Comment Positivity=%{y}<br>score=%{marker.size}<br>author=%{customdata[0]}<br>permalink=%{customdata[1]}<br>preview=%{customdata[2]}<br>sentiment_subjectivity=%{marker.color}\", \"legendgroup\": \"\", \"marker\": {\"color\": [0.6416666666666666, 0.65, 0.0, 0.0, 0.4122474747474748, 0.5062500000000001, 0.47575757575757577, 0.0, 0.43333333333333335, 1.0, 0.6666666666666666, 0.0, 0.6, 1.0, 0.5433333333333333, 0.31111111111111106, 0.3333333333333333, 0.0, 1.0, 0.6, 0.55, 0.0, 0.5, 0.46011904761904765, 0.0, 0.36904761904761907, 0.55, 0.7066666666666667, 0.8, 0.0, 0.0, 0.35714285714285715, 0.06666666666666667, 0.46366666666666667, 0.46522108843537413, 0.0, 0.6, 0.41111111111111115, 0.43125, 0.461111111111111, 0.2, 0.0, 0.4772727272727273, 0.2, 0.0, 0.45454545454545453, 0.0, 0.8333333333333334, 0.7962962962962963, 0.0, 1.0, 0.5527777777777777, 0.6000000000000001, 0.3041666666666667, 0.0, 0.0, 0.36810776942355894, 0.5097883597883598, 0.7250000000000001, 0.5123015873015873, 0.875, 0.6877777777777778, 1.0, 0.0, 0.3, 0.0, 0.43333333333333335, 0.5479166666666666, 0.5708333333333333, 0.2, 0.95, 0.5, 0.4361111111111111, 0.2, 0.39124649859943983, 0.0, 0.7, 0.0, 0.15000000000000002, 0.4, 0.5403198653198653, 0.0, 0.0, 0.475, 0.30000000000000004, 0.4292929292929293, 0.5, 0.0, 0.3491071428571429, 0.5480725623582767, 0.4172619047619048, 0.31666666666666665, 0.4483333333333333, 1.0, 0.0, 0.0, 0.5065996095407861, 0.8875, 0.5, 0.5884479717813051, 0.2, 0.2888888888888889, 0.0, 0.9, 1.0, 0.0, 0.5235383597883598, 0.5339285714285714, 0.545, 0.2, 0.6625, 0.30000000000000004, 0.6777777777777777, 1.0, 0.75, 0.0, 0.25738636363636364, 0.3642857142857143, 0.5722222222222223, 0.35000000000000003, 0.6875, 0.2, 0.46, 0.0, 0.5218559218559219, 0.2, 0.5, 0.8, 0.5625, 0.38333333333333336, 0.0, 0.6166666666666667, 0.4649725274725275, 0.5499999999999999, 1.0, 0.5, 0.0, 0.4, 0.5333333333333333, 0.0, 1.0, 0.2, 0.0, 0.35, 0.0, 0.35000000000000003, 0.41648148148148156, 0.13541666666666666, 0.3488095238095238, 0.6000000000000001, 0.9, 1.0, 0.59375, 0.4, 0.2, 0.0, 0.42857142857142855, 0.2, 0.4208333333333334, 0.8020833333333334, 0.6, 0.4372916666666667, 0.5218559218559219, 0.5708333333333334, 1.0, 0.4762626262626263, 0.2824675324675325, 0.44238351254480285, 0.5218559218559219, 0.0, 0.3333333333333333, 0.41041666666666665, 0.5333333333333333, 1.0, 0.9, 0.8, 0.9, 0.5, 0.44166666666666665, 0.5218559218559219, 0.5588624338624338, 0.5874999999999999, 0.5218559218559219, 0.5738095238095239, 0.275, 0.0, 0.18888888888888888, 0.3936507936507937, 0.6416666666666666, 0.10833333333333334, 0.0, 0.75, 0.35000000000000003, 0.5218559218559219, 1.0, 0.35, 0.375, 1.0, 0.59375, 0.2, 0.4857142857142857, 0.6347222222222223, 0.5480725623582767, 0.5218559218559219, 0.0, 0.5, 0.4, 0.475, 0.0, 0.6777777777777777, 0.0, 0.55, 0.4, 0.0, 0.0, 1.0, 0.8666666666666667, 1.0, 0.41666666666666663, 0.0, 0.55, 0.5480725623582767, 0.55, 0.0, 0.09999999999999999, 0.0, 0.44166666666666665, 1.0, 0.5218559218559219, 0.75, 0.2, 0.37111111111111117, 0.575925925925926, 1.0, 0.0, 0.0, 1.0, 0.5, 0.4, 0.5183333333333333, 0.7, 0.825, 1.0, 0.4912698412698413, 0.0, 0.6000000000000001, 0.5196428571428572, 0.6476190476190476, 0.7000000000000001, 0.49583333333333335, 0.25, 1.0, 0.40208333333333335, 0.0, 0.0, 0.5616071428571429, 0.0, 0.95, 0.0, 0.5011904761904762, 0.4731481481481481, 0.6491341991341992, 0.0, 0.4405328798185941, 0.7, 0.4788461538461538, 0.42500000000000004, 0.41464646464646465, 0.0, 0.5218559218559219, 0.3333333333333333, 0.5, 0.475, 0.0, 0.875, 0.6, 0.95, 0.5875, 0.0, 0.61, 1.0, 0.9199999999999999, 1.0, 0.825, 0.0, 0.655, 0.8333333333333334, 0.3333333333333333, 0.3125, 0.75, 1.0, 1.0, 1.0, 0.3, 0.6, 0.37256493506493504, 0.0, 0.55, 0.0, 0.125, 0.0, 0.5, 0.30000000000000004, 0.4375, 0.5480725623582767, 0.540530303030303, 0.23333333333333334, 0.575, 0.2, 0.5218559218559219, 0.0, 1.0, 0.53125, 0.0, 1.0, 0.4772727272727273, 0.05, 0.0, 0.2, 0.0, 0.39375, 0.8392857142857143, 0.3678571428571429, 0.0, 0.62, 0.5, 0.375, 0.30000000000000004, 0.5218559218559219, 0.0, 0.9166666666666667, 0.35, 0.6392857142857142, 0.0, 0.5218559218559219, 0.0, 0.0, 0.55, 0.5, 0.2, 0.0, 0.8450000000000001, 0.9, 0.7666666666666666, 0.6, 0.31666666666666665, 0.5449999999999999, 0.0, 0.2928571428571428, 1.0, 0.3839285714285714, 0.48259637188208615, 0.0, 0.55, 0.5218559218559219, 0.75, 0.7250000000000001, 0.4166666666666667, 0.5218559218559219, 0.3466666666666667, 0.0, 0.4, 0.0, 1.0, 0.55, 0.3, 0.4, 0.6, 0.30000000000000004, 0.32244897959183677, 0.0, 0.4, 0.0, 0.3466666666666667, 0.5218559218559219, 0.0, 0.2, 0.0, 0.0, 0.0, 0.2, 0.43526785714285715, 0.0, 1.0, 0.0, 0.45, 0.5218559218559219, 0.0, 0.0, 0.5, 0.64, 0.5218559218559219, 0.5480725623582767, 0.0, 0.5218559218559219, 0.4405328798185941, 0.35, 0.0, 0.16666666666666666, 0.6291666666666667, 0.0, 1.0, 0.0, 0.44166666666666665, 0.4123076923076924, 0.0, 0.5218559218559219, 0.4607142857142857, 0.0, 0.364375, 0.5218559218559219, 0.5218559218559219, 0.7, 0.0, 0.6, 1.0, 0.3277777777777778, 0.875, 0.4, 0.2, 0.3692063492063492, 0.875, 0.0, 0.0, 0.39999999999999997, 0.7999999999999999, 0.6972222222222222, 1.0, 0.7, 0.5, 0.7250000000000001, 0.3466666666666667, 0.5218559218559219, 0.5235383597883598, 0.0, 0.7416666666666667, 0.4666666666666667, 0.5218559218559219, 0.6196428571428572, 0.5255952380952381, 0.3585164835164836, 0.2, 0.2, 0.5480725623582767, 0.6785714285714285, 0.2, 0.4776785714285714, 0.4912698412698413, 0.0, 0.0, 1.0, 0.0, 0.0, 0.4527777777777778, 0.0, 0.3466666666666667, 0.1, 0.0, 0.0, 0.5218559218559219, 0.6, 0.6962962962962963, 0.25, 0.0, 0.9, 0.0, 0.586111111111111, 0.0, 0.5218559218559219, 0.5218559218559219, 0.3833333333333333, 1.0, 0.6000000000000001, 1.0, 0.5909090909090909, 0.55, 0.465, 0.53125, 0.0, 0.6772727272727272, 0.5166666666666666, 0.7166666666666667, 0.6166666666666667, 0.0, 0.3466666666666667, 0.2, 0.6000000000000001, 0.6681818181818181, 0.19375, 0.5, 0.23500000000000001, 0.7222222222222222, 0.4611111111111111, 0.0, 0.5480725623582767, 0.4712962962962963, 0.3375, 0.44222222222222224, 0.575, 0.0, 0.0, 0.0, 0.4, 0.5235383597883598, 0.125, 0.75, 0.7, 0.0, 0.7250000000000001, 0.5218559218559219, 0.6047222222222223, 0.7678571428571428, 0.0, 0.325, 0.3333333333333333, 0.41041666666666665, 0.2, 0.0, 0.0, 0.625, 0.3466666666666667, 0.2, 0.625, 0.3466666666666667, 1.0, 0.775, 0.35, 0.5218559218559219, 1.0, 0.0, 0.3678571428571429, 0.33214285714285713, 0.0, 0.5375, 0.4912698412698413, 0.6375, 0.24444444444444446, 0.0, 0.0, 0.4745915032679739, 0.6666666666666666, 0.5349999999999999, 0.0, 0.25, 0.45454545454545453, 0.26222222222222225, 0.3466666666666667, 0.5218559218559219, 0.4305555555555556, 0.2, 0.4435714285714286, 1.0, 0.55, 0.0, 0.5218559218559219, 0.3961309523809523, 0.06222222222222223, 0.46, 0.65, 0.5218559218559219, 0.3466666666666667, 0.3819444444444444, 0.2, 0.5966666666666667, 0.40008771929824555, 0.5218559218559219, 0.3466666666666667, 0.49318181818181817, 0.44285714285714284, 0.0, 0.5392857142857143, 0.7333333333333334, 0.3944444444444445, 0.0, 0.3041666666666667, 0.35714285714285715, 0.6, 1.0, 0.0, 0.0, 0.35833333333333334, 0.125, 0.5646989374262101, 0.0, 0.3, 0.5728114478114478, 0.0, 0.0, 0.30000000000000004, 0.5218559218559219, 0.0, 0.6, 0.0, 0.5, 0.0, 0.5731481481481481, 1.0, 0.0, 0.825, 1.0, 0.5, 0.25833333333333336, 0.35714285714285715, 0.0, 0.1, 0.0, 0.5, 0.0, 0.7958333333333334, 0.3708333333333333, 0.38690476190476186, 0.385, 0.47988034188034195, 0.48625000000000007, 1.0, 0.5218559218559219, 0.6166666666666666, 0.4912698412698413, 0.3466666666666667, 0.5218559218559219, 0.5218559218559219, 0.49895833333333334, 1.0, 0.0, 1.0, 0.5218559218559219, 0.35, 0.19166666666666665, 0.5, 0.3466666666666667, 0.5218559218559219, 0.65, 0.3583333333333334, 0.6984375, 0.3466666666666667, 0.5285714285714286, 0.3466666666666667, 0.3466666666666667, 0.5174107142857143, 1.0, 0.0, 0.2, 0.3638888888888889, 0.4767195767195768, 0.4694444444444444, 0.6, 0.5147959183673468, 0.5218559218559219, 0.6818888888888889, 0.0, 0.39999999999999997, 0.0, 0.5, 0.0, 0.0, 0.0, 0.75, 0.3125, 0.2, 1.0, 0.0, 0.5218559218559219, 0.6, 0.875, 0.65, 0.6220982142857143, 0.45555555555555555, 0.3888888888888889, 0.5, 0.40625, 0.5625, 1.0, 0.3933333333333333, 0.5333333333333333, 0.43625, 0.5218559218559219, 0.3466666666666667, 0.3666666666666667, 0.5218559218559219, 0.2, 0.5961309523809524, 0.0, 0.3466666666666667, 0.5480725623582767, 0.2, 0.5218559218559219, 0.6833333333333332, 0.0, 0.0, 0.2, 0.5, 0.41111111111111115, 0.7749999999999999, 0.5218559218559219, 0.9, 0.0, 0.0, 1.0, 0.4, 0.5218559218559219, 0.5218559218559219, 0.3466666666666667, 0.0, 0.0, 0.2, 0.5218559218559219, 0.0, 0.0, 0.7833333333333332, 0.0, 1.0, 0.0, 0.75, 0.5, 1.0, 0.6, 0.8571428571428571, 0.5016666666666667, 0.55, 0.3375, 0.8888888888888888, 0.0, 0.5218559218559219, 0.5218559218559219, 0.2111111111111111, 0.0, 0.5218559218559219, 0.75, 0.0, 0.0, 0.40625, 1.0, 0.3883333333333333, 0.45369318181818186, 0.175, 0.3466666666666667, 0.4912698412698413, 0.75, 0.0, 0.5218559218559219, 0.5515873015873015, 0.4912698412698413, 0.6071428571428571, 1.0, 0.3466666666666667, 0.28125, 0.3466666666666667, 0.4375, 0.45416666666666666, 0.5166666666666667, 0.5666666666666667, 0.0, 0.7142857142857143, 0.625, 0.0, 0.0, 0.2, 0.4981481481481482, 1.0, 0.825, 0.7, 0.0, 0.0, 0.06666666666666667, 0.0, 0.2, 0.2, 0.4912698412698413, 0.0, 0.6, 0.6, 0.40995370370370376, 0.5218559218559219, 0.7666666666666666, 0.0, 0.0, 0.3740196078431373, 0.5444444444444444, 0.6, 0.2, 0.65, 0.65, 0.0, 0.0, 0.5452380952380952, 0.0, 0.67, 0.5, 0.49375, 1.0, 0.5480725623582767, 0.4622507122507123, 0.0, 0.0, 0.5218559218559219, 0.6666666666666666, 0.34722222222222215, 0.0, 0.5218559218559219, 0.3833333333333333, 0.34523809523809523, 0.0, 0.0, 0.375, 0.525, 0.8452380952380952, 0.0, 0.3333333333333333, 0.3875, 0.0, 0.5892857142857143, 0.45333333333333337, 0.0, 0.0, 0.0, 0.5, 0.0, 0.21428571428571427, 0.5233758692997823, 0.4625, 0.3111111111111111, 0.19166666666666668, 0.5480725623582767, 0.75, 0.21726190476190477, 0.2866666666666667, 1.0, 0.0, 1.0, 0.375, 0.5218559218559219, 0.55, 0.1, 0.2, 0.1, 0.5155578898225956, 0.9, 0.42857142857142855, 0.0, 0.75, 1.0, 0.49062500000000003, 0.5, 0.5218559218559219, 0.1125, 0.6296296296296297, 0.5218559218559219, 0.5499999999999999, 0.0, 0.0, 0.5333333333333333, 0.625, 0.0, 0.5235383597883598, 0.45, 0.39226190476190476, 0.3833333333333333, 0.0, 0.5981481481481482, 0.7976190476190476, 0.0, 0.46296296296296297, 1.0, 0.0, 0.45416666666666666, 0.0, 0.0, 0.0, 0.4, 0.0, 0.5, 0.5, 0.46666666666666673, 0.2, 0.5, 0.0, 1.0, 0.4912698412698413, 0.3630952380952381, 0.7140151515151515, 0.0, 1.0, 0.0, 0.9, 0.6326923076923078, 0.8125, 0.7678571428571428, 0.0, 0.25, 0.0, 0.6785714285714285, 0.8500000000000001, 0.5357142857142857, 1.0, 0.0, 0.0, 0.0, 0.0, 0.15000000000000002, 0.5218559218559219, 0.5, 0.0, 1.0, 0.5, 0.4166666666666667, 0.0, 0.37777777777777777, 0.31999999999999995, 0.5678571428571428, 0.65, 0.8013888888888889, 0.0, 0.4468253968253968], \"coloraxis\": \"coloraxis\", \"size\": [68, 52, 51, 46, 25, 25, 24, 22, 19, 19, 18, 18, 17, 16, 16, 16, 13, 13, 12, 12, 12, 11, 11, 11, 10, 10, 10, 10, 9, 9, 9, 9, 9, 8, 8, 8, 8, 7, 7, 7, 7, 7, 7, 7, 7, 7, 7, 7, 6, 6, 6, 6, 6, 6, 6, 6, 6, 6, 5, 5, 5, 5, 5, 5, 5, 5, 5, 5, 5, 5, 5, 5, 5, 5, 5, 5, 5, 4, 4, 4, 4, 4, 4, 4, 4, 4, 4, 4, 4, 4, 4, 4, 4, 4, 4, 4, 4, 4, 4, 4, 4, 4, 4, 4, 4, 3, 3, 3, 3, 3, 3, 3, 3, 3, 3, 3, 3, 3, 3, 3, 3, 3, 3, 3, 3, 3, 3, 3, 3, 3, 3, 3, 3, 3, 3, 3, 3, 3, 3, 3, 3, 3, 3, 3, 3, 3, 3, 3, 3, 3, 3, 3, 3, 3, 3, 3, 3, 3, 3, 3, 3, 3, 2, 2, 2, 2, 2, 2, 2, 2, 2, 2, 2, 2, 2, 2, 2, 2, 2, 2, 2, 2, 2, 2, 2, 2, 2, 2, 2, 2, 2, 2, 2, 2, 2, 2, 2, 2, 2, 2, 2, 2, 2, 2, 2, 2, 2, 2, 2, 2, 2, 2, 2, 2, 2, 2, 2, 2, 2, 2, 2, 2, 2, 2, 2, 2, 2, 2, 2, 2, 2, 2, 2, 2, 2, 2, 2, 2, 2, 2, 2, 2, 2, 2, 2, 2, 2, 2, 2, 2, 2, 2, 2, 2, 2, 2, 2, 2, 2, 2, 2, 2, 2, 2, 2, 2, 2, 2, 2, 2, 2, 2, 2, 2, 2, 2, 2, 2, 2, 2, 2, 2, 2, 2, 2, 2, 2, 2, 2, 2, 2, 2, 2, 2, 2, 2, 2, 2, 2, 2, 2, 2, 2, 2, 2, 2, 2, 2, 2, 2, 2, 2, 2, 2, 2, 2, 2, 2, 2, 2, 2, 2, 2, 2, 2, 2, 2, 2, 2, 2, 2, 2, 2, 2, 2, 2, 2, 2, 2, 2, 2, 2, 2, 2, 2, 2, 2, 2, 2, 2, 2, 2, 2, 2, 2, 2, 2, 1, 1, 1, 1, 1, 1, 1, 1, 1, 1, 1, 1, 1, 1, 1, 1, 1, 1, 1, 1, 1, 1, 1, 1, 1, 1, 1, 1, 1, 1, 1, 1, 1, 1, 1, 1, 1, 1, 1, 1, 1, 1, 1, 1, 1, 1, 1, 1, 1, 1, 1, 1, 1, 1, 1, 1, 1, 1, 1, 1, 1, 1, 1, 1, 1, 1, 1, 1, 1, 1, 1, 1, 1, 1, 1, 1, 1, 1, 1, 1, 1, 1, 1, 1, 1, 1, 1, 1, 1, 1, 1, 1, 1, 1, 1, 1, 1, 1, 1, 1, 1, 1, 1, 1, 1, 1, 1, 1, 1, 1, 1, 1, 1, 1, 1, 1, 1, 1, 1, 1, 1, 1, 1, 1, 1, 1, 1, 1, 1, 1, 1, 1, 1, 1, 1, 1, 1, 1, 1, 1, 1, 1, 1, 1, 1, 1, 1, 1, 1, 1, 1, 1, 1, 1, 1, 1, 1, 1, 1, 1, 1, 1, 1, 1, 1, 1, 1, 1, 1, 1, 1, 1, 1, 1, 1, 1, 1, 1, 1, 1, 1, 1, 1, 1, 1, 1, 1, 1, 1, 1, 1, 1, 1, 1, 1, 1, 1, 1, 1, 1, 1, 1, 1, 1, 1, 1, 1, 1, 1, 1, 1, 1, 1, 1, 1, 1, 1, 1, 1, 1, 1, 1, 1, 1, 1, 1, 1, 1, 1, 1, 1, 1, 1, 1, 1, 1, 1, 1, 1, 1, 1, 1, 1, 1, 1, 1, 1, 1, 1, 1, 1, 1, 1, 1, 1, 1, 1, 1, 1, 1, 1, 1, 1, 1, 1, 1, 1, 1, 1, 1, 1, 1, 1, 1, 1, 1, 1, 1, 1, 1, 1, 1, 1, 1, 1, 1, 1, 1, 1, 1, 1, 1, 1, 1, 1, 1, 1, 1, 1, 1, 1, 1, 1, 1, 1, 1, 1, 1, 1, 1, 1, 1, 1, 1, 1, 1, 1, 1, 1, 1, 1, 1, 1, 1, 1, 1, 1, 1, 1, 1, 1, 1, 1, 1, 1, 1, 1, 1, 1, 1, 1, 1, 1, 1, 1, 1, 1, 1, 1, 1, 1, 1, 1, 1, 1, 1, 1, 1, 1, 1, 1, 1, 1, 1, 1, 1, 1, 1, 1, 1, 1, 1, 1, 1, 1, 1, 1, 1, 1, 1, 1, 1, 1, 1, 1, 1, 1, 1, 1, 1, 1, 1, 1, 1, 1, 1, 1, 1, 1, 1, 1, 1, 1, 1, 1, 1, 1, 1, 1, 1, 1, 1, 1, 1, 1, 1, 1, 1, 1, 1, 1, 1, 1, 1, 1, 1, 1, 1, 1, 1, 1, 1, 1, 1, 1, 1, 1, 1, 1, 1, 1, 1, 1, 1, 1, 1, 1, 1, 1, 1, 1, 1, 1, 1, 1, 1, 1, 1, 1, 1, 1, 1, 1, 1, 1, 1, 1, 1, 1, 1, 1, 1, 1, 1, 1, 1, 1, 1, 1, 1, 1, 1, 1, 1, 1, 1, 1, 1, 1, 1, 1, 1, 1, 1, 1, 1, 1, 1, 1, 1, 1, 1, 1, 1, 1, 1, 1, 1, 0, 0, 0, 0, 0, 0, 0, 0, 0, 0, 0, 0, 0, 0, 0, 0, 0, 0, 0, 0, 0, 0, 0, 0, 0, 0, 0, 0, 0, 0, 0, 0, 0, 0, 0, 0, 0, 0, 0, 0, 0, 0, 0, 0, 0, 0, 0, 0], \"sizemode\": \"area\", \"sizeref\": 0.07555555555555556, \"symbol\": \"circle\"}, \"mode\": \"markers\", \"name\": \"\", \"showlegend\": false, \"type\": \"scatter\", \"x\": [\"2020-04-14T09:04:52\", \"2020-04-14T22:07:07\", \"2020-04-14T22:00:12\", \"2020-04-14T07:08:58\", \"2020-04-14T12:13:01\", \"2020-04-13T18:15:07\", \"2020-04-14T01:39:35\", \"2020-04-14T13:33:09\", \"2020-04-14T21:31:00\", \"2020-04-14T13:09:24\", \"2020-04-14T09:09:21\", \"2020-04-14T10:37:21\", \"2020-04-15T04:59:47\", \"2020-04-14T07:53:58\", \"2020-04-13T20:34:53\", \"2020-04-14T09:56:10\", \"2020-04-14T08:47:17\", \"2020-04-14T01:04:52\", \"2020-04-14T08:21:43\", \"2020-04-14T21:32:52\", \"2020-04-14T21:35:54\", \"2020-04-14T09:10:11\", \"2020-04-14T21:25:44\", \"2020-04-15T10:30:45\", \"2020-04-14T09:56:16\", \"2020-04-14T09:55:36\", \"2020-04-14T14:56:58\", \"2020-04-15T01:17:54\", \"2020-04-14T22:38:03\", \"2020-04-14T11:15:13\", \"2020-04-14T12:18:42\", \"2020-04-15T03:26:09\", \"2020-04-14T18:40:03\", \"2020-04-14T18:37:14\", \"2020-04-14T10:13:37\", \"2020-04-14T21:45:21\", \"2020-04-14T21:16:21\", \"2020-04-14T10:24:47\", \"2020-04-14T14:01:22\", \"2020-04-15T01:07:43\", \"2020-04-14T07:57:24\", \"2020-04-15T05:10:06\", \"2020-04-15T04:45:12\", \"2020-04-14T14:50:21\", \"2020-04-15T00:32:33\", \"2020-04-15T04:02:03\", \"2020-04-14T18:30:23\", \"2020-04-13T16:47:18\", \"2020-04-14T12:32:41\", \"2020-04-14T02:04:47\", \"2020-04-14T21:33:59\", \"2020-04-15T04:40:22\", \"2020-04-14T18:45:25\", \"2020-04-15T05:51:53\", \"2020-04-14T10:19:14\", \"2020-04-14T07:30:30\", \"2020-04-15T08:43:57\", \"2020-04-15T09:21:01\", \"2020-04-14T01:47:25\", \"2020-04-14T13:26:15\", \"2020-04-14T09:29:50\", \"2020-04-15T06:54:21\", \"2020-04-14T14:59:58\", \"2020-04-14T04:22:19\", \"2020-04-14T22:54:55\", \"2020-04-15T07:49:24\", \"2020-04-15T09:06:51\", \"2020-04-14T18:17:32\", \"2020-04-14T15:20:38\", \"2020-04-14T13:17:33\", \"2020-04-14T13:34:40\", \"2020-04-15T03:06:07\", \"2020-04-13T17:56:44\", \"2020-04-14T10:32:38\", \"2020-04-14T18:49:00\", \"2020-04-14T18:34:42\", \"2020-04-14T21:25:54\", \"2020-04-14T00:15:59\", \"2020-04-13T21:54:12\", \"2020-04-14T11:23:35\", \"2020-04-14T15:13:36\", \"2020-04-14T22:37:03\", \"2020-04-14T07:39:07\", \"2020-04-13T16:41:38\", \"2020-04-14T02:00:48\", \"2020-04-14T11:09:22\", \"2020-04-14T15:25:38\", \"2020-04-14T05:24:15\", \"2020-04-14T18:41:47\", \"2020-04-15T04:19:43\", \"2020-04-15T07:07:09\", \"2020-04-14T14:10:01\", \"2020-04-14T18:38:27\", \"2020-04-14T09:03:21\", \"2020-04-14T11:30:39\", \"2020-04-14T13:10:46\", \"2020-04-15T10:36:37\", \"2020-04-13T18:59:07\", \"2020-04-14T11:59:53\", \"2020-04-14T13:56:01\", \"2020-04-14T14:43:51\", \"2020-04-14T17:40:40\", \"2020-04-14T20:36:45\", \"2020-04-14T07:18:45\", \"2020-04-15T06:22:58\", \"2020-04-13T19:06:16\", \"2020-04-13T19:08:06\", \"2020-04-14T01:52:45\", \"2020-04-14T11:13:38\", \"2020-04-14T12:56:48\", \"2020-04-14T13:38:01\", \"2020-04-14T13:15:48\", \"2020-04-14T14:22:56\", \"2020-04-14T21:25:52\", \"2020-04-14T21:30:54\", \"2020-04-14T22:12:23\", \"2020-04-14T22:54:45\", \"2020-04-14T18:39:15\", \"2020-04-14T19:06:36\", \"2020-04-13T19:40:55\", \"2020-04-14T14:42:37\", \"2020-04-14T14:50:43\", \"2020-04-15T04:49:38\", \"2020-04-15T07:09:22\", \"2020-04-15T10:48:20\", \"2020-04-14T11:35:50\", \"2020-04-14T13:10:22\", \"2020-04-14T13:23:21\", \"2020-04-14T13:22:19\", \"2020-04-14T17:50:35\", \"2020-04-14T18:58:48\", \"2020-04-13T23:09:04\", \"2020-04-13T23:18:58\", \"2020-04-14T19:09:34\", \"2020-04-14T22:10:02\", \"2020-04-15T06:21:48\", \"2020-04-15T09:21:03\", \"2020-04-14T00:11:56\", \"2020-04-13T23:42:03\", \"2020-04-14T01:46:17\", \"2020-04-13T16:47:17\", \"2020-04-14T13:45:08\", \"2020-04-14T11:10:28\", \"2020-04-14T17:01:45\", \"2020-04-14T13:17:04\", \"2020-04-14T20:47:21\", \"2020-04-14T22:16:59\", \"2020-04-15T05:54:05\", \"2020-04-13T20:41:08\", \"2020-04-14T05:19:14\", \"2020-04-14T09:57:45\", \"2020-04-14T16:43:27\", \"2020-04-14T17:00:20\", \"2020-04-14T14:44:52\", \"2020-04-14T14:50:34\", \"2020-04-14T15:09:18\", \"2020-04-14T15:35:16\", \"2020-04-14T13:16:11\", \"2020-04-13T22:46:06\", \"2020-04-13T23:25:07\", \"2020-04-13T17:08:15\", \"2020-04-15T07:07:58\", \"2020-04-13T16:46:11\", \"2020-04-13T16:48:48\", \"2020-04-13T19:07:15\", \"2020-04-13T20:10:54\", \"2020-04-14T00:16:49\", \"2020-04-13T20:40:08\", \"2020-04-13T21:35:47\", \"2020-04-14T04:30:13\", \"2020-04-14T04:34:08\", \"2020-04-14T04:05:09\", \"2020-04-14T10:57:05\", \"2020-04-14T10:19:52\", \"2020-04-14T10:16:44\", \"2020-04-14T10:13:53\", \"2020-04-14T11:24:59\", \"2020-04-14T12:09:39\", \"2020-04-14T12:16:22\", \"2020-04-14T11:53:16\", \"2020-04-14T05:32:11\", \"2020-04-14T14:21:59\", \"2020-04-14T22:23:53\", \"2020-04-14T22:39:27\", \"2020-04-14T23:15:01\", \"2020-04-14T23:21:20\", \"2020-04-14T16:00:48\", \"2020-04-14T16:02:37\", \"2020-04-14T16:12:59\", \"2020-04-14T16:34:33\", \"2020-04-14T19:04:06\", \"2020-04-14T17:24:20\", \"2020-04-14T20:01:50\", \"2020-04-14T20:06:07\", \"2020-04-15T02:59:56\", \"2020-04-15T02:58:56\", \"2020-04-15T02:43:49\", \"2020-04-15T03:46:23\", \"2020-04-13T23:32:23\", \"2020-04-14T09:10:39\", \"2020-04-13T22:44:18\", \"2020-04-13T19:15:22\", \"2020-04-14T18:16:01\", \"2020-04-15T04:43:40\", \"2020-04-15T05:21:15\", \"2020-04-15T07:11:35\", \"2020-04-15T09:16:39\", \"2020-04-15T10:05:12\", \"2020-04-15T11:24:15\", \"2020-04-15T10:25:31\", \"2020-04-14T09:40:40\", \"2020-04-14T10:01:27\", \"2020-04-14T09:59:52\", \"2020-04-14T11:04:39\", \"2020-04-14T11:06:51\", \"2020-04-14T11:20:26\", \"2020-04-14T12:06:39\", \"2020-04-14T13:55:09\", \"2020-04-14T13:23:52\", \"2020-04-14T13:43:59\", \"2020-04-14T14:07:28\", \"2020-04-13T20:18:05\", \"2020-04-13T20:32:28\", \"2020-04-13T20:26:26\", \"2020-04-13T20:23:52\", \"2020-04-13T21:21:16\", \"2020-04-13T21:14:44\", \"2020-04-13T19:26:33\", \"2020-04-13T21:36:17\", \"2020-04-14T03:01:22\", \"2020-04-14T03:57:15\", \"2020-04-14T04:38:44\", \"2020-04-14T16:31:13\", \"2020-04-14T16:48:30\", \"2020-04-14T18:44:42\", \"2020-04-14T18:56:12\", \"2020-04-13T19:35:23\", \"2020-04-13T19:45:53\", \"2020-04-13T20:03:08\", \"2020-04-13T22:03:42\", \"2020-04-13T22:35:40\", \"2020-04-13T17:08:07\", \"2020-04-13T23:10:43\", \"2020-04-14T00:50:45\", \"2020-04-14T20:34:26\", \"2020-04-15T01:15:49\", \"2020-04-15T01:35:28\", \"2020-04-14T22:13:34\", \"2020-04-15T04:14:00\", \"2020-04-15T06:34:12\", \"2020-04-15T06:47:14\", \"2020-04-15T06:59:25\", \"2020-04-15T10:11:26\", \"2020-04-15T10:23:03\", \"2020-04-15T11:04:06\", \"2020-04-15T10:39:50\", \"2020-04-13T18:28:35\", \"2020-04-13T19:05:30\", \"2020-04-13T19:06:41\", \"2020-04-13T21:11:12\", \"2020-04-13T21:59:48\", \"2020-04-14T00:02:43\", \"2020-04-14T00:45:02\", \"2020-04-14T02:13:46\", \"2020-04-13T20:29:41\", \"2020-04-13T16:40:28\", \"2020-04-14T14:17:04\", \"2020-04-14T18:02:49\", \"2020-04-14T14:35:54\", \"2020-04-14T18:53:21\", \"2020-04-14T18:45:09\", \"2020-04-14T15:32:30\", \"2020-04-14T15:14:22\", \"2020-04-14T19:07:16\", \"2020-04-14T03:33:19\", \"2020-04-14T08:06:47\", \"2020-04-14T09:06:21\", \"2020-04-14T08:20:23\", \"2020-04-14T08:35:38\", \"2020-04-14T04:46:44\", \"2020-04-14T10:09:13\", \"2020-04-14T11:08:59\", \"2020-04-14T16:38:06\", \"2020-04-14T13:20:06\", \"2020-04-14T13:07:25\", \"2020-04-14T13:25:10\", \"2020-04-14T20:37:30\", \"2020-04-14T21:29:38\", \"2020-04-15T01:37:35\", \"2020-04-15T01:50:45\", \"2020-04-15T05:27:10\", \"2020-04-15T05:02:06\", \"2020-04-15T05:46:09\", \"2020-04-15T06:27:57\", \"2020-04-15T06:50:31\", \"2020-04-15T06:54:53\", \"2020-04-15T08:05:48\", \"2020-04-15T04:43:37\", \"2020-04-15T08:46:11\", \"2020-04-15T09:43:08\", \"2020-04-15T09:56:13\", \"2020-04-15T10:15:36\", \"2020-04-15T10:48:13\", \"2020-04-13T20:16:09\", \"2020-04-13T20:18:19\", \"2020-04-14T00:16:53\", \"2020-04-13T21:13:19\", \"2020-04-13T22:11:19\", \"2020-04-14T01:47:20\", \"2020-04-13T17:50:34\", \"2020-04-13T19:33:19\", \"2020-04-13T19:21:22\", \"2020-04-14T05:37:11\", \"2020-04-14T10:50:21\", \"2020-04-14T10:30:19\", \"2020-04-14T12:03:59\", \"2020-04-14T11:38:27\", \"2020-04-14T13:08:27\", \"2020-04-14T13:09:24\", \"2020-04-14T17:05:43\", \"2020-04-14T13:23:32\", \"2020-04-14T13:45:04\", \"2020-04-14T13:53:32\", \"2020-04-14T14:12:33\", \"2020-04-14T14:34:56\", \"2020-04-14T15:15:15\", \"2020-04-14T14:50:28\", \"2020-04-14T14:47:26\", \"2020-04-14T15:36:08\", \"2020-04-14T15:26:57\", \"2020-04-14T15:33:50\", \"2020-04-14T15:34:44\", \"2020-04-14T15:52:56\", \"2020-04-14T18:49:09\", \"2020-04-14T18:46:57\", \"2020-04-14T18:56:36\", \"2020-04-14T22:09:58\", \"2020-04-14T22:40:02\", \"2020-04-15T00:49:04\", \"2020-04-15T01:26:15\", \"2020-04-15T01:28:26\", \"2020-04-14T02:11:27\", \"2020-04-14T08:43:55\", \"2020-04-14T03:05:12\", \"2020-04-13T17:09:04\", \"2020-04-15T02:33:29\", \"2020-04-15T02:04:59\", \"2020-04-15T02:37:22\", \"2020-04-15T01:57:39\", \"2020-04-15T03:29:37\", \"2020-04-15T06:13:59\", \"2020-04-15T05:07:37\", \"2020-04-15T05:24:28\", \"2020-04-15T07:15:25\", \"2020-04-15T08:19:42\", \"2020-04-15T09:15:59\", \"2020-04-15T09:32:27\", \"2020-04-13T17:29:00\", \"2020-04-13T18:03:09\", \"2020-04-13T20:12:21\", \"2020-04-13T20:17:46\", \"2020-04-13T20:18:12\", \"2020-04-13T20:20:32\", \"2020-04-13T20:30:43\", \"2020-04-13T20:14:35\", \"2020-04-14T00:00:39\", \"2020-04-14T00:54:51\", \"2020-04-14T00:27:49\", \"2020-04-13T21:27:20\", \"2020-04-13T21:23:26\", \"2020-04-14T01:47:15\", \"2020-04-14T02:02:58\", \"2020-04-14T01:41:14\", \"2020-04-14T02:19:14\", \"2020-04-14T03:46:02\", \"2020-04-14T10:20:44\", \"2020-04-14T10:29:43\", \"2020-04-14T12:01:48\", \"2020-04-14T12:34:12\", \"2020-04-14T05:12:24\", \"2020-04-14T13:09:29\", \"2020-04-14T13:16:59\", \"2020-04-14T05:41:32\", \"2020-04-14T05:52:55\", \"2020-04-14T14:03:37\", \"2020-04-14T14:28:05\", \"2020-04-14T15:35:57\", \"2020-04-14T15:11:01\", \"2020-04-14T15:22:50\", \"2020-04-14T15:37:16\", \"2020-04-14T15:12:50\", \"2020-04-14T20:42:20\", \"2020-04-14T20:43:46\", \"2020-04-14T20:47:41\", \"2020-04-14T20:42:41\", \"2020-04-14T20:50:48\", \"2020-04-14T21:26:57\", \"2020-04-14T20:59:32\", \"2020-04-14T21:20:13\", \"2020-04-14T21:27:26\", \"2020-04-14T22:16:24\", \"2020-04-14T22:25:00\", \"2020-04-14T23:07:32\", \"2020-04-14T23:18:56\", \"2020-04-14T23:40:30\", \"2020-04-14T23:45:19\", \"2020-04-14T16:18:16\", \"2020-04-14T16:25:18\", \"2020-04-14T18:40:23\", \"2020-04-14T18:48:28\", \"2020-04-14T09:48:11\", \"2020-04-14T09:51:56\", \"2020-04-14T14:57:02\", \"2020-04-14T17:54:12\", \"2020-04-14T16:54:22\", \"2020-04-14T16:57:00\", \"2020-04-14T17:26:42\", \"2020-04-14T19:43:06\", \"2020-04-14T19:46:26\", \"2020-04-14T20:02:48\", \"2020-04-14T20:01:19\", \"2020-04-15T00:56:44\", \"2020-04-15T00:47:38\", \"2020-04-15T01:41:44\", \"2020-04-15T02:56:37\", \"2020-04-15T02:50:25\", \"2020-04-15T02:55:39\", \"2020-04-15T03:56:44\", \"2020-04-14T07:56:22\", \"2020-04-14T08:04:49\", \"2020-04-14T07:58:59\", \"2020-04-14T07:15:58\", \"2020-04-14T07:35:10\", \"2020-04-14T07:31:58\", \"2020-04-14T09:19:12\", \"2020-04-14T09:20:06\", \"2020-04-14T08:23:19\", \"2020-04-14T09:33:57\", \"2020-04-14T09:36:40\", \"2020-04-13T22:43:03\", \"2020-04-13T22:43:28\", \"2020-04-13T22:43:19\", \"2020-04-13T22:45:30\", \"2020-04-13T19:29:37\", \"2020-04-13T19:41:18\", \"2020-04-14T14:46:05\", \"2020-04-15T05:18:24\", \"2020-04-15T05:08:51\", \"2020-04-15T04:45:49\", \"2020-04-15T04:58:33\", \"2020-04-15T05:26:37\", \"2020-04-15T05:55:58\", \"2020-04-15T07:02:49\", \"2020-04-15T06:59:43\", \"2020-04-15T07:37:11\", \"2020-04-15T09:04:38\", \"2020-04-15T08:46:51\", \"2020-04-15T09:01:25\", \"2020-04-15T09:26:11\", \"2020-04-15T09:27:48\", \"2020-04-15T09:33:28\", \"2020-04-15T11:24:51\", \"2020-04-15T10:33:34\", \"2020-04-15T11:23:27\", \"2020-04-15T11:23:20\", \"2020-04-15T11:23:00\", \"2020-04-15T11:13:03\", \"2020-04-14T07:06:34\", \"2020-04-14T06:48:54\", \"2020-04-14T07:35:18\", \"2020-04-14T01:43:58\", \"2020-04-14T02:10:11\", \"2020-04-14T09:02:30\", \"2020-04-14T09:36:00\", \"2020-04-14T09:51:13\", \"2020-04-14T10:27:15\", \"2020-04-14T10:02:24\", \"2020-04-14T11:02:53\", \"2020-04-14T10:58:50\", \"2020-04-14T11:28:49\", \"2020-04-14T11:16:19\", \"2020-04-14T11:21:38\", \"2020-04-14T08:57:56\", \"2020-04-14T08:54:07\", \"2020-04-14T12:50:34\", \"2020-04-14T13:09:50\", \"2020-04-14T12:44:01\", \"2020-04-14T12:34:52\", \"2020-04-14T13:09:09\", \"2020-04-14T12:55:13\", \"2020-04-14T13:07:02\", \"2020-04-14T13:27:47\", \"2020-04-14T13:27:21\", \"2020-04-14T13:30:10\", \"2020-04-14T13:41:06\", \"2020-04-14T13:38:09\", \"2020-04-14T13:49:48\", \"2020-04-14T14:23:16\", \"2020-04-14T14:13:17\", \"2020-04-14T14:52:11\", \"2020-04-14T14:46:54\", \"2020-04-14T15:05:42\", \"2020-04-14T15:22:10\", \"2020-04-14T15:28:45\", \"2020-04-14T15:41:32\", \"2020-04-14T15:44:52\", \"2020-04-14T15:55:10\", \"2020-04-13T20:22:37\", \"2020-04-13T21:01:38\", \"2020-04-13T19:00:40\", \"2020-04-13T19:23:16\", \"2020-04-13T19:32:13\", \"2020-04-14T03:48:06\", \"2020-04-14T04:31:40\", \"2020-04-14T05:49:23\", \"2020-04-14T05:35:41\", \"2020-04-14T16:45:48\", \"2020-04-14T16:54:33\", \"2020-04-14T17:12:41\", \"2020-04-14T17:05:58\", \"2020-04-14T17:39:33\", \"2020-04-14T17:47:03\", \"2020-04-14T18:40:32\", \"2020-04-14T17:48:17\", \"2020-04-14T18:05:37\", \"2020-04-14T18:21:50\", \"2020-04-14T18:15:58\", \"2020-04-13T19:57:00\", \"2020-04-13T22:31:20\", \"2020-04-13T22:16:54\", \"2020-04-13T21:54:46\", \"2020-04-13T16:42:42\", \"2020-04-13T22:38:52\", \"2020-04-13T23:15:30\", \"2020-04-13T23:14:03\", \"2020-04-13T23:35:50\", \"2020-04-14T19:16:55\", \"2020-04-14T23:19:41\", \"2020-04-14T23:03:56\", \"2020-04-14T23:09:40\", \"2020-04-14T23:27:58\", \"2020-04-14T19:39:09\", \"2020-04-14T20:03:01\", \"2020-04-14T20:01:50\", \"2020-04-14T20:02:51\", \"2020-04-14T23:33:29\", \"2020-04-14T23:40:32\", \"2020-04-14T20:36:11\", \"2020-04-14T20:24:20\", \"2020-04-14T20:43:15\", \"2020-04-15T11:15:19\", \"2020-04-15T11:25:05\", \"2020-04-15T11:26:01\", \"2020-04-15T11:26:10\", \"2020-04-14T21:01:16\", \"2020-04-14T21:02:58\", \"2020-04-14T21:05:28\", \"2020-04-15T01:12:49\", \"2020-04-15T01:19:35\", \"2020-04-14T21:32:30\", \"2020-04-14T21:44:42\", \"2020-04-15T01:50:18\", \"2020-04-15T01:49:09\", \"2020-04-15T02:07:10\", \"2020-04-15T01:43:06\", \"2020-04-14T22:19:46\", \"2020-04-14T21:56:18\", \"2020-04-15T02:53:15\", \"2020-04-15T03:39:38\", \"2020-04-15T03:15:51\", \"2020-04-15T03:43:20\", \"2020-04-15T03:57:59\", \"2020-04-15T03:59:35\", \"2020-04-15T04:44:18\", \"2020-04-15T05:51:53\", \"2020-04-15T06:22:03\", \"2020-04-15T05:57:12\", \"2020-04-15T05:50:35\", \"2020-04-15T05:52:22\", \"2020-04-15T08:46:11\", \"2020-04-15T08:51:53\", \"2020-04-15T08:43:11\", \"2020-04-15T08:19:48\", \"2020-04-15T08:27:05\", \"2020-04-15T08:38:53\", \"2020-04-15T09:46:30\", \"2020-04-15T11:28:23\", \"2020-04-15T09:02:58\", \"2020-04-15T09:56:18\", \"2020-04-15T09:31:32\", \"2020-04-15T09:19:25\", \"2020-04-15T10:27:11\", \"2020-04-15T10:18:57\", \"2020-04-15T10:08:54\", \"2020-04-15T10:30:18\", \"2020-04-15T10:16:02\", \"2020-04-13T18:04:26\", \"2020-04-13T18:09:19\", \"2020-04-13T17:57:25\", \"2020-04-13T18:32:44\", \"2020-04-13T19:14:49\", \"2020-04-13T18:47:18\", \"2020-04-13T18:57:33\", \"2020-04-13T19:34:40\", \"2020-04-13T21:07:50\", \"2020-04-13T21:09:06\", \"2020-04-13T19:49:16\", \"2020-04-13T20:02:52\", \"2020-04-13T19:54:38\", \"2020-04-13T20:19:48\", \"2020-04-13T22:50:12\", \"2020-04-13T22:38:19\", \"2020-04-13T23:12:07\", \"2020-04-13T23:38:37\", \"2020-04-14T00:11:58\", \"2020-04-14T00:22:06\", \"2020-04-14T01:21:10\", \"2020-04-14T01:43:29\", \"2020-04-14T02:17:35\", \"2020-04-14T02:04:53\", \"2020-04-13T17:03:55\", \"2020-04-13T20:28:18\", \"2020-04-13T20:25:21\", \"2020-04-13T20:42:47\", \"2020-04-13T20:44:23\", \"2020-04-14T14:07:09\", \"2020-04-14T14:27:12\", \"2020-04-14T14:05:39\", \"2020-04-14T14:06:34\", \"2020-04-14T14:27:35\", \"2020-04-14T14:23:31\", \"2020-04-14T17:33:39\", \"2020-04-14T17:26:26\", \"2020-04-14T17:34:25\", \"2020-04-14T17:25:25\", \"2020-04-14T02:40:28\", \"2020-04-14T02:36:04\", \"2020-04-14T02:51:12\", \"2020-04-14T18:04:01\", \"2020-04-14T18:06:34\", \"2020-04-14T18:14:33\", \"2020-04-14T14:47:50\", \"2020-04-14T15:05:51\", \"2020-04-14T15:00:02\", \"2020-04-14T18:36:03\", \"2020-04-14T18:49:44\", \"2020-04-14T18:42:43\", \"2020-04-14T18:59:45\", \"2020-04-14T18:37:59\", \"2020-04-14T18:49:32\", \"2020-04-14T18:54:19\", \"2020-04-14T18:56:22\", \"2020-04-14T18:58:25\", \"2020-04-14T15:20:11\", \"2020-04-14T15:06:39\", \"2020-04-14T15:23:07\", \"2020-04-14T19:13:07\", \"2020-04-14T03:57:55\", \"2020-04-14T04:01:39\", \"2020-04-14T08:46:04\", \"2020-04-14T09:25:23\", \"2020-04-14T09:59:06\", \"2020-04-14T10:11:51\", \"2020-04-14T09:57:22\", \"2020-04-14T10:15:46\", \"2020-04-14T05:11:31\", \"2020-04-14T05:35:35\", \"2020-04-14T11:03:33\", \"2020-04-14T11:11:04\", \"2020-04-14T05:47:39\", \"2020-04-14T05:41:31\", \"2020-04-14T11:41:25\", \"2020-04-14T12:01:21\", \"2020-04-14T08:09:56\", \"2020-04-14T08:24:59\", \"2020-04-14T13:01:41\", \"2020-04-14T12:34:17\", \"2020-04-14T23:11:13\", \"2020-04-14T23:16:44\", \"2020-04-14T23:07:27\", \"2020-04-14T06:32:39\", \"2020-04-14T06:42:25\", \"2020-04-14T06:48:09\", \"2020-04-14T13:36:40\", \"2020-04-14T13:08:00\", \"2020-04-14T16:55:33\", \"2020-04-14T16:48:42\", \"2020-04-14T16:55:56\", \"2020-04-14T16:57:07\", \"2020-04-14T07:37:17\", \"2020-04-14T07:40:23\", \"2020-04-14T13:21:58\", \"2020-04-14T13:33:58\", \"2020-04-14T19:32:58\", \"2020-04-14T19:49:42\", \"2020-04-15T00:52:22\", \"2020-04-14T20:23:19\", \"2020-04-15T00:14:54\", \"2020-04-15T00:11:03\", \"2020-04-14T20:36:04\", \"2020-04-14T20:26:14\", \"2020-04-14T21:06:05\", \"2020-04-14T20:43:51\", \"2020-04-14T21:19:40\", \"2020-04-14T21:53:32\", \"2020-04-14T21:56:40\", \"2020-04-14T21:55:59\", \"2020-04-14T22:03:27\", \"2020-04-14T22:14:19\", \"2020-04-14T22:00:38\", \"2020-04-15T01:05:33\", \"2020-04-15T01:22:27\", \"2020-04-14T22:38:42\", \"2020-04-14T22:38:57\", \"2020-04-15T01:32:53\", \"2020-04-15T01:33:09\", \"2020-04-15T01:41:11\", \"2020-04-15T02:11:48\", \"2020-04-15T00:24:00\", \"2020-04-15T05:18:15\", \"2020-04-15T06:14:30\", \"2020-04-15T07:29:28\", \"2020-04-15T04:53:36\", \"2020-04-15T08:26:30\", \"2020-04-15T08:40:25\", \"2020-04-15T08:44:53\", \"2020-04-15T08:55:26\", \"2020-04-15T08:11:51\", \"2020-04-15T08:39:53\", \"2020-04-15T09:07:03\", \"2020-04-15T08:23:18\", \"2020-04-15T09:54:56\", \"2020-04-15T11:14:45\", \"2020-04-13T20:16:28\", \"2020-04-13T20:42:43\", \"2020-04-14T00:04:01\", \"2020-04-14T00:04:47\", \"2020-04-13T23:56:37\", \"2020-04-14T00:45:11\", \"2020-04-14T00:36:27\", \"2020-04-13T22:10:14\", \"2020-04-14T01:46:49\", \"2020-04-14T01:35:29\", \"2020-04-13T22:33:41\", \"2020-04-13T17:51:48\", \"2020-04-13T17:51:08\", \"2020-04-13T18:05:20\", \"2020-04-13T18:35:37\", \"2020-04-13T18:53:33\", \"2020-04-13T18:58:54\", \"2020-04-13T19:23:48\", \"2020-04-14T03:08:42\", \"2020-04-14T04:32:18\", \"2020-04-14T05:28:06\", \"2020-04-14T05:16:20\", \"2020-04-14T11:13:14\", \"2020-04-14T10:29:10\", \"2020-04-14T06:16:58\", \"2020-04-14T05:54:30\", \"2020-04-14T07:08:55\", \"2020-04-14T06:39:17\", \"2020-04-14T06:42:51\", \"2020-04-14T12:03:10\", \"2020-04-14T11:28:59\", \"2020-04-14T12:48:49\", \"2020-04-14T12:56:04\", \"2020-04-14T13:08:09\", \"2020-04-14T16:54:52\", \"2020-04-14T16:54:47\", \"2020-04-14T16:53:57\", \"2020-04-14T16:54:39\", \"2020-04-14T13:56:25\", \"2020-04-14T13:36:30\", \"2020-04-14T13:20:34\", \"2020-04-14T14:28:48\", \"2020-04-14T14:32:12\", \"2020-04-14T14:37:58\", \"2020-04-14T14:29:29\", \"2020-04-14T14:56:04\", \"2020-04-14T14:48:14\", \"2020-04-14T14:47:04\", \"2020-04-14T15:08:04\", \"2020-04-14T15:28:24\", \"2020-04-14T15:39:47\", \"2020-04-14T15:44:28\", \"2020-04-14T15:19:20\", \"2020-04-14T15:30:21\", \"2020-04-14T16:02:24\", \"2020-04-14T16:07:28\", \"2020-04-14T15:54:17\", \"2020-04-14T16:22:10\", \"2020-04-14T17:29:12\", \"2020-04-14T17:46:50\", \"2020-04-14T18:39:09\", \"2020-04-14T18:33:04\", \"2020-04-14T18:55:44\", \"2020-04-14T18:43:58\", \"2020-04-14T18:45:39\", \"2020-04-14T18:36:13\", \"2020-04-14T18:37:04\", \"2020-04-14T18:57:41\", \"2020-04-14T19:15:49\", \"2020-04-14T19:29:31\", \"2020-04-14T19:33:41\", \"2020-04-14T19:56:59\", \"2020-04-14T19:49:57\", \"2020-04-14T20:16:13\", \"2020-04-14T20:03:53\", \"2020-04-14T21:08:35\", \"2020-04-14T21:08:39\", \"2020-04-14T21:10:25\", \"2020-04-14T21:21:21\", \"2020-04-14T21:40:01\", \"2020-04-14T22:11:36\", \"2020-04-14T22:25:00\", \"2020-04-14T23:07:08\", \"2020-04-14T22:38:43\", \"2020-04-14T23:09:23\", \"2020-04-14T23:05:37\", \"2020-04-14T22:37:33\", \"2020-04-14T23:10:06\", \"2020-04-14T23:56:19\", \"2020-04-14T23:49:17\", \"2020-04-15T00:06:19\", \"2020-04-15T00:35:47\", \"2020-04-15T00:37:58\", \"2020-04-14T21:50:33\", \"2020-04-15T01:41:50\", \"2020-04-15T01:47:19\", \"2020-04-15T01:51:23\", \"2020-04-13T19:51:52\", \"2020-04-13T20:03:54\", \"2020-04-13T20:06:46\", \"2020-04-13T23:39:05\", \"2020-04-14T02:20:40\", \"2020-04-14T08:45:45\", \"2020-04-14T08:14:08\", \"2020-04-14T08:28:07\", \"2020-04-14T09:07:05\", \"2020-04-14T09:16:24\", \"2020-04-15T02:28:30\", \"2020-04-15T02:32:39\", \"2020-04-15T05:22:12\", \"2020-04-15T05:22:25\", \"2020-04-15T06:24:45\", \"2020-04-15T06:25:34\", \"2020-04-15T06:33:40\", \"2020-04-15T06:50:15\", \"2020-04-15T07:00:15\", \"2020-04-15T07:48:41\", \"2020-04-15T08:55:54\", \"2020-04-15T08:04:40\", \"2020-04-15T08:45:29\", \"2020-04-15T08:23:28\", \"2020-04-15T08:27:40\", \"2020-04-15T09:26:40\", \"2020-04-15T09:55:25\", \"2020-04-15T09:27:12\", \"2020-04-15T09:28:18\", \"2020-04-15T11:03:44\", \"2020-04-15T11:07:52\", \"2020-04-15T11:24:13\", \"2020-04-15T11:26:19\", \"2020-04-15T11:14:53\", \"2020-04-15T11:33:58\", \"2020-04-14T05:25:46\", \"2020-04-14T15:35:40\", \"2020-04-14T23:09:52\", \"2020-04-14T07:38:36\", \"2020-04-15T06:32:28\", \"2020-04-15T07:56:36\", \"2020-04-15T08:43:35\", \"2020-04-15T08:41:28\", \"2020-04-15T08:52:18\", \"2020-04-13T21:06:01\", \"2020-04-14T17:48:26\", \"2020-04-13T22:45:02\", \"2020-04-13T22:41:55\", \"2020-04-15T08:35:43\", \"2020-04-13T18:42:33\", \"2020-04-13T20:20:29\", \"2020-04-14T02:09:43\", \"2020-04-14T14:24:33\", \"2020-04-14T18:01:40\", \"2020-04-14T05:30:57\", \"2020-04-14T11:34:02\", \"2020-04-14T17:04:17\", \"2020-04-14T14:30:29\", \"2020-04-14T07:24:15\", \"2020-04-15T03:17:28\", \"2020-04-15T08:33:35\", \"2020-04-15T08:23:00\", \"2020-04-15T08:39:54\", \"2020-04-15T11:21:50\", \"2020-04-14T05:55:12\", \"2020-04-15T07:26:30\", \"2020-04-14T15:26:43\", \"2020-04-15T07:25:50\", \"2020-04-14T21:12:54\", \"2020-04-14T05:20:14\", \"2020-04-14T11:36:33\", \"2020-04-14T18:57:05\", \"2020-04-14T16:10:15\", \"2020-04-13T19:53:16\", \"2020-04-14T14:48:16\", \"2020-04-14T19:03:43\", \"2020-04-14T07:06:47\", \"2020-04-14T11:27:16\", \"2020-04-14T11:16:39\", \"2020-04-14T19:12:52\", \"2020-04-14T11:11:30\", \"2020-04-14T18:57:01\", \"2020-04-14T17:55:17\"], \"xaxis\": \"x\", \"y\": [0.4000000000000001, 0.35, 0.0, 0.0, 0.13325757575757574, 0.42083333333333334, 0.30909090909090914, 0.0, 0.13333333333333333, -0.8, 0.19999999999999998, 0.0, 0.5, 0.6, 0.19, 0.2916666666666667, 0.25, 0.0, 0.0, -0.3, 0.2, 0.0, 0.25, -0.047023809523809516, 0.0, 0.3666666666666667, -0.24375, 0.16999999999999998, 0.1, 0.0, 0.0, -0.2857142857142857, -0.16666666666666666, -0.03799999999999999, 0.04081632653061224, 0.0, 0.5, -0.08333333333333333, 0.12499999999999999, 0.09999999999999998, 0.2, 0.0, -0.18181818181818182, 0.2, 0.0, 0.13636363636363635, 0.0, -0.4545454545454546, 0.16666666666666666, 0.0, 0.5, -0.2166666666666666, 0.7, -0.17083333333333334, 0.0, 0.0, 0.04398496240601504, 0.32410714285714287, 0.375, 0.22023809523809523, 0.8, 0.5349999999999999, 0.6, 0.0, 0.125, 0.0, -0.04166666666666667, -0.275, 0.43750000000000006, 0.2, 0.45000000000000007, 0.22499999999999998, 0.3152777777777778, 0.3, 0.25917366946778714, 0.0, 0.7, 0.0, 0.024999999999999994, -0.05, 0.20042087542087542, 0.0, 0.0, 0.175, 0.04444444444444445, 0.09545454545454546, -0.5, 0.0, 0.1431547619047619, 0.280187074829932, 0.24642857142857139, 0.21666666666666665, 0.17, 0.35, 0.0, 0.0, 0.04161573720397249, 0.14999999999999997, 0.25, 0.2111111111111111, 0.2, -0.15555555555555559, 0.0, 0.6000000000000001, 0.0, 0.0, 0.2811904761904762, 0.17142857142857143, 0.12, 0.2, 0.45, 0.15000000000000002, -0.033333333333333326, -0.5, 0.8, 0.0, -0.053409090909090906, 0.0642857142857143, -0.15000000000000002, 0.06666666666666667, 0.07083333333333333, 0.2, -0.2, 0.0, 0.2632783882783883, 0.25, 0.525, 0.4, 0.0, 0.125, 0.0, 0.35000000000000003, 0.051785714285714296, -0.21666666666666667, 0.35, 0.2722222222222222, 0.0, -0.15, 0.15555555555555556, 0.0, 0.6, 0.2, 0.0, 0.35, 0.0, 0.025, 0.17462962962962963, -0.07291666666666667, -0.011688311688311692, 0.7, 0.75, 0.6, 0.09375, 0.0, 0.2, 0.0, 0.21428571428571427, 0.2, 0.13333333333333333, 0.20208333333333334, -0.25, 0.174375, 0.2632783882783883, 0.1722222222222222, 1.0, -0.07954545454545454, 0.08295454545454546, 0.1467741935483871, 0.2632783882783883, 0.0, 0.16666666666666666, -0.04791666666666668, 0.3, 0.6, 0.7500000000000001, 0.375, 0.0, 0.495, 0.016666666666666632, 0.2632783882783883, 0.27351190476190473, 0.40312499999999996, 0.2632783882783883, 0.38392857142857145, 0.125, 0.0, 0.07777777777777779, 0.14571428571428574, -0.19999999999999998, 0.06666666666666667, 0.0, 0.375, 0.35, 0.2632783882783883, 1.0, 0.35, -0.125, 0.75, 0.06875, 0.25, 0.18392857142857144, 0.04027777777777778, 0.280187074829932, 0.2632783882783883, 0.0, 0.3, -0.4, 0.5, 0.0, 0.2916666666666667, 0.0, 0.35, 0.1, 0.0, 0.0, 0.9, 0.39999999999999997, 0.5, 0.125, 0.0, -0.2, 0.280187074829932, 0.07500000000000001, 0.0, -0.05555555555555555, 0.0, 0.2222222222222222, 0.1, 0.2632783882783883, 0.175, 0.25, 0.38666666666666666, 0.31296296296296294, 0.6, 0.0, 0.3, 0.6, -0.5, 0.0, -0.06, 0.245, 0.71875, 0.6, 0.2435515873015873, 0.0, 0.7, 0.27031249999999996, 0.10952380952380954, 0.3666666666666667, 0.09999999999999999, 0.3125, 0.6, 0.1708333333333333, 0.0, 0.0, 0.11071428571428571, 0.0, 0.875, 0.0, 0.24444444444444446, 0.006481481481481489, 0.046392496392496395, 0.0, 0.22959183673469388, -0.5, 0.1980769230769231, 0.31875, 0.06439393939393939, 0.0, 0.2632783882783883, 0.2333333333333333, 0.74375, 0.5, 0.0, 0.9, -0.17142857142857143, 0.09999999999999998, 0.11249999999999999, 0.0, -0.19333333333333336, 0.6, 0.0, 0.3333333333333333, 0.25, 0.0, 0.175, -0.4545454545454546, 0.19444444444444445, -0.1125, 0.19999999999999998, -0.5, 0.05, 1.0, 0.03611111111111111, 0.4166666666666667, -0.019480519480519487, 0.0, 0.6, 0.0, -0.125, 0.0, 0.5, 0.35, 0.1875, 0.280187074829932, -0.050757575757575765, 0.016666666666666677, 0.375, 0.2, 0.2632783882783883, 0.0, -0.6666666666666666, -0.1, 0.48750000000000004, 0.5, 0.23484848484848483, -0.2, 0.0, 0.2, 0.0, -0.18125, -0.012500000000000011, 0.24285714285714285, 0.0, 0.1, 0.0, -0.125, 0.35, 0.2632783882783883, 0.0, 0.3416666666666667, -0.290625, 0.09464285714285717, 0.0, 0.2632783882783883, 0.0, 0.0, 0.35, 0.13636363636363635, 0.25, 0.0, 0.56875, 0.6000000000000001, 0.6333333333333333, 0.425, 0.016666666666666646, 0.12999999999999998, 0.0, -0.009523809523809521, 0.85, 0.07142857142857142, 0.3040816326530612, 0.0, 0.5, 0.2632783882783883, -0.34375, 0.4, 0.16666666666666666, 0.2632783882783883, 0.07333333333333333, 0.0, -0.05, 0.0, 0.5, 0.44, 0.2, 0.2, 0.0, 0.175, 0.021428571428571432, 0.0, 0.0, 0.0, 0.07333333333333333, 0.2632783882783883, 0.0, 0.225, 0.0, 0.0, 0.0, 0.2, -0.103125, 0.0, -0.5, 0.0, 0.15, 0.2632783882783883, 0.0, 0.0, 0.0, -0.16, 0.2632783882783883, 0.280187074829932, 0.0, 0.2632783882783883, 0.22959183673469388, 0.1, 0.0, -0.016666666666666677, 0.14583333333333334, 0.0, -0.5, 0.0, 0.41944444444444445, 0.030512820512820515, 0.0, 0.2632783882783883, 0.058928571428571414, 0.0, 0.05541666666666667, 0.2632783882783883, 0.2632783882783883, 1.0, 0.0, 0.6, -0.78125, 0.19999999999999998, 0.875, -0.15, 0.2, 0.028888888888888888, -0.125, 0.0, 0.0, -0.30000000000000004, 0.5750000000000001, -0.05, 1.0, -0.5, 0.0, 0.6833333333333333, 0.07333333333333333, 0.2632783882783883, 0.2811904761904762, 0.0, -0.2583333333333333, 0.1375, 0.2632783882783883, 0.08630952380952382, -0.03630952380952381, 0.17967032967032964, 0.2, 0.25, 0.280187074829932, -0.038095238095238106, 0.2, 0.040178571428571425, 0.2435515873015873, 0.0, 0.0, 0.6, 0.0, 0.0, 0.07447916666666665, 0.0, 0.07333333333333333, 0.1, 0.0, 0.0, 0.2632783882783883, 0.0, -0.03333333333333333, 0.20833333333333334, 0.0, 0.6000000000000001, 0.0, 0.15833333333333333, 0.0, 0.2632783882783883, 0.2632783882783883, 0.259375, -1.0, 0.7, 0.5333333333333333, 0.30909090909090914, -0.125, 0.24500000000000002, -0.125, 0.0, 0.5369318181818182, 0.22499999999999998, 0.01944444444444444, 0.09444444444444444, 0.0, 0.07333333333333333, 0.2, 0.7, 0.3912878787878788, 0.1, 0.25, 0.16, 0.10000000000000005, 0.4083333333333334, 0.0, 0.280187074829932, -0.30185185185185187, -0.08333333333333333, 0.31444444444444447, 0.0, 0.0, 0.0, 0.0, -0.05, 0.2811904761904762, 0.0, 0.8, 0.5, 0.0, 0.625, 0.2632783882783883, 0.2175, -0.07142857142857145, 0.0, 0.13999999999999999, 0.125, -0.07291666666666667, 0.2, 0.0, 0.0, 0.050000000000000044, 0.07333333333333333, 0.2, 0.65, 0.07333333333333333, 0.5, 0.475, -0.25, 0.2632783882783883, 0.0, 0.0, 0.24285714285714285, 0.11428571428571428, 0.0, 0.2825, 0.2435515873015873, 0.375, 0.022222222222222213, 0.0, 0.0, -0.0022058823529411686, -0.6999999999999998, 0.3, 0.0, 0.25, 0.13636363636363635, -0.005138888888888894, 0.07333333333333333, 0.2632783882783883, 0.11666666666666665, 0.3, 0.04285714285714286, 0.5, 0.7666666666666666, 0.0, 0.2632783882783883, 0.0023809523809523725, 0.0, -0.3125, 0.75, 0.2632783882783883, 0.07333333333333333, 0.11944444444444444, 0.2, 0.2066666666666667, 0.18166666666666667, 0.2632783882783883, 0.07333333333333333, 0.24545454545454545, -0.12857142857142856, 0.0, 0.2598214285714286, 0.5666666666666667, 0.13055555555555554, 0.0, -0.17083333333333334, 0.0, 0.6, 1.0, 0.0, 0.0, -0.05833333333333334, 0.0, 0.20785123966942146, 0.0, 0.0, 0.17045454545454544, 0.0, 0.0, 0.1, 0.2632783882783883, 0.0, 0.4, 0.0, 0.5, 0.0, 0.13749999999999998, 0.3, 0.0, 0.22499999999999998, 0.0, 0.049999999999999996, 0.11666666666666665, 0.0, 0.0, 0.125, 0.0, 0.25, 0.0, 0.15416666666666667, 0.11750000000000001, -0.07142857142857144, 0.09, 0.18994871794871795, 0.013749999999999984, 0.6, 0.2632783882783883, 0.43333333333333335, 0.2435515873015873, 0.07333333333333333, 0.2632783882783883, 0.2632783882783883, 0.17604166666666665, -0.5, 0.0, 0.75, 0.2632783882783883, 0.0, 0.024999999999999994, 0.4, 0.07333333333333333, 0.2632783882783883, 0.35, 0.35833333333333334, 0.09843749999999998, 0.07333333333333333, 0.10776643990929705, 0.07333333333333333, 0.07333333333333333, 0.11875, 0.25, 0.0, 0.2, 0.15833333333333333, -0.00555555555555556, 0.35416666666666663, 0.625, 0.2448979591836735, 0.2632783882783883, 0.22549999999999998, 0.0, 0.13333333333333333, 0.0, 0.5, 0.0, 0.0, 0.0, 0.375, 0.25, 0.25, 0.5633333333333334, 0.0, 0.2632783882783883, 0.0, 0.9, 0.0625, 0.41874999999999996, 0.3625, -0.06666666666666667, 0.5, -0.02083333333333333, 0.3875, 0.25, 0.31104166666666666, 0.08333333333333333, 0.42125, 0.2632783882783883, 0.07333333333333333, -0.041666666666666664, 0.2632783882783883, 0.2, -0.19652777777777777, 0.0, 0.07333333333333333, 0.280187074829932, 0.2, 0.2632783882783883, 0.3333333333333333, 0.0, 0.0, 0.3125, 0.625, 0.21944444444444444, -0.1625, 0.2632783882783883, 0.8, 0.0, 0.0, 0.0, 0.1, 0.2632783882783883, 0.2632783882783883, 0.07333333333333333, 0.0, 0.0, 0.2, 0.2632783882783883, 0.0, 0.0, 0.7166666666666668, 0.0, 0.6, 0.0, -0.3333333333333333, 0.5, 0.6, 0.35, -0.7142857142857143, 0.17833333333333332, -0.075, 0.1625, -0.25, 0.0, 0.2632783882783883, 0.2632783882783883, 0.12222222222222223, 0.0, 0.2632783882783883, 0.44999999999999996, 0.0, 0.0, 0.10416666666666667, 0.0, -0.2427083333333333, 0.23579545454545453, 0.275, 0.07333333333333333, 0.2435515873015873, -0.07500000000000001, 0.0, 0.2632783882783883, 0.2142857142857143, 0.2435515873015873, -0.03571428571428571, -0.75, 0.07333333333333333, -0.35, 0.07333333333333333, -0.1625, 0.3166666666666667, 0.3277777777777778, 0.39999999999999997, 0.0, 0.29464285714285715, 0.5666666666666667, 0.0, 0.0, 0.25, 0.3833333333333333, 0.5, 0.3, -0.024999999999999994, 0.0, 0.0, -0.16666666666666666, 0.0, 0.2, 0.2, 0.2435515873015873, 0.0, 0.6, 0.375, 0.18032407407407405, 0.2632783882783883, 0.1416666666666667, 0.0, 0.0, 0.014705882352941176, 0.4166666666666667, 0.625, 0.25, 0.35, 0.4375, 0.0, 0.0, 0.3119047619047619, 0.0, 0.019999999999999997, -0.375, 0.29375, -0.6499999999999999, 0.280187074829932, 0.13683760683760685, 0.0, 0.0, 0.2632783882783883, -0.125, 0.036111111111111115, 0.0, 0.2632783882783883, 0.10000000000000002, 0.08333333333333333, 0.0, 0.0, -0.125, 0.01874999999999999, 0.17857142857142858, 0.0, 0.16666666666666666, 0.1375, 0.0, 0.25, 0.35333333333333333, 0.0, 0.0, 0.0, 0.0, 0.0, -0.07142857142857142, 0.024800591920157166, 0.1375, 0.31666666666666665, 0.024999999999999994, 0.280187074829932, -0.39999999999999997, 0.13392857142857142, 0.12666666666666665, 0.6, 0.0, 1.0, -0.125, 0.2632783882783883, -0.25, 0.0, 0.25, -0.1, 0.1020658263305322, -0.8, 0.011904761904761899, 0.0, 0.39583333333333337, -0.5, 0.1203125, 0.4166666666666667, 0.2632783882783883, -0.025, 0.3333333333333333, 0.2632783882783883, 0.5416666666666666, 0.0, 0.0, 0.3166666666666667, 0.5, 0.0, 0.2811904761904762, 0.4375, -0.13392857142857142, 0.10000000000000002, 0.0, 0.09444444444444444, 0.2119047619047619, 0.0, 0.6083333333333333, 0.6, 0.0, 0.3333333333333333, 0.0, 0.0, 0.0, 0.1, 0.0, 0.5, 0.0, 0.19999999999999998, 0.2, 0.3333333333333333, 0.0, 0.5333333333333333, 0.2435515873015873, -0.04166666666666667, -0.22537878787878787, 0.0, 0.75, 0.0, 0.1, -0.0764423076923077, 0.3, 0.14285714285714285, 0.0, 0.2, 0.0, -0.029761904761904767, 0.5, 0.2857142857142857, 1.0, 0.0, 0.0, 0.0, 0.0, 0.1, 0.2632783882783883, 0.125, 0.0, -0.5, 0.5, 0.5333333333333333, 0.0, 0.2833333333333333, 0.10500000000000001, -0.05714285714285716, 0.0875, 0.12916666666666665, 0.0, 0.13492063492063494], \"yaxis\": \"y\"}],\n",
       "                        {\"coloraxis\": {\"colorbar\": {\"title\": {\"text\": \"sentiment_subjectivity\"}}, \"colorscale\": [[0.0, \"rgb(255,247,236)\"], [0.125, \"rgb(254,232,200)\"], [0.25, \"rgb(253,212,158)\"], [0.375, \"rgb(253,187,132)\"], [0.5, \"rgb(252,141,89)\"], [0.625, \"rgb(239,101,72)\"], [0.75, \"rgb(215,48,31)\"], [0.875, \"rgb(179,0,0)\"], [1.0, \"rgb(127,0,0)\"]]}, \"legend\": {\"itemsizing\": \"constant\", \"tracegroupgap\": 0}, \"template\": {\"data\": {\"bar\": [{\"error_x\": {\"color\": \"#2a3f5f\"}, \"error_y\": {\"color\": \"#2a3f5f\"}, \"marker\": {\"line\": {\"color\": \"#E5ECF6\", \"width\": 0.5}}, \"type\": \"bar\"}], \"barpolar\": [{\"marker\": {\"line\": {\"color\": \"#E5ECF6\", \"width\": 0.5}}, \"type\": \"barpolar\"}], \"carpet\": [{\"aaxis\": {\"endlinecolor\": \"#2a3f5f\", \"gridcolor\": \"white\", \"linecolor\": \"white\", \"minorgridcolor\": \"white\", \"startlinecolor\": \"#2a3f5f\"}, \"baxis\": {\"endlinecolor\": \"#2a3f5f\", \"gridcolor\": \"white\", \"linecolor\": \"white\", \"minorgridcolor\": \"white\", \"startlinecolor\": \"#2a3f5f\"}, \"type\": \"carpet\"}], \"choropleth\": [{\"colorbar\": {\"outlinewidth\": 0, \"ticks\": \"\"}, \"type\": \"choropleth\"}], \"contour\": [{\"colorbar\": {\"outlinewidth\": 0, \"ticks\": \"\"}, \"colorscale\": [[0.0, \"#0d0887\"], [0.1111111111111111, \"#46039f\"], [0.2222222222222222, \"#7201a8\"], [0.3333333333333333, \"#9c179e\"], [0.4444444444444444, \"#bd3786\"], [0.5555555555555556, \"#d8576b\"], [0.6666666666666666, \"#ed7953\"], [0.7777777777777778, \"#fb9f3a\"], [0.8888888888888888, \"#fdca26\"], [1.0, \"#f0f921\"]], \"type\": \"contour\"}], \"contourcarpet\": [{\"colorbar\": {\"outlinewidth\": 0, \"ticks\": \"\"}, \"type\": \"contourcarpet\"}], \"heatmap\": [{\"colorbar\": {\"outlinewidth\": 0, \"ticks\": \"\"}, \"colorscale\": [[0.0, \"#0d0887\"], [0.1111111111111111, \"#46039f\"], [0.2222222222222222, \"#7201a8\"], [0.3333333333333333, \"#9c179e\"], [0.4444444444444444, \"#bd3786\"], [0.5555555555555556, \"#d8576b\"], [0.6666666666666666, \"#ed7953\"], [0.7777777777777778, \"#fb9f3a\"], [0.8888888888888888, \"#fdca26\"], [1.0, \"#f0f921\"]], \"type\": \"heatmap\"}], \"heatmapgl\": [{\"colorbar\": {\"outlinewidth\": 0, \"ticks\": \"\"}, \"colorscale\": [[0.0, \"#0d0887\"], [0.1111111111111111, \"#46039f\"], [0.2222222222222222, \"#7201a8\"], [0.3333333333333333, \"#9c179e\"], [0.4444444444444444, \"#bd3786\"], [0.5555555555555556, \"#d8576b\"], [0.6666666666666666, \"#ed7953\"], [0.7777777777777778, \"#fb9f3a\"], [0.8888888888888888, \"#fdca26\"], [1.0, \"#f0f921\"]], \"type\": \"heatmapgl\"}], \"histogram\": [{\"marker\": {\"colorbar\": {\"outlinewidth\": 0, \"ticks\": \"\"}}, \"type\": \"histogram\"}], \"histogram2d\": [{\"colorbar\": {\"outlinewidth\": 0, \"ticks\": \"\"}, \"colorscale\": [[0.0, \"#0d0887\"], [0.1111111111111111, \"#46039f\"], [0.2222222222222222, \"#7201a8\"], [0.3333333333333333, \"#9c179e\"], [0.4444444444444444, \"#bd3786\"], [0.5555555555555556, \"#d8576b\"], [0.6666666666666666, \"#ed7953\"], [0.7777777777777778, \"#fb9f3a\"], [0.8888888888888888, \"#fdca26\"], [1.0, \"#f0f921\"]], \"type\": \"histogram2d\"}], \"histogram2dcontour\": [{\"colorbar\": {\"outlinewidth\": 0, \"ticks\": \"\"}, \"colorscale\": [[0.0, \"#0d0887\"], [0.1111111111111111, \"#46039f\"], [0.2222222222222222, \"#7201a8\"], [0.3333333333333333, \"#9c179e\"], [0.4444444444444444, \"#bd3786\"], [0.5555555555555556, \"#d8576b\"], [0.6666666666666666, \"#ed7953\"], [0.7777777777777778, \"#fb9f3a\"], [0.8888888888888888, \"#fdca26\"], [1.0, \"#f0f921\"]], \"type\": \"histogram2dcontour\"}], \"mesh3d\": [{\"colorbar\": {\"outlinewidth\": 0, \"ticks\": \"\"}, \"type\": \"mesh3d\"}], \"parcoords\": [{\"line\": {\"colorbar\": {\"outlinewidth\": 0, \"ticks\": \"\"}}, \"type\": \"parcoords\"}], \"pie\": [{\"automargin\": true, \"type\": \"pie\"}], \"scatter\": [{\"marker\": {\"colorbar\": {\"outlinewidth\": 0, \"ticks\": \"\"}}, \"type\": \"scatter\"}], \"scatter3d\": [{\"line\": {\"colorbar\": {\"outlinewidth\": 0, \"ticks\": \"\"}}, \"marker\": {\"colorbar\": {\"outlinewidth\": 0, \"ticks\": \"\"}}, \"type\": \"scatter3d\"}], \"scattercarpet\": [{\"marker\": {\"colorbar\": {\"outlinewidth\": 0, \"ticks\": \"\"}}, \"type\": \"scattercarpet\"}], \"scattergeo\": [{\"marker\": {\"colorbar\": {\"outlinewidth\": 0, \"ticks\": \"\"}}, \"type\": \"scattergeo\"}], \"scattergl\": [{\"marker\": {\"colorbar\": {\"outlinewidth\": 0, \"ticks\": \"\"}}, \"type\": \"scattergl\"}], \"scattermapbox\": [{\"marker\": {\"colorbar\": {\"outlinewidth\": 0, \"ticks\": \"\"}}, \"type\": \"scattermapbox\"}], \"scatterpolar\": [{\"marker\": {\"colorbar\": {\"outlinewidth\": 0, \"ticks\": \"\"}}, \"type\": \"scatterpolar\"}], \"scatterpolargl\": [{\"marker\": {\"colorbar\": {\"outlinewidth\": 0, \"ticks\": \"\"}}, \"type\": \"scatterpolargl\"}], \"scatterternary\": [{\"marker\": {\"colorbar\": {\"outlinewidth\": 0, \"ticks\": \"\"}}, \"type\": \"scatterternary\"}], \"surface\": [{\"colorbar\": {\"outlinewidth\": 0, \"ticks\": \"\"}, \"colorscale\": [[0.0, \"#0d0887\"], [0.1111111111111111, \"#46039f\"], [0.2222222222222222, \"#7201a8\"], [0.3333333333333333, \"#9c179e\"], [0.4444444444444444, \"#bd3786\"], [0.5555555555555556, \"#d8576b\"], [0.6666666666666666, \"#ed7953\"], [0.7777777777777778, \"#fb9f3a\"], [0.8888888888888888, \"#fdca26\"], [1.0, \"#f0f921\"]], \"type\": \"surface\"}], \"table\": [{\"cells\": {\"fill\": {\"color\": \"#EBF0F8\"}, \"line\": {\"color\": \"white\"}}, \"header\": {\"fill\": {\"color\": \"#C8D4E3\"}, \"line\": {\"color\": \"white\"}}, \"type\": \"table\"}]}, \"layout\": {\"annotationdefaults\": {\"arrowcolor\": \"#2a3f5f\", \"arrowhead\": 0, \"arrowwidth\": 1}, \"coloraxis\": {\"colorbar\": {\"outlinewidth\": 0, \"ticks\": \"\"}}, \"colorscale\": {\"diverging\": [[0, \"#8e0152\"], [0.1, \"#c51b7d\"], [0.2, \"#de77ae\"], [0.3, \"#f1b6da\"], [0.4, \"#fde0ef\"], [0.5, \"#f7f7f7\"], [0.6, \"#e6f5d0\"], [0.7, \"#b8e186\"], [0.8, \"#7fbc41\"], [0.9, \"#4d9221\"], [1, \"#276419\"]], \"sequential\": [[0.0, \"#0d0887\"], [0.1111111111111111, \"#46039f\"], [0.2222222222222222, \"#7201a8\"], [0.3333333333333333, \"#9c179e\"], [0.4444444444444444, \"#bd3786\"], [0.5555555555555556, \"#d8576b\"], [0.6666666666666666, \"#ed7953\"], [0.7777777777777778, \"#fb9f3a\"], [0.8888888888888888, \"#fdca26\"], [1.0, \"#f0f921\"]], \"sequentialminus\": [[0.0, \"#0d0887\"], [0.1111111111111111, \"#46039f\"], [0.2222222222222222, \"#7201a8\"], [0.3333333333333333, \"#9c179e\"], [0.4444444444444444, \"#bd3786\"], [0.5555555555555556, \"#d8576b\"], [0.6666666666666666, \"#ed7953\"], [0.7777777777777778, \"#fb9f3a\"], [0.8888888888888888, \"#fdca26\"], [1.0, \"#f0f921\"]]}, \"colorway\": [\"#636efa\", \"#EF553B\", \"#00cc96\", \"#ab63fa\", \"#FFA15A\", \"#19d3f3\", \"#FF6692\", \"#B6E880\", \"#FF97FF\", \"#FECB52\"], \"font\": {\"color\": \"#2a3f5f\"}, \"geo\": {\"bgcolor\": \"white\", \"lakecolor\": \"white\", \"landcolor\": \"#E5ECF6\", \"showlakes\": true, \"showland\": true, \"subunitcolor\": \"white\"}, \"hoverlabel\": {\"align\": \"left\"}, \"hovermode\": \"closest\", \"mapbox\": {\"style\": \"light\"}, \"paper_bgcolor\": \"white\", \"plot_bgcolor\": \"#E5ECF6\", \"polar\": {\"angularaxis\": {\"gridcolor\": \"white\", \"linecolor\": \"white\", \"ticks\": \"\"}, \"bgcolor\": \"#E5ECF6\", \"radialaxis\": {\"gridcolor\": \"white\", \"linecolor\": \"white\", \"ticks\": \"\"}}, \"scene\": {\"xaxis\": {\"backgroundcolor\": \"#E5ECF6\", \"gridcolor\": \"white\", \"gridwidth\": 2, \"linecolor\": \"white\", \"showbackground\": true, \"ticks\": \"\", \"zerolinecolor\": \"white\"}, \"yaxis\": {\"backgroundcolor\": \"#E5ECF6\", \"gridcolor\": \"white\", \"gridwidth\": 2, \"linecolor\": \"white\", \"showbackground\": true, \"ticks\": \"\", \"zerolinecolor\": \"white\"}, \"zaxis\": {\"backgroundcolor\": \"#E5ECF6\", \"gridcolor\": \"white\", \"gridwidth\": 2, \"linecolor\": \"white\", \"showbackground\": true, \"ticks\": \"\", \"zerolinecolor\": \"white\"}}, \"shapedefaults\": {\"line\": {\"color\": \"#2a3f5f\"}}, \"ternary\": {\"aaxis\": {\"gridcolor\": \"white\", \"linecolor\": \"white\", \"ticks\": \"\"}, \"baxis\": {\"gridcolor\": \"white\", \"linecolor\": \"white\", \"ticks\": \"\"}, \"bgcolor\": \"#E5ECF6\", \"caxis\": {\"gridcolor\": \"white\", \"linecolor\": \"white\", \"ticks\": \"\"}}, \"title\": {\"x\": 0.05}, \"xaxis\": {\"automargin\": true, \"gridcolor\": \"white\", \"linecolor\": \"white\", \"ticks\": \"\", \"title\": {\"standoff\": 15}, \"zerolinecolor\": \"white\", \"zerolinewidth\": 2}, \"yaxis\": {\"automargin\": true, \"gridcolor\": \"white\", \"linecolor\": \"white\", \"ticks\": \"\", \"title\": {\"standoff\": 15}, \"zerolinecolor\": \"white\", \"zerolinewidth\": 2}}}, \"title\": {\"text\": \"Comment sentiment in /r/python for the past 2d\"}, \"xaxis\": {\"anchor\": \"y\", \"domain\": [0.0, 1.0], \"title\": {\"text\": \"Date comment was posted\"}}, \"yaxis\": {\"anchor\": \"x\", \"domain\": [0.0, 1.0], \"title\": {\"text\": \"Comment Positivity\"}}},\n",
       "                        {\"responsive\": true}\n",
       "                    ).then(function(){\n",
       "                            \n",
       "var gd = document.getElementById('e260ad51-362f-40ed-aa8e-d582a0360d9c');\n",
       "var x = new MutationObserver(function (mutations, observer) {{\n",
       "        var display = window.getComputedStyle(gd).display;\n",
       "        if (!display || display === 'none') {{\n",
       "            console.log([gd, 'removed!']);\n",
       "            Plotly.purge(gd);\n",
       "            observer.disconnect();\n",
       "        }}\n",
       "}});\n",
       "\n",
       "// Listen for the removal of the full notebook cells\n",
       "var notebookContainer = gd.closest('#notebook-container');\n",
       "if (notebookContainer) {{\n",
       "    x.observe(notebookContainer, {childList: true});\n",
       "}}\n",
       "\n",
       "// Listen for the clearing of the current output cell\n",
       "var outputEl = gd.closest('.output');\n",
       "if (outputEl) {{\n",
       "    x.observe(outputEl, {childList: true});\n",
       "}}\n",
       "\n",
       "                        })\n",
       "                };\n",
       "                });\n",
       "            </script>\n",
       "        </div>"
      ]
     },
     "metadata": {},
     "output_type": "display_data"
    }
   ],
   "source": [
    "px.scatter(df3, x = 'date',\n",
    "          y = 'sentiment_polarity',\n",
    "          hover_data = ['author', 'permalink', 'preview'],\n",
    "          color_continuous_scale = px.colors.sequential.OrRd,\n",
    "          color = 'sentiment_subjectivity',\n",
    "           size = 'score',\n",
    "           size_max = 30,\n",
    "           labels = {'sentiment_polarity': 'Comment Positivity', 'date': 'Date comment was posted'},\n",
    "           title = f'Comment sentiment in /r/{SUBREDDIT_OF_INTEREST} for the past {TIMEFRAME}'\n",
    "          )"
   ]
  },
  {
   "cell_type": "code",
   "execution_count": null,
   "metadata": {},
   "outputs": [],
   "source": []
  }
 ],
 "metadata": {
  "kernelspec": {
   "display_name": "Python 3",
   "language": "python",
   "name": "python3"
  },
  "language_info": {
   "codemirror_mode": {
    "name": "ipython",
    "version": 3
   },
   "file_extension": ".py",
   "mimetype": "text/x-python",
   "name": "python",
   "nbconvert_exporter": "python",
   "pygments_lexer": "ipython3",
   "version": "3.7.7"
  }
 },
 "nbformat": 4,
 "nbformat_minor": 4
}
